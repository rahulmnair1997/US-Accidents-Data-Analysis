{
  "nbformat": 4,
  "nbformat_minor": 0,
  "metadata": {
    "colab": {
      "name": "hyperparameter_tuning.ipynb",
      "provenance": [],
      "collapsed_sections": [],
      "toc_visible": true,
      "mount_file_id": "1aRV5DYZtKpcjRi_v2EGx6VuR5Y9CEvPn",
      "authorship_tag": "ABX9TyMA3lg9czPGZkGK/2xJJJxT"
    },
    "kernelspec": {
      "name": "python3",
      "display_name": "Python 3"
    }
  },
  "cells": [
    {
      "cell_type": "code",
      "metadata": {
        "id": "LgsiQgRoSnxZ",
        "colab_type": "code",
        "colab": {
          "base_uri": "https://localhost:8080/",
          "height": 245
        },
        "outputId": "6f7db04a-acc9-4d5d-834e-b6595cad7a42"
      },
      "source": [
        "! pip install scikit-optimize "
      ],
      "execution_count": null,
      "outputs": [
        {
          "output_type": "stream",
          "text": [
            "Collecting scikit-optimize\n",
            "\u001b[?25l  Downloading https://files.pythonhosted.org/packages/5c/87/310b52debfbc0cb79764e5770fa3f5c18f6f0754809ea9e2fc185e1b67d3/scikit_optimize-0.7.4-py2.py3-none-any.whl (80kB)\n",
            "\r\u001b[K     |████                            | 10kB 12.4MB/s eta 0:00:01\r\u001b[K     |████████▏                       | 20kB 1.7MB/s eta 0:00:01\r\u001b[K     |████████████▎                   | 30kB 2.3MB/s eta 0:00:01\r\u001b[K     |████████████████▎               | 40kB 2.6MB/s eta 0:00:01\r\u001b[K     |████████████████████▍           | 51kB 1.9MB/s eta 0:00:01\r\u001b[K     |████████████████████████▌       | 61kB 2.2MB/s eta 0:00:01\r\u001b[K     |████████████████████████████▌   | 71kB 2.4MB/s eta 0:00:01\r\u001b[K     |████████████████████████████████| 81kB 2.1MB/s \n",
            "\u001b[?25hRequirement already satisfied: scikit-learn>=0.19.1 in /usr/local/lib/python3.6/dist-packages (from scikit-optimize) (0.22.2.post1)\n",
            "Requirement already satisfied: joblib>=0.11 in /usr/local/lib/python3.6/dist-packages (from scikit-optimize) (0.16.0)\n",
            "Requirement already satisfied: numpy>=1.11.0 in /usr/local/lib/python3.6/dist-packages (from scikit-optimize) (1.18.5)\n",
            "Requirement already satisfied: scipy>=0.18.0 in /usr/local/lib/python3.6/dist-packages (from scikit-optimize) (1.4.1)\n",
            "Collecting pyaml>=16.9\n",
            "  Downloading https://files.pythonhosted.org/packages/15/c4/1310a054d33abc318426a956e7d6df0df76a6ddfa9c66f6310274fb75d42/pyaml-20.4.0-py2.py3-none-any.whl\n",
            "Requirement already satisfied: PyYAML in /usr/local/lib/python3.6/dist-packages (from pyaml>=16.9->scikit-optimize) (3.13)\n",
            "Installing collected packages: pyaml, scikit-optimize\n",
            "Successfully installed pyaml-20.4.0 scikit-optimize-0.7.4\n"
          ],
          "name": "stdout"
        }
      ]
    },
    {
      "cell_type": "code",
      "metadata": {
        "id": "EAsWMIRq9lo1",
        "colab_type": "code",
        "colab": {}
      },
      "source": [
        "# load libraries\n",
        "import pandas as pd\n",
        "from scipy.optimize import brute\n",
        "from skopt import forest_minimize,gbrt_minimize,dummy_minimize\n",
        "from skopt import callbacks\n",
        "from sklearn.metrics import fbeta_score\n",
        "import numpy as np\n",
        "from sklearn.linear_model import LogisticRegression\n",
        "from sklearn.tree import DecisionTreeClassifier\n",
        "from sklearn.ensemble import RandomForestClassifier, AdaBoostClassifier, GradientBoostingClassifier\n",
        "from xgboost import XGBClassifier"
      ],
      "execution_count": null,
      "outputs": []
    },
    {
      "cell_type": "code",
      "metadata": {
        "id": "WtYvLFtoPMCt",
        "colab_type": "code",
        "colab": {}
      },
      "source": [
        "# load data\n",
        "map_quest = pd.read_csv(\"/content/drive/My Drive/map_quest.csv\")"
      ],
      "execution_count": null,
      "outputs": []
    },
    {
      "cell_type": "code",
      "metadata": {
        "id": "K_JdvNraC-JG",
        "colab_type": "code",
        "colab": {}
      },
      "source": [
        "# resample the data\n",
        "df_bl = pd.concat([map_quest[map_quest['Severity']==0].sample(10000, replace = True), \n",
        "                   map_quest[map_quest['Severity']==1].sample(10000, replace = True),\n",
        "                   map_quest[map_quest['Severity']==2].sample(10000, replace = True),\n",
        "                   map_quest[map_quest['Severity']==3].sample(10000, replace = True),\n",
        "                   map_quest[map_quest['Severity']==4].sample(10000, replace = True)], axis=0)"
      ],
      "execution_count": null,
      "outputs": []
    },
    {
      "cell_type": "code",
      "metadata": {
        "id": "zuQQ_bpSDeHD",
        "colab_type": "code",
        "colab": {
          "base_uri": "https://localhost:8080/",
          "height": 461
        },
        "outputId": "5e7945d0-b9f1-4883-c5c3-e79bc5c67803"
      },
      "source": [
        "df_bl"
      ],
      "execution_count": null,
      "outputs": [
        {
          "output_type": "execute_result",
          "data": {
            "text/html": [
              "<div>\n",
              "<style scoped>\n",
              "    .dataframe tbody tr th:only-of-type {\n",
              "        vertical-align: middle;\n",
              "    }\n",
              "\n",
              "    .dataframe tbody tr th {\n",
              "        vertical-align: top;\n",
              "    }\n",
              "\n",
              "    .dataframe thead th {\n",
              "        text-align: right;\n",
              "    }\n",
              "</style>\n",
              "<table border=\"1\" class=\"dataframe\">\n",
              "  <thead>\n",
              "    <tr style=\"text-align: right;\">\n",
              "      <th></th>\n",
              "      <th>Unnamed: 0</th>\n",
              "      <th>Severity</th>\n",
              "      <th>Distance(mi)</th>\n",
              "      <th>Temperature(F)</th>\n",
              "      <th>Humidity(%)</th>\n",
              "      <th>Pressure(in)</th>\n",
              "      <th>Visibility(mi)</th>\n",
              "      <th>Wind_Speed(mph)</th>\n",
              "      <th>Duration</th>\n",
              "      <th>County_freq</th>\n",
              "      <th>Zipcode_freq</th>\n",
              "      <th>Airport_Code_freq</th>\n",
              "      <th>Street_freq</th>\n",
              "      <th>City_freq</th>\n",
              "      <th>Amenity0</th>\n",
              "      <th>Amenity1</th>\n",
              "      <th>Crossing0</th>\n",
              "      <th>Crossing1</th>\n",
              "      <th>Junction0</th>\n",
              "      <th>Junction1</th>\n",
              "      <th>Railway0</th>\n",
              "      <th>Railway1</th>\n",
              "      <th>Side</th>\n",
              "      <th>SideL</th>\n",
              "      <th>SideR</th>\n",
              "      <th>StateAL</th>\n",
              "      <th>StateAR</th>\n",
              "      <th>StateAZ</th>\n",
              "      <th>StateCA</th>\n",
              "      <th>StateCO</th>\n",
              "      <th>StateCT</th>\n",
              "      <th>StateDC</th>\n",
              "      <th>StateDE</th>\n",
              "      <th>StateFL</th>\n",
              "      <th>StateGA</th>\n",
              "      <th>StateIA</th>\n",
              "      <th>StateID</th>\n",
              "      <th>StateIL</th>\n",
              "      <th>StateIN</th>\n",
              "      <th>StateKS</th>\n",
              "      <th>...</th>\n",
              "      <th>Weather_ConditionSnow</th>\n",
              "      <th>Weather_ConditionSnow Grains</th>\n",
              "      <th>Weather_ConditionSnow Showers</th>\n",
              "      <th>Weather_ConditionSqualls</th>\n",
              "      <th>Weather_ConditionThunderstorm</th>\n",
              "      <th>Weather_ConditionThunderstorms and Rain</th>\n",
              "      <th>Weather_ConditionThunderstorms and Snow</th>\n",
              "      <th>Weather_ConditionVolcanic Ash</th>\n",
              "      <th>Weather_ConditionWidespread Dust</th>\n",
              "      <th>Wind_DirectionCalm</th>\n",
              "      <th>Wind_DirectionClear</th>\n",
              "      <th>Wind_DirectionENE</th>\n",
              "      <th>Wind_DirectionESE</th>\n",
              "      <th>Wind_DirectionEast</th>\n",
              "      <th>Wind_DirectionNE</th>\n",
              "      <th>Wind_DirectionNNE</th>\n",
              "      <th>Wind_DirectionNNW</th>\n",
              "      <th>Wind_DirectionNW</th>\n",
              "      <th>Wind_DirectionNorth</th>\n",
              "      <th>Wind_DirectionSE</th>\n",
              "      <th>Wind_DirectionSSE</th>\n",
              "      <th>Wind_DirectionSSW</th>\n",
              "      <th>Wind_DirectionSW</th>\n",
              "      <th>Wind_DirectionSouth</th>\n",
              "      <th>Wind_DirectionVariable</th>\n",
              "      <th>Wind_DirectionWNW</th>\n",
              "      <th>Wind_DirectionWSW</th>\n",
              "      <th>Wind_DirectionWest</th>\n",
              "      <th>month1</th>\n",
              "      <th>month2</th>\n",
              "      <th>month3</th>\n",
              "      <th>month4</th>\n",
              "      <th>month5</th>\n",
              "      <th>month6</th>\n",
              "      <th>month7</th>\n",
              "      <th>month8</th>\n",
              "      <th>month9</th>\n",
              "      <th>month10</th>\n",
              "      <th>month11</th>\n",
              "      <th>month12</th>\n",
              "    </tr>\n",
              "  </thead>\n",
              "  <tbody>\n",
              "    <tr>\n",
              "      <th>388568</th>\n",
              "      <td>388568</td>\n",
              "      <td>0</td>\n",
              "      <td>0.01</td>\n",
              "      <td>39.9</td>\n",
              "      <td>77.0</td>\n",
              "      <td>30.27</td>\n",
              "      <td>10.0</td>\n",
              "      <td>4.600000</td>\n",
              "      <td>29</td>\n",
              "      <td>19.763132</td>\n",
              "      <td>3.720874</td>\n",
              "      <td>2.764838</td>\n",
              "      <td>1.311384</td>\n",
              "      <td>7.904617</td>\n",
              "      <td>1.0</td>\n",
              "      <td>0.0</td>\n",
              "      <td>1.0</td>\n",
              "      <td>0.0</td>\n",
              "      <td>0.0</td>\n",
              "      <td>1.0</td>\n",
              "      <td>1.0</td>\n",
              "      <td>0.0</td>\n",
              "      <td>0.0</td>\n",
              "      <td>0.0</td>\n",
              "      <td>1.0</td>\n",
              "      <td>0.0</td>\n",
              "      <td>0.0</td>\n",
              "      <td>0.0</td>\n",
              "      <td>0.0</td>\n",
              "      <td>0.0</td>\n",
              "      <td>0.0</td>\n",
              "      <td>0.0</td>\n",
              "      <td>0.0</td>\n",
              "      <td>0.0</td>\n",
              "      <td>0.0</td>\n",
              "      <td>0.0</td>\n",
              "      <td>0.0</td>\n",
              "      <td>0.0</td>\n",
              "      <td>0.0</td>\n",
              "      <td>0.0</td>\n",
              "      <td>...</td>\n",
              "      <td>0.0</td>\n",
              "      <td>0.0</td>\n",
              "      <td>0.0</td>\n",
              "      <td>0.0</td>\n",
              "      <td>0.0</td>\n",
              "      <td>0.0</td>\n",
              "      <td>0.0</td>\n",
              "      <td>0.0</td>\n",
              "      <td>0.0</td>\n",
              "      <td>0.0</td>\n",
              "      <td>0.0</td>\n",
              "      <td>0.0</td>\n",
              "      <td>0.0</td>\n",
              "      <td>0.0</td>\n",
              "      <td>0.0</td>\n",
              "      <td>0.0</td>\n",
              "      <td>0.0</td>\n",
              "      <td>0.0</td>\n",
              "      <td>1.0</td>\n",
              "      <td>0.0</td>\n",
              "      <td>0.0</td>\n",
              "      <td>0.0</td>\n",
              "      <td>0.0</td>\n",
              "      <td>0.0</td>\n",
              "      <td>0.0</td>\n",
              "      <td>0.0</td>\n",
              "      <td>0.0</td>\n",
              "      <td>0.0</td>\n",
              "      <td>0.0</td>\n",
              "      <td>1.0</td>\n",
              "      <td>0.0</td>\n",
              "      <td>0.0</td>\n",
              "      <td>0.0</td>\n",
              "      <td>0.0</td>\n",
              "      <td>0.0</td>\n",
              "      <td>0.0</td>\n",
              "      <td>0.0</td>\n",
              "      <td>0.0</td>\n",
              "      <td>0.0</td>\n",
              "      <td>0.0</td>\n",
              "    </tr>\n",
              "    <tr>\n",
              "      <th>746394</th>\n",
              "      <td>746394</td>\n",
              "      <td>0</td>\n",
              "      <td>0.00</td>\n",
              "      <td>36.7</td>\n",
              "      <td>46.0</td>\n",
              "      <td>30.41</td>\n",
              "      <td>10.0</td>\n",
              "      <td>10.400000</td>\n",
              "      <td>30</td>\n",
              "      <td>18.365174</td>\n",
              "      <td>4.133187</td>\n",
              "      <td>3.278084</td>\n",
              "      <td>5.966796</td>\n",
              "      <td>114.517304</td>\n",
              "      <td>1.0</td>\n",
              "      <td>0.0</td>\n",
              "      <td>0.0</td>\n",
              "      <td>1.0</td>\n",
              "      <td>1.0</td>\n",
              "      <td>0.0</td>\n",
              "      <td>1.0</td>\n",
              "      <td>0.0</td>\n",
              "      <td>0.0</td>\n",
              "      <td>0.0</td>\n",
              "      <td>1.0</td>\n",
              "      <td>0.0</td>\n",
              "      <td>0.0</td>\n",
              "      <td>0.0</td>\n",
              "      <td>0.0</td>\n",
              "      <td>0.0</td>\n",
              "      <td>0.0</td>\n",
              "      <td>0.0</td>\n",
              "      <td>0.0</td>\n",
              "      <td>0.0</td>\n",
              "      <td>0.0</td>\n",
              "      <td>0.0</td>\n",
              "      <td>0.0</td>\n",
              "      <td>0.0</td>\n",
              "      <td>0.0</td>\n",
              "      <td>0.0</td>\n",
              "      <td>...</td>\n",
              "      <td>0.0</td>\n",
              "      <td>0.0</td>\n",
              "      <td>0.0</td>\n",
              "      <td>0.0</td>\n",
              "      <td>0.0</td>\n",
              "      <td>0.0</td>\n",
              "      <td>0.0</td>\n",
              "      <td>0.0</td>\n",
              "      <td>0.0</td>\n",
              "      <td>0.0</td>\n",
              "      <td>0.0</td>\n",
              "      <td>0.0</td>\n",
              "      <td>0.0</td>\n",
              "      <td>0.0</td>\n",
              "      <td>0.0</td>\n",
              "      <td>0.0</td>\n",
              "      <td>0.0</td>\n",
              "      <td>0.0</td>\n",
              "      <td>0.0</td>\n",
              "      <td>0.0</td>\n",
              "      <td>0.0</td>\n",
              "      <td>0.0</td>\n",
              "      <td>0.0</td>\n",
              "      <td>1.0</td>\n",
              "      <td>0.0</td>\n",
              "      <td>0.0</td>\n",
              "      <td>0.0</td>\n",
              "      <td>0.0</td>\n",
              "      <td>0.0</td>\n",
              "      <td>0.0</td>\n",
              "      <td>0.0</td>\n",
              "      <td>0.0</td>\n",
              "      <td>0.0</td>\n",
              "      <td>0.0</td>\n",
              "      <td>0.0</td>\n",
              "      <td>0.0</td>\n",
              "      <td>0.0</td>\n",
              "      <td>0.0</td>\n",
              "      <td>1.0</td>\n",
              "      <td>0.0</td>\n",
              "    </tr>\n",
              "    <tr>\n",
              "      <th>270405</th>\n",
              "      <td>270405</td>\n",
              "      <td>0</td>\n",
              "      <td>0.01</td>\n",
              "      <td>77.0</td>\n",
              "      <td>78.0</td>\n",
              "      <td>29.99</td>\n",
              "      <td>10.0</td>\n",
              "      <td>12.700000</td>\n",
              "      <td>29</td>\n",
              "      <td>60.402437</td>\n",
              "      <td>4.113074</td>\n",
              "      <td>41.891745</td>\n",
              "      <td>3.344028</td>\n",
              "      <td>360.523591</td>\n",
              "      <td>1.0</td>\n",
              "      <td>0.0</td>\n",
              "      <td>1.0</td>\n",
              "      <td>0.0</td>\n",
              "      <td>1.0</td>\n",
              "      <td>0.0</td>\n",
              "      <td>1.0</td>\n",
              "      <td>0.0</td>\n",
              "      <td>0.0</td>\n",
              "      <td>1.0</td>\n",
              "      <td>0.0</td>\n",
              "      <td>0.0</td>\n",
              "      <td>0.0</td>\n",
              "      <td>0.0</td>\n",
              "      <td>0.0</td>\n",
              "      <td>0.0</td>\n",
              "      <td>0.0</td>\n",
              "      <td>0.0</td>\n",
              "      <td>0.0</td>\n",
              "      <td>0.0</td>\n",
              "      <td>0.0</td>\n",
              "      <td>0.0</td>\n",
              "      <td>0.0</td>\n",
              "      <td>0.0</td>\n",
              "      <td>0.0</td>\n",
              "      <td>0.0</td>\n",
              "      <td>...</td>\n",
              "      <td>0.0</td>\n",
              "      <td>0.0</td>\n",
              "      <td>0.0</td>\n",
              "      <td>0.0</td>\n",
              "      <td>0.0</td>\n",
              "      <td>0.0</td>\n",
              "      <td>0.0</td>\n",
              "      <td>0.0</td>\n",
              "      <td>0.0</td>\n",
              "      <td>0.0</td>\n",
              "      <td>0.0</td>\n",
              "      <td>0.0</td>\n",
              "      <td>1.0</td>\n",
              "      <td>0.0</td>\n",
              "      <td>0.0</td>\n",
              "      <td>0.0</td>\n",
              "      <td>0.0</td>\n",
              "      <td>0.0</td>\n",
              "      <td>0.0</td>\n",
              "      <td>0.0</td>\n",
              "      <td>0.0</td>\n",
              "      <td>0.0</td>\n",
              "      <td>0.0</td>\n",
              "      <td>0.0</td>\n",
              "      <td>0.0</td>\n",
              "      <td>0.0</td>\n",
              "      <td>0.0</td>\n",
              "      <td>0.0</td>\n",
              "      <td>0.0</td>\n",
              "      <td>0.0</td>\n",
              "      <td>0.0</td>\n",
              "      <td>0.0</td>\n",
              "      <td>0.0</td>\n",
              "      <td>0.0</td>\n",
              "      <td>0.0</td>\n",
              "      <td>0.0</td>\n",
              "      <td>0.0</td>\n",
              "      <td>0.0</td>\n",
              "      <td>1.0</td>\n",
              "      <td>0.0</td>\n",
              "    </tr>\n",
              "    <tr>\n",
              "      <th>1084233</th>\n",
              "      <td>1084233</td>\n",
              "      <td>0</td>\n",
              "      <td>0.00</td>\n",
              "      <td>55.0</td>\n",
              "      <td>62.0</td>\n",
              "      <td>30.27</td>\n",
              "      <td>10.0</td>\n",
              "      <td>4.600000</td>\n",
              "      <td>30</td>\n",
              "      <td>2.775501</td>\n",
              "      <td>3.459407</td>\n",
              "      <td>5.357201</td>\n",
              "      <td>0.262277</td>\n",
              "      <td>67.277809</td>\n",
              "      <td>1.0</td>\n",
              "      <td>0.0</td>\n",
              "      <td>1.0</td>\n",
              "      <td>0.0</td>\n",
              "      <td>1.0</td>\n",
              "      <td>0.0</td>\n",
              "      <td>1.0</td>\n",
              "      <td>0.0</td>\n",
              "      <td>0.0</td>\n",
              "      <td>0.0</td>\n",
              "      <td>1.0</td>\n",
              "      <td>0.0</td>\n",
              "      <td>0.0</td>\n",
              "      <td>0.0</td>\n",
              "      <td>0.0</td>\n",
              "      <td>0.0</td>\n",
              "      <td>0.0</td>\n",
              "      <td>0.0</td>\n",
              "      <td>0.0</td>\n",
              "      <td>0.0</td>\n",
              "      <td>0.0</td>\n",
              "      <td>0.0</td>\n",
              "      <td>0.0</td>\n",
              "      <td>0.0</td>\n",
              "      <td>0.0</td>\n",
              "      <td>0.0</td>\n",
              "      <td>...</td>\n",
              "      <td>0.0</td>\n",
              "      <td>0.0</td>\n",
              "      <td>0.0</td>\n",
              "      <td>0.0</td>\n",
              "      <td>0.0</td>\n",
              "      <td>0.0</td>\n",
              "      <td>0.0</td>\n",
              "      <td>0.0</td>\n",
              "      <td>0.0</td>\n",
              "      <td>0.0</td>\n",
              "      <td>0.0</td>\n",
              "      <td>0.0</td>\n",
              "      <td>0.0</td>\n",
              "      <td>0.0</td>\n",
              "      <td>0.0</td>\n",
              "      <td>0.0</td>\n",
              "      <td>0.0</td>\n",
              "      <td>0.0</td>\n",
              "      <td>0.0</td>\n",
              "      <td>0.0</td>\n",
              "      <td>0.0</td>\n",
              "      <td>0.0</td>\n",
              "      <td>0.0</td>\n",
              "      <td>0.0</td>\n",
              "      <td>0.0</td>\n",
              "      <td>1.0</td>\n",
              "      <td>0.0</td>\n",
              "      <td>0.0</td>\n",
              "      <td>0.0</td>\n",
              "      <td>0.0</td>\n",
              "      <td>0.0</td>\n",
              "      <td>0.0</td>\n",
              "      <td>1.0</td>\n",
              "      <td>0.0</td>\n",
              "      <td>0.0</td>\n",
              "      <td>0.0</td>\n",
              "      <td>0.0</td>\n",
              "      <td>0.0</td>\n",
              "      <td>0.0</td>\n",
              "      <td>0.0</td>\n",
              "    </tr>\n",
              "    <tr>\n",
              "      <th>690115</th>\n",
              "      <td>690115</td>\n",
              "      <td>0</td>\n",
              "      <td>0.00</td>\n",
              "      <td>34.0</td>\n",
              "      <td>82.0</td>\n",
              "      <td>30.33</td>\n",
              "      <td>8.0</td>\n",
              "      <td>8.100000</td>\n",
              "      <td>60</td>\n",
              "      <td>19.037969</td>\n",
              "      <td>16.291394</td>\n",
              "      <td>11.172247</td>\n",
              "      <td>130.548243</td>\n",
              "      <td>136.343568</td>\n",
              "      <td>1.0</td>\n",
              "      <td>0.0</td>\n",
              "      <td>1.0</td>\n",
              "      <td>0.0</td>\n",
              "      <td>1.0</td>\n",
              "      <td>0.0</td>\n",
              "      <td>1.0</td>\n",
              "      <td>0.0</td>\n",
              "      <td>0.0</td>\n",
              "      <td>0.0</td>\n",
              "      <td>1.0</td>\n",
              "      <td>0.0</td>\n",
              "      <td>0.0</td>\n",
              "      <td>0.0</td>\n",
              "      <td>0.0</td>\n",
              "      <td>0.0</td>\n",
              "      <td>0.0</td>\n",
              "      <td>0.0</td>\n",
              "      <td>0.0</td>\n",
              "      <td>0.0</td>\n",
              "      <td>1.0</td>\n",
              "      <td>0.0</td>\n",
              "      <td>0.0</td>\n",
              "      <td>0.0</td>\n",
              "      <td>0.0</td>\n",
              "      <td>0.0</td>\n",
              "      <td>...</td>\n",
              "      <td>0.0</td>\n",
              "      <td>0.0</td>\n",
              "      <td>0.0</td>\n",
              "      <td>0.0</td>\n",
              "      <td>0.0</td>\n",
              "      <td>0.0</td>\n",
              "      <td>0.0</td>\n",
              "      <td>0.0</td>\n",
              "      <td>0.0</td>\n",
              "      <td>0.0</td>\n",
              "      <td>0.0</td>\n",
              "      <td>0.0</td>\n",
              "      <td>0.0</td>\n",
              "      <td>0.0</td>\n",
              "      <td>0.0</td>\n",
              "      <td>0.0</td>\n",
              "      <td>0.0</td>\n",
              "      <td>1.0</td>\n",
              "      <td>0.0</td>\n",
              "      <td>0.0</td>\n",
              "      <td>0.0</td>\n",
              "      <td>0.0</td>\n",
              "      <td>0.0</td>\n",
              "      <td>0.0</td>\n",
              "      <td>0.0</td>\n",
              "      <td>0.0</td>\n",
              "      <td>0.0</td>\n",
              "      <td>0.0</td>\n",
              "      <td>0.0</td>\n",
              "      <td>0.0</td>\n",
              "      <td>0.0</td>\n",
              "      <td>0.0</td>\n",
              "      <td>0.0</td>\n",
              "      <td>0.0</td>\n",
              "      <td>0.0</td>\n",
              "      <td>0.0</td>\n",
              "      <td>0.0</td>\n",
              "      <td>0.0</td>\n",
              "      <td>0.0</td>\n",
              "      <td>1.0</td>\n",
              "    </tr>\n",
              "    <tr>\n",
              "      <th>...</th>\n",
              "      <td>...</td>\n",
              "      <td>...</td>\n",
              "      <td>...</td>\n",
              "      <td>...</td>\n",
              "      <td>...</td>\n",
              "      <td>...</td>\n",
              "      <td>...</td>\n",
              "      <td>...</td>\n",
              "      <td>...</td>\n",
              "      <td>...</td>\n",
              "      <td>...</td>\n",
              "      <td>...</td>\n",
              "      <td>...</td>\n",
              "      <td>...</td>\n",
              "      <td>...</td>\n",
              "      <td>...</td>\n",
              "      <td>...</td>\n",
              "      <td>...</td>\n",
              "      <td>...</td>\n",
              "      <td>...</td>\n",
              "      <td>...</td>\n",
              "      <td>...</td>\n",
              "      <td>...</td>\n",
              "      <td>...</td>\n",
              "      <td>...</td>\n",
              "      <td>...</td>\n",
              "      <td>...</td>\n",
              "      <td>...</td>\n",
              "      <td>...</td>\n",
              "      <td>...</td>\n",
              "      <td>...</td>\n",
              "      <td>...</td>\n",
              "      <td>...</td>\n",
              "      <td>...</td>\n",
              "      <td>...</td>\n",
              "      <td>...</td>\n",
              "      <td>...</td>\n",
              "      <td>...</td>\n",
              "      <td>...</td>\n",
              "      <td>...</td>\n",
              "      <td>...</td>\n",
              "      <td>...</td>\n",
              "      <td>...</td>\n",
              "      <td>...</td>\n",
              "      <td>...</td>\n",
              "      <td>...</td>\n",
              "      <td>...</td>\n",
              "      <td>...</td>\n",
              "      <td>...</td>\n",
              "      <td>...</td>\n",
              "      <td>...</td>\n",
              "      <td>...</td>\n",
              "      <td>...</td>\n",
              "      <td>...</td>\n",
              "      <td>...</td>\n",
              "      <td>...</td>\n",
              "      <td>...</td>\n",
              "      <td>...</td>\n",
              "      <td>...</td>\n",
              "      <td>...</td>\n",
              "      <td>...</td>\n",
              "      <td>...</td>\n",
              "      <td>...</td>\n",
              "      <td>...</td>\n",
              "      <td>...</td>\n",
              "      <td>...</td>\n",
              "      <td>...</td>\n",
              "      <td>...</td>\n",
              "      <td>...</td>\n",
              "      <td>...</td>\n",
              "      <td>...</td>\n",
              "      <td>...</td>\n",
              "      <td>...</td>\n",
              "      <td>...</td>\n",
              "      <td>...</td>\n",
              "      <td>...</td>\n",
              "      <td>...</td>\n",
              "      <td>...</td>\n",
              "      <td>...</td>\n",
              "      <td>...</td>\n",
              "      <td>...</td>\n",
              "    </tr>\n",
              "    <tr>\n",
              "      <th>544526</th>\n",
              "      <td>544526</td>\n",
              "      <td>4</td>\n",
              "      <td>5.28</td>\n",
              "      <td>39.9</td>\n",
              "      <td>32.0</td>\n",
              "      <td>30.54</td>\n",
              "      <td>10.0</td>\n",
              "      <td>8.100000</td>\n",
              "      <td>94</td>\n",
              "      <td>9.226523</td>\n",
              "      <td>11.021832</td>\n",
              "      <td>6.173586</td>\n",
              "      <td>18.687217</td>\n",
              "      <td>25.180743</td>\n",
              "      <td>1.0</td>\n",
              "      <td>0.0</td>\n",
              "      <td>1.0</td>\n",
              "      <td>0.0</td>\n",
              "      <td>1.0</td>\n",
              "      <td>0.0</td>\n",
              "      <td>1.0</td>\n",
              "      <td>0.0</td>\n",
              "      <td>0.0</td>\n",
              "      <td>0.0</td>\n",
              "      <td>1.0</td>\n",
              "      <td>0.0</td>\n",
              "      <td>0.0</td>\n",
              "      <td>0.0</td>\n",
              "      <td>0.0</td>\n",
              "      <td>0.0</td>\n",
              "      <td>0.0</td>\n",
              "      <td>0.0</td>\n",
              "      <td>0.0</td>\n",
              "      <td>0.0</td>\n",
              "      <td>0.0</td>\n",
              "      <td>0.0</td>\n",
              "      <td>0.0</td>\n",
              "      <td>0.0</td>\n",
              "      <td>0.0</td>\n",
              "      <td>0.0</td>\n",
              "      <td>...</td>\n",
              "      <td>0.0</td>\n",
              "      <td>0.0</td>\n",
              "      <td>0.0</td>\n",
              "      <td>0.0</td>\n",
              "      <td>0.0</td>\n",
              "      <td>0.0</td>\n",
              "      <td>0.0</td>\n",
              "      <td>0.0</td>\n",
              "      <td>0.0</td>\n",
              "      <td>0.0</td>\n",
              "      <td>0.0</td>\n",
              "      <td>0.0</td>\n",
              "      <td>1.0</td>\n",
              "      <td>0.0</td>\n",
              "      <td>0.0</td>\n",
              "      <td>0.0</td>\n",
              "      <td>0.0</td>\n",
              "      <td>0.0</td>\n",
              "      <td>0.0</td>\n",
              "      <td>0.0</td>\n",
              "      <td>0.0</td>\n",
              "      <td>0.0</td>\n",
              "      <td>0.0</td>\n",
              "      <td>0.0</td>\n",
              "      <td>0.0</td>\n",
              "      <td>0.0</td>\n",
              "      <td>0.0</td>\n",
              "      <td>0.0</td>\n",
              "      <td>0.0</td>\n",
              "      <td>0.0</td>\n",
              "      <td>1.0</td>\n",
              "      <td>0.0</td>\n",
              "      <td>0.0</td>\n",
              "      <td>0.0</td>\n",
              "      <td>0.0</td>\n",
              "      <td>0.0</td>\n",
              "      <td>0.0</td>\n",
              "      <td>0.0</td>\n",
              "      <td>0.0</td>\n",
              "      <td>0.0</td>\n",
              "    </tr>\n",
              "    <tr>\n",
              "      <th>625243</th>\n",
              "      <td>625243</td>\n",
              "      <td>4</td>\n",
              "      <td>4.58</td>\n",
              "      <td>64.9</td>\n",
              "      <td>90.0</td>\n",
              "      <td>30.15</td>\n",
              "      <td>10.0</td>\n",
              "      <td>8.751628</td>\n",
              "      <td>27</td>\n",
              "      <td>8.592782</td>\n",
              "      <td>11.474370</td>\n",
              "      <td>4.025479</td>\n",
              "      <td>743.620101</td>\n",
              "      <td>10.517347</td>\n",
              "      <td>1.0</td>\n",
              "      <td>0.0</td>\n",
              "      <td>1.0</td>\n",
              "      <td>0.0</td>\n",
              "      <td>1.0</td>\n",
              "      <td>0.0</td>\n",
              "      <td>1.0</td>\n",
              "      <td>0.0</td>\n",
              "      <td>0.0</td>\n",
              "      <td>0.0</td>\n",
              "      <td>1.0</td>\n",
              "      <td>0.0</td>\n",
              "      <td>0.0</td>\n",
              "      <td>0.0</td>\n",
              "      <td>0.0</td>\n",
              "      <td>0.0</td>\n",
              "      <td>0.0</td>\n",
              "      <td>0.0</td>\n",
              "      <td>0.0</td>\n",
              "      <td>1.0</td>\n",
              "      <td>0.0</td>\n",
              "      <td>0.0</td>\n",
              "      <td>0.0</td>\n",
              "      <td>0.0</td>\n",
              "      <td>0.0</td>\n",
              "      <td>0.0</td>\n",
              "      <td>...</td>\n",
              "      <td>0.0</td>\n",
              "      <td>0.0</td>\n",
              "      <td>0.0</td>\n",
              "      <td>0.0</td>\n",
              "      <td>0.0</td>\n",
              "      <td>0.0</td>\n",
              "      <td>0.0</td>\n",
              "      <td>0.0</td>\n",
              "      <td>0.0</td>\n",
              "      <td>1.0</td>\n",
              "      <td>0.0</td>\n",
              "      <td>0.0</td>\n",
              "      <td>0.0</td>\n",
              "      <td>0.0</td>\n",
              "      <td>0.0</td>\n",
              "      <td>0.0</td>\n",
              "      <td>0.0</td>\n",
              "      <td>0.0</td>\n",
              "      <td>0.0</td>\n",
              "      <td>0.0</td>\n",
              "      <td>0.0</td>\n",
              "      <td>0.0</td>\n",
              "      <td>0.0</td>\n",
              "      <td>0.0</td>\n",
              "      <td>0.0</td>\n",
              "      <td>0.0</td>\n",
              "      <td>0.0</td>\n",
              "      <td>0.0</td>\n",
              "      <td>1.0</td>\n",
              "      <td>0.0</td>\n",
              "      <td>0.0</td>\n",
              "      <td>0.0</td>\n",
              "      <td>0.0</td>\n",
              "      <td>0.0</td>\n",
              "      <td>0.0</td>\n",
              "      <td>0.0</td>\n",
              "      <td>0.0</td>\n",
              "      <td>0.0</td>\n",
              "      <td>0.0</td>\n",
              "      <td>0.0</td>\n",
              "    </tr>\n",
              "    <tr>\n",
              "      <th>614417</th>\n",
              "      <td>614417</td>\n",
              "      <td>4</td>\n",
              "      <td>2.28</td>\n",
              "      <td>75.0</td>\n",
              "      <td>76.0</td>\n",
              "      <td>30.15</td>\n",
              "      <td>10.0</td>\n",
              "      <td>8.100000</td>\n",
              "      <td>28</td>\n",
              "      <td>18.653642</td>\n",
              "      <td>11.283298</td>\n",
              "      <td>5.157547</td>\n",
              "      <td>743.620101</td>\n",
              "      <td>91.207542</td>\n",
              "      <td>1.0</td>\n",
              "      <td>0.0</td>\n",
              "      <td>1.0</td>\n",
              "      <td>0.0</td>\n",
              "      <td>1.0</td>\n",
              "      <td>0.0</td>\n",
              "      <td>1.0</td>\n",
              "      <td>0.0</td>\n",
              "      <td>0.0</td>\n",
              "      <td>0.0</td>\n",
              "      <td>1.0</td>\n",
              "      <td>0.0</td>\n",
              "      <td>0.0</td>\n",
              "      <td>0.0</td>\n",
              "      <td>0.0</td>\n",
              "      <td>0.0</td>\n",
              "      <td>0.0</td>\n",
              "      <td>0.0</td>\n",
              "      <td>0.0</td>\n",
              "      <td>1.0</td>\n",
              "      <td>0.0</td>\n",
              "      <td>0.0</td>\n",
              "      <td>0.0</td>\n",
              "      <td>0.0</td>\n",
              "      <td>0.0</td>\n",
              "      <td>0.0</td>\n",
              "      <td>...</td>\n",
              "      <td>0.0</td>\n",
              "      <td>0.0</td>\n",
              "      <td>0.0</td>\n",
              "      <td>0.0</td>\n",
              "      <td>0.0</td>\n",
              "      <td>0.0</td>\n",
              "      <td>0.0</td>\n",
              "      <td>0.0</td>\n",
              "      <td>0.0</td>\n",
              "      <td>0.0</td>\n",
              "      <td>0.0</td>\n",
              "      <td>0.0</td>\n",
              "      <td>0.0</td>\n",
              "      <td>1.0</td>\n",
              "      <td>0.0</td>\n",
              "      <td>0.0</td>\n",
              "      <td>0.0</td>\n",
              "      <td>0.0</td>\n",
              "      <td>0.0</td>\n",
              "      <td>0.0</td>\n",
              "      <td>0.0</td>\n",
              "      <td>0.0</td>\n",
              "      <td>0.0</td>\n",
              "      <td>0.0</td>\n",
              "      <td>0.0</td>\n",
              "      <td>0.0</td>\n",
              "      <td>0.0</td>\n",
              "      <td>0.0</td>\n",
              "      <td>1.0</td>\n",
              "      <td>0.0</td>\n",
              "      <td>0.0</td>\n",
              "      <td>0.0</td>\n",
              "      <td>0.0</td>\n",
              "      <td>0.0</td>\n",
              "      <td>0.0</td>\n",
              "      <td>0.0</td>\n",
              "      <td>0.0</td>\n",
              "      <td>0.0</td>\n",
              "      <td>0.0</td>\n",
              "      <td>0.0</td>\n",
              "    </tr>\n",
              "    <tr>\n",
              "      <th>709386</th>\n",
              "      <td>709386</td>\n",
              "      <td>4</td>\n",
              "      <td>14.59</td>\n",
              "      <td>60.1</td>\n",
              "      <td>64.0</td>\n",
              "      <td>29.68</td>\n",
              "      <td>10.0</td>\n",
              "      <td>17.300000</td>\n",
              "      <td>29</td>\n",
              "      <td>13.299684</td>\n",
              "      <td>1.800098</td>\n",
              "      <td>1.392350</td>\n",
              "      <td>499.833880</td>\n",
              "      <td>6.210770</td>\n",
              "      <td>1.0</td>\n",
              "      <td>0.0</td>\n",
              "      <td>1.0</td>\n",
              "      <td>0.0</td>\n",
              "      <td>1.0</td>\n",
              "      <td>0.0</td>\n",
              "      <td>1.0</td>\n",
              "      <td>0.0</td>\n",
              "      <td>0.0</td>\n",
              "      <td>0.0</td>\n",
              "      <td>1.0</td>\n",
              "      <td>0.0</td>\n",
              "      <td>0.0</td>\n",
              "      <td>0.0</td>\n",
              "      <td>0.0</td>\n",
              "      <td>0.0</td>\n",
              "      <td>0.0</td>\n",
              "      <td>0.0</td>\n",
              "      <td>0.0</td>\n",
              "      <td>1.0</td>\n",
              "      <td>0.0</td>\n",
              "      <td>0.0</td>\n",
              "      <td>0.0</td>\n",
              "      <td>0.0</td>\n",
              "      <td>0.0</td>\n",
              "      <td>0.0</td>\n",
              "      <td>...</td>\n",
              "      <td>0.0</td>\n",
              "      <td>0.0</td>\n",
              "      <td>0.0</td>\n",
              "      <td>0.0</td>\n",
              "      <td>0.0</td>\n",
              "      <td>0.0</td>\n",
              "      <td>0.0</td>\n",
              "      <td>0.0</td>\n",
              "      <td>0.0</td>\n",
              "      <td>0.0</td>\n",
              "      <td>0.0</td>\n",
              "      <td>0.0</td>\n",
              "      <td>0.0</td>\n",
              "      <td>0.0</td>\n",
              "      <td>0.0</td>\n",
              "      <td>0.0</td>\n",
              "      <td>0.0</td>\n",
              "      <td>0.0</td>\n",
              "      <td>0.0</td>\n",
              "      <td>0.0</td>\n",
              "      <td>0.0</td>\n",
              "      <td>0.0</td>\n",
              "      <td>0.0</td>\n",
              "      <td>0.0</td>\n",
              "      <td>0.0</td>\n",
              "      <td>0.0</td>\n",
              "      <td>1.0</td>\n",
              "      <td>0.0</td>\n",
              "      <td>0.0</td>\n",
              "      <td>0.0</td>\n",
              "      <td>0.0</td>\n",
              "      <td>0.0</td>\n",
              "      <td>0.0</td>\n",
              "      <td>0.0</td>\n",
              "      <td>0.0</td>\n",
              "      <td>0.0</td>\n",
              "      <td>0.0</td>\n",
              "      <td>0.0</td>\n",
              "      <td>0.0</td>\n",
              "      <td>1.0</td>\n",
              "    </tr>\n",
              "    <tr>\n",
              "      <th>1250612</th>\n",
              "      <td>1250612</td>\n",
              "      <td>4</td>\n",
              "      <td>0.46</td>\n",
              "      <td>61.0</td>\n",
              "      <td>35.0</td>\n",
              "      <td>30.30</td>\n",
              "      <td>10.0</td>\n",
              "      <td>8.100000</td>\n",
              "      <td>29</td>\n",
              "      <td>8.848408</td>\n",
              "      <td>4.173413</td>\n",
              "      <td>1.702806</td>\n",
              "      <td>2.885044</td>\n",
              "      <td>55.116435</td>\n",
              "      <td>1.0</td>\n",
              "      <td>0.0</td>\n",
              "      <td>1.0</td>\n",
              "      <td>0.0</td>\n",
              "      <td>1.0</td>\n",
              "      <td>0.0</td>\n",
              "      <td>1.0</td>\n",
              "      <td>0.0</td>\n",
              "      <td>0.0</td>\n",
              "      <td>0.0</td>\n",
              "      <td>1.0</td>\n",
              "      <td>0.0</td>\n",
              "      <td>0.0</td>\n",
              "      <td>0.0</td>\n",
              "      <td>0.0</td>\n",
              "      <td>0.0</td>\n",
              "      <td>0.0</td>\n",
              "      <td>0.0</td>\n",
              "      <td>0.0</td>\n",
              "      <td>1.0</td>\n",
              "      <td>0.0</td>\n",
              "      <td>0.0</td>\n",
              "      <td>0.0</td>\n",
              "      <td>0.0</td>\n",
              "      <td>0.0</td>\n",
              "      <td>0.0</td>\n",
              "      <td>...</td>\n",
              "      <td>0.0</td>\n",
              "      <td>0.0</td>\n",
              "      <td>0.0</td>\n",
              "      <td>0.0</td>\n",
              "      <td>0.0</td>\n",
              "      <td>0.0</td>\n",
              "      <td>0.0</td>\n",
              "      <td>0.0</td>\n",
              "      <td>0.0</td>\n",
              "      <td>0.0</td>\n",
              "      <td>0.0</td>\n",
              "      <td>0.0</td>\n",
              "      <td>0.0</td>\n",
              "      <td>0.0</td>\n",
              "      <td>0.0</td>\n",
              "      <td>0.0</td>\n",
              "      <td>1.0</td>\n",
              "      <td>0.0</td>\n",
              "      <td>0.0</td>\n",
              "      <td>0.0</td>\n",
              "      <td>0.0</td>\n",
              "      <td>0.0</td>\n",
              "      <td>0.0</td>\n",
              "      <td>0.0</td>\n",
              "      <td>0.0</td>\n",
              "      <td>0.0</td>\n",
              "      <td>0.0</td>\n",
              "      <td>0.0</td>\n",
              "      <td>0.0</td>\n",
              "      <td>0.0</td>\n",
              "      <td>1.0</td>\n",
              "      <td>0.0</td>\n",
              "      <td>0.0</td>\n",
              "      <td>0.0</td>\n",
              "      <td>0.0</td>\n",
              "      <td>0.0</td>\n",
              "      <td>0.0</td>\n",
              "      <td>0.0</td>\n",
              "      <td>0.0</td>\n",
              "      <td>0.0</td>\n",
              "    </tr>\n",
              "  </tbody>\n",
              "</table>\n",
              "<p>50000 rows × 177 columns</p>\n",
              "</div>"
            ],
            "text/plain": [
              "         Unnamed: 0  Severity  Distance(mi)  ...  month10  month11  month12\n",
              "388568       388568         0          0.01  ...      0.0      0.0      0.0\n",
              "746394       746394         0          0.00  ...      0.0      1.0      0.0\n",
              "270405       270405         0          0.01  ...      0.0      1.0      0.0\n",
              "1084233     1084233         0          0.00  ...      0.0      0.0      0.0\n",
              "690115       690115         0          0.00  ...      0.0      0.0      1.0\n",
              "...             ...       ...           ...  ...      ...      ...      ...\n",
              "544526       544526         4          5.28  ...      0.0      0.0      0.0\n",
              "625243       625243         4          4.58  ...      0.0      0.0      0.0\n",
              "614417       614417         4          2.28  ...      0.0      0.0      0.0\n",
              "709386       709386         4         14.59  ...      0.0      0.0      1.0\n",
              "1250612     1250612         4          0.46  ...      0.0      0.0      0.0\n",
              "\n",
              "[50000 rows x 177 columns]"
            ]
          },
          "metadata": {
            "tags": []
          },
          "execution_count": 14
        }
      ]
    },
    {
      "cell_type": "code",
      "metadata": {
        "id": "AOGZYfd40EIB",
        "colab_type": "code",
        "colab": {}
      },
      "source": [
        "df_bl = df_bl.drop(['Unnamed: 0'], axis=1)"
      ],
      "execution_count": null,
      "outputs": []
    },
    {
      "cell_type": "code",
      "metadata": {
        "id": "s9OxfNSWPVSo",
        "colab_type": "code",
        "colab": {}
      },
      "source": [
        "# split X, y\n",
        "X = df_bl.drop('Severity', axis=1)\n",
        "y= df_bl['Severity']"
      ],
      "execution_count": null,
      "outputs": []
    },
    {
      "cell_type": "code",
      "metadata": {
        "id": "chFXwaUZPgvQ",
        "colab_type": "code",
        "colab": {}
      },
      "source": [
        "# Standardizing the features based on unit variance\n",
        "from sklearn.preprocessing import StandardScaler\n",
        "X = StandardScaler().fit_transform(X)"
      ],
      "execution_count": null,
      "outputs": []
    },
    {
      "cell_type": "code",
      "metadata": {
        "id": "T2XmHjQcPiYr",
        "colab_type": "code",
        "colab": {}
      },
      "source": [
        "# split train test\n",
        "from sklearn.model_selection import train_test_split\n",
        "X_train, X_test, y_train, y_test = train_test_split(X, y, test_size=0.30, random_state=42)"
      ],
      "execution_count": null,
      "outputs": []
    },
    {
      "cell_type": "markdown",
      "metadata": {
        "id": "WzHA2RUe9Xqk",
        "colab_type": "text"
      },
      "source": [
        "# Logistic Regression"
      ]
    },
    {
      "cell_type": "code",
      "metadata": {
        "id": "DN-AncvJEEeQ",
        "colab_type": "code",
        "colab": {
          "base_uri": "https://localhost:8080/",
          "height": 1000
        },
        "outputId": "b381c644-8134-4c4a-a87e-8dda9b634c9c"
      },
      "source": [
        "# Bayesian Optimization\n",
        "num_thread=50\n",
        "params = ['penalty', 'C', 'max_iter']\n",
        "\n",
        "#for model include item_Features\n",
        "def objective(params):\n",
        "    # unpack\n",
        "    penalty, C, max_iter = params\n",
        "    \n",
        "    model_iii = LogisticRegression(penalty, dual=False, C=C, random_state=60616, solver='sag', max_iter=max_iter)\n",
        "    model_iii.fit(X_train, y_train)\n",
        "    \n",
        "    y_pred = model_iii.predict(X_test)\n",
        "    fbeta = fbeta_score(y_test, y_pred, beta=0.5, average='weighted')\n",
        "\n",
        "    out = -fbeta\n",
        "    # Handle some numerical issue going on\n",
        "    if np.abs(out + 1) < 0.01 or out < -1.0:\n",
        "        return 0.0\n",
        "    else:\n",
        "        return out\n",
        "\n",
        "space = [('l2', 'none'),\n",
        "         (0.001, 0.009, 0.01, 0.09, 1, 5, 10, 25),\n",
        "         (1000, 10000, 100000),\n",
        "        ]\n",
        "\n",
        "try:\n",
        "    res_fm = forest_minimize(objective, space, n_calls=50,\n",
        "                     random_state=60616,base_estimator= 'RF',acq_func='PI',\n",
        "                     verbose=True, n_jobs=num_thread)\n",
        "except ValueError:\n",
        "    print('Forest diverged, random search intialized')\n",
        "    res_fm = dummy_minimize(objective, space, n_calls=30,\n",
        "         random_state=60616,\n",
        "         verbose=True)\n",
        "\n",
        "print('Maximimum F_Beta found: {:6.5f}'.format(-res_fm.fun))\n",
        "print('Optimal parameters:')\n",
        "\n",
        "for (p, x_) in zip(params, res_fm.x):\n",
        "    print('{}: {}'.format(p, x_))\n",
        "from skopt.plots import plot_convergence\n",
        "plot_convergence(res_fm);"
      ],
      "execution_count": null,
      "outputs": [
        {
          "output_type": "stream",
          "text": [
            "Iteration No: 1 started. Evaluating function at random point.\n",
            "Iteration No: 1 ended. Evaluation done at random point.\n",
            "Time taken: 280.6666\n",
            "Function value obtained: -0.6529\n",
            "Current minimum: -0.6529\n",
            "Iteration No: 2 started. Evaluating function at random point.\n",
            "Iteration No: 2 ended. Evaluation done at random point.\n",
            "Time taken: 176.4006\n",
            "Function value obtained: -0.6507\n",
            "Current minimum: -0.6529\n",
            "Iteration No: 3 started. Evaluating function at random point.\n"
          ],
          "name": "stdout"
        },
        {
          "output_type": "stream",
          "text": [
            "/usr/local/lib/python3.6/dist-packages/sklearn/linear_model/_sag.py:330: ConvergenceWarning: The max_iter was reached which means the coef_ did not converge\n",
            "  \"the coef_ did not converge\", ConvergenceWarning)\n",
            "/usr/local/lib/python3.6/dist-packages/sklearn/linear_model/_logistic.py:1505: UserWarning: Setting penalty='none' will ignore the C and l1_ratio parameters\n",
            "  \"Setting penalty='none' will ignore the C and l1_ratio \"\n"
          ],
          "name": "stderr"
        },
        {
          "output_type": "stream",
          "text": [
            "Iteration No: 3 ended. Evaluation done at random point.\n",
            "Time taken: 179.5129\n",
            "Function value obtained: -0.6527\n",
            "Current minimum: -0.6529\n",
            "Iteration No: 4 started. Evaluating function at random point.\n",
            "Iteration No: 4 ended. Evaluation done at random point.\n",
            "Time taken: 285.4657\n",
            "Function value obtained: -0.6530\n",
            "Current minimum: -0.6530\n",
            "Iteration No: 5 started. Evaluating function at random point.\n"
          ],
          "name": "stdout"
        },
        {
          "output_type": "stream",
          "text": [
            "/usr/local/lib/python3.6/dist-packages/sklearn/linear_model/_logistic.py:1505: UserWarning: Setting penalty='none' will ignore the C and l1_ratio parameters\n",
            "  \"Setting penalty='none' will ignore the C and l1_ratio \"\n",
            "/usr/local/lib/python3.6/dist-packages/sklearn/linear_model/_sag.py:330: ConvergenceWarning: The max_iter was reached which means the coef_ did not converge\n",
            "  \"the coef_ did not converge\", ConvergenceWarning)\n",
            "/usr/local/lib/python3.6/dist-packages/sklearn/linear_model/_logistic.py:1505: UserWarning: Setting penalty='none' will ignore the C and l1_ratio parameters\n",
            "  \"Setting penalty='none' will ignore the C and l1_ratio \"\n"
          ],
          "name": "stderr"
        },
        {
          "output_type": "stream",
          "text": [
            "Iteration No: 5 ended. Evaluation done at random point.\n",
            "Time taken: 182.0710\n",
            "Function value obtained: -0.6527\n",
            "Current minimum: -0.6530\n",
            "Iteration No: 6 started. Evaluating function at random point.\n"
          ],
          "name": "stdout"
        },
        {
          "output_type": "stream",
          "text": [
            "/usr/local/lib/python3.6/dist-packages/sklearn/linear_model/_sag.py:330: ConvergenceWarning: The max_iter was reached which means the coef_ did not converge\n",
            "  \"the coef_ did not converge\", ConvergenceWarning)\n"
          ],
          "name": "stderr"
        },
        {
          "output_type": "stream",
          "text": [
            "Iteration No: 6 ended. Evaluation done at random point.\n",
            "Time taken: 181.2466\n",
            "Function value obtained: -0.6527\n",
            "Current minimum: -0.6530\n",
            "Iteration No: 7 started. Evaluating function at random point.\n",
            "Iteration No: 7 ended. Evaluation done at random point.\n",
            "Time taken: 57.3994\n",
            "Function value obtained: -0.6403\n",
            "Current minimum: -0.6530\n",
            "Iteration No: 8 started. Evaluating function at random point.\n",
            "Iteration No: 8 ended. Evaluation done at random point.\n",
            "Time taken: 283.1956\n",
            "Function value obtained: -0.6530\n",
            "Current minimum: -0.6530\n",
            "Iteration No: 9 started. Evaluating function at random point.\n"
          ],
          "name": "stdout"
        },
        {
          "output_type": "stream",
          "text": [
            "/usr/local/lib/python3.6/dist-packages/sklearn/linear_model/_logistic.py:1505: UserWarning: Setting penalty='none' will ignore the C and l1_ratio parameters\n",
            "  \"Setting penalty='none' will ignore the C and l1_ratio \"\n"
          ],
          "name": "stderr"
        },
        {
          "output_type": "stream",
          "text": [
            "Iteration No: 9 ended. Evaluation done at random point.\n",
            "Time taken: 279.3621\n",
            "Function value obtained: -0.6530\n",
            "Current minimum: -0.6530\n",
            "Iteration No: 10 started. Evaluating function at random point.\n",
            "Iteration No: 10 ended. Evaluation done at random point.\n",
            "Time taken: 276.8737\n",
            "Function value obtained: -0.6528\n",
            "Current minimum: -0.6530\n",
            "Iteration No: 11 started. Searching for the next optimal point.\n",
            "Iteration No: 11 ended. Search finished for the next optimal point.\n",
            "Time taken: 269.6602\n",
            "Function value obtained: -0.6528\n",
            "Current minimum: -0.6530\n",
            "Iteration No: 12 started. Searching for the next optimal point.\n"
          ],
          "name": "stdout"
        },
        {
          "output_type": "stream",
          "text": [
            "/usr/local/lib/python3.6/dist-packages/skopt/optimizer/optimizer.py:409: UserWarning: The objective has been evaluated at this point before.\n",
            "  warnings.warn(\"The objective has been evaluated \"\n"
          ],
          "name": "stderr"
        },
        {
          "output_type": "stream",
          "text": [
            "Iteration No: 12 ended. Search finished for the next optimal point.\n",
            "Time taken: 278.0035\n",
            "Function value obtained: -0.6529\n",
            "Current minimum: -0.6530\n",
            "Iteration No: 13 started. Searching for the next optimal point.\n",
            "Iteration No: 13 ended. Search finished for the next optimal point.\n",
            "Time taken: 273.6925\n",
            "Function value obtained: -0.6528\n",
            "Current minimum: -0.6530\n",
            "Iteration No: 14 started. Searching for the next optimal point.\n",
            "Iteration No: 14 ended. Search finished for the next optimal point.\n",
            "Time taken: 11.9063\n",
            "Function value obtained: -0.6197\n",
            "Current minimum: -0.6530\n",
            "Iteration No: 15 started. Searching for the next optimal point.\n"
          ],
          "name": "stdout"
        },
        {
          "output_type": "stream",
          "text": [
            "/usr/local/lib/python3.6/dist-packages/sklearn/linear_model/_logistic.py:1505: UserWarning: Setting penalty='none' will ignore the C and l1_ratio parameters\n",
            "  \"Setting penalty='none' will ignore the C and l1_ratio \"\n"
          ],
          "name": "stderr"
        },
        {
          "output_type": "stream",
          "text": [
            "Iteration No: 15 ended. Search finished for the next optimal point.\n",
            "Time taken: 274.8318\n",
            "Function value obtained: -0.6530\n",
            "Current minimum: -0.6530\n",
            "Iteration No: 16 started. Searching for the next optimal point.\n"
          ],
          "name": "stdout"
        },
        {
          "output_type": "stream",
          "text": [
            "/usr/local/lib/python3.6/dist-packages/skopt/optimizer/optimizer.py:409: UserWarning: The objective has been evaluated at this point before.\n",
            "  warnings.warn(\"The objective has been evaluated \"\n"
          ],
          "name": "stderr"
        },
        {
          "output_type": "stream",
          "text": [
            "Iteration No: 16 ended. Search finished for the next optimal point.\n",
            "Time taken: 272.1713\n",
            "Function value obtained: -0.6528\n",
            "Current minimum: -0.6530\n",
            "Iteration No: 17 started. Searching for the next optimal point.\n"
          ],
          "name": "stdout"
        },
        {
          "output_type": "stream",
          "text": [
            "/usr/local/lib/python3.6/dist-packages/skopt/optimizer/optimizer.py:409: UserWarning: The objective has been evaluated at this point before.\n",
            "  warnings.warn(\"The objective has been evaluated \"\n"
          ],
          "name": "stderr"
        },
        {
          "output_type": "stream",
          "text": [
            "Iteration No: 17 ended. Search finished for the next optimal point.\n",
            "Time taken: 273.3722\n",
            "Function value obtained: -0.6529\n",
            "Current minimum: -0.6530\n",
            "Iteration No: 18 started. Searching for the next optimal point.\n"
          ],
          "name": "stdout"
        },
        {
          "output_type": "stream",
          "text": [
            "/usr/local/lib/python3.6/dist-packages/skopt/optimizer/optimizer.py:409: UserWarning: The objective has been evaluated at this point before.\n",
            "  warnings.warn(\"The objective has been evaluated \"\n"
          ],
          "name": "stderr"
        },
        {
          "output_type": "stream",
          "text": [
            "Iteration No: 18 ended. Search finished for the next optimal point.\n",
            "Time taken: 276.4987\n",
            "Function value obtained: -0.6529\n",
            "Current minimum: -0.6530\n",
            "Iteration No: 19 started. Searching for the next optimal point.\n"
          ],
          "name": "stdout"
        },
        {
          "output_type": "stream",
          "text": [
            "/usr/local/lib/python3.6/dist-packages/skopt/optimizer/optimizer.py:409: UserWarning: The objective has been evaluated at this point before.\n",
            "  warnings.warn(\"The objective has been evaluated \"\n"
          ],
          "name": "stderr"
        },
        {
          "output_type": "stream",
          "text": [
            "Iteration No: 19 ended. Search finished for the next optimal point.\n",
            "Time taken: 270.5872\n",
            "Function value obtained: -0.6528\n",
            "Current minimum: -0.6530\n",
            "Iteration No: 20 started. Searching for the next optimal point.\n"
          ],
          "name": "stdout"
        },
        {
          "output_type": "stream",
          "text": [
            "/usr/local/lib/python3.6/dist-packages/sklearn/linear_model/_logistic.py:1505: UserWarning: Setting penalty='none' will ignore the C and l1_ratio parameters\n",
            "  \"Setting penalty='none' will ignore the C and l1_ratio \"\n"
          ],
          "name": "stderr"
        },
        {
          "output_type": "stream",
          "text": [
            "Iteration No: 20 ended. Search finished for the next optimal point.\n",
            "Time taken: 276.3159\n",
            "Function value obtained: -0.6530\n",
            "Current minimum: -0.6530\n",
            "Iteration No: 21 started. Searching for the next optimal point.\n",
            "Iteration No: 21 ended. Search finished for the next optimal point.\n",
            "Time taken: 172.3717\n",
            "Function value obtained: -0.6507\n",
            "Current minimum: -0.6530\n",
            "Iteration No: 22 started. Searching for the next optimal point.\n"
          ],
          "name": "stdout"
        },
        {
          "output_type": "stream",
          "text": [
            "/usr/local/lib/python3.6/dist-packages/skopt/optimizer/optimizer.py:409: UserWarning: The objective has been evaluated at this point before.\n",
            "  warnings.warn(\"The objective has been evaluated \"\n"
          ],
          "name": "stderr"
        },
        {
          "output_type": "stream",
          "text": [
            "Iteration No: 22 ended. Search finished for the next optimal point.\n",
            "Time taken: 277.8460\n",
            "Function value obtained: -0.6528\n",
            "Current minimum: -0.6530\n",
            "Iteration No: 23 started. Searching for the next optimal point.\n"
          ],
          "name": "stdout"
        },
        {
          "output_type": "stream",
          "text": [
            "/usr/local/lib/python3.6/dist-packages/skopt/optimizer/optimizer.py:409: UserWarning: The objective has been evaluated at this point before.\n",
            "  warnings.warn(\"The objective has been evaluated \"\n"
          ],
          "name": "stderr"
        },
        {
          "output_type": "stream",
          "text": [
            "Iteration No: 23 ended. Search finished for the next optimal point.\n",
            "Time taken: 58.3319\n",
            "Function value obtained: -0.6403\n",
            "Current minimum: -0.6530\n",
            "Iteration No: 24 started. Searching for the next optimal point.\n",
            "Iteration No: 24 ended. Search finished for the next optimal point.\n",
            "Time taken: 51.8742\n",
            "Function value obtained: -0.6404\n",
            "Current minimum: -0.6530\n",
            "Iteration No: 25 started. Searching for the next optimal point.\n"
          ],
          "name": "stdout"
        },
        {
          "output_type": "stream",
          "text": [
            "/usr/local/lib/python3.6/dist-packages/skopt/optimizer/optimizer.py:409: UserWarning: The objective has been evaluated at this point before.\n",
            "  warnings.warn(\"The objective has been evaluated \"\n"
          ],
          "name": "stderr"
        },
        {
          "output_type": "stream",
          "text": [
            "Iteration No: 25 ended. Search finished for the next optimal point.\n",
            "Time taken: 270.5285\n",
            "Function value obtained: -0.6528\n",
            "Current minimum: -0.6530\n",
            "Iteration No: 26 started. Searching for the next optimal point.\n"
          ],
          "name": "stdout"
        },
        {
          "output_type": "stream",
          "text": [
            "/usr/local/lib/python3.6/dist-packages/skopt/optimizer/optimizer.py:409: UserWarning: The objective has been evaluated at this point before.\n",
            "  warnings.warn(\"The objective has been evaluated \"\n"
          ],
          "name": "stderr"
        },
        {
          "output_type": "stream",
          "text": [
            "Iteration No: 26 ended. Search finished for the next optimal point.\n",
            "Time taken: 272.4218\n",
            "Function value obtained: -0.6529\n",
            "Current minimum: -0.6530\n",
            "Iteration No: 27 started. Searching for the next optimal point.\n"
          ],
          "name": "stdout"
        },
        {
          "output_type": "stream",
          "text": [
            "/usr/local/lib/python3.6/dist-packages/sklearn/linear_model/_logistic.py:1505: UserWarning: Setting penalty='none' will ignore the C and l1_ratio parameters\n",
            "  \"Setting penalty='none' will ignore the C and l1_ratio \"\n"
          ],
          "name": "stderr"
        },
        {
          "output_type": "stream",
          "text": [
            "Iteration No: 27 ended. Search finished for the next optimal point.\n",
            "Time taken: 272.8319\n",
            "Function value obtained: -0.6530\n",
            "Current minimum: -0.6530\n",
            "Iteration No: 28 started. Searching for the next optimal point.\n"
          ],
          "name": "stdout"
        },
        {
          "output_type": "stream",
          "text": [
            "/usr/local/lib/python3.6/dist-packages/skopt/optimizer/optimizer.py:409: UserWarning: The objective has been evaluated at this point before.\n",
            "  warnings.warn(\"The objective has been evaluated \"\n",
            "/usr/local/lib/python3.6/dist-packages/sklearn/linear_model/_logistic.py:1505: UserWarning: Setting penalty='none' will ignore the C and l1_ratio parameters\n",
            "  \"Setting penalty='none' will ignore the C and l1_ratio \"\n"
          ],
          "name": "stderr"
        },
        {
          "output_type": "stream",
          "text": [
            "Iteration No: 28 ended. Search finished for the next optimal point.\n",
            "Time taken: 274.5446\n",
            "Function value obtained: -0.6530\n",
            "Current minimum: -0.6530\n",
            "Iteration No: 29 started. Searching for the next optimal point.\n"
          ],
          "name": "stdout"
        },
        {
          "output_type": "stream",
          "text": [
            "/usr/local/lib/python3.6/dist-packages/skopt/optimizer/optimizer.py:409: UserWarning: The objective has been evaluated at this point before.\n",
            "  warnings.warn(\"The objective has been evaluated \"\n",
            "/usr/local/lib/python3.6/dist-packages/sklearn/linear_model/_logistic.py:1505: UserWarning: Setting penalty='none' will ignore the C and l1_ratio parameters\n",
            "  \"Setting penalty='none' will ignore the C and l1_ratio \"\n"
          ],
          "name": "stderr"
        },
        {
          "output_type": "stream",
          "text": [
            "Iteration No: 29 ended. Search finished for the next optimal point.\n",
            "Time taken: 273.9444\n",
            "Function value obtained: -0.6530\n",
            "Current minimum: -0.6530\n",
            "Iteration No: 30 started. Searching for the next optimal point.\n"
          ],
          "name": "stdout"
        },
        {
          "output_type": "stream",
          "text": [
            "/usr/local/lib/python3.6/dist-packages/skopt/optimizer/optimizer.py:409: UserWarning: The objective has been evaluated at this point before.\n",
            "  warnings.warn(\"The objective has been evaluated \"\n",
            "/usr/local/lib/python3.6/dist-packages/sklearn/linear_model/_logistic.py:1505: UserWarning: Setting penalty='none' will ignore the C and l1_ratio parameters\n",
            "  \"Setting penalty='none' will ignore the C and l1_ratio \"\n"
          ],
          "name": "stderr"
        },
        {
          "output_type": "stream",
          "text": [
            "Iteration No: 30 ended. Search finished for the next optimal point.\n",
            "Time taken: 277.4152\n",
            "Function value obtained: -0.6530\n",
            "Current minimum: -0.6530\n",
            "Iteration No: 31 started. Searching for the next optimal point.\n"
          ],
          "name": "stdout"
        },
        {
          "output_type": "stream",
          "text": [
            "/usr/local/lib/python3.6/dist-packages/skopt/optimizer/optimizer.py:409: UserWarning: The objective has been evaluated at this point before.\n",
            "  warnings.warn(\"The objective has been evaluated \"\n",
            "/usr/local/lib/python3.6/dist-packages/sklearn/linear_model/_logistic.py:1505: UserWarning: Setting penalty='none' will ignore the C and l1_ratio parameters\n",
            "  \"Setting penalty='none' will ignore the C and l1_ratio \"\n"
          ],
          "name": "stderr"
        },
        {
          "output_type": "stream",
          "text": [
            "Iteration No: 31 ended. Search finished for the next optimal point.\n",
            "Time taken: 272.4949\n",
            "Function value obtained: -0.6530\n",
            "Current minimum: -0.6530\n",
            "Iteration No: 32 started. Searching for the next optimal point.\n"
          ],
          "name": "stdout"
        },
        {
          "output_type": "stream",
          "text": [
            "/usr/local/lib/python3.6/dist-packages/skopt/optimizer/optimizer.py:409: UserWarning: The objective has been evaluated at this point before.\n",
            "  warnings.warn(\"The objective has been evaluated \"\n",
            "/usr/local/lib/python3.6/dist-packages/sklearn/linear_model/_logistic.py:1505: UserWarning: Setting penalty='none' will ignore the C and l1_ratio parameters\n",
            "  \"Setting penalty='none' will ignore the C and l1_ratio \"\n",
            "/usr/local/lib/python3.6/dist-packages/sklearn/linear_model/_sag.py:330: ConvergenceWarning: The max_iter was reached which means the coef_ did not converge\n",
            "  \"the coef_ did not converge\", ConvergenceWarning)\n"
          ],
          "name": "stderr"
        },
        {
          "output_type": "stream",
          "text": [
            "Iteration No: 32 ended. Search finished for the next optimal point.\n",
            "Time taken: 174.1091\n",
            "Function value obtained: -0.6527\n",
            "Current minimum: -0.6530\n",
            "Iteration No: 33 started. Searching for the next optimal point.\n"
          ],
          "name": "stdout"
        },
        {
          "output_type": "stream",
          "text": [
            "/usr/local/lib/python3.6/dist-packages/skopt/optimizer/optimizer.py:409: UserWarning: The objective has been evaluated at this point before.\n",
            "  warnings.warn(\"The objective has been evaluated \"\n",
            "/usr/local/lib/python3.6/dist-packages/sklearn/linear_model/_logistic.py:1505: UserWarning: Setting penalty='none' will ignore the C and l1_ratio parameters\n",
            "  \"Setting penalty='none' will ignore the C and l1_ratio \"\n"
          ],
          "name": "stderr"
        },
        {
          "output_type": "stream",
          "text": [
            "Iteration No: 33 ended. Search finished for the next optimal point.\n",
            "Time taken: 272.8888\n",
            "Function value obtained: -0.6530\n",
            "Current minimum: -0.6530\n",
            "Iteration No: 34 started. Searching for the next optimal point.\n",
            "Iteration No: 34 ended. Search finished for the next optimal point.\n",
            "Time taken: 12.1951\n",
            "Function value obtained: -0.6197\n",
            "Current minimum: -0.6530\n",
            "Iteration No: 35 started. Searching for the next optimal point.\n"
          ],
          "name": "stdout"
        },
        {
          "output_type": "stream",
          "text": [
            "/usr/local/lib/python3.6/dist-packages/skopt/optimizer/optimizer.py:409: UserWarning: The objective has been evaluated at this point before.\n",
            "  warnings.warn(\"The objective has been evaluated \"\n",
            "/usr/local/lib/python3.6/dist-packages/sklearn/linear_model/_logistic.py:1505: UserWarning: Setting penalty='none' will ignore the C and l1_ratio parameters\n",
            "  \"Setting penalty='none' will ignore the C and l1_ratio \"\n",
            "/usr/local/lib/python3.6/dist-packages/sklearn/linear_model/_sag.py:330: ConvergenceWarning: The max_iter was reached which means the coef_ did not converge\n",
            "  \"the coef_ did not converge\", ConvergenceWarning)\n"
          ],
          "name": "stderr"
        },
        {
          "output_type": "stream",
          "text": [
            "Iteration No: 35 ended. Search finished for the next optimal point.\n",
            "Time taken: 174.2514\n",
            "Function value obtained: -0.6527\n",
            "Current minimum: -0.6530\n",
            "Iteration No: 36 started. Searching for the next optimal point.\n"
          ],
          "name": "stdout"
        },
        {
          "output_type": "stream",
          "text": [
            "/usr/local/lib/python3.6/dist-packages/skopt/optimizer/optimizer.py:409: UserWarning: The objective has been evaluated at this point before.\n",
            "  warnings.warn(\"The objective has been evaluated \"\n",
            "/usr/local/lib/python3.6/dist-packages/sklearn/linear_model/_logistic.py:1505: UserWarning: Setting penalty='none' will ignore the C and l1_ratio parameters\n",
            "  \"Setting penalty='none' will ignore the C and l1_ratio \"\n",
            "/usr/local/lib/python3.6/dist-packages/sklearn/linear_model/_sag.py:330: ConvergenceWarning: The max_iter was reached which means the coef_ did not converge\n",
            "  \"the coef_ did not converge\", ConvergenceWarning)\n"
          ],
          "name": "stderr"
        },
        {
          "output_type": "stream",
          "text": [
            "Iteration No: 36 ended. Search finished for the next optimal point.\n",
            "Time taken: 175.9499\n",
            "Function value obtained: -0.6527\n",
            "Current minimum: -0.6530\n",
            "Iteration No: 37 started. Searching for the next optimal point.\n"
          ],
          "name": "stdout"
        },
        {
          "output_type": "stream",
          "text": [
            "/usr/local/lib/python3.6/dist-packages/skopt/optimizer/optimizer.py:409: UserWarning: The objective has been evaluated at this point before.\n",
            "  warnings.warn(\"The objective has been evaluated \"\n",
            "/usr/local/lib/python3.6/dist-packages/sklearn/linear_model/_logistic.py:1505: UserWarning: Setting penalty='none' will ignore the C and l1_ratio parameters\n",
            "  \"Setting penalty='none' will ignore the C and l1_ratio \"\n",
            "/usr/local/lib/python3.6/dist-packages/sklearn/linear_model/_sag.py:330: ConvergenceWarning: The max_iter was reached which means the coef_ did not converge\n",
            "  \"the coef_ did not converge\", ConvergenceWarning)\n"
          ],
          "name": "stderr"
        },
        {
          "output_type": "stream",
          "text": [
            "Iteration No: 37 ended. Search finished for the next optimal point.\n",
            "Time taken: 172.5555\n",
            "Function value obtained: -0.6527\n",
            "Current minimum: -0.6530\n",
            "Iteration No: 38 started. Searching for the next optimal point.\n"
          ],
          "name": "stdout"
        },
        {
          "output_type": "stream",
          "text": [
            "/usr/local/lib/python3.6/dist-packages/sklearn/linear_model/_sag.py:330: ConvergenceWarning: The max_iter was reached which means the coef_ did not converge\n",
            "  \"the coef_ did not converge\", ConvergenceWarning)\n"
          ],
          "name": "stderr"
        },
        {
          "output_type": "stream",
          "text": [
            "Iteration No: 38 ended. Search finished for the next optimal point.\n",
            "Time taken: 175.0747\n",
            "Function value obtained: -0.6527\n",
            "Current minimum: -0.6530\n",
            "Iteration No: 39 started. Searching for the next optimal point.\n"
          ],
          "name": "stdout"
        },
        {
          "output_type": "stream",
          "text": [
            "/usr/local/lib/python3.6/dist-packages/skopt/optimizer/optimizer.py:409: UserWarning: The objective has been evaluated at this point before.\n",
            "  warnings.warn(\"The objective has been evaluated \"\n",
            "/usr/local/lib/python3.6/dist-packages/sklearn/linear_model/_sag.py:330: ConvergenceWarning: The max_iter was reached which means the coef_ did not converge\n",
            "  \"the coef_ did not converge\", ConvergenceWarning)\n"
          ],
          "name": "stderr"
        },
        {
          "output_type": "stream",
          "text": [
            "Iteration No: 39 ended. Search finished for the next optimal point.\n",
            "Time taken: 173.3750\n",
            "Function value obtained: -0.6527\n",
            "Current minimum: -0.6530\n",
            "Iteration No: 40 started. Searching for the next optimal point.\n"
          ],
          "name": "stdout"
        },
        {
          "output_type": "stream",
          "text": [
            "/usr/local/lib/python3.6/dist-packages/sklearn/linear_model/_sag.py:330: ConvergenceWarning: The max_iter was reached which means the coef_ did not converge\n",
            "  \"the coef_ did not converge\", ConvergenceWarning)\n"
          ],
          "name": "stderr"
        },
        {
          "output_type": "stream",
          "text": [
            "Iteration No: 40 ended. Search finished for the next optimal point.\n",
            "Time taken: 174.2400\n",
            "Function value obtained: -0.6527\n",
            "Current minimum: -0.6530\n",
            "Iteration No: 41 started. Searching for the next optimal point.\n"
          ],
          "name": "stdout"
        },
        {
          "output_type": "stream",
          "text": [
            "/usr/local/lib/python3.6/dist-packages/skopt/optimizer/optimizer.py:409: UserWarning: The objective has been evaluated at this point before.\n",
            "  warnings.warn(\"The objective has been evaluated \"\n",
            "/usr/local/lib/python3.6/dist-packages/sklearn/linear_model/_sag.py:330: ConvergenceWarning: The max_iter was reached which means the coef_ did not converge\n",
            "  \"the coef_ did not converge\", ConvergenceWarning)\n"
          ],
          "name": "stderr"
        },
        {
          "output_type": "stream",
          "text": [
            "Iteration No: 41 ended. Search finished for the next optimal point.\n",
            "Time taken: 172.7739\n",
            "Function value obtained: -0.6527\n",
            "Current minimum: -0.6530\n",
            "Iteration No: 42 started. Searching for the next optimal point.\n"
          ],
          "name": "stdout"
        },
        {
          "output_type": "stream",
          "text": [
            "/usr/local/lib/python3.6/dist-packages/skopt/optimizer/optimizer.py:409: UserWarning: The objective has been evaluated at this point before.\n",
            "  warnings.warn(\"The objective has been evaluated \"\n",
            "/usr/local/lib/python3.6/dist-packages/sklearn/linear_model/_logistic.py:1505: UserWarning: Setting penalty='none' will ignore the C and l1_ratio parameters\n",
            "  \"Setting penalty='none' will ignore the C and l1_ratio \"\n",
            "/usr/local/lib/python3.6/dist-packages/sklearn/linear_model/_sag.py:330: ConvergenceWarning: The max_iter was reached which means the coef_ did not converge\n",
            "  \"the coef_ did not converge\", ConvergenceWarning)\n"
          ],
          "name": "stderr"
        },
        {
          "output_type": "stream",
          "text": [
            "Iteration No: 42 ended. Search finished for the next optimal point.\n",
            "Time taken: 174.5020\n",
            "Function value obtained: -0.6527\n",
            "Current minimum: -0.6530\n",
            "Iteration No: 43 started. Searching for the next optimal point.\n"
          ],
          "name": "stdout"
        },
        {
          "output_type": "stream",
          "text": [
            "/usr/local/lib/python3.6/dist-packages/skopt/optimizer/optimizer.py:409: UserWarning: The objective has been evaluated at this point before.\n",
            "  warnings.warn(\"The objective has been evaluated \"\n",
            "/usr/local/lib/python3.6/dist-packages/sklearn/linear_model/_sag.py:330: ConvergenceWarning: The max_iter was reached which means the coef_ did not converge\n",
            "  \"the coef_ did not converge\", ConvergenceWarning)\n"
          ],
          "name": "stderr"
        },
        {
          "output_type": "stream",
          "text": [
            "Iteration No: 43 ended. Search finished for the next optimal point.\n",
            "Time taken: 173.7298\n",
            "Function value obtained: -0.6527\n",
            "Current minimum: -0.6530\n",
            "Iteration No: 44 started. Searching for the next optimal point.\n"
          ],
          "name": "stdout"
        },
        {
          "output_type": "stream",
          "text": [
            "/usr/local/lib/python3.6/dist-packages/skopt/optimizer/optimizer.py:409: UserWarning: The objective has been evaluated at this point before.\n",
            "  warnings.warn(\"The objective has been evaluated \"\n",
            "/usr/local/lib/python3.6/dist-packages/sklearn/linear_model/_logistic.py:1505: UserWarning: Setting penalty='none' will ignore the C and l1_ratio parameters\n",
            "  \"Setting penalty='none' will ignore the C and l1_ratio \"\n",
            "/usr/local/lib/python3.6/dist-packages/sklearn/linear_model/_sag.py:330: ConvergenceWarning: The max_iter was reached which means the coef_ did not converge\n",
            "  \"the coef_ did not converge\", ConvergenceWarning)\n"
          ],
          "name": "stderr"
        },
        {
          "output_type": "stream",
          "text": [
            "Iteration No: 44 ended. Search finished for the next optimal point.\n",
            "Time taken: 175.1871\n",
            "Function value obtained: -0.6527\n",
            "Current minimum: -0.6530\n",
            "Iteration No: 45 started. Searching for the next optimal point.\n"
          ],
          "name": "stdout"
        },
        {
          "output_type": "stream",
          "text": [
            "/usr/local/lib/python3.6/dist-packages/skopt/optimizer/optimizer.py:409: UserWarning: The objective has been evaluated at this point before.\n",
            "  warnings.warn(\"The objective has been evaluated \"\n"
          ],
          "name": "stderr"
        },
        {
          "output_type": "stream",
          "text": [
            "Iteration No: 45 ended. Search finished for the next optimal point.\n",
            "Time taken: 11.6755\n",
            "Function value obtained: -0.6197\n",
            "Current minimum: -0.6530\n",
            "Iteration No: 46 started. Searching for the next optimal point.\n"
          ],
          "name": "stdout"
        },
        {
          "output_type": "stream",
          "text": [
            "/usr/local/lib/python3.6/dist-packages/skopt/optimizer/optimizer.py:409: UserWarning: The objective has been evaluated at this point before.\n",
            "  warnings.warn(\"The objective has been evaluated \"\n",
            "/usr/local/lib/python3.6/dist-packages/sklearn/linear_model/_logistic.py:1505: UserWarning: Setting penalty='none' will ignore the C and l1_ratio parameters\n",
            "  \"Setting penalty='none' will ignore the C and l1_ratio \"\n",
            "/usr/local/lib/python3.6/dist-packages/sklearn/linear_model/_sag.py:330: ConvergenceWarning: The max_iter was reached which means the coef_ did not converge\n",
            "  \"the coef_ did not converge\", ConvergenceWarning)\n"
          ],
          "name": "stderr"
        },
        {
          "output_type": "stream",
          "text": [
            "Iteration No: 46 ended. Search finished for the next optimal point.\n",
            "Time taken: 175.2520\n",
            "Function value obtained: -0.6527\n",
            "Current minimum: -0.6530\n",
            "Iteration No: 47 started. Searching for the next optimal point.\n"
          ],
          "name": "stdout"
        },
        {
          "output_type": "stream",
          "text": [
            "/usr/local/lib/python3.6/dist-packages/skopt/optimizer/optimizer.py:409: UserWarning: The objective has been evaluated at this point before.\n",
            "  warnings.warn(\"The objective has been evaluated \"\n",
            "/usr/local/lib/python3.6/dist-packages/sklearn/linear_model/_sag.py:330: ConvergenceWarning: The max_iter was reached which means the coef_ did not converge\n",
            "  \"the coef_ did not converge\", ConvergenceWarning)\n"
          ],
          "name": "stderr"
        },
        {
          "output_type": "stream",
          "text": [
            "Iteration No: 47 ended. Search finished for the next optimal point.\n",
            "Time taken: 174.2174\n",
            "Function value obtained: -0.6527\n",
            "Current minimum: -0.6530\n",
            "Iteration No: 48 started. Searching for the next optimal point.\n"
          ],
          "name": "stdout"
        },
        {
          "output_type": "stream",
          "text": [
            "/usr/local/lib/python3.6/dist-packages/skopt/optimizer/optimizer.py:409: UserWarning: The objective has been evaluated at this point before.\n",
            "  warnings.warn(\"The objective has been evaluated \"\n",
            "/usr/local/lib/python3.6/dist-packages/sklearn/linear_model/_sag.py:330: ConvergenceWarning: The max_iter was reached which means the coef_ did not converge\n",
            "  \"the coef_ did not converge\", ConvergenceWarning)\n"
          ],
          "name": "stderr"
        },
        {
          "output_type": "stream",
          "text": [
            "Iteration No: 48 ended. Search finished for the next optimal point.\n",
            "Time taken: 175.5086\n",
            "Function value obtained: -0.6527\n",
            "Current minimum: -0.6530\n",
            "Iteration No: 49 started. Searching for the next optimal point.\n"
          ],
          "name": "stdout"
        },
        {
          "output_type": "stream",
          "text": [
            "/usr/local/lib/python3.6/dist-packages/sklearn/linear_model/_sag.py:330: ConvergenceWarning: The max_iter was reached which means the coef_ did not converge\n",
            "  \"the coef_ did not converge\", ConvergenceWarning)\n"
          ],
          "name": "stderr"
        },
        {
          "output_type": "stream",
          "text": [
            "Iteration No: 49 ended. Search finished for the next optimal point.\n",
            "Time taken: 173.0237\n",
            "Function value obtained: -0.6525\n",
            "Current minimum: -0.6530\n",
            "Iteration No: 50 started. Searching for the next optimal point.\n",
            "Iteration No: 50 ended. Search finished for the next optimal point.\n",
            "Time taken: 171.1226\n",
            "Function value obtained: -0.6507\n",
            "Current minimum: -0.6530\n",
            "Maximimum F_Beta found: 0.65302\n",
            "Optimal parameters:\n",
            "penalty: none\n",
            "C: 0.01\n",
            "max_iter: 100000\n"
          ],
          "name": "stdout"
        },
        {
          "output_type": "display_data",
          "data": {
            "image/png": "[encoded data removed]",
            "text/plain": [
              "<Figure size 432x288 with 1 Axes>"
            ]
          },
          "metadata": {
            "tags": [],
            "needs_background": "light"
          }
        }
      ]
    },
    {
      "cell_type": "markdown",
      "metadata": {
        "id": "sVv1UYHs9b9T",
        "colab_type": "text"
      },
      "source": [
        "# Decision Tree"
      ]
    },
    {
      "cell_type": "code",
      "metadata": {
        "id": "UWTG0Yxt9dRj",
        "colab_type": "code",
        "colab": {
          "base_uri": "https://localhost:8080/",
          "height": 1000
        },
        "outputId": "11dc6c2d-1bde-49ad-921e-5579acb46e20"
      },
      "source": [
        "# Bayesian Optimization\n",
        "num_thread=50\n",
        "params = ['min_samples_split', 'min_samples_leaf', 'max_features']\n",
        "\n",
        "#for model include item_Features\n",
        "def objective(params):\n",
        "    # unpack\n",
        "    min_samples_split, min_samples_leaf, max_features = params\n",
        "    \n",
        "    model_iii = DecisionTreeClassifier(min_samples_split=min_samples_split, min_samples_leaf=min_samples_leaf, max_features=max_features, random_state=60616)\n",
        "    model_iii.fit(X_train, y_train)\n",
        "    \n",
        "    y_pred = model_iii.predict(X_test)\n",
        "    fbeta = fbeta_score(y_test, y_pred, beta=0.5, average='weighted')\n",
        "\n",
        "    out = -fbeta\n",
        "    # Handle some numerical issue going on\n",
        "    if np.abs(out + 1) < 0.01 or out < -1.0:\n",
        "        return 0.0\n",
        "    else:\n",
        "        return out\n",
        "\n",
        "space = [(5, 10, 15, 20, 25, 30, 35),\n",
        "         (2, 6, 10, 14, 18, 22, 26, 30),\n",
        "         ('auto', 'sqrt', 'log2'),\n",
        "        ]\n",
        "\n",
        "try:\n",
        "    res_fm = forest_minimize(objective, space, n_calls=50,\n",
        "                     random_state=60616,base_estimator= 'RF',acq_func='PI',\n",
        "                     verbose=True, n_jobs=num_thread)\n",
        "except ValueError:\n",
        "    print('Forest diverged, random search intialized')\n",
        "    res_fm = dummy_minimize(objective, space, n_calls=30,\n",
        "         random_state=60616,\n",
        "         verbose=True)\n",
        "\n",
        "print('Maximimum F_Beta found: {:6.5f}'.format(-res_fm.fun))\n",
        "print('Optimal parameters:')\n",
        "\n",
        "for (p, x_) in zip(params, res_fm.x):\n",
        "    print('{}: {}'.format(p, x_))\n",
        "from skopt.plots import plot_convergence\n",
        "plot_convergence(res_fm);"
      ],
      "execution_count": null,
      "outputs": [
        {
          "output_type": "stream",
          "text": [
            "Iteration No: 1 started. Evaluating function at random point.\n",
            "Iteration No: 1 ended. Evaluation done at random point.\n",
            "Time taken: 0.1113\n",
            "Function value obtained: -0.6581\n",
            "Current minimum: -0.6581\n",
            "Iteration No: 2 started. Evaluating function at random point.\n",
            "Iteration No: 2 ended. Evaluation done at random point.\n",
            "Time taken: 0.0893\n",
            "Function value obtained: -0.5973\n",
            "Current minimum: -0.6581\n",
            "Iteration No: 3 started. Evaluating function at random point.\n",
            "Iteration No: 3 ended. Evaluation done at random point.\n",
            "Time taken: 0.1017\n",
            "Function value obtained: -0.6416\n",
            "Current minimum: -0.6581\n",
            "Iteration No: 4 started. Evaluating function at random point.\n",
            "Iteration No: 4 ended. Evaluation done at random point.\n",
            "Time taken: 0.0858\n",
            "Function value obtained: -0.6323\n",
            "Current minimum: -0.6581\n",
            "Iteration No: 5 started. Evaluating function at random point.\n",
            "Iteration No: 5 ended. Evaluation done at random point.\n",
            "Time taken: 0.1218\n",
            "Function value obtained: -0.7601\n",
            "Current minimum: -0.7601\n",
            "Iteration No: 6 started. Evaluating function at random point.\n",
            "Iteration No: 6 ended. Evaluation done at random point.\n",
            "Time taken: 0.0980\n",
            "Function value obtained: -0.6581\n",
            "Current minimum: -0.7601\n",
            "Iteration No: 7 started. Evaluating function at random point.\n",
            "Iteration No: 7 ended. Evaluation done at random point.\n",
            "Time taken: 0.1190\n",
            "Function value obtained: -0.7396\n",
            "Current minimum: -0.7601\n",
            "Iteration No: 8 started. Evaluating function at random point.\n",
            "Iteration No: 8 ended. Evaluation done at random point.\n",
            "Time taken: 0.1135\n",
            "Function value obtained: -0.6786\n",
            "Current minimum: -0.7601\n",
            "Iteration No: 9 started. Evaluating function at random point.\n",
            "Iteration No: 9 ended. Evaluation done at random point.\n",
            "Time taken: 0.0862\n",
            "Function value obtained: -0.5748\n",
            "Current minimum: -0.7601\n",
            "Iteration No: 10 started. Evaluating function at random point.\n",
            "Iteration No: 10 ended. Evaluation done at random point.\n",
            "Time taken: 0.4946\n",
            "Function value obtained: -0.5847\n",
            "Current minimum: -0.7601\n",
            "Iteration No: 11 started. Searching for the next optimal point.\n",
            "Iteration No: 11 ended. Search finished for the next optimal point.\n",
            "Time taken: 0.4148\n",
            "Function value obtained: -0.6786\n",
            "Current minimum: -0.7601\n",
            "Iteration No: 12 started. Searching for the next optimal point.\n"
          ],
          "name": "stdout"
        },
        {
          "output_type": "stream",
          "text": [
            "/usr/local/lib/python3.6/dist-packages/skopt/optimizer/optimizer.py:409: UserWarning: The objective has been evaluated at this point before.\n",
            "  warnings.warn(\"The objective has been evaluated \"\n"
          ],
          "name": "stderr"
        },
        {
          "output_type": "stream",
          "text": [
            "Iteration No: 12 ended. Search finished for the next optimal point.\n",
            "Time taken: 0.4261\n",
            "Function value obtained: -0.6786\n",
            "Current minimum: -0.7601\n",
            "Iteration No: 13 started. Searching for the next optimal point.\n",
            "Iteration No: 13 ended. Search finished for the next optimal point.\n",
            "Time taken: 0.3956\n",
            "Function value obtained: -0.6416\n",
            "Current minimum: -0.7601\n",
            "Iteration No: 14 started. Searching for the next optimal point.\n",
            "Iteration No: 14 ended. Search finished for the next optimal point.\n",
            "Time taken: 0.4205\n",
            "Function value obtained: -0.7353\n",
            "Current minimum: -0.7601\n",
            "Iteration No: 15 started. Searching for the next optimal point.\n",
            "Iteration No: 15 ended. Search finished for the next optimal point.\n",
            "Time taken: 0.4119\n",
            "Function value obtained: -0.6416\n",
            "Current minimum: -0.7601\n",
            "Iteration No: 16 started. Searching for the next optimal point.\n",
            "Iteration No: 16 ended. Search finished for the next optimal point.\n",
            "Time taken: 0.4032\n",
            "Function value obtained: -0.6581\n",
            "Current minimum: -0.7601\n",
            "Iteration No: 17 started. Searching for the next optimal point.\n",
            "Iteration No: 17 ended. Search finished for the next optimal point.\n",
            "Time taken: 0.4216\n",
            "Function value obtained: -0.7601\n",
            "Current minimum: -0.7601\n",
            "Iteration No: 18 started. Searching for the next optimal point.\n",
            "Iteration No: 18 ended. Search finished for the next optimal point.\n",
            "Time taken: 0.4135\n",
            "Function value obtained: -0.7290\n",
            "Current minimum: -0.7601\n",
            "Iteration No: 19 started. Searching for the next optimal point.\n"
          ],
          "name": "stdout"
        },
        {
          "output_type": "stream",
          "text": [
            "/usr/local/lib/python3.6/dist-packages/skopt/optimizer/optimizer.py:409: UserWarning: The objective has been evaluated at this point before.\n",
            "  warnings.warn(\"The objective has been evaluated \"\n"
          ],
          "name": "stderr"
        },
        {
          "output_type": "stream",
          "text": [
            "Iteration No: 19 ended. Search finished for the next optimal point.\n",
            "Time taken: 0.4269\n",
            "Function value obtained: -0.7290\n",
            "Current minimum: -0.7601\n",
            "Iteration No: 20 started. Searching for the next optimal point.\n"
          ],
          "name": "stdout"
        },
        {
          "output_type": "stream",
          "text": [
            "/usr/local/lib/python3.6/dist-packages/skopt/optimizer/optimizer.py:409: UserWarning: The objective has been evaluated at this point before.\n",
            "  warnings.warn(\"The objective has been evaluated \"\n"
          ],
          "name": "stderr"
        },
        {
          "output_type": "stream",
          "text": [
            "Iteration No: 20 ended. Search finished for the next optimal point.\n",
            "Time taken: 0.5018\n",
            "Function value obtained: -0.7290\n",
            "Current minimum: -0.7601\n",
            "Iteration No: 21 started. Searching for the next optimal point.\n",
            "Iteration No: 21 ended. Search finished for the next optimal point.\n",
            "Time taken: 0.4211\n",
            "Function value obtained: -0.6934\n",
            "Current minimum: -0.7601\n",
            "Iteration No: 22 started. Searching for the next optimal point.\n",
            "Iteration No: 22 ended. Search finished for the next optimal point.\n",
            "Time taken: 0.4196\n",
            "Function value obtained: -0.7290\n",
            "Current minimum: -0.7601\n",
            "Iteration No: 23 started. Searching for the next optimal point.\n"
          ],
          "name": "stdout"
        },
        {
          "output_type": "stream",
          "text": [
            "/usr/local/lib/python3.6/dist-packages/skopt/optimizer/optimizer.py:409: UserWarning: The objective has been evaluated at this point before.\n",
            "  warnings.warn(\"The objective has been evaluated \"\n"
          ],
          "name": "stderr"
        },
        {
          "output_type": "stream",
          "text": [
            "Iteration No: 23 ended. Search finished for the next optimal point.\n",
            "Time taken: 0.4255\n",
            "Function value obtained: -0.7290\n",
            "Current minimum: -0.7601\n",
            "Iteration No: 24 started. Searching for the next optimal point.\n"
          ],
          "name": "stdout"
        },
        {
          "output_type": "stream",
          "text": [
            "/usr/local/lib/python3.6/dist-packages/skopt/optimizer/optimizer.py:409: UserWarning: The objective has been evaluated at this point before.\n",
            "  warnings.warn(\"The objective has been evaluated \"\n"
          ],
          "name": "stderr"
        },
        {
          "output_type": "stream",
          "text": [
            "Iteration No: 24 ended. Search finished for the next optimal point.\n",
            "Time taken: 0.4267\n",
            "Function value obtained: -0.7290\n",
            "Current minimum: -0.7601\n",
            "Iteration No: 25 started. Searching for the next optimal point.\n",
            "Iteration No: 25 ended. Search finished for the next optimal point.\n",
            "Time taken: 0.4363\n",
            "Function value obtained: -0.7396\n",
            "Current minimum: -0.7601\n",
            "Iteration No: 26 started. Searching for the next optimal point.\n",
            "Iteration No: 26 ended. Search finished for the next optimal point.\n",
            "Time taken: 0.4272\n",
            "Function value obtained: -0.7396\n",
            "Current minimum: -0.7601\n",
            "Iteration No: 27 started. Searching for the next optimal point.\n",
            "Iteration No: 27 ended. Search finished for the next optimal point.\n",
            "Time taken: 0.4044\n",
            "Function value obtained: -0.6288\n",
            "Current minimum: -0.7601\n",
            "Iteration No: 28 started. Searching for the next optimal point.\n",
            "Iteration No: 28 ended. Search finished for the next optimal point.\n",
            "Time taken: 0.4392\n",
            "Function value obtained: -0.7396\n",
            "Current minimum: -0.7601\n",
            "Iteration No: 29 started. Searching for the next optimal point.\n"
          ],
          "name": "stdout"
        },
        {
          "output_type": "stream",
          "text": [
            "/usr/local/lib/python3.6/dist-packages/skopt/optimizer/optimizer.py:409: UserWarning: The objective has been evaluated at this point before.\n",
            "  warnings.warn(\"The objective has been evaluated \"\n"
          ],
          "name": "stderr"
        },
        {
          "output_type": "stream",
          "text": [
            "Iteration No: 29 ended. Search finished for the next optimal point.\n",
            "Time taken: 0.4499\n",
            "Function value obtained: -0.7601\n",
            "Current minimum: -0.7601\n",
            "Iteration No: 30 started. Searching for the next optimal point.\n"
          ],
          "name": "stdout"
        },
        {
          "output_type": "stream",
          "text": [
            "/usr/local/lib/python3.6/dist-packages/skopt/optimizer/optimizer.py:409: UserWarning: The objective has been evaluated at this point before.\n",
            "  warnings.warn(\"The objective has been evaluated \"\n"
          ],
          "name": "stderr"
        },
        {
          "output_type": "stream",
          "text": [
            "Iteration No: 30 ended. Search finished for the next optimal point.\n",
            "Time taken: 0.5236\n",
            "Function value obtained: -0.7601\n",
            "Current minimum: -0.7601\n",
            "Iteration No: 31 started. Searching for the next optimal point.\n"
          ],
          "name": "stdout"
        },
        {
          "output_type": "stream",
          "text": [
            "/usr/local/lib/python3.6/dist-packages/skopt/optimizer/optimizer.py:409: UserWarning: The objective has been evaluated at this point before.\n",
            "  warnings.warn(\"The objective has been evaluated \"\n"
          ],
          "name": "stderr"
        },
        {
          "output_type": "stream",
          "text": [
            "Iteration No: 31 ended. Search finished for the next optimal point.\n",
            "Time taken: 0.4554\n",
            "Function value obtained: -0.7601\n",
            "Current minimum: -0.7601\n",
            "Iteration No: 32 started. Searching for the next optimal point.\n"
          ],
          "name": "stdout"
        },
        {
          "output_type": "stream",
          "text": [
            "/usr/local/lib/python3.6/dist-packages/skopt/optimizer/optimizer.py:409: UserWarning: The objective has been evaluated at this point before.\n",
            "  warnings.warn(\"The objective has been evaluated \"\n"
          ],
          "name": "stderr"
        },
        {
          "output_type": "stream",
          "text": [
            "Iteration No: 32 ended. Search finished for the next optimal point.\n",
            "Time taken: 0.4552\n",
            "Function value obtained: -0.7601\n",
            "Current minimum: -0.7601\n",
            "Iteration No: 33 started. Searching for the next optimal point.\n",
            "Iteration No: 33 ended. Search finished for the next optimal point.\n",
            "Time taken: 0.4633\n",
            "Function value obtained: -0.8217\n",
            "Current minimum: -0.8217\n",
            "Iteration No: 34 started. Searching for the next optimal point.\n",
            "Iteration No: 34 ended. Search finished for the next optimal point.\n",
            "Time taken: 0.4202\n",
            "Function value obtained: -0.7111\n",
            "Current minimum: -0.8217\n",
            "Iteration No: 35 started. Searching for the next optimal point.\n"
          ],
          "name": "stdout"
        },
        {
          "output_type": "stream",
          "text": [
            "/usr/local/lib/python3.6/dist-packages/skopt/optimizer/optimizer.py:409: UserWarning: The objective has been evaluated at this point before.\n",
            "  warnings.warn(\"The objective has been evaluated \"\n"
          ],
          "name": "stderr"
        },
        {
          "output_type": "stream",
          "text": [
            "Iteration No: 35 ended. Search finished for the next optimal point.\n",
            "Time taken: 0.4165\n",
            "Function value obtained: -0.7111\n",
            "Current minimum: -0.8217\n",
            "Iteration No: 36 started. Searching for the next optimal point.\n"
          ],
          "name": "stdout"
        },
        {
          "output_type": "stream",
          "text": [
            "/usr/local/lib/python3.6/dist-packages/skopt/optimizer/optimizer.py:409: UserWarning: The objective has been evaluated at this point before.\n",
            "  warnings.warn(\"The objective has been evaluated \"\n"
          ],
          "name": "stderr"
        },
        {
          "output_type": "stream",
          "text": [
            "Iteration No: 36 ended. Search finished for the next optimal point.\n",
            "Time taken: 0.4439\n",
            "Function value obtained: -0.7111\n",
            "Current minimum: -0.8217\n",
            "Iteration No: 37 started. Searching for the next optimal point.\n",
            "Iteration No: 37 ended. Search finished for the next optimal point.\n",
            "Time taken: 0.4535\n",
            "Function value obtained: -0.7769\n",
            "Current minimum: -0.8217\n",
            "Iteration No: 38 started. Searching for the next optimal point.\n",
            "Iteration No: 38 ended. Search finished for the next optimal point.\n",
            "Time taken: 0.4516\n",
            "Function value obtained: -0.8036\n",
            "Current minimum: -0.8217\n",
            "Iteration No: 39 started. Searching for the next optimal point.\n",
            "Iteration No: 39 ended. Search finished for the next optimal point.\n",
            "Time taken: 0.5188\n",
            "Function value obtained: -0.7919\n",
            "Current minimum: -0.8217\n",
            "Iteration No: 40 started. Searching for the next optimal point.\n",
            "Iteration No: 40 ended. Search finished for the next optimal point.\n",
            "Time taken: 0.4275\n",
            "Function value obtained: -0.7279\n",
            "Current minimum: -0.8217\n",
            "Iteration No: 41 started. Searching for the next optimal point.\n",
            "Iteration No: 41 ended. Search finished for the next optimal point.\n",
            "Time taken: 0.4571\n",
            "Function value obtained: -0.8217\n",
            "Current minimum: -0.8217\n",
            "Iteration No: 42 started. Searching for the next optimal point.\n",
            "Iteration No: 42 ended. Search finished for the next optimal point.\n",
            "Time taken: 0.4674\n",
            "Function value obtained: -0.8036\n",
            "Current minimum: -0.8217\n",
            "Iteration No: 43 started. Searching for the next optimal point.\n",
            "Iteration No: 43 ended. Search finished for the next optimal point.\n",
            "Time taken: 0.4478\n",
            "Function value obtained: -0.7769\n",
            "Current minimum: -0.8217\n",
            "Iteration No: 44 started. Searching for the next optimal point.\n"
          ],
          "name": "stdout"
        },
        {
          "output_type": "stream",
          "text": [
            "/usr/local/lib/python3.6/dist-packages/skopt/optimizer/optimizer.py:409: UserWarning: The objective has been evaluated at this point before.\n",
            "  warnings.warn(\"The objective has been evaluated \"\n"
          ],
          "name": "stderr"
        },
        {
          "output_type": "stream",
          "text": [
            "Iteration No: 44 ended. Search finished for the next optimal point.\n",
            "Time taken: 0.4558\n",
            "Function value obtained: -0.8036\n",
            "Current minimum: -0.8217\n",
            "Iteration No: 45 started. Searching for the next optimal point.\n",
            "Iteration No: 45 ended. Search finished for the next optimal point.\n",
            "Time taken: 0.4356\n",
            "Function value obtained: -0.7403\n",
            "Current minimum: -0.8217\n",
            "Iteration No: 46 started. Searching for the next optimal point.\n"
          ],
          "name": "stdout"
        },
        {
          "output_type": "stream",
          "text": [
            "/usr/local/lib/python3.6/dist-packages/skopt/optimizer/optimizer.py:409: UserWarning: The objective has been evaluated at this point before.\n",
            "  warnings.warn(\"The objective has been evaluated \"\n"
          ],
          "name": "stderr"
        },
        {
          "output_type": "stream",
          "text": [
            "Iteration No: 46 ended. Search finished for the next optimal point.\n",
            "Time taken: 0.4643\n",
            "Function value obtained: -0.7769\n",
            "Current minimum: -0.8217\n",
            "Iteration No: 47 started. Searching for the next optimal point.\n",
            "Iteration No: 47 ended. Search finished for the next optimal point.\n",
            "Time taken: 0.4489\n",
            "Function value obtained: -0.7635\n",
            "Current minimum: -0.8217\n",
            "Iteration No: 48 started. Searching for the next optimal point.\n"
          ],
          "name": "stdout"
        },
        {
          "output_type": "stream",
          "text": [
            "/usr/local/lib/python3.6/dist-packages/skopt/optimizer/optimizer.py:409: UserWarning: The objective has been evaluated at this point before.\n",
            "  warnings.warn(\"The objective has been evaluated \"\n"
          ],
          "name": "stderr"
        },
        {
          "output_type": "stream",
          "text": [
            "Iteration No: 48 ended. Search finished for the next optimal point.\n",
            "Time taken: 0.4511\n",
            "Function value obtained: -0.8036\n",
            "Current minimum: -0.8217\n",
            "Iteration No: 49 started. Searching for the next optimal point.\n"
          ],
          "name": "stdout"
        },
        {
          "output_type": "stream",
          "text": [
            "/usr/local/lib/python3.6/dist-packages/skopt/optimizer/optimizer.py:409: UserWarning: The objective has been evaluated at this point before.\n",
            "  warnings.warn(\"The objective has been evaluated \"\n"
          ],
          "name": "stderr"
        },
        {
          "output_type": "stream",
          "text": [
            "Iteration No: 49 ended. Search finished for the next optimal point.\n",
            "Time taken: 0.5443\n",
            "Function value obtained: -0.8217\n",
            "Current minimum: -0.8217\n",
            "Iteration No: 50 started. Searching for the next optimal point.\n"
          ],
          "name": "stdout"
        },
        {
          "output_type": "stream",
          "text": [
            "/usr/local/lib/python3.6/dist-packages/skopt/optimizer/optimizer.py:409: UserWarning: The objective has been evaluated at this point before.\n",
            "  warnings.warn(\"The objective has been evaluated \"\n"
          ],
          "name": "stderr"
        },
        {
          "output_type": "stream",
          "text": [
            "Iteration No: 50 ended. Search finished for the next optimal point.\n",
            "Time taken: 0.4642\n",
            "Function value obtained: -0.8217\n",
            "Current minimum: -0.8217\n",
            "Maximimum F_Beta found: 0.82174\n",
            "Optimal parameters:\n",
            "min_samples_split: 5\n",
            "min_samples_leaf: 2\n",
            "max_features: sqrt\n"
          ],
          "name": "stdout"
        },
        {
          "output_type": "display_data",
          "data": {
            "image/png": "[encoded data removed]",
            "text/plain": [
              "<Figure size 432x288 with 1 Axes>"
            ]
          },
          "metadata": {
            "tags": [],
            "needs_background": "light"
          }
        }
      ]
    },
    {
      "cell_type": "markdown",
      "metadata": {
        "id": "7hqG4_SDDaHR",
        "colab_type": "text"
      },
      "source": [
        "# Random Forest Classifier"
      ]
    },
    {
      "cell_type": "code",
      "metadata": {
        "id": "FC95UcRGB2qp",
        "colab_type": "code",
        "colab": {
          "base_uri": "https://localhost:8080/",
          "height": 1000
        },
        "outputId": "15b394f1-7c32-4ca5-d177-b13804d0bb3a"
      },
      "source": [
        "# Bayesian Optimization\n",
        "num_thread=50\n",
        "params = ['n_estimators', 'min_samples_split', 'min_samples_leaf', 'max_features']\n",
        "\n",
        "#for model include item_Features\n",
        "def objective(params):\n",
        "    # unpack\n",
        "    n_estimators, min_samples_split, min_samples_leaf, max_features = params\n",
        "    \n",
        "    model_iii = RandomForestClassifier(n_estimators=n_estimators, min_samples_split=min_samples_split, min_samples_leaf=min_samples_leaf, max_features=max_features, random_state=60616)\n",
        "    model_iii.fit(X_train, y_train)\n",
        "    \n",
        "    y_pred = model_iii.predict(X_test)\n",
        "    fbeta = fbeta_score(y_test, y_pred, beta=0.5, average='weighted')\n",
        "\n",
        "    out = -fbeta\n",
        "    # Handle some numerical issue going on\n",
        "    if np.abs(out + 1) < 0.01 or out < -1.0:\n",
        "        return 0.0\n",
        "    else:\n",
        "        return out\n",
        "\n",
        "space = [(20, 40, 60, 80 , 100, 120, 140, 160),\n",
        "         (5, 10, 15, 20, 25, 30, 35),\n",
        "         (2, 6, 10, 14, 18, 22, 26, 30),\n",
        "         ('auto', 'sqrt', 'log2'),\n",
        "        ]\n",
        "\n",
        "try:\n",
        "    res_fm = forest_minimize(objective, space, n_calls=50,\n",
        "                     random_state=60616,base_estimator= 'RF',acq_func='PI',\n",
        "                     verbose=True, n_jobs=num_thread)\n",
        "except ValueError:\n",
        "    print('Forest diverged, random search intialized')\n",
        "    res_fm = dummy_minimize(objective, space, n_calls=30,\n",
        "         random_state=60616,\n",
        "         verbose=True)\n",
        "\n",
        "print('Maximimum F_Beta found: {:6.5f}'.format(-res_fm.fun))\n",
        "print('Optimal parameters:')\n",
        "\n",
        "for (p, x_) in zip(params, res_fm.x):\n",
        "    print('{}: {}'.format(p, x_))\n",
        "from skopt.plots import plot_convergence\n",
        "plot_convergence(res_fm);"
      ],
      "execution_count": null,
      "outputs": [
        {
          "output_type": "stream",
          "text": [
            "Iteration No: 1 started. Evaluating function at random point.\n",
            "Iteration No: 1 ended. Evaluation done at random point.\n",
            "Time taken: 2.3101\n",
            "Function value obtained: -0.8329\n",
            "Current minimum: -0.8329\n",
            "Iteration No: 2 started. Evaluating function at random point.\n",
            "Iteration No: 2 ended. Evaluation done at random point.\n",
            "Time taken: 4.8265\n",
            "Function value obtained: -0.8572\n",
            "Current minimum: -0.8572\n",
            "Iteration No: 3 started. Evaluating function at random point.\n",
            "Iteration No: 3 ended. Evaluation done at random point.\n",
            "Time taken: 0.8850\n",
            "Function value obtained: -0.7872\n",
            "Current minimum: -0.8572\n",
            "Iteration No: 4 started. Evaluating function at random point.\n",
            "Iteration No: 4 ended. Evaluation done at random point.\n",
            "Time taken: 6.0477\n",
            "Function value obtained: -0.8434\n",
            "Current minimum: -0.8572\n",
            "Iteration No: 5 started. Evaluating function at random point.\n",
            "Iteration No: 5 ended. Evaluation done at random point.\n",
            "Time taken: 10.8252\n",
            "Function value obtained: -0.8981\n",
            "Current minimum: -0.8981\n",
            "Iteration No: 6 started. Evaluating function at random point.\n",
            "Iteration No: 6 ended. Evaluation done at random point.\n",
            "Time taken: 4.4028\n",
            "Function value obtained: -0.8071\n",
            "Current minimum: -0.8981\n",
            "Iteration No: 7 started. Evaluating function at random point.\n",
            "Iteration No: 7 ended. Evaluation done at random point.\n",
            "Time taken: 7.1062\n",
            "Function value obtained: -0.7741\n",
            "Current minimum: -0.8981\n",
            "Iteration No: 8 started. Evaluating function at random point.\n",
            "Iteration No: 8 ended. Evaluation done at random point.\n",
            "Time taken: 7.1261\n",
            "Function value obtained: -0.8520\n",
            "Current minimum: -0.8981\n",
            "Iteration No: 9 started. Evaluating function at random point.\n",
            "Iteration No: 9 ended. Evaluation done at random point.\n",
            "Time taken: 1.5050\n",
            "Function value obtained: -0.7693\n",
            "Current minimum: -0.8981\n",
            "Iteration No: 10 started. Evaluating function at random point.\n",
            "Iteration No: 10 ended. Evaluation done at random point.\n",
            "Time taken: 3.8581\n",
            "Function value obtained: -0.8601\n",
            "Current minimum: -0.8981\n",
            "Iteration No: 11 started. Searching for the next optimal point.\n",
            "Iteration No: 11 ended. Search finished for the next optimal point.\n",
            "Time taken: 4.0511\n",
            "Function value obtained: -0.8732\n",
            "Current minimum: -0.8981\n",
            "Iteration No: 12 started. Searching for the next optimal point.\n",
            "Iteration No: 12 ended. Search finished for the next optimal point.\n",
            "Time taken: 7.6512\n",
            "Function value obtained: -0.8713\n",
            "Current minimum: -0.8981\n",
            "Iteration No: 13 started. Searching for the next optimal point.\n",
            "Iteration No: 13 ended. Search finished for the next optimal point.\n",
            "Time taken: 4.6060\n",
            "Function value obtained: -0.7912\n",
            "Current minimum: -0.8981\n",
            "Iteration No: 14 started. Searching for the next optimal point.\n",
            "Iteration No: 14 ended. Search finished for the next optimal point.\n",
            "Time taken: 8.2552\n",
            "Function value obtained: -0.8904\n",
            "Current minimum: -0.8981\n",
            "Iteration No: 15 started. Searching for the next optimal point.\n",
            "Iteration No: 15 ended. Search finished for the next optimal point.\n",
            "Time taken: 8.2731\n",
            "Function value obtained: -0.8857\n",
            "Current minimum: -0.8981\n",
            "Iteration No: 16 started. Searching for the next optimal point.\n"
          ],
          "name": "stdout"
        },
        {
          "output_type": "stream",
          "text": [
            "/usr/local/lib/python3.6/dist-packages/skopt/optimizer/optimizer.py:409: UserWarning: The objective has been evaluated at this point before.\n",
            "  warnings.warn(\"The objective has been evaluated \"\n"
          ],
          "name": "stderr"
        },
        {
          "output_type": "stream",
          "text": [
            "Iteration No: 16 ended. Search finished for the next optimal point.\n",
            "Time taken: 8.2921\n",
            "Function value obtained: -0.8857\n",
            "Current minimum: -0.8981\n",
            "Iteration No: 17 started. Searching for the next optimal point.\n",
            "Iteration No: 17 ended. Search finished for the next optimal point.\n",
            "Time taken: 7.9872\n",
            "Function value obtained: -0.8765\n",
            "Current minimum: -0.8981\n",
            "Iteration No: 18 started. Searching for the next optimal point.\n",
            "Iteration No: 18 ended. Search finished for the next optimal point.\n",
            "Time taken: 7.7453\n",
            "Function value obtained: -0.8860\n",
            "Current minimum: -0.8981\n",
            "Iteration No: 19 started. Searching for the next optimal point.\n",
            "Iteration No: 19 ended. Search finished for the next optimal point.\n",
            "Time taken: 8.3229\n",
            "Function value obtained: -0.8635\n",
            "Current minimum: -0.8981\n",
            "Iteration No: 20 started. Searching for the next optimal point.\n",
            "Iteration No: 20 ended. Search finished for the next optimal point.\n",
            "Time taken: 7.8685\n",
            "Function value obtained: -0.8755\n",
            "Current minimum: -0.8981\n",
            "Iteration No: 21 started. Searching for the next optimal point.\n",
            "Iteration No: 21 ended. Search finished for the next optimal point.\n",
            "Time taken: 6.2448\n",
            "Function value obtained: -0.8766\n",
            "Current minimum: -0.8981\n",
            "Iteration No: 22 started. Searching for the next optimal point.\n",
            "Iteration No: 22 ended. Search finished for the next optimal point.\n",
            "Time taken: 1.8911\n",
            "Function value obtained: -0.8759\n",
            "Current minimum: -0.8981\n",
            "Iteration No: 23 started. Searching for the next optimal point.\n"
          ],
          "name": "stdout"
        },
        {
          "output_type": "stream",
          "text": [
            "/usr/local/lib/python3.6/dist-packages/skopt/optimizer/optimizer.py:409: UserWarning: The objective has been evaluated at this point before.\n",
            "  warnings.warn(\"The objective has been evaluated \"\n"
          ],
          "name": "stderr"
        },
        {
          "output_type": "stream",
          "text": [
            "Iteration No: 23 ended. Search finished for the next optimal point.\n",
            "Time taken: 6.3200\n",
            "Function value obtained: -0.8766\n",
            "Current minimum: -0.8981\n",
            "Iteration No: 24 started. Searching for the next optimal point.\n",
            "Iteration No: 24 ended. Search finished for the next optimal point.\n",
            "Time taken: 7.7924\n",
            "Function value obtained: -0.8659\n",
            "Current minimum: -0.8981\n",
            "Iteration No: 25 started. Searching for the next optimal point.\n",
            "Iteration No: 25 ended. Search finished for the next optimal point.\n",
            "Time taken: 4.4495\n",
            "Function value obtained: -0.8354\n",
            "Current minimum: -0.8981\n",
            "Iteration No: 26 started. Searching for the next optimal point.\n",
            "Iteration No: 26 ended. Search finished for the next optimal point.\n",
            "Time taken: 6.8621\n",
            "Function value obtained: -0.8756\n",
            "Current minimum: -0.8981\n",
            "Iteration No: 27 started. Searching for the next optimal point.\n",
            "Iteration No: 27 ended. Search finished for the next optimal point.\n",
            "Time taken: 9.1463\n",
            "Function value obtained: -0.8658\n",
            "Current minimum: -0.8981\n",
            "Iteration No: 28 started. Searching for the next optimal point.\n",
            "Iteration No: 28 ended. Search finished for the next optimal point.\n",
            "Time taken: 6.7521\n",
            "Function value obtained: -0.8626\n",
            "Current minimum: -0.8981\n",
            "Iteration No: 29 started. Searching for the next optimal point.\n",
            "Iteration No: 29 ended. Search finished for the next optimal point.\n",
            "Time taken: 10.9345\n",
            "Function value obtained: -0.8644\n",
            "Current minimum: -0.8981\n",
            "Iteration No: 30 started. Searching for the next optimal point.\n",
            "Iteration No: 30 ended. Search finished for the next optimal point.\n",
            "Time taken: 8.0633\n",
            "Function value obtained: -0.8766\n",
            "Current minimum: -0.8981\n",
            "Iteration No: 31 started. Searching for the next optimal point.\n",
            "Iteration No: 31 ended. Search finished for the next optimal point.\n",
            "Time taken: 6.5333\n",
            "Function value obtained: -0.8903\n",
            "Current minimum: -0.8981\n",
            "Iteration No: 32 started. Searching for the next optimal point.\n",
            "Iteration No: 32 ended. Search finished for the next optimal point.\n",
            "Time taken: 5.0792\n",
            "Function value obtained: -0.8838\n",
            "Current minimum: -0.8981\n",
            "Iteration No: 33 started. Searching for the next optimal point.\n",
            "Iteration No: 33 ended. Search finished for the next optimal point.\n",
            "Time taken: 3.5167\n",
            "Function value obtained: -0.8824\n",
            "Current minimum: -0.8981\n",
            "Iteration No: 34 started. Searching for the next optimal point.\n",
            "Iteration No: 34 ended. Search finished for the next optimal point.\n",
            "Time taken: 6.2704\n",
            "Function value obtained: -0.8700\n",
            "Current minimum: -0.8981\n",
            "Iteration No: 35 started. Searching for the next optimal point.\n",
            "Iteration No: 35 ended. Search finished for the next optimal point.\n",
            "Time taken: 7.7472\n",
            "Function value obtained: -0.8712\n",
            "Current minimum: -0.8981\n",
            "Iteration No: 36 started. Searching for the next optimal point.\n",
            "Iteration No: 36 ended. Search finished for the next optimal point.\n",
            "Time taken: 7.5758\n",
            "Function value obtained: -0.8313\n",
            "Current minimum: -0.8981\n",
            "Iteration No: 37 started. Searching for the next optimal point.\n",
            "Iteration No: 37 ended. Search finished for the next optimal point.\n",
            "Time taken: 11.0645\n",
            "Function value obtained: -0.8916\n",
            "Current minimum: -0.8981\n",
            "Iteration No: 38 started. Searching for the next optimal point.\n",
            "Iteration No: 38 ended. Search finished for the next optimal point.\n",
            "Time taken: 7.9696\n",
            "Function value obtained: -0.8788\n",
            "Current minimum: -0.8981\n",
            "Iteration No: 39 started. Searching for the next optimal point.\n",
            "Iteration No: 39 ended. Search finished for the next optimal point.\n",
            "Time taken: 6.1195\n",
            "Function value obtained: -0.8572\n",
            "Current minimum: -0.8981\n",
            "Iteration No: 40 started. Searching for the next optimal point.\n"
          ],
          "name": "stdout"
        },
        {
          "output_type": "stream",
          "text": [
            "/usr/local/lib/python3.6/dist-packages/skopt/optimizer/optimizer.py:409: UserWarning: The objective has been evaluated at this point before.\n",
            "  warnings.warn(\"The objective has been evaluated \"\n"
          ],
          "name": "stderr"
        },
        {
          "output_type": "stream",
          "text": [
            "Iteration No: 40 ended. Search finished for the next optimal point.\n",
            "Time taken: 13.2237\n",
            "Function value obtained: -0.8981\n",
            "Current minimum: -0.8981\n",
            "Iteration No: 41 started. Searching for the next optimal point.\n",
            "Iteration No: 41 ended. Search finished for the next optimal point.\n",
            "Time taken: 13.5981\n",
            "Function value obtained: -0.8986\n",
            "Current minimum: -0.8986\n",
            "Iteration No: 42 started. Searching for the next optimal point.\n",
            "Iteration No: 42 ended. Search finished for the next optimal point.\n",
            "Time taken: 12.8956\n",
            "Function value obtained: -0.8708\n",
            "Current minimum: -0.8986\n",
            "Iteration No: 43 started. Searching for the next optimal point.\n"
          ],
          "name": "stdout"
        },
        {
          "output_type": "stream",
          "text": [
            "/usr/local/lib/python3.6/dist-packages/skopt/optimizer/optimizer.py:409: UserWarning: The objective has been evaluated at this point before.\n",
            "  warnings.warn(\"The objective has been evaluated \"\n"
          ],
          "name": "stderr"
        },
        {
          "output_type": "stream",
          "text": [
            "Iteration No: 43 ended. Search finished for the next optimal point.\n",
            "Time taken: 13.1577\n",
            "Function value obtained: -0.8981\n",
            "Current minimum: -0.8986\n",
            "Iteration No: 44 started. Searching for the next optimal point.\n"
          ],
          "name": "stdout"
        },
        {
          "output_type": "stream",
          "text": [
            "/usr/local/lib/python3.6/dist-packages/skopt/optimizer/optimizer.py:409: UserWarning: The objective has been evaluated at this point before.\n",
            "  warnings.warn(\"The objective has been evaluated \"\n"
          ],
          "name": "stderr"
        },
        {
          "output_type": "stream",
          "text": [
            "Iteration No: 44 ended. Search finished for the next optimal point.\n",
            "Time taken: 13.1428\n",
            "Function value obtained: -0.8981\n",
            "Current minimum: -0.8986\n",
            "Iteration No: 45 started. Searching for the next optimal point.\n",
            "Iteration No: 45 ended. Search finished for the next optimal point.\n",
            "Time taken: 13.2654\n",
            "Function value obtained: -0.8981\n",
            "Current minimum: -0.8986\n",
            "Iteration No: 46 started. Searching for the next optimal point.\n",
            "Iteration No: 46 ended. Search finished for the next optimal point.\n",
            "Time taken: 9.1979\n",
            "Function value obtained: -0.8866\n",
            "Current minimum: -0.8986\n",
            "Iteration No: 47 started. Searching for the next optimal point.\n"
          ],
          "name": "stdout"
        },
        {
          "output_type": "stream",
          "text": [
            "/usr/local/lib/python3.6/dist-packages/skopt/optimizer/optimizer.py:409: UserWarning: The objective has been evaluated at this point before.\n",
            "  warnings.warn(\"The objective has been evaluated \"\n"
          ],
          "name": "stderr"
        },
        {
          "output_type": "stream",
          "text": [
            "Iteration No: 47 ended. Search finished for the next optimal point.\n",
            "Time taken: 9.3312\n",
            "Function value obtained: -0.8866\n",
            "Current minimum: -0.8986\n",
            "Iteration No: 48 started. Searching for the next optimal point.\n"
          ],
          "name": "stdout"
        },
        {
          "output_type": "stream",
          "text": [
            "/usr/local/lib/python3.6/dist-packages/skopt/optimizer/optimizer.py:409: UserWarning: The objective has been evaluated at this point before.\n",
            "  warnings.warn(\"The objective has been evaluated \"\n"
          ],
          "name": "stderr"
        },
        {
          "output_type": "stream",
          "text": [
            "Iteration No: 48 ended. Search finished for the next optimal point.\n",
            "Time taken: 9.6311\n",
            "Function value obtained: -0.8866\n",
            "Current minimum: -0.8986\n",
            "Iteration No: 49 started. Searching for the next optimal point.\n",
            "Iteration No: 49 ended. Search finished for the next optimal point.\n",
            "Time taken: 12.8978\n",
            "Function value obtained: -0.8808\n",
            "Current minimum: -0.8986\n",
            "Iteration No: 50 started. Searching for the next optimal point.\n",
            "Iteration No: 50 ended. Search finished for the next optimal point.\n",
            "Time taken: 6.8549\n",
            "Function value obtained: -0.8972\n",
            "Current minimum: -0.8986\n",
            "Maximimum F_Beta found: 0.89856\n",
            "Optimal parameters:\n",
            "n_estimators: 160\n",
            "min_samples_split: 5\n",
            "min_samples_leaf: 2\n",
            "max_features: auto\n"
          ],
          "name": "stdout"
        },
        {
          "output_type": "display_data",
          "data": {
            "image/png": "[encoded data removed]",
            "text/plain": [
              "<Figure size 432x288 with 1 Axes>"
            ]
          },
          "metadata": {
            "tags": [],
            "needs_background": "light"
          }
        }
      ]
    },
    {
      "cell_type": "markdown",
      "metadata": {
        "id": "Vn2orBSMh7IW",
        "colab_type": "text"
      },
      "source": [
        "# AdaBoostClassifier"
      ]
    },
    {
      "cell_type": "code",
      "metadata": {
        "id": "KXjFKU83WaqW",
        "colab_type": "code",
        "colab": {
          "base_uri": "https://localhost:8080/",
          "height": 1000
        },
        "outputId": "edc0b37f-d604-4787-a592-50c81b2215fd"
      },
      "source": [
        "# Bayesian Optimization\n",
        "num_thread=50\n",
        "params = ['n_estimators', 'algorithm']\n",
        "\n",
        "#for model include item_Features\n",
        "def objective(params):\n",
        "    # unpack\n",
        "    n_estimators, algorithm = params\n",
        "    \n",
        "    model_iii = AdaBoostClassifier(n_estimators=n_estimators, algorithm=algorithm, random_state=60616)\n",
        "    model_iii.fit(X_train, y_train)\n",
        "    \n",
        "    y_pred = model_iii.predict(X_test)\n",
        "    fbeta = fbeta_score(y_test, y_pred, beta=0.5, average='weighted')\n",
        "\n",
        "    out = -fbeta\n",
        "    # Handle some numerical issue going on\n",
        "    if np.abs(out + 1) < 0.01 or out < -1.0:\n",
        "        return 0.0\n",
        "    else:\n",
        "        return out\n",
        "\n",
        "space = [(20, 40, 60, 80 , 100, 120, 140, 160),\n",
        "         ('SAMME', 'SAMME.R'),\n",
        "        ]\n",
        "\n",
        "try:\n",
        "    res_fm = forest_minimize(objective, space, n_calls=50,\n",
        "                     random_state=60616,base_estimator= 'RF',acq_func='PI',\n",
        "                     verbose=True, n_jobs=num_thread)\n",
        "except ValueError:\n",
        "    print('Forest diverged, random search intialized')\n",
        "    res_fm = dummy_minimize(objective, space, n_calls=30,\n",
        "         random_state=60616,\n",
        "         verbose=True)\n",
        "\n",
        "print('Maximimum F_Beta found: {:6.5f}'.format(-res_fm.fun))\n",
        "print('Optimal parameters:')\n",
        "\n",
        "for (p, x_) in zip(params, res_fm.x):\n",
        "    print('{}: {}'.format(p, x_))\n",
        "from skopt.plots import plot_convergence\n",
        "plot_convergence(res_fm);"
      ],
      "execution_count": null,
      "outputs": [
        {
          "output_type": "stream",
          "text": [
            "Iteration No: 1 started. Evaluating function at random point.\n",
            "Iteration No: 1 ended. Evaluation done at random point.\n",
            "Time taken: 7.3661\n",
            "Function value obtained: -0.6005\n",
            "Current minimum: -0.6005\n",
            "Iteration No: 2 started. Evaluating function at random point.\n",
            "Iteration No: 2 ended. Evaluation done at random point.\n",
            "Time taken: 10.3564\n",
            "Function value obtained: -0.5266\n",
            "Current minimum: -0.6005\n",
            "Iteration No: 3 started. Evaluating function at random point.\n",
            "Iteration No: 3 ended. Evaluation done at random point.\n",
            "Time taken: 14.5861\n",
            "Function value obtained: -0.6378\n",
            "Current minimum: -0.6378\n",
            "Iteration No: 4 started. Evaluating function at random point.\n",
            "Iteration No: 4 ended. Evaluation done at random point.\n",
            "Time taken: 7.1740\n",
            "Function value obtained: -0.6005\n",
            "Current minimum: -0.6378\n",
            "Iteration No: 5 started. Evaluating function at random point.\n",
            "Iteration No: 5 ended. Evaluation done at random point.\n",
            "Time taken: 3.5711\n",
            "Function value obtained: -0.5502\n",
            "Current minimum: -0.6378\n",
            "Iteration No: 6 started. Evaluating function at random point.\n",
            "Iteration No: 6 ended. Evaluation done at random point.\n",
            "Time taken: 10.6917\n",
            "Function value obtained: -0.6442\n",
            "Current minimum: -0.6442\n",
            "Iteration No: 7 started. Evaluating function at random point.\n",
            "Iteration No: 7 ended. Evaluation done at random point.\n",
            "Time taken: 23.2357\n",
            "Function value obtained: -0.5662\n",
            "Current minimum: -0.6442\n",
            "Iteration No: 8 started. Evaluating function at random point.\n",
            "Iteration No: 8 ended. Evaluation done at random point.\n",
            "Time taken: 7.1303\n",
            "Function value obtained: -0.6005\n",
            "Current minimum: -0.6442\n",
            "Iteration No: 9 started. Evaluating function at random point.\n",
            "Iteration No: 9 ended. Evaluation done at random point.\n",
            "Time taken: 26.4213\n",
            "Function value obtained: -0.5657\n",
            "Current minimum: -0.6442\n",
            "Iteration No: 10 started. Evaluating function at random point.\n",
            "Iteration No: 10 ended. Evaluation done at random point.\n",
            "Time taken: 3.6975\n",
            "Function value obtained: -0.4901\n",
            "Current minimum: -0.6442\n",
            "Iteration No: 11 started. Searching for the next optimal point.\n",
            "Iteration No: 11 ended. Search finished for the next optimal point.\n",
            "Time taken: 24.9410\n",
            "Function value obtained: -0.5990\n",
            "Current minimum: -0.6442\n",
            "Iteration No: 12 started. Searching for the next optimal point.\n"
          ],
          "name": "stdout"
        },
        {
          "output_type": "stream",
          "text": [
            "/usr/local/lib/python3.6/dist-packages/skopt/optimizer/optimizer.py:409: UserWarning: The objective has been evaluated at this point before.\n",
            "  warnings.warn(\"The objective has been evaluated \"\n"
          ],
          "name": "stderr"
        },
        {
          "output_type": "stream",
          "text": [
            "Iteration No: 12 ended. Search finished for the next optimal point.\n",
            "Time taken: 10.7040\n",
            "Function value obtained: -0.6442\n",
            "Current minimum: -0.6442\n",
            "Iteration No: 13 started. Searching for the next optimal point.\n"
          ],
          "name": "stdout"
        },
        {
          "output_type": "stream",
          "text": [
            "/usr/local/lib/python3.6/dist-packages/skopt/optimizer/optimizer.py:409: UserWarning: The objective has been evaluated at this point before.\n",
            "  warnings.warn(\"The objective has been evaluated \"\n"
          ],
          "name": "stderr"
        },
        {
          "output_type": "stream",
          "text": [
            "Iteration No: 13 ended. Search finished for the next optimal point.\n",
            "Time taken: 10.7707\n",
            "Function value obtained: -0.6442\n",
            "Current minimum: -0.6442\n",
            "Iteration No: 14 started. Searching for the next optimal point.\n"
          ],
          "name": "stdout"
        },
        {
          "output_type": "stream",
          "text": [
            "/usr/local/lib/python3.6/dist-packages/skopt/optimizer/optimizer.py:409: UserWarning: The objective has been evaluated at this point before.\n",
            "  warnings.warn(\"The objective has been evaluated \"\n"
          ],
          "name": "stderr"
        },
        {
          "output_type": "stream",
          "text": [
            "Iteration No: 14 ended. Search finished for the next optimal point.\n",
            "Time taken: 10.8069\n",
            "Function value obtained: -0.6442\n",
            "Current minimum: -0.6442\n",
            "Iteration No: 15 started. Searching for the next optimal point.\n"
          ],
          "name": "stdout"
        },
        {
          "output_type": "stream",
          "text": [
            "/usr/local/lib/python3.6/dist-packages/skopt/optimizer/optimizer.py:409: UserWarning: The objective has been evaluated at this point before.\n",
            "  warnings.warn(\"The objective has been evaluated \"\n"
          ],
          "name": "stderr"
        },
        {
          "output_type": "stream",
          "text": [
            "Iteration No: 15 ended. Search finished for the next optimal point.\n",
            "Time taken: 10.7442\n",
            "Function value obtained: -0.6442\n",
            "Current minimum: -0.6442\n",
            "Iteration No: 16 started. Searching for the next optimal point.\n"
          ],
          "name": "stdout"
        },
        {
          "output_type": "stream",
          "text": [
            "/usr/local/lib/python3.6/dist-packages/skopt/optimizer/optimizer.py:409: UserWarning: The objective has been evaluated at this point before.\n",
            "  warnings.warn(\"The objective has been evaluated \"\n"
          ],
          "name": "stderr"
        },
        {
          "output_type": "stream",
          "text": [
            "Iteration No: 16 ended. Search finished for the next optimal point.\n",
            "Time taken: 10.8559\n",
            "Function value obtained: -0.6442\n",
            "Current minimum: -0.6442\n",
            "Iteration No: 17 started. Searching for the next optimal point.\n"
          ],
          "name": "stdout"
        },
        {
          "output_type": "stream",
          "text": [
            "/usr/local/lib/python3.6/dist-packages/skopt/optimizer/optimizer.py:409: UserWarning: The objective has been evaluated at this point before.\n",
            "  warnings.warn(\"The objective has been evaluated \"\n"
          ],
          "name": "stderr"
        },
        {
          "output_type": "stream",
          "text": [
            "Iteration No: 17 ended. Search finished for the next optimal point.\n",
            "Time taken: 10.8071\n",
            "Function value obtained: -0.6442\n",
            "Current minimum: -0.6442\n",
            "Iteration No: 18 started. Searching for the next optimal point.\n"
          ],
          "name": "stdout"
        },
        {
          "output_type": "stream",
          "text": [
            "/usr/local/lib/python3.6/dist-packages/skopt/optimizer/optimizer.py:409: UserWarning: The objective has been evaluated at this point before.\n",
            "  warnings.warn(\"The objective has been evaluated \"\n"
          ],
          "name": "stderr"
        },
        {
          "output_type": "stream",
          "text": [
            "Iteration No: 18 ended. Search finished for the next optimal point.\n",
            "Time taken: 10.7737\n",
            "Function value obtained: -0.6442\n",
            "Current minimum: -0.6442\n",
            "Iteration No: 19 started. Searching for the next optimal point.\n"
          ],
          "name": "stdout"
        },
        {
          "output_type": "stream",
          "text": [
            "/usr/local/lib/python3.6/dist-packages/skopt/optimizer/optimizer.py:409: UserWarning: The objective has been evaluated at this point before.\n",
            "  warnings.warn(\"The objective has been evaluated \"\n"
          ],
          "name": "stderr"
        },
        {
          "output_type": "stream",
          "text": [
            "Iteration No: 19 ended. Search finished for the next optimal point.\n",
            "Time taken: 10.7992\n",
            "Function value obtained: -0.6442\n",
            "Current minimum: -0.6442\n",
            "Iteration No: 20 started. Searching for the next optimal point.\n"
          ],
          "name": "stdout"
        },
        {
          "output_type": "stream",
          "text": [
            "/usr/local/lib/python3.6/dist-packages/skopt/optimizer/optimizer.py:409: UserWarning: The objective has been evaluated at this point before.\n",
            "  warnings.warn(\"The objective has been evaluated \"\n"
          ],
          "name": "stderr"
        },
        {
          "output_type": "stream",
          "text": [
            "Iteration No: 20 ended. Search finished for the next optimal point.\n",
            "Time taken: 10.8469\n",
            "Function value obtained: -0.6442\n",
            "Current minimum: -0.6442\n",
            "Iteration No: 21 started. Searching for the next optimal point.\n"
          ],
          "name": "stdout"
        },
        {
          "output_type": "stream",
          "text": [
            "/usr/local/lib/python3.6/dist-packages/skopt/optimizer/optimizer.py:409: UserWarning: The objective has been evaluated at this point before.\n",
            "  warnings.warn(\"The objective has been evaluated \"\n"
          ],
          "name": "stderr"
        },
        {
          "output_type": "stream",
          "text": [
            "Iteration No: 21 ended. Search finished for the next optimal point.\n",
            "Time taken: 11.0405\n",
            "Function value obtained: -0.6442\n",
            "Current minimum: -0.6442\n",
            "Iteration No: 22 started. Searching for the next optimal point.\n"
          ],
          "name": "stdout"
        },
        {
          "output_type": "stream",
          "text": [
            "/usr/local/lib/python3.6/dist-packages/skopt/optimizer/optimizer.py:409: UserWarning: The objective has been evaluated at this point before.\n",
            "  warnings.warn(\"The objective has been evaluated \"\n"
          ],
          "name": "stderr"
        },
        {
          "output_type": "stream",
          "text": [
            "Iteration No: 22 ended. Search finished for the next optimal point.\n",
            "Time taken: 10.7924\n",
            "Function value obtained: -0.6442\n",
            "Current minimum: -0.6442\n",
            "Iteration No: 23 started. Searching for the next optimal point.\n"
          ],
          "name": "stdout"
        },
        {
          "output_type": "stream",
          "text": [
            "/usr/local/lib/python3.6/dist-packages/skopt/optimizer/optimizer.py:409: UserWarning: The objective has been evaluated at this point before.\n",
            "  warnings.warn(\"The objective has been evaluated \"\n"
          ],
          "name": "stderr"
        },
        {
          "output_type": "stream",
          "text": [
            "Iteration No: 23 ended. Search finished for the next optimal point.\n",
            "Time taken: 10.7605\n",
            "Function value obtained: -0.6442\n",
            "Current minimum: -0.6442\n",
            "Iteration No: 24 started. Searching for the next optimal point.\n"
          ],
          "name": "stdout"
        },
        {
          "output_type": "stream",
          "text": [
            "/usr/local/lib/python3.6/dist-packages/skopt/optimizer/optimizer.py:409: UserWarning: The objective has been evaluated at this point before.\n",
            "  warnings.warn(\"The objective has been evaluated \"\n"
          ],
          "name": "stderr"
        },
        {
          "output_type": "stream",
          "text": [
            "Iteration No: 24 ended. Search finished for the next optimal point.\n",
            "Time taken: 11.4128\n",
            "Function value obtained: -0.6442\n",
            "Current minimum: -0.6442\n",
            "Iteration No: 25 started. Searching for the next optimal point.\n"
          ],
          "name": "stdout"
        },
        {
          "output_type": "stream",
          "text": [
            "/usr/local/lib/python3.6/dist-packages/skopt/optimizer/optimizer.py:409: UserWarning: The objective has been evaluated at this point before.\n",
            "  warnings.warn(\"The objective has been evaluated \"\n"
          ],
          "name": "stderr"
        },
        {
          "output_type": "stream",
          "text": [
            "Iteration No: 25 ended. Search finished for the next optimal point.\n",
            "Time taken: 10.9683\n",
            "Function value obtained: -0.6442\n",
            "Current minimum: -0.6442\n",
            "Iteration No: 26 started. Searching for the next optimal point.\n"
          ],
          "name": "stdout"
        },
        {
          "output_type": "stream",
          "text": [
            "/usr/local/lib/python3.6/dist-packages/skopt/optimizer/optimizer.py:409: UserWarning: The objective has been evaluated at this point before.\n",
            "  warnings.warn(\"The objective has been evaluated \"\n"
          ],
          "name": "stderr"
        },
        {
          "output_type": "stream",
          "text": [
            "Iteration No: 26 ended. Search finished for the next optimal point.\n",
            "Time taken: 11.3756\n",
            "Function value obtained: -0.6442\n",
            "Current minimum: -0.6442\n",
            "Iteration No: 27 started. Searching for the next optimal point.\n"
          ],
          "name": "stdout"
        },
        {
          "output_type": "stream",
          "text": [
            "/usr/local/lib/python3.6/dist-packages/skopt/optimizer/optimizer.py:409: UserWarning: The objective has been evaluated at this point before.\n",
            "  warnings.warn(\"The objective has been evaluated \"\n"
          ],
          "name": "stderr"
        },
        {
          "output_type": "stream",
          "text": [
            "Iteration No: 27 ended. Search finished for the next optimal point.\n",
            "Time taken: 11.1113\n",
            "Function value obtained: -0.6442\n",
            "Current minimum: -0.6442\n",
            "Iteration No: 28 started. Searching for the next optimal point.\n"
          ],
          "name": "stdout"
        },
        {
          "output_type": "stream",
          "text": [
            "/usr/local/lib/python3.6/dist-packages/skopt/optimizer/optimizer.py:409: UserWarning: The objective has been evaluated at this point before.\n",
            "  warnings.warn(\"The objective has been evaluated \"\n"
          ],
          "name": "stderr"
        },
        {
          "output_type": "stream",
          "text": [
            "Iteration No: 28 ended. Search finished for the next optimal point.\n",
            "Time taken: 10.8615\n",
            "Function value obtained: -0.6442\n",
            "Current minimum: -0.6442\n",
            "Iteration No: 29 started. Searching for the next optimal point.\n"
          ],
          "name": "stdout"
        },
        {
          "output_type": "stream",
          "text": [
            "/usr/local/lib/python3.6/dist-packages/skopt/optimizer/optimizer.py:409: UserWarning: The objective has been evaluated at this point before.\n",
            "  warnings.warn(\"The objective has been evaluated \"\n"
          ],
          "name": "stderr"
        },
        {
          "output_type": "stream",
          "text": [
            "Iteration No: 29 ended. Search finished for the next optimal point.\n",
            "Time taken: 11.1857\n",
            "Function value obtained: -0.6442\n",
            "Current minimum: -0.6442\n",
            "Iteration No: 30 started. Searching for the next optimal point.\n"
          ],
          "name": "stdout"
        },
        {
          "output_type": "stream",
          "text": [
            "/usr/local/lib/python3.6/dist-packages/skopt/optimizer/optimizer.py:409: UserWarning: The objective has been evaluated at this point before.\n",
            "  warnings.warn(\"The objective has been evaluated \"\n"
          ],
          "name": "stderr"
        },
        {
          "output_type": "stream",
          "text": [
            "Iteration No: 30 ended. Search finished for the next optimal point.\n",
            "Time taken: 11.2897\n",
            "Function value obtained: -0.6442\n",
            "Current minimum: -0.6442\n",
            "Iteration No: 31 started. Searching for the next optimal point.\n"
          ],
          "name": "stdout"
        },
        {
          "output_type": "stream",
          "text": [
            "/usr/local/lib/python3.6/dist-packages/skopt/optimizer/optimizer.py:409: UserWarning: The objective has been evaluated at this point before.\n",
            "  warnings.warn(\"The objective has been evaluated \"\n"
          ],
          "name": "stderr"
        },
        {
          "output_type": "stream",
          "text": [
            "Iteration No: 31 ended. Search finished for the next optimal point.\n",
            "Time taken: 10.9466\n",
            "Function value obtained: -0.6442\n",
            "Current minimum: -0.6442\n",
            "Iteration No: 32 started. Searching for the next optimal point.\n"
          ],
          "name": "stdout"
        },
        {
          "output_type": "stream",
          "text": [
            "/usr/local/lib/python3.6/dist-packages/skopt/optimizer/optimizer.py:409: UserWarning: The objective has been evaluated at this point before.\n",
            "  warnings.warn(\"The objective has been evaluated \"\n"
          ],
          "name": "stderr"
        },
        {
          "output_type": "stream",
          "text": [
            "Iteration No: 32 ended. Search finished for the next optimal point.\n",
            "Time taken: 10.9587\n",
            "Function value obtained: -0.6442\n",
            "Current minimum: -0.6442\n",
            "Iteration No: 33 started. Searching for the next optimal point.\n"
          ],
          "name": "stdout"
        },
        {
          "output_type": "stream",
          "text": [
            "/usr/local/lib/python3.6/dist-packages/skopt/optimizer/optimizer.py:409: UserWarning: The objective has been evaluated at this point before.\n",
            "  warnings.warn(\"The objective has been evaluated \"\n"
          ],
          "name": "stderr"
        },
        {
          "output_type": "stream",
          "text": [
            "Iteration No: 33 ended. Search finished for the next optimal point.\n",
            "Time taken: 11.0220\n",
            "Function value obtained: -0.6442\n",
            "Current minimum: -0.6442\n",
            "Iteration No: 34 started. Searching for the next optimal point.\n"
          ],
          "name": "stdout"
        },
        {
          "output_type": "stream",
          "text": [
            "/usr/local/lib/python3.6/dist-packages/skopt/optimizer/optimizer.py:409: UserWarning: The objective has been evaluated at this point before.\n",
            "  warnings.warn(\"The objective has been evaluated \"\n"
          ],
          "name": "stderr"
        },
        {
          "output_type": "stream",
          "text": [
            "Iteration No: 34 ended. Search finished for the next optimal point.\n",
            "Time taken: 10.9794\n",
            "Function value obtained: -0.6442\n",
            "Current minimum: -0.6442\n",
            "Iteration No: 35 started. Searching for the next optimal point.\n"
          ],
          "name": "stdout"
        },
        {
          "output_type": "stream",
          "text": [
            "/usr/local/lib/python3.6/dist-packages/skopt/optimizer/optimizer.py:409: UserWarning: The objective has been evaluated at this point before.\n",
            "  warnings.warn(\"The objective has been evaluated \"\n"
          ],
          "name": "stderr"
        },
        {
          "output_type": "stream",
          "text": [
            "Iteration No: 35 ended. Search finished for the next optimal point.\n",
            "Time taken: 11.0023\n",
            "Function value obtained: -0.6442\n",
            "Current minimum: -0.6442\n",
            "Iteration No: 36 started. Searching for the next optimal point.\n"
          ],
          "name": "stdout"
        },
        {
          "output_type": "stream",
          "text": [
            "/usr/local/lib/python3.6/dist-packages/skopt/optimizer/optimizer.py:409: UserWarning: The objective has been evaluated at this point before.\n",
            "  warnings.warn(\"The objective has been evaluated \"\n"
          ],
          "name": "stderr"
        },
        {
          "output_type": "stream",
          "text": [
            "Iteration No: 36 ended. Search finished for the next optimal point.\n",
            "Time taken: 11.1354\n",
            "Function value obtained: -0.6442\n",
            "Current minimum: -0.6442\n",
            "Iteration No: 37 started. Searching for the next optimal point.\n"
          ],
          "name": "stdout"
        },
        {
          "output_type": "stream",
          "text": [
            "/usr/local/lib/python3.6/dist-packages/skopt/optimizer/optimizer.py:409: UserWarning: The objective has been evaluated at this point before.\n",
            "  warnings.warn(\"The objective has been evaluated \"\n"
          ],
          "name": "stderr"
        },
        {
          "output_type": "stream",
          "text": [
            "Iteration No: 37 ended. Search finished for the next optimal point.\n",
            "Time taken: 11.1628\n",
            "Function value obtained: -0.6442\n",
            "Current minimum: -0.6442\n",
            "Iteration No: 38 started. Searching for the next optimal point.\n"
          ],
          "name": "stdout"
        },
        {
          "output_type": "stream",
          "text": [
            "/usr/local/lib/python3.6/dist-packages/skopt/optimizer/optimizer.py:409: UserWarning: The objective has been evaluated at this point before.\n",
            "  warnings.warn(\"The objective has been evaluated \"\n"
          ],
          "name": "stderr"
        },
        {
          "output_type": "stream",
          "text": [
            "Iteration No: 38 ended. Search finished for the next optimal point.\n",
            "Time taken: 11.2121\n",
            "Function value obtained: -0.6442\n",
            "Current minimum: -0.6442\n",
            "Iteration No: 39 started. Searching for the next optimal point.\n"
          ],
          "name": "stdout"
        },
        {
          "output_type": "stream",
          "text": [
            "/usr/local/lib/python3.6/dist-packages/skopt/optimizer/optimizer.py:409: UserWarning: The objective has been evaluated at this point before.\n",
            "  warnings.warn(\"The objective has been evaluated \"\n"
          ],
          "name": "stderr"
        },
        {
          "output_type": "stream",
          "text": [
            "Iteration No: 39 ended. Search finished for the next optimal point.\n",
            "Time taken: 11.1845\n",
            "Function value obtained: -0.6442\n",
            "Current minimum: -0.6442\n",
            "Iteration No: 40 started. Searching for the next optimal point.\n"
          ],
          "name": "stdout"
        },
        {
          "output_type": "stream",
          "text": [
            "/usr/local/lib/python3.6/dist-packages/skopt/optimizer/optimizer.py:409: UserWarning: The objective has been evaluated at this point before.\n",
            "  warnings.warn(\"The objective has been evaluated \"\n"
          ],
          "name": "stderr"
        },
        {
          "output_type": "stream",
          "text": [
            "Iteration No: 40 ended. Search finished for the next optimal point.\n",
            "Time taken: 11.0150\n",
            "Function value obtained: -0.6442\n",
            "Current minimum: -0.6442\n",
            "Iteration No: 41 started. Searching for the next optimal point.\n"
          ],
          "name": "stdout"
        },
        {
          "output_type": "stream",
          "text": [
            "/usr/local/lib/python3.6/dist-packages/skopt/optimizer/optimizer.py:409: UserWarning: The objective has been evaluated at this point before.\n",
            "  warnings.warn(\"The objective has been evaluated \"\n"
          ],
          "name": "stderr"
        },
        {
          "output_type": "stream",
          "text": [
            "Iteration No: 41 ended. Search finished for the next optimal point.\n",
            "Time taken: 10.8663\n",
            "Function value obtained: -0.6442\n",
            "Current minimum: -0.6442\n",
            "Iteration No: 42 started. Searching for the next optimal point.\n"
          ],
          "name": "stdout"
        },
        {
          "output_type": "stream",
          "text": [
            "/usr/local/lib/python3.6/dist-packages/skopt/optimizer/optimizer.py:409: UserWarning: The objective has been evaluated at this point before.\n",
            "  warnings.warn(\"The objective has been evaluated \"\n"
          ],
          "name": "stderr"
        },
        {
          "output_type": "stream",
          "text": [
            "Iteration No: 42 ended. Search finished for the next optimal point.\n",
            "Time taken: 10.8931\n",
            "Function value obtained: -0.6442\n",
            "Current minimum: -0.6442\n",
            "Iteration No: 43 started. Searching for the next optimal point.\n"
          ],
          "name": "stdout"
        },
        {
          "output_type": "stream",
          "text": [
            "/usr/local/lib/python3.6/dist-packages/skopt/optimizer/optimizer.py:409: UserWarning: The objective has been evaluated at this point before.\n",
            "  warnings.warn(\"The objective has been evaluated \"\n"
          ],
          "name": "stderr"
        },
        {
          "output_type": "stream",
          "text": [
            "Iteration No: 43 ended. Search finished for the next optimal point.\n",
            "Time taken: 11.0049\n",
            "Function value obtained: -0.6442\n",
            "Current minimum: -0.6442\n",
            "Iteration No: 44 started. Searching for the next optimal point.\n"
          ],
          "name": "stdout"
        },
        {
          "output_type": "stream",
          "text": [
            "/usr/local/lib/python3.6/dist-packages/skopt/optimizer/optimizer.py:409: UserWarning: The objective has been evaluated at this point before.\n",
            "  warnings.warn(\"The objective has been evaluated \"\n"
          ],
          "name": "stderr"
        },
        {
          "output_type": "stream",
          "text": [
            "Iteration No: 44 ended. Search finished for the next optimal point.\n",
            "Time taken: 10.9575\n",
            "Function value obtained: -0.6442\n",
            "Current minimum: -0.6442\n",
            "Iteration No: 45 started. Searching for the next optimal point.\n"
          ],
          "name": "stdout"
        },
        {
          "output_type": "stream",
          "text": [
            "/usr/local/lib/python3.6/dist-packages/skopt/optimizer/optimizer.py:409: UserWarning: The objective has been evaluated at this point before.\n",
            "  warnings.warn(\"The objective has been evaluated \"\n"
          ],
          "name": "stderr"
        },
        {
          "output_type": "stream",
          "text": [
            "Iteration No: 45 ended. Search finished for the next optimal point.\n",
            "Time taken: 10.9705\n",
            "Function value obtained: -0.6442\n",
            "Current minimum: -0.6442\n",
            "Iteration No: 46 started. Searching for the next optimal point.\n"
          ],
          "name": "stdout"
        },
        {
          "output_type": "stream",
          "text": [
            "/usr/local/lib/python3.6/dist-packages/skopt/optimizer/optimizer.py:409: UserWarning: The objective has been evaluated at this point before.\n",
            "  warnings.warn(\"The objective has been evaluated \"\n"
          ],
          "name": "stderr"
        },
        {
          "output_type": "stream",
          "text": [
            "Iteration No: 46 ended. Search finished for the next optimal point.\n",
            "Time taken: 10.8279\n",
            "Function value obtained: -0.6442\n",
            "Current minimum: -0.6442\n",
            "Iteration No: 47 started. Searching for the next optimal point.\n"
          ],
          "name": "stdout"
        },
        {
          "output_type": "stream",
          "text": [
            "/usr/local/lib/python3.6/dist-packages/skopt/optimizer/optimizer.py:409: UserWarning: The objective has been evaluated at this point before.\n",
            "  warnings.warn(\"The objective has been evaluated \"\n"
          ],
          "name": "stderr"
        },
        {
          "output_type": "stream",
          "text": [
            "Iteration No: 47 ended. Search finished for the next optimal point.\n",
            "Time taken: 10.9280\n",
            "Function value obtained: -0.6442\n",
            "Current minimum: -0.6442\n",
            "Iteration No: 48 started. Searching for the next optimal point.\n"
          ],
          "name": "stdout"
        },
        {
          "output_type": "stream",
          "text": [
            "/usr/local/lib/python3.6/dist-packages/skopt/optimizer/optimizer.py:409: UserWarning: The objective has been evaluated at this point before.\n",
            "  warnings.warn(\"The objective has been evaluated \"\n"
          ],
          "name": "stderr"
        },
        {
          "output_type": "stream",
          "text": [
            "Iteration No: 48 ended. Search finished for the next optimal point.\n",
            "Time taken: 11.0024\n",
            "Function value obtained: -0.6442\n",
            "Current minimum: -0.6442\n",
            "Iteration No: 49 started. Searching for the next optimal point.\n"
          ],
          "name": "stdout"
        },
        {
          "output_type": "stream",
          "text": [
            "/usr/local/lib/python3.6/dist-packages/skopt/optimizer/optimizer.py:409: UserWarning: The objective has been evaluated at this point before.\n",
            "  warnings.warn(\"The objective has been evaluated \"\n"
          ],
          "name": "stderr"
        },
        {
          "output_type": "stream",
          "text": [
            "Iteration No: 49 ended. Search finished for the next optimal point.\n",
            "Time taken: 11.0067\n",
            "Function value obtained: -0.6442\n",
            "Current minimum: -0.6442\n",
            "Iteration No: 50 started. Searching for the next optimal point.\n"
          ],
          "name": "stdout"
        },
        {
          "output_type": "stream",
          "text": [
            "/usr/local/lib/python3.6/dist-packages/skopt/optimizer/optimizer.py:409: UserWarning: The objective has been evaluated at this point before.\n",
            "  warnings.warn(\"The objective has been evaluated \"\n"
          ],
          "name": "stderr"
        },
        {
          "output_type": "stream",
          "text": [
            "Iteration No: 50 ended. Search finished for the next optimal point.\n",
            "Time taken: 10.8342\n",
            "Function value obtained: -0.6442\n",
            "Current minimum: -0.6442\n",
            "Maximimum F_Beta found: 0.64425\n",
            "Optimal parameters:\n",
            "n_estimators: 60\n",
            "algorithm: SAMME.R\n"
          ],
          "name": "stdout"
        },
        {
          "output_type": "display_data",
          "data": {
            "image/png": "[encoded data removed]",
            "text/plain": [
              "<Figure size 432x288 with 1 Axes>"
            ]
          },
          "metadata": {
            "tags": [],
            "needs_background": "light"
          }
        }
      ]
    },
    {
      "cell_type": "markdown",
      "metadata": {
        "id": "sRJglIGmzcOP",
        "colab_type": "text"
      },
      "source": [
        "# GradientBoostingClassifier"
      ]
    },
    {
      "cell_type": "code",
      "metadata": {
        "id": "Ygl-GPRazc7u",
        "colab_type": "code",
        "colab": {
          "base_uri": "https://localhost:8080/",
          "height": 1000
        },
        "outputId": "f55fa783-4885-4ebf-e081-5e5cb106b17b"
      },
      "source": [
        "# Bayesian Optimization\n",
        "num_thread=50\n",
        "params = ['n_estimators', 'min_samples_split', 'min_samples_leaf', 'max_features']\n",
        "\n",
        "#for model include item_Features\n",
        "def objective(params):\n",
        "    # unpack\n",
        "    n_estimators, min_samples_split, min_samples_leaf, max_features = params\n",
        "    \n",
        "    model_iii = GradientBoostingClassifier(n_estimators=n_estimators, min_samples_split=min_samples_split, min_samples_leaf=min_samples_leaf, max_features=max_features, random_state=60616)\n",
        "    model_iii.fit(X_train, y_train)\n",
        "    \n",
        "    y_pred = model_iii.predict(X_test)\n",
        "    fbeta = fbeta_score(y_test, y_pred, beta=0.5, average='weighted')\n",
        "\n",
        "    out = -fbeta\n",
        "    # Handle some numerical issue going on\n",
        "    if np.abs(out + 1) < 0.01 or out < -1.0:\n",
        "        return 0.0\n",
        "    else:\n",
        "        return out\n",
        "\n",
        "space = [(20, 40, 60, 80 , 100, 120, 140, 160),\n",
        "         (5, 10, 15, 20, 25, 30, 35),\n",
        "         (2, 6, 10, 14, 18, 22, 26, 30),\n",
        "         ('auto', 'sqrt', 'log2'),\n",
        "        ]\n",
        "\n",
        "try:\n",
        "    res_fm = forest_minimize(objective, space, n_calls=50,\n",
        "                     random_state=60616,base_estimator= 'RF',acq_func='PI',\n",
        "                     verbose=True, n_jobs=num_thread)\n",
        "except ValueError:\n",
        "    print('Forest diverged, random search intialized')\n",
        "    res_fm = dummy_minimize(objective, space, n_calls=30,\n",
        "         random_state=60616,\n",
        "         verbose=True)\n",
        "\n",
        "print('Maximimum F_Beta found: {:6.5f}'.format(-res_fm.fun))\n",
        "print('Optimal parameters:')\n",
        "\n",
        "for (p, x_) in zip(params, res_fm.x):\n",
        "    print('{}: {}'.format(p, x_))\n",
        "from skopt.plots import plot_convergence\n",
        "plot_convergence(res_fm);"
      ],
      "execution_count": null,
      "outputs": [
        {
          "output_type": "stream",
          "text": [
            "Iteration No: 1 started. Evaluating function at random point.\n",
            "Iteration No: 1 ended. Evaluation done at random point.\n",
            "Time taken: 9.5322\n",
            "Function value obtained: -0.7045\n",
            "Current minimum: -0.7045\n",
            "Iteration No: 2 started. Evaluating function at random point.\n",
            "Iteration No: 2 ended. Evaluation done at random point.\n",
            "Time taken: 19.1499\n",
            "Function value obtained: -0.7274\n",
            "Current minimum: -0.7274\n",
            "Iteration No: 3 started. Evaluating function at random point.\n",
            "Iteration No: 3 ended. Evaluation done at random point.\n",
            "Time taken: 3.5753\n",
            "Function value obtained: -0.6357\n",
            "Current minimum: -0.7274\n",
            "Iteration No: 4 started. Evaluating function at random point.\n",
            "Iteration No: 4 ended. Evaluation done at random point.\n",
            "Time taken: 25.6574\n",
            "Function value obtained: -0.7407\n",
            "Current minimum: -0.7407\n",
            "Iteration No: 5 started. Evaluating function at random point.\n",
            "Iteration No: 5 ended. Evaluation done at random point.\n",
            "Time taken: 261.1441\n",
            "Function value obtained: -0.7730\n",
            "Current minimum: -0.7730\n",
            "Iteration No: 6 started. Evaluating function at random point.\n",
            "Iteration No: 6 ended. Evaluation done at random point.\n",
            "Time taken: 18.8254\n",
            "Function value obtained: -0.7269\n",
            "Current minimum: -0.7730\n",
            "Iteration No: 7 started. Evaluating function at random point.\n",
            "Iteration No: 7 ended. Evaluation done at random point.\n",
            "Time taken: 230.3157\n",
            "Function value obtained: -0.7625\n",
            "Current minimum: -0.7730\n",
            "Iteration No: 8 started. Evaluating function at random point.\n",
            "Iteration No: 8 ended. Evaluation done at random point.\n",
            "Time taken: 212.3088\n",
            "Function value obtained: -0.7583\n",
            "Current minimum: -0.7730\n",
            "Iteration No: 9 started. Evaluating function at random point.\n",
            "Iteration No: 9 ended. Evaluation done at random point.\n",
            "Time taken: 7.5507\n",
            "Function value obtained: -0.6769\n",
            "Current minimum: -0.7730\n",
            "Iteration No: 10 started. Evaluating function at random point.\n",
            "Iteration No: 10 ended. Evaluation done at random point.\n",
            "Time taken: 15.5254\n",
            "Function value obtained: -0.7132\n",
            "Current minimum: -0.7730\n",
            "Iteration No: 11 started. Searching for the next optimal point.\n",
            "Iteration No: 11 ended. Search finished for the next optimal point.\n",
            "Time taken: 224.2664\n",
            "Function value obtained: -0.7601\n",
            "Current minimum: -0.7730\n",
            "Iteration No: 12 started. Searching for the next optimal point.\n",
            "Iteration No: 12 ended. Search finished for the next optimal point.\n",
            "Time taken: 186.4932\n",
            "Function value obtained: -0.7504\n",
            "Current minimum: -0.7730\n",
            "Iteration No: 13 started. Searching for the next optimal point.\n",
            "Iteration No: 13 ended. Search finished for the next optimal point.\n",
            "Time taken: 225.3141\n",
            "Function value obtained: -0.7613\n",
            "Current minimum: -0.7730\n",
            "Iteration No: 14 started. Searching for the next optimal point.\n",
            "Iteration No: 14 ended. Search finished for the next optimal point.\n",
            "Time taken: 36.7021\n",
            "Function value obtained: -0.6869\n",
            "Current minimum: -0.7730\n",
            "Iteration No: 15 started. Searching for the next optimal point.\n"
          ],
          "name": "stdout"
        },
        {
          "output_type": "stream",
          "text": [
            "/usr/local/lib/python3.6/dist-packages/skopt/optimizer/optimizer.py:409: UserWarning: The objective has been evaluated at this point before.\n",
            "  warnings.warn(\"The objective has been evaluated \"\n"
          ],
          "name": "stderr"
        },
        {
          "output_type": "stream",
          "text": [
            "Iteration No: 15 ended. Search finished for the next optimal point.\n",
            "Time taken: 225.9042\n",
            "Function value obtained: -0.7613\n",
            "Current minimum: -0.7730\n",
            "Iteration No: 16 started. Searching for the next optimal point.\n"
          ],
          "name": "stdout"
        },
        {
          "output_type": "stream",
          "text": [
            "/usr/local/lib/python3.6/dist-packages/skopt/optimizer/optimizer.py:409: UserWarning: The objective has been evaluated at this point before.\n",
            "  warnings.warn(\"The objective has been evaluated \"\n"
          ],
          "name": "stderr"
        },
        {
          "output_type": "stream",
          "text": [
            "Iteration No: 16 ended. Search finished for the next optimal point.\n",
            "Time taken: 223.3622\n",
            "Function value obtained: -0.7613\n",
            "Current minimum: -0.7730\n",
            "Iteration No: 17 started. Searching for the next optimal point.\n",
            "Iteration No: 17 ended. Search finished for the next optimal point.\n",
            "Time taken: 220.1327\n",
            "Function value obtained: -0.7637\n",
            "Current minimum: -0.7730\n",
            "Iteration No: 18 started. Searching for the next optimal point.\n",
            "Iteration No: 18 ended. Search finished for the next optimal point.\n",
            "Time taken: 222.9072\n",
            "Function value obtained: -0.7637\n",
            "Current minimum: -0.7730\n",
            "Iteration No: 19 started. Searching for the next optimal point.\n",
            "Iteration No: 19 ended. Search finished for the next optimal point.\n",
            "Time taken: 288.7206\n",
            "Function value obtained: -0.7750\n",
            "Current minimum: -0.7750\n",
            "Iteration No: 20 started. Searching for the next optimal point.\n",
            "Iteration No: 20 ended. Search finished for the next optimal point.\n",
            "Time taken: 72.8065\n",
            "Function value obtained: -0.7196\n",
            "Current minimum: -0.7750\n",
            "Iteration No: 21 started. Searching for the next optimal point.\n",
            "Iteration No: 21 ended. Search finished for the next optimal point.\n",
            "Time taken: 297.9730\n",
            "Function value obtained: -0.7750\n",
            "Current minimum: -0.7750\n",
            "Iteration No: 22 started. Searching for the next optimal point.\n"
          ],
          "name": "stdout"
        },
        {
          "output_type": "stream",
          "text": [
            "/usr/local/lib/python3.6/dist-packages/skopt/optimizer/optimizer.py:409: UserWarning: The objective has been evaluated at this point before.\n",
            "  warnings.warn(\"The objective has been evaluated \"\n"
          ],
          "name": "stderr"
        },
        {
          "output_type": "stream",
          "text": [
            "Iteration No: 22 ended. Search finished for the next optimal point.\n",
            "Time taken: 305.8585\n",
            "Function value obtained: -0.7750\n",
            "Current minimum: -0.7750\n",
            "Iteration No: 23 started. Searching for the next optimal point.\n"
          ],
          "name": "stdout"
        },
        {
          "output_type": "stream",
          "text": [
            "/usr/local/lib/python3.6/dist-packages/skopt/optimizer/optimizer.py:409: UserWarning: The objective has been evaluated at this point before.\n",
            "  warnings.warn(\"The objective has been evaluated \"\n"
          ],
          "name": "stderr"
        },
        {
          "output_type": "stream",
          "text": [
            "Iteration No: 23 ended. Search finished for the next optimal point.\n",
            "Time taken: 301.5260\n",
            "Function value obtained: -0.7750\n",
            "Current minimum: -0.7750\n",
            "Iteration No: 24 started. Searching for the next optimal point.\n",
            "Iteration No: 24 ended. Search finished for the next optimal point.\n",
            "Time taken: 303.3760\n",
            "Function value obtained: -0.7730\n",
            "Current minimum: -0.7750\n",
            "Iteration No: 25 started. Searching for the next optimal point.\n"
          ],
          "name": "stdout"
        },
        {
          "output_type": "stream",
          "text": [
            "/usr/local/lib/python3.6/dist-packages/skopt/optimizer/optimizer.py:409: UserWarning: The objective has been evaluated at this point before.\n",
            "  warnings.warn(\"The objective has been evaluated \"\n"
          ],
          "name": "stderr"
        },
        {
          "output_type": "stream",
          "text": [
            "Iteration No: 25 ended. Search finished for the next optimal point.\n",
            "Time taken: 275.3192\n",
            "Function value obtained: -0.7730\n",
            "Current minimum: -0.7750\n",
            "Iteration No: 26 started. Searching for the next optimal point.\n"
          ],
          "name": "stdout"
        },
        {
          "output_type": "stream",
          "text": [
            "/usr/local/lib/python3.6/dist-packages/skopt/optimizer/optimizer.py:409: UserWarning: The objective has been evaluated at this point before.\n",
            "  warnings.warn(\"The objective has been evaluated \"\n"
          ],
          "name": "stderr"
        },
        {
          "output_type": "stream",
          "text": [
            "Iteration No: 26 ended. Search finished for the next optimal point.\n",
            "Time taken: 252.5921\n",
            "Function value obtained: -0.7730\n",
            "Current minimum: -0.7750\n",
            "Iteration No: 27 started. Searching for the next optimal point.\n"
          ],
          "name": "stdout"
        },
        {
          "output_type": "stream",
          "text": [
            "/usr/local/lib/python3.6/dist-packages/skopt/optimizer/optimizer.py:409: UserWarning: The objective has been evaluated at this point before.\n",
            "  warnings.warn(\"The objective has been evaluated \"\n"
          ],
          "name": "stderr"
        },
        {
          "output_type": "stream",
          "text": [
            "Iteration No: 27 ended. Search finished for the next optimal point.\n",
            "Time taken: 264.4118\n",
            "Function value obtained: -0.7730\n",
            "Current minimum: -0.7750\n",
            "Iteration No: 28 started. Searching for the next optimal point.\n",
            "Iteration No: 28 ended. Search finished for the next optimal point.\n",
            "Time taken: 38.2714\n",
            "Function value obtained: -0.7578\n",
            "Current minimum: -0.7750\n",
            "Iteration No: 29 started. Searching for the next optimal point.\n",
            "Iteration No: 29 ended. Search finished for the next optimal point.\n",
            "Time taken: 39.0575\n",
            "Function value obtained: -0.7578\n",
            "Current minimum: -0.7750\n",
            "Iteration No: 30 started. Searching for the next optimal point.\n"
          ],
          "name": "stdout"
        },
        {
          "output_type": "stream",
          "text": [
            "/usr/local/lib/python3.6/dist-packages/skopt/optimizer/optimizer.py:409: UserWarning: The objective has been evaluated at this point before.\n",
            "  warnings.warn(\"The objective has been evaluated \"\n"
          ],
          "name": "stderr"
        },
        {
          "output_type": "stream",
          "text": [
            "Iteration No: 30 ended. Search finished for the next optimal point.\n",
            "Time taken: 36.4388\n",
            "Function value obtained: -0.7578\n",
            "Current minimum: -0.7750\n",
            "Iteration No: 31 started. Searching for the next optimal point.\n",
            "Iteration No: 31 ended. Search finished for the next optimal point.\n",
            "Time taken: 36.1735\n",
            "Function value obtained: -0.7561\n",
            "Current minimum: -0.7750\n",
            "Iteration No: 32 started. Searching for the next optimal point.\n",
            "Iteration No: 32 ended. Search finished for the next optimal point.\n",
            "Time taken: 248.4964\n",
            "Function value obtained: -0.7675\n",
            "Current minimum: -0.7750\n",
            "Iteration No: 33 started. Searching for the next optimal point.\n",
            "Iteration No: 33 ended. Search finished for the next optimal point.\n",
            "Time taken: 27.0408\n",
            "Function value obtained: -0.7492\n",
            "Current minimum: -0.7750\n",
            "Iteration No: 34 started. Searching for the next optimal point.\n"
          ],
          "name": "stdout"
        },
        {
          "output_type": "stream",
          "text": [
            "/usr/local/lib/python3.6/dist-packages/skopt/optimizer/optimizer.py:409: UserWarning: The objective has been evaluated at this point before.\n",
            "  warnings.warn(\"The objective has been evaluated \"\n"
          ],
          "name": "stderr"
        },
        {
          "output_type": "stream",
          "text": [
            "Iteration No: 34 ended. Search finished for the next optimal point.\n",
            "Time taken: 27.8756\n",
            "Function value obtained: -0.7492\n",
            "Current minimum: -0.7750\n",
            "Iteration No: 35 started. Searching for the next optimal point.\n",
            "Iteration No: 35 ended. Search finished for the next optimal point.\n",
            "Time taken: 27.0173\n",
            "Function value obtained: -0.7467\n",
            "Current minimum: -0.7750\n",
            "Iteration No: 36 started. Searching for the next optimal point.\n",
            "Iteration No: 36 ended. Search finished for the next optimal point.\n",
            "Time taken: 28.8636\n",
            "Function value obtained: -0.7433\n",
            "Current minimum: -0.7750\n",
            "Iteration No: 37 started. Searching for the next optimal point.\n"
          ],
          "name": "stdout"
        },
        {
          "output_type": "stream",
          "text": [
            "/usr/local/lib/python3.6/dist-packages/skopt/optimizer/optimizer.py:409: UserWarning: The objective has been evaluated at this point before.\n",
            "  warnings.warn(\"The objective has been evaluated \"\n"
          ],
          "name": "stderr"
        },
        {
          "output_type": "stream",
          "text": [
            "Iteration No: 37 ended. Search finished for the next optimal point.\n",
            "Time taken: 28.6769\n",
            "Function value obtained: -0.7492\n",
            "Current minimum: -0.7750\n",
            "Iteration No: 38 started. Searching for the next optimal point.\n"
          ],
          "name": "stdout"
        },
        {
          "output_type": "stream",
          "text": [
            "/usr/local/lib/python3.6/dist-packages/skopt/optimizer/optimizer.py:409: UserWarning: The objective has been evaluated at this point before.\n",
            "  warnings.warn(\"The objective has been evaluated \"\n"
          ],
          "name": "stderr"
        },
        {
          "output_type": "stream",
          "text": [
            "Iteration No: 38 ended. Search finished for the next optimal point.\n",
            "Time taken: 29.6836\n",
            "Function value obtained: -0.7433\n",
            "Current minimum: -0.7750\n",
            "Iteration No: 39 started. Searching for the next optimal point.\n",
            "Iteration No: 39 ended. Search finished for the next optimal point.\n",
            "Time taken: 22.5479\n",
            "Function value obtained: -0.7366\n",
            "Current minimum: -0.7750\n",
            "Iteration No: 40 started. Searching for the next optimal point.\n",
            "Iteration No: 40 ended. Search finished for the next optimal point.\n",
            "Time taken: 29.2594\n",
            "Function value obtained: -0.7489\n",
            "Current minimum: -0.7750\n",
            "Iteration No: 41 started. Searching for the next optimal point.\n",
            "Iteration No: 41 ended. Search finished for the next optimal point.\n",
            "Time taken: 33.6073\n",
            "Function value obtained: -0.6869\n",
            "Current minimum: -0.7750\n",
            "Iteration No: 42 started. Searching for the next optimal point.\n",
            "Iteration No: 42 ended. Search finished for the next optimal point.\n",
            "Time taken: 270.1954\n",
            "Function value obtained: -0.7694\n",
            "Current minimum: -0.7750\n",
            "Iteration No: 43 started. Searching for the next optimal point.\n"
          ],
          "name": "stdout"
        },
        {
          "output_type": "stream",
          "text": [
            "/usr/local/lib/python3.6/dist-packages/skopt/optimizer/optimizer.py:409: UserWarning: The objective has been evaluated at this point before.\n",
            "  warnings.warn(\"The objective has been evaluated \"\n"
          ],
          "name": "stderr"
        },
        {
          "output_type": "stream",
          "text": [
            "Iteration No: 43 ended. Search finished for the next optimal point.\n",
            "Time taken: 260.1900\n",
            "Function value obtained: -0.7694\n",
            "Current minimum: -0.7750\n",
            "Iteration No: 44 started. Searching for the next optimal point.\n",
            "Iteration No: 44 ended. Search finished for the next optimal point.\n",
            "Time taken: 245.2471\n",
            "Function value obtained: -0.7722\n",
            "Current minimum: -0.7750\n",
            "Iteration No: 45 started. Searching for the next optimal point.\n",
            "Iteration No: 45 ended. Search finished for the next optimal point.\n",
            "Time taken: 20.3729\n",
            "Function value obtained: -0.7400\n",
            "Current minimum: -0.7750\n",
            "Iteration No: 46 started. Searching for the next optimal point.\n",
            "Iteration No: 46 ended. Search finished for the next optimal point.\n",
            "Time taken: 202.4597\n",
            "Function value obtained: -0.7657\n",
            "Current minimum: -0.7750\n",
            "Iteration No: 47 started. Searching for the next optimal point.\n",
            "Iteration No: 47 ended. Search finished for the next optimal point.\n",
            "Time taken: 84.9767\n",
            "Function value obtained: -0.7323\n",
            "Current minimum: -0.7750\n",
            "Iteration No: 48 started. Searching for the next optimal point.\n",
            "Iteration No: 48 ended. Search finished for the next optimal point.\n",
            "Time taken: 145.9069\n",
            "Function value obtained: -0.7537\n",
            "Current minimum: -0.7750\n",
            "Iteration No: 49 started. Searching for the next optimal point.\n",
            "Iteration No: 49 ended. Search finished for the next optimal point.\n",
            "Time taken: 28.6406\n",
            "Function value obtained: -0.6827\n",
            "Current minimum: -0.7750\n",
            "Iteration No: 50 started. Searching for the next optimal point.\n"
          ],
          "name": "stdout"
        },
        {
          "output_type": "stream",
          "text": [
            "/usr/local/lib/python3.6/dist-packages/skopt/optimizer/optimizer.py:409: UserWarning: The objective has been evaluated at this point before.\n",
            "  warnings.warn(\"The objective has been evaluated \"\n"
          ],
          "name": "stderr"
        },
        {
          "output_type": "stream",
          "text": [
            "Iteration No: 50 ended. Search finished for the next optimal point.\n",
            "Time taken: 143.0926\n",
            "Function value obtained: -0.7537\n",
            "Current minimum: -0.7750\n",
            "Maximimum F_Beta found: 0.77503\n",
            "Optimal parameters:\n",
            "n_estimators: 160\n",
            "min_samples_split: 5\n",
            "min_samples_leaf: 10\n",
            "max_features: auto\n"
          ],
          "name": "stdout"
        },
        {
          "output_type": "display_data",
          "data": {
            "image/png": "[encoded data removed]",
            "text/plain": [
              "<Figure size 432x288 with 1 Axes>"
            ]
          },
          "metadata": {
            "tags": [],
            "needs_background": "light"
          }
        }
      ]
    },
    {
      "cell_type": "markdown",
      "metadata": {
        "id": "Cv_ijtgR-2kU",
        "colab_type": "text"
      },
      "source": [
        "# XG Boost"
      ]
    },
    {
      "cell_type": "code",
      "metadata": {
        "id": "DX5Fhr0ZkS5f",
        "colab_type": "code",
        "colab": {
          "base_uri": "https://localhost:8080/",
          "height": 1000
        },
        "outputId": "e9d4a417-1034-4276-a1f2-e40d68fcc016"
      },
      "source": [
        "# Bayesian Optimization\n",
        "num_thread=50\n",
        "params = ['learning_rate', 'gamma', 'max_depth', 'min_child_weight', 'reg_lambda', 'reg_alpha']\n",
        "\n",
        "#for model include item_Features\n",
        "def objective(params):\n",
        "    # unpack\n",
        "    learning_rate, gamma, max_depth, min_child_weight, reg_lambda, reg_alpha = params\n",
        "    \n",
        "    model_iii = XGBClassifier(learning_rate=learning_rate, gamma=gamma, max_depth=max_depth, min_child_weight=min_child_weight, reg_lambda=reg_lambda, reg_alpha=reg_alpha)\n",
        "    model_iii.fit(X_train, y_train)\n",
        "    \n",
        "    y_pred = model_iii.predict(X_test)\n",
        "    fbeta = fbeta_score(y_test, y_pred, beta=0.5, average='weighted')\n",
        "\n",
        "    out = -fbeta\n",
        "    # Handle some numerical issue going on\n",
        "    if np.abs(out + 1) < 0.01 or out < -1.0:\n",
        "        return 0.0\n",
        "    else:\n",
        "        return out\n",
        "\n",
        "space = [(0.0001, 0.0009, 0.001, 0.009, 0.1, 0.9),\n",
        "         (0.25, 0.5, 0.75, 1, 1.25, 1.5, 2),\n",
        "         (2, 4, 6, 8, 10),\n",
        "         (1,3,5,7,9),\n",
        "         (0.25, 0.5, 0.75, 1, 1.25, 1.5, 2),\n",
        "         (0.25, 0.5, 0.75, 1, 1.25, 1.5, 2),\n",
        "        ]\n",
        "\n",
        "try:\n",
        "    res_fm = forest_minimize(objective, space, n_calls=50,\n",
        "                     random_state=60616,base_estimator= 'RF',acq_func='PI',\n",
        "                     verbose=True, n_jobs=num_thread)\n",
        "except ValueError:\n",
        "    print('Forest diverged, random search intialized')\n",
        "    res_fm = dummy_minimize(objective, space, n_calls=30,\n",
        "         random_state=60616,\n",
        "         verbose=True)\n",
        "\n",
        "print('Maximimum F_Beta found: {:6.5f}'.format(-res_fm.fun))\n",
        "print('Optimal parameters:')\n",
        "\n",
        "for (p, x_) in zip(params, res_fm.x):\n",
        "    print('{}: {}'.format(p, x_))\n",
        "from skopt.plots import plot_convergence\n",
        "plot_convergence(res_fm);"
      ],
      "execution_count": 19,
      "outputs": [
        {
          "output_type": "stream",
          "text": [
            "Iteration No: 1 started. Evaluating function at random point.\n",
            "Iteration No: 1 ended. Evaluation done at random point.\n",
            "Time taken: 82.4226\n",
            "Function value obtained: -0.6150\n",
            "Current minimum: -0.6150\n",
            "Iteration No: 2 started. Evaluating function at random point.\n",
            "Iteration No: 2 ended. Evaluation done at random point.\n",
            "Time taken: 46.4244\n",
            "Function value obtained: -0.5504\n",
            "Current minimum: -0.6150\n",
            "Iteration No: 3 started. Evaluating function at random point.\n",
            "Iteration No: 3 ended. Evaluation done at random point.\n",
            "Time taken: 80.5204\n",
            "Function value obtained: -0.8839\n",
            "Current minimum: -0.8839\n",
            "Iteration No: 4 started. Evaluating function at random point.\n",
            "Iteration No: 4 ended. Evaluation done at random point.\n",
            "Time taken: 119.2321\n",
            "Function value obtained: -0.6501\n",
            "Current minimum: -0.8839\n",
            "Iteration No: 5 started. Evaluating function at random point.\n",
            "Iteration No: 5 ended. Evaluation done at random point.\n",
            "Time taken: 205.0589\n",
            "Function value obtained: -0.8875\n",
            "Current minimum: -0.8875\n",
            "Iteration No: 6 started. Evaluating function at random point.\n",
            "Iteration No: 6 ended. Evaluation done at random point.\n",
            "Time taken: 80.6467\n",
            "Function value obtained: -0.6154\n",
            "Current minimum: -0.8875\n",
            "Iteration No: 7 started. Evaluating function at random point.\n",
            "Iteration No: 7 ended. Evaluation done at random point.\n",
            "Time taken: 46.2334\n",
            "Function value obtained: -0.5503\n",
            "Current minimum: -0.8875\n",
            "Iteration No: 8 started. Evaluating function at random point.\n",
            "Iteration No: 8 ended. Evaluation done at random point.\n",
            "Time taken: 120.4663\n",
            "Function value obtained: -0.6583\n",
            "Current minimum: -0.8875\n",
            "Iteration No: 9 started. Evaluating function at random point.\n",
            "Iteration No: 9 ended. Evaluation done at random point.\n",
            "Time taken: 48.1056\n",
            "Function value obtained: -0.5503\n",
            "Current minimum: -0.8875\n",
            "Iteration No: 10 started. Evaluating function at random point.\n",
            "Iteration No: 10 ended. Evaluation done at random point.\n",
            "Time taken: 122.5405\n",
            "Function value obtained: -0.8182\n",
            "Current minimum: -0.8875\n",
            "Iteration No: 11 started. Searching for the next optimal point.\n",
            "Iteration No: 11 ended. Search finished for the next optimal point.\n",
            "Time taken: 120.4096\n",
            "Function value obtained: -0.6814\n",
            "Current minimum: -0.8875\n",
            "Iteration No: 12 started. Searching for the next optimal point.\n",
            "Iteration No: 12 ended. Search finished for the next optimal point.\n",
            "Time taken: 208.1417\n",
            "Function value obtained: -0.7806\n",
            "Current minimum: -0.8875\n",
            "Iteration No: 13 started. Searching for the next optimal point.\n",
            "Iteration No: 13 ended. Search finished for the next optimal point.\n",
            "Time taken: 148.6044\n",
            "Function value obtained: -0.9134\n",
            "Current minimum: -0.9134\n",
            "Iteration No: 14 started. Searching for the next optimal point.\n",
            "Iteration No: 14 ended. Search finished for the next optimal point.\n",
            "Time taken: 162.0959\n",
            "Function value obtained: -0.7085\n",
            "Current minimum: -0.9134\n",
            "Iteration No: 15 started. Searching for the next optimal point.\n",
            "Iteration No: 15 ended. Search finished for the next optimal point.\n",
            "Time taken: 207.0649\n",
            "Function value obtained: -0.9117\n",
            "Current minimum: -0.9134\n",
            "Iteration No: 16 started. Searching for the next optimal point.\n",
            "Iteration No: 16 ended. Search finished for the next optimal point.\n",
            "Time taken: 186.3126\n",
            "Function value obtained: -0.9128\n",
            "Current minimum: -0.9134\n",
            "Iteration No: 17 started. Searching for the next optimal point.\n",
            "Iteration No: 17 ended. Search finished for the next optimal point.\n",
            "Time taken: 186.6711\n",
            "Function value obtained: -0.9109\n",
            "Current minimum: -0.9134\n",
            "Iteration No: 18 started. Searching for the next optimal point.\n",
            "Iteration No: 18 ended. Search finished for the next optimal point.\n",
            "Time taken: 188.8202\n",
            "Function value obtained: -0.9088\n",
            "Current minimum: -0.9134\n",
            "Iteration No: 19 started. Searching for the next optimal point.\n",
            "Iteration No: 19 ended. Search finished for the next optimal point.\n",
            "Time taken: 185.2498\n",
            "Function value obtained: -0.9077\n",
            "Current minimum: -0.9134\n",
            "Iteration No: 20 started. Searching for the next optimal point.\n",
            "Iteration No: 20 ended. Search finished for the next optimal point.\n",
            "Time taken: 181.4722\n",
            "Function value obtained: -0.9148\n",
            "Current minimum: -0.9148\n",
            "Iteration No: 21 started. Searching for the next optimal point.\n",
            "Iteration No: 21 ended. Search finished for the next optimal point.\n",
            "Time taken: 196.3744\n",
            "Function value obtained: -0.9025\n",
            "Current minimum: -0.9148\n",
            "Iteration No: 22 started. Searching for the next optimal point.\n",
            "Iteration No: 22 ended. Search finished for the next optimal point.\n",
            "Time taken: 145.1425\n",
            "Function value obtained: -0.9100\n",
            "Current minimum: -0.9148\n",
            "Iteration No: 23 started. Searching for the next optimal point.\n",
            "Iteration No: 23 ended. Search finished for the next optimal point.\n",
            "Time taken: 82.4090\n",
            "Function value obtained: -0.8877\n",
            "Current minimum: -0.9148\n",
            "Iteration No: 24 started. Searching for the next optimal point.\n",
            "Iteration No: 24 ended. Search finished for the next optimal point.\n",
            "Time taken: 47.1910\n",
            "Function value obtained: -0.7845\n",
            "Current minimum: -0.9148\n",
            "Iteration No: 25 started. Searching for the next optimal point.\n",
            "Iteration No: 25 ended. Search finished for the next optimal point.\n",
            "Time taken: 181.9216\n",
            "Function value obtained: -0.9145\n",
            "Current minimum: -0.9148\n",
            "Iteration No: 26 started. Searching for the next optimal point.\n",
            "Iteration No: 26 ended. Search finished for the next optimal point.\n",
            "Time taken: 188.7105\n",
            "Function value obtained: -0.9108\n",
            "Current minimum: -0.9148\n",
            "Iteration No: 27 started. Searching for the next optimal point.\n",
            "Iteration No: 27 ended. Search finished for the next optimal point.\n",
            "Time taken: 190.3544\n",
            "Function value obtained: -0.9134\n",
            "Current minimum: -0.9148\n",
            "Iteration No: 28 started. Searching for the next optimal point.\n"
          ],
          "name": "stdout"
        },
        {
          "output_type": "stream",
          "text": [
            "/usr/local/lib/python3.6/dist-packages/skopt/optimizer/optimizer.py:409: UserWarning: The objective has been evaluated at this point before.\n",
            "  warnings.warn(\"The objective has been evaluated \"\n"
          ],
          "name": "stderr"
        },
        {
          "output_type": "stream",
          "text": [
            "Iteration No: 28 ended. Search finished for the next optimal point.\n",
            "Time taken: 190.8406\n",
            "Function value obtained: -0.9134\n",
            "Current minimum: -0.9148\n",
            "Iteration No: 29 started. Searching for the next optimal point.\n",
            "Iteration No: 29 ended. Search finished for the next optimal point.\n",
            "Time taken: 192.1042\n",
            "Function value obtained: -0.9109\n",
            "Current minimum: -0.9148\n",
            "Iteration No: 30 started. Searching for the next optimal point.\n",
            "Iteration No: 30 ended. Search finished for the next optimal point.\n",
            "Time taken: 183.6856\n",
            "Function value obtained: -0.9138\n",
            "Current minimum: -0.9148\n",
            "Iteration No: 31 started. Searching for the next optimal point.\n",
            "Iteration No: 31 ended. Search finished for the next optimal point.\n",
            "Time taken: 48.2313\n",
            "Function value obtained: -0.7858\n",
            "Current minimum: -0.9148\n",
            "Iteration No: 32 started. Searching for the next optimal point.\n",
            "Iteration No: 32 ended. Search finished for the next optimal point.\n",
            "Time taken: 192.7656\n",
            "Function value obtained: -0.9116\n",
            "Current minimum: -0.9148\n",
            "Iteration No: 33 started. Searching for the next optimal point.\n",
            "Iteration No: 33 ended. Search finished for the next optimal point.\n",
            "Time taken: 197.5176\n",
            "Function value obtained: -0.9103\n",
            "Current minimum: -0.9148\n",
            "Iteration No: 34 started. Searching for the next optimal point.\n",
            "Iteration No: 34 ended. Search finished for the next optimal point.\n",
            "Time taken: 191.6116\n",
            "Function value obtained: -0.9159\n",
            "Current minimum: -0.9159\n",
            "Iteration No: 35 started. Searching for the next optimal point.\n",
            "Iteration No: 35 ended. Search finished for the next optimal point.\n",
            "Time taken: 209.8024\n",
            "Function value obtained: -0.9109\n",
            "Current minimum: -0.9159\n",
            "Iteration No: 36 started. Searching for the next optimal point.\n",
            "Iteration No: 36 ended. Search finished for the next optimal point.\n",
            "Time taken: 186.4098\n",
            "Function value obtained: -0.9153\n",
            "Current minimum: -0.9159\n",
            "Iteration No: 37 started. Searching for the next optimal point.\n",
            "Iteration No: 37 ended. Search finished for the next optimal point.\n",
            "Time taken: 192.0702\n",
            "Function value obtained: -0.9142\n",
            "Current minimum: -0.9159\n",
            "Iteration No: 38 started. Searching for the next optimal point.\n"
          ],
          "name": "stdout"
        },
        {
          "output_type": "stream",
          "text": [
            "/usr/local/lib/python3.6/dist-packages/skopt/optimizer/optimizer.py:409: UserWarning: The objective has been evaluated at this point before.\n",
            "  warnings.warn(\"The objective has been evaluated \"\n"
          ],
          "name": "stderr"
        },
        {
          "output_type": "stream",
          "text": [
            "Iteration No: 38 ended. Search finished for the next optimal point.\n",
            "Time taken: 189.5757\n",
            "Function value obtained: -0.9153\n",
            "Current minimum: -0.9159\n",
            "Iteration No: 39 started. Searching for the next optimal point.\n",
            "Iteration No: 39 ended. Search finished for the next optimal point.\n",
            "Time taken: 193.3784\n",
            "Function value obtained: -0.9158\n",
            "Current minimum: -0.9159\n",
            "Iteration No: 40 started. Searching for the next optimal point.\n",
            "Iteration No: 40 ended. Search finished for the next optimal point.\n",
            "Time taken: 197.0921\n",
            "Function value obtained: -0.9153\n",
            "Current minimum: -0.9159\n",
            "Iteration No: 41 started. Searching for the next optimal point.\n",
            "Iteration No: 41 ended. Search finished for the next optimal point.\n",
            "Time taken: 196.0063\n",
            "Function value obtained: -0.9152\n",
            "Current minimum: -0.9159\n",
            "Iteration No: 42 started. Searching for the next optimal point.\n"
          ],
          "name": "stdout"
        },
        {
          "output_type": "stream",
          "text": [
            "/usr/local/lib/python3.6/dist-packages/skopt/optimizer/optimizer.py:409: UserWarning: The objective has been evaluated at this point before.\n",
            "  warnings.warn(\"The objective has been evaluated \"\n"
          ],
          "name": "stderr"
        },
        {
          "output_type": "stream",
          "text": [
            "Iteration No: 42 ended. Search finished for the next optimal point.\n",
            "Time taken: 201.9580\n",
            "Function value obtained: -0.9153\n",
            "Current minimum: -0.9159\n",
            "Iteration No: 43 started. Searching for the next optimal point.\n",
            "Iteration No: 43 ended. Search finished for the next optimal point.\n",
            "Time taken: 198.4245\n",
            "Function value obtained: -0.9144\n",
            "Current minimum: -0.9159\n",
            "Iteration No: 44 started. Searching for the next optimal point.\n"
          ],
          "name": "stdout"
        },
        {
          "output_type": "stream",
          "text": [
            "/usr/local/lib/python3.6/dist-packages/skopt/optimizer/optimizer.py:409: UserWarning: The objective has been evaluated at this point before.\n",
            "  warnings.warn(\"The objective has been evaluated \"\n"
          ],
          "name": "stderr"
        },
        {
          "output_type": "stream",
          "text": [
            "Iteration No: 44 ended. Search finished for the next optimal point.\n",
            "Time taken: 197.0207\n",
            "Function value obtained: -0.9153\n",
            "Current minimum: -0.9159\n",
            "Iteration No: 45 started. Searching for the next optimal point.\n",
            "Iteration No: 45 ended. Search finished for the next optimal point.\n",
            "Time taken: 51.0076\n",
            "Function value obtained: -0.7839\n",
            "Current minimum: -0.9159\n",
            "Iteration No: 46 started. Searching for the next optimal point.\n",
            "Iteration No: 46 ended. Search finished for the next optimal point.\n",
            "Time taken: 182.4391\n",
            "Function value obtained: -0.9152\n",
            "Current minimum: -0.9159\n",
            "Iteration No: 47 started. Searching for the next optimal point.\n",
            "Iteration No: 47 ended. Search finished for the next optimal point.\n",
            "Time taken: 180.7901\n",
            "Function value obtained: -0.9132\n",
            "Current minimum: -0.9159\n",
            "Iteration No: 48 started. Searching for the next optimal point.\n",
            "Iteration No: 48 ended. Search finished for the next optimal point.\n",
            "Time taken: 79.3731\n",
            "Function value obtained: -0.8895\n",
            "Current minimum: -0.9159\n",
            "Iteration No: 49 started. Searching for the next optimal point.\n",
            "Iteration No: 49 ended. Search finished for the next optimal point.\n",
            "Time taken: 145.7018\n",
            "Function value obtained: -0.9156\n",
            "Current minimum: -0.9159\n",
            "Iteration No: 50 started. Searching for the next optimal point.\n",
            "Iteration No: 50 ended. Search finished for the next optimal point.\n",
            "Time taken: 182.9328\n",
            "Function value obtained: -0.9155\n",
            "Current minimum: -0.9159\n",
            "Maximimum F_Beta found: 0.91590\n",
            "Optimal parameters:\n",
            "learning_rate: 0.9\n",
            "gamma: 0.25\n",
            "max_depth: 10\n",
            "min_child_weight: 7\n",
            "reg_lambda: 1\n",
            "reg_alpha: 1\n"
          ],
          "name": "stdout"
        },
        {
          "output_type": "display_data",
          "data": {
            "image/png": "[encoded data removed]",
            "text/plain": [
              "<Figure size 432x288 with 1 Axes>"
            ]
          },
          "metadata": {
            "tags": [],
            "needs_background": "light"
          }
        }
      ]
    },
    {
      "cell_type": "markdown",
      "metadata": {
        "id": "EL0wryJQCjpO",
        "colab_type": "text"
      },
      "source": [
        "XGBoost Classifier is giving the best F1_beta score for our dataset. Thus, we are finalizing the model now."
      ]
    },
    {
      "cell_type": "code",
      "metadata": {
        "id": "w0YYijCd5WLv",
        "colab_type": "code",
        "colab": {}
      },
      "source": [
        ""
      ],
      "execution_count": null,
      "outputs": []
    }
  ]
}