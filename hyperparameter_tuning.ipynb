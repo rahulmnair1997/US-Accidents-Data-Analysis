{
  "nbformat": 4,
  "nbformat_minor": 0,
  "metadata": {
    "colab": {
      "name": "hyperparameter_tuning.ipynb",
      "provenance": [],
      "collapsed_sections": [],
      "mount_file_id": "1aRV5DYZtKpcjRi_v2EGx6VuR5Y9CEvPn",
      "authorship_tag": "ABX9TyMRpKEIGcRQ97L4gOCAmk4d",
      "include_colab_link": true
    },
    "kernelspec": {
      "name": "python3",
      "display_name": "Python 3"
    }
  },
  "cells": [
    {
      "cell_type": "markdown",
      "metadata": {
        "id": "view-in-github",
        "colab_type": "text"
      },
      "source": [
        "<a href=\"https://colab.research.google.com/github/rahulmnair1997/US-accidents-data-analysis/blob/master/hyperparameter_tuning.ipynb\" target=\"_parent\"><img src=\"https://colab.research.google.com/assets/colab-badge.svg\" alt=\"Open In Colab\"/></a>"
      ]
    },
    {
      "cell_type": "code",
      "metadata": {
        "id": "-6RDf20XGZQU",
        "colab_type": "code",
        "colab": {
          "base_uri": "https://localhost:8080/",
          "height": 139
        },
        "outputId": "14cc22c5-75ec-41b1-86c9-69031c27efa6"
      },
      "source": [
        "!pip install scikit-optimize"
      ],
      "execution_count": 14,
      "outputs": [
        {
          "output_type": "stream",
          "text": [
            "Requirement already satisfied: scikit-optimize in /usr/local/lib/python3.6/dist-packages (0.7.4)\n",
            "Requirement already satisfied: numpy>=1.11.0 in /usr/local/lib/python3.6/dist-packages (from scikit-optimize) (1.18.5)\n",
            "Requirement already satisfied: joblib>=0.11 in /usr/local/lib/python3.6/dist-packages (from scikit-optimize) (0.15.1)\n",
            "Requirement already satisfied: pyaml>=16.9 in /usr/local/lib/python3.6/dist-packages (from scikit-optimize) (20.4.0)\n",
            "Requirement already satisfied: scikit-learn>=0.19.1 in /usr/local/lib/python3.6/dist-packages (from scikit-optimize) (0.22.2.post1)\n",
            "Requirement already satisfied: scipy>=0.18.0 in /usr/local/lib/python3.6/dist-packages (from scikit-optimize) (1.4.1)\n",
            "Requirement already satisfied: PyYAML in /usr/local/lib/python3.6/dist-packages (from pyaml>=16.9->scikit-optimize) (3.13)\n"
          ],
          "name": "stdout"
        }
      ]
    },
    {
      "cell_type": "code",
      "metadata": {
        "id": "Q0-3dwk3-_Xq",
        "colab_type": "code",
        "colab": {
          "base_uri": "https://localhost:8080/",
          "height": 69
        },
        "outputId": "e6f57ce1-f9e7-4c21-910a-032d01289d9c"
      },
      "source": [
        "!pip install xgboost"
      ],
      "execution_count": 15,
      "outputs": [
        {
          "output_type": "stream",
          "text": [
            "Requirement already satisfied: xgboost in /usr/local/lib/python3.6/dist-packages (0.90)\n",
            "Requirement already satisfied: numpy in /usr/local/lib/python3.6/dist-packages (from xgboost) (1.18.5)\n",
            "Requirement already satisfied: scipy in /usr/local/lib/python3.6/dist-packages (from xgboost) (1.4.1)\n"
          ],
          "name": "stdout"
        }
      ]
    },
    {
      "cell_type": "code",
      "metadata": {
        "id": "EAsWMIRq9lo1",
        "colab_type": "code",
        "colab": {}
      },
      "source": [
        "# load libraries\n",
        "import pandas as pd\n",
        "from scipy.optimize import brute\n",
        "from skopt import forest_minimize,gbrt_minimize,dummy_minimize\n",
        "from skopt import callbacks\n",
        "from sklearn.metrics import fbeta_score\n",
        "import numpy as np\n",
        "from sklearn.linear_model import LogisticRegression\n",
        "from sklearn.tree import DecisionTreeClassifier\n",
        "from sklearn.ensemble import RandomForestClassifier, AdaBoostClassifier, GradientBoostingClassifier\n",
        "from xgboost import XGBClassifier"
      ],
      "execution_count": 16,
      "outputs": []
    },
    {
      "cell_type": "code",
      "metadata": {
        "id": "WtYvLFtoPMCt",
        "colab_type": "code",
        "colab": {}
      },
      "source": [
        "# load data\n",
        "map_quest = pd.read_csv(\"/content/drive/My Drive/map_quest.csv\")"
      ],
      "execution_count": 17,
      "outputs": []
    },
    {
      "cell_type": "code",
      "metadata": {
        "id": "K_JdvNraC-JG",
        "colab_type": "code",
        "colab": {}
      },
      "source": [
        "# resample the data\n",
        "df_bl = pd.concat([map_quest[map_quest['Severity']==0].sample(10000, replace = True), \n",
        "                   map_quest[map_quest['Severity']==1].sample(10000, replace = True),\n",
        "                   map_quest[map_quest['Severity']==2].sample(10000, replace = True),\n",
        "                   map_quest[map_quest['Severity']==3].sample(10000, replace = True),\n",
        "                   map_quest[map_quest['Severity']==4].sample(10000, replace = True)], axis=0)"
      ],
      "execution_count": 18,
      "outputs": []
    },
    {
      "cell_type": "code",
      "metadata": {
        "id": "zuQQ_bpSDeHD",
        "colab_type": "code",
        "colab": {
          "base_uri": "https://localhost:8080/",
          "height": 461
        },
        "outputId": "918f3e4a-ee62-436c-8b2d-b82d6d407f94"
      },
      "source": [
        "df_bl"
      ],
      "execution_count": 19,
      "outputs": [
        {
          "output_type": "execute_result",
          "data": {
            "text/html": [
              "<div>\n",
              "<style scoped>\n",
              "    .dataframe tbody tr th:only-of-type {\n",
              "        vertical-align: middle;\n",
              "    }\n",
              "\n",
              "    .dataframe tbody tr th {\n",
              "        vertical-align: top;\n",
              "    }\n",
              "\n",
              "    .dataframe thead th {\n",
              "        text-align: right;\n",
              "    }\n",
              "</style>\n",
              "<table border=\"1\" class=\"dataframe\">\n",
              "  <thead>\n",
              "    <tr style=\"text-align: right;\">\n",
              "      <th></th>\n",
              "      <th>Unnamed: 0</th>\n",
              "      <th>TMC</th>\n",
              "      <th>Severity</th>\n",
              "      <th>Start_Lat</th>\n",
              "      <th>Start_Lng</th>\n",
              "      <th>Distance(mi)</th>\n",
              "      <th>Temperature(F)</th>\n",
              "      <th>Humidity(%)</th>\n",
              "      <th>Pressure(in)</th>\n",
              "      <th>Visibility(mi)</th>\n",
              "      <th>Wind_Speed(mph)</th>\n",
              "      <th>Duration</th>\n",
              "      <th>Visibility(mi))</th>\n",
              "      <th>County_freq</th>\n",
              "      <th>Zipcode_freq</th>\n",
              "      <th>Airport_Code_freq</th>\n",
              "      <th>Street_freq</th>\n",
              "      <th>Amenity_1</th>\n",
              "      <th>Crossing_1</th>\n",
              "      <th>Junction_1</th>\n",
              "      <th>Railway_1</th>\n",
              "      <th>Side_L</th>\n",
              "      <th>Side_R</th>\n",
              "      <th>State_AR</th>\n",
              "      <th>State_AZ</th>\n",
              "      <th>State_CA</th>\n",
              "      <th>State_CO</th>\n",
              "      <th>State_CT</th>\n",
              "      <th>State_DC</th>\n",
              "      <th>State_DE</th>\n",
              "      <th>State_FL</th>\n",
              "      <th>State_GA</th>\n",
              "      <th>State_IA</th>\n",
              "      <th>State_ID</th>\n",
              "      <th>State_IL</th>\n",
              "      <th>State_IN</th>\n",
              "      <th>State_KS</th>\n",
              "      <th>State_KY</th>\n",
              "      <th>State_LA</th>\n",
              "      <th>State_MA</th>\n",
              "      <th>...</th>\n",
              "      <th>Weather_Condition_Small Hail</th>\n",
              "      <th>Weather_Condition_Smoke</th>\n",
              "      <th>Weather_Condition_Snow</th>\n",
              "      <th>Weather_Condition_Snow Grains</th>\n",
              "      <th>Weather_Condition_Snow Showers</th>\n",
              "      <th>Weather_Condition_Squalls</th>\n",
              "      <th>Weather_Condition_Thunderstorm</th>\n",
              "      <th>Weather_Condition_Thunderstorms and Rain</th>\n",
              "      <th>Weather_Condition_Thunderstorms and Snow</th>\n",
              "      <th>Weather_Condition_Volcanic Ash</th>\n",
              "      <th>Weather_Condition_Widespread Dust</th>\n",
              "      <th>Wind_Direction_Clear</th>\n",
              "      <th>Wind_Direction_ENE</th>\n",
              "      <th>Wind_Direction_ESE</th>\n",
              "      <th>Wind_Direction_East</th>\n",
              "      <th>Wind_Direction_NE</th>\n",
              "      <th>Wind_Direction_NNE</th>\n",
              "      <th>Wind_Direction_NNW</th>\n",
              "      <th>Wind_Direction_NW</th>\n",
              "      <th>Wind_Direction_North</th>\n",
              "      <th>Wind_Direction_SE</th>\n",
              "      <th>Wind_Direction_SSE</th>\n",
              "      <th>Wind_Direction_SSW</th>\n",
              "      <th>Wind_Direction_SW</th>\n",
              "      <th>Wind_Direction_South</th>\n",
              "      <th>Wind_Direction_Variable</th>\n",
              "      <th>Wind_Direction_WNW</th>\n",
              "      <th>Wind_Direction_WSW</th>\n",
              "      <th>Wind_Direction_West</th>\n",
              "      <th>month_2</th>\n",
              "      <th>month_3</th>\n",
              "      <th>month_4</th>\n",
              "      <th>month_5</th>\n",
              "      <th>month_6</th>\n",
              "      <th>month_7</th>\n",
              "      <th>month_8</th>\n",
              "      <th>month_9</th>\n",
              "      <th>month_10</th>\n",
              "      <th>month_11</th>\n",
              "      <th>month_12</th>\n",
              "    </tr>\n",
              "  </thead>\n",
              "  <tbody>\n",
              "    <tr>\n",
              "      <th>1053662</th>\n",
              "      <td>1098128</td>\n",
              "      <td>201.0</td>\n",
              "      <td>0</td>\n",
              "      <td>29.445002</td>\n",
              "      <td>-98.360748</td>\n",
              "      <td>0.00</td>\n",
              "      <td>79.0</td>\n",
              "      <td>4.615121</td>\n",
              "      <td>3.439456</td>\n",
              "      <td>2.302585</td>\n",
              "      <td>1.916923</td>\n",
              "      <td>45</td>\n",
              "      <td>10.0</td>\n",
              "      <td>1.235181</td>\n",
              "      <td>1.271668</td>\n",
              "      <td>1.063890</td>\n",
              "      <td>1.112792</td>\n",
              "      <td>0</td>\n",
              "      <td>0</td>\n",
              "      <td>0</td>\n",
              "      <td>0</td>\n",
              "      <td>0</td>\n",
              "      <td>1</td>\n",
              "      <td>0</td>\n",
              "      <td>0</td>\n",
              "      <td>0</td>\n",
              "      <td>0</td>\n",
              "      <td>0</td>\n",
              "      <td>0</td>\n",
              "      <td>0</td>\n",
              "      <td>0</td>\n",
              "      <td>0</td>\n",
              "      <td>0</td>\n",
              "      <td>0</td>\n",
              "      <td>0</td>\n",
              "      <td>0</td>\n",
              "      <td>0</td>\n",
              "      <td>0</td>\n",
              "      <td>0</td>\n",
              "      <td>0</td>\n",
              "      <td>...</td>\n",
              "      <td>0</td>\n",
              "      <td>0</td>\n",
              "      <td>0</td>\n",
              "      <td>0</td>\n",
              "      <td>0</td>\n",
              "      <td>0</td>\n",
              "      <td>0</td>\n",
              "      <td>0</td>\n",
              "      <td>0</td>\n",
              "      <td>0</td>\n",
              "      <td>0</td>\n",
              "      <td>0</td>\n",
              "      <td>0</td>\n",
              "      <td>0</td>\n",
              "      <td>0</td>\n",
              "      <td>0</td>\n",
              "      <td>0</td>\n",
              "      <td>0</td>\n",
              "      <td>0</td>\n",
              "      <td>0</td>\n",
              "      <td>0</td>\n",
              "      <td>1</td>\n",
              "      <td>0</td>\n",
              "      <td>0</td>\n",
              "      <td>0</td>\n",
              "      <td>0</td>\n",
              "      <td>0</td>\n",
              "      <td>0</td>\n",
              "      <td>0</td>\n",
              "      <td>0</td>\n",
              "      <td>0</td>\n",
              "      <td>0</td>\n",
              "      <td>0</td>\n",
              "      <td>1</td>\n",
              "      <td>0</td>\n",
              "      <td>0</td>\n",
              "      <td>0</td>\n",
              "      <td>0</td>\n",
              "      <td>0</td>\n",
              "      <td>0</td>\n",
              "    </tr>\n",
              "    <tr>\n",
              "      <th>359731</th>\n",
              "      <td>373650</td>\n",
              "      <td>201.0</td>\n",
              "      <td>0</td>\n",
              "      <td>42.677380</td>\n",
              "      <td>-73.598572</td>\n",
              "      <td>0.01</td>\n",
              "      <td>44.1</td>\n",
              "      <td>3.401197</td>\n",
              "      <td>3.447763</td>\n",
              "      <td>2.397895</td>\n",
              "      <td>1.722767</td>\n",
              "      <td>44</td>\n",
              "      <td>10.0</td>\n",
              "      <td>3.777041</td>\n",
              "      <td>0.472471</td>\n",
              "      <td>3.516897</td>\n",
              "      <td>2.661058</td>\n",
              "      <td>0</td>\n",
              "      <td>0</td>\n",
              "      <td>0</td>\n",
              "      <td>0</td>\n",
              "      <td>0</td>\n",
              "      <td>1</td>\n",
              "      <td>0</td>\n",
              "      <td>0</td>\n",
              "      <td>0</td>\n",
              "      <td>0</td>\n",
              "      <td>0</td>\n",
              "      <td>0</td>\n",
              "      <td>0</td>\n",
              "      <td>0</td>\n",
              "      <td>0</td>\n",
              "      <td>0</td>\n",
              "      <td>0</td>\n",
              "      <td>0</td>\n",
              "      <td>0</td>\n",
              "      <td>0</td>\n",
              "      <td>0</td>\n",
              "      <td>0</td>\n",
              "      <td>0</td>\n",
              "      <td>...</td>\n",
              "      <td>0</td>\n",
              "      <td>0</td>\n",
              "      <td>0</td>\n",
              "      <td>0</td>\n",
              "      <td>0</td>\n",
              "      <td>0</td>\n",
              "      <td>0</td>\n",
              "      <td>0</td>\n",
              "      <td>0</td>\n",
              "      <td>0</td>\n",
              "      <td>0</td>\n",
              "      <td>0</td>\n",
              "      <td>0</td>\n",
              "      <td>0</td>\n",
              "      <td>0</td>\n",
              "      <td>0</td>\n",
              "      <td>0</td>\n",
              "      <td>0</td>\n",
              "      <td>0</td>\n",
              "      <td>0</td>\n",
              "      <td>0</td>\n",
              "      <td>0</td>\n",
              "      <td>0</td>\n",
              "      <td>0</td>\n",
              "      <td>0</td>\n",
              "      <td>0</td>\n",
              "      <td>1</td>\n",
              "      <td>0</td>\n",
              "      <td>0</td>\n",
              "      <td>0</td>\n",
              "      <td>1</td>\n",
              "      <td>0</td>\n",
              "      <td>0</td>\n",
              "      <td>0</td>\n",
              "      <td>0</td>\n",
              "      <td>0</td>\n",
              "      <td>0</td>\n",
              "      <td>0</td>\n",
              "      <td>0</td>\n",
              "      <td>0</td>\n",
              "    </tr>\n",
              "    <tr>\n",
              "      <th>564714</th>\n",
              "      <td>587453</td>\n",
              "      <td>201.0</td>\n",
              "      <td>0</td>\n",
              "      <td>34.278980</td>\n",
              "      <td>-83.901428</td>\n",
              "      <td>0.00</td>\n",
              "      <td>52.0</td>\n",
              "      <td>4.543295</td>\n",
              "      <td>3.442659</td>\n",
              "      <td>2.397895</td>\n",
              "      <td>2.208274</td>\n",
              "      <td>60</td>\n",
              "      <td>10.0</td>\n",
              "      <td>1.096383</td>\n",
              "      <td>3.294723</td>\n",
              "      <td>0.895795</td>\n",
              "      <td>6.880720</td>\n",
              "      <td>0</td>\n",
              "      <td>0</td>\n",
              "      <td>0</td>\n",
              "      <td>0</td>\n",
              "      <td>1</td>\n",
              "      <td>0</td>\n",
              "      <td>0</td>\n",
              "      <td>0</td>\n",
              "      <td>0</td>\n",
              "      <td>0</td>\n",
              "      <td>0</td>\n",
              "      <td>0</td>\n",
              "      <td>0</td>\n",
              "      <td>0</td>\n",
              "      <td>1</td>\n",
              "      <td>0</td>\n",
              "      <td>0</td>\n",
              "      <td>0</td>\n",
              "      <td>0</td>\n",
              "      <td>0</td>\n",
              "      <td>0</td>\n",
              "      <td>0</td>\n",
              "      <td>0</td>\n",
              "      <td>...</td>\n",
              "      <td>0</td>\n",
              "      <td>0</td>\n",
              "      <td>0</td>\n",
              "      <td>0</td>\n",
              "      <td>0</td>\n",
              "      <td>0</td>\n",
              "      <td>0</td>\n",
              "      <td>0</td>\n",
              "      <td>0</td>\n",
              "      <td>0</td>\n",
              "      <td>0</td>\n",
              "      <td>0</td>\n",
              "      <td>0</td>\n",
              "      <td>0</td>\n",
              "      <td>0</td>\n",
              "      <td>0</td>\n",
              "      <td>0</td>\n",
              "      <td>0</td>\n",
              "      <td>0</td>\n",
              "      <td>0</td>\n",
              "      <td>0</td>\n",
              "      <td>0</td>\n",
              "      <td>0</td>\n",
              "      <td>0</td>\n",
              "      <td>0</td>\n",
              "      <td>0</td>\n",
              "      <td>1</td>\n",
              "      <td>0</td>\n",
              "      <td>0</td>\n",
              "      <td>1</td>\n",
              "      <td>0</td>\n",
              "      <td>0</td>\n",
              "      <td>0</td>\n",
              "      <td>0</td>\n",
              "      <td>0</td>\n",
              "      <td>0</td>\n",
              "      <td>0</td>\n",
              "      <td>0</td>\n",
              "      <td>0</td>\n",
              "      <td>0</td>\n",
              "    </tr>\n",
              "    <tr>\n",
              "      <th>933813</th>\n",
              "      <td>972392</td>\n",
              "      <td>201.0</td>\n",
              "      <td>0</td>\n",
              "      <td>37.745972</td>\n",
              "      <td>-122.404305</td>\n",
              "      <td>1.06</td>\n",
              "      <td>59.0</td>\n",
              "      <td>3.806662</td>\n",
              "      <td>3.438493</td>\n",
              "      <td>2.302585</td>\n",
              "      <td>2.277434</td>\n",
              "      <td>29</td>\n",
              "      <td>10.0</td>\n",
              "      <td>1.448528</td>\n",
              "      <td>0.792044</td>\n",
              "      <td>2.625996</td>\n",
              "      <td>2.141522</td>\n",
              "      <td>0</td>\n",
              "      <td>0</td>\n",
              "      <td>0</td>\n",
              "      <td>0</td>\n",
              "      <td>0</td>\n",
              "      <td>1</td>\n",
              "      <td>0</td>\n",
              "      <td>0</td>\n",
              "      <td>1</td>\n",
              "      <td>0</td>\n",
              "      <td>0</td>\n",
              "      <td>0</td>\n",
              "      <td>0</td>\n",
              "      <td>0</td>\n",
              "      <td>0</td>\n",
              "      <td>0</td>\n",
              "      <td>0</td>\n",
              "      <td>0</td>\n",
              "      <td>0</td>\n",
              "      <td>0</td>\n",
              "      <td>0</td>\n",
              "      <td>0</td>\n",
              "      <td>0</td>\n",
              "      <td>...</td>\n",
              "      <td>0</td>\n",
              "      <td>0</td>\n",
              "      <td>0</td>\n",
              "      <td>0</td>\n",
              "      <td>0</td>\n",
              "      <td>0</td>\n",
              "      <td>0</td>\n",
              "      <td>0</td>\n",
              "      <td>0</td>\n",
              "      <td>0</td>\n",
              "      <td>0</td>\n",
              "      <td>0</td>\n",
              "      <td>0</td>\n",
              "      <td>0</td>\n",
              "      <td>0</td>\n",
              "      <td>0</td>\n",
              "      <td>0</td>\n",
              "      <td>0</td>\n",
              "      <td>0</td>\n",
              "      <td>0</td>\n",
              "      <td>0</td>\n",
              "      <td>0</td>\n",
              "      <td>0</td>\n",
              "      <td>0</td>\n",
              "      <td>0</td>\n",
              "      <td>0</td>\n",
              "      <td>1</td>\n",
              "      <td>0</td>\n",
              "      <td>0</td>\n",
              "      <td>0</td>\n",
              "      <td>0</td>\n",
              "      <td>0</td>\n",
              "      <td>0</td>\n",
              "      <td>0</td>\n",
              "      <td>0</td>\n",
              "      <td>1</td>\n",
              "      <td>0</td>\n",
              "      <td>0</td>\n",
              "      <td>0</td>\n",
              "      <td>0</td>\n",
              "    </tr>\n",
              "    <tr>\n",
              "      <th>733141</th>\n",
              "      <td>762713</td>\n",
              "      <td>201.0</td>\n",
              "      <td>0</td>\n",
              "      <td>35.413925</td>\n",
              "      <td>-97.441299</td>\n",
              "      <td>0.00</td>\n",
              "      <td>36.7</td>\n",
              "      <td>4.465908</td>\n",
              "      <td>3.415758</td>\n",
              "      <td>2.302585</td>\n",
              "      <td>2.525729</td>\n",
              "      <td>30</td>\n",
              "      <td>10.0</td>\n",
              "      <td>2.070006</td>\n",
              "      <td>2.593838</td>\n",
              "      <td>1.111324</td>\n",
              "      <td>2.060947</td>\n",
              "      <td>0</td>\n",
              "      <td>1</td>\n",
              "      <td>0</td>\n",
              "      <td>0</td>\n",
              "      <td>0</td>\n",
              "      <td>1</td>\n",
              "      <td>0</td>\n",
              "      <td>0</td>\n",
              "      <td>0</td>\n",
              "      <td>0</td>\n",
              "      <td>0</td>\n",
              "      <td>0</td>\n",
              "      <td>0</td>\n",
              "      <td>0</td>\n",
              "      <td>0</td>\n",
              "      <td>0</td>\n",
              "      <td>0</td>\n",
              "      <td>0</td>\n",
              "      <td>0</td>\n",
              "      <td>0</td>\n",
              "      <td>0</td>\n",
              "      <td>0</td>\n",
              "      <td>0</td>\n",
              "      <td>...</td>\n",
              "      <td>0</td>\n",
              "      <td>0</td>\n",
              "      <td>0</td>\n",
              "      <td>0</td>\n",
              "      <td>0</td>\n",
              "      <td>0</td>\n",
              "      <td>0</td>\n",
              "      <td>0</td>\n",
              "      <td>0</td>\n",
              "      <td>0</td>\n",
              "      <td>0</td>\n",
              "      <td>0</td>\n",
              "      <td>0</td>\n",
              "      <td>0</td>\n",
              "      <td>0</td>\n",
              "      <td>0</td>\n",
              "      <td>0</td>\n",
              "      <td>0</td>\n",
              "      <td>0</td>\n",
              "      <td>0</td>\n",
              "      <td>0</td>\n",
              "      <td>0</td>\n",
              "      <td>0</td>\n",
              "      <td>0</td>\n",
              "      <td>1</td>\n",
              "      <td>0</td>\n",
              "      <td>0</td>\n",
              "      <td>0</td>\n",
              "      <td>0</td>\n",
              "      <td>0</td>\n",
              "      <td>0</td>\n",
              "      <td>0</td>\n",
              "      <td>0</td>\n",
              "      <td>0</td>\n",
              "      <td>0</td>\n",
              "      <td>0</td>\n",
              "      <td>0</td>\n",
              "      <td>0</td>\n",
              "      <td>1</td>\n",
              "      <td>0</td>\n",
              "    </tr>\n",
              "    <tr>\n",
              "      <th>...</th>\n",
              "      <td>...</td>\n",
              "      <td>...</td>\n",
              "      <td>...</td>\n",
              "      <td>...</td>\n",
              "      <td>...</td>\n",
              "      <td>...</td>\n",
              "      <td>...</td>\n",
              "      <td>...</td>\n",
              "      <td>...</td>\n",
              "      <td>...</td>\n",
              "      <td>...</td>\n",
              "      <td>...</td>\n",
              "      <td>...</td>\n",
              "      <td>...</td>\n",
              "      <td>...</td>\n",
              "      <td>...</td>\n",
              "      <td>...</td>\n",
              "      <td>...</td>\n",
              "      <td>...</td>\n",
              "      <td>...</td>\n",
              "      <td>...</td>\n",
              "      <td>...</td>\n",
              "      <td>...</td>\n",
              "      <td>...</td>\n",
              "      <td>...</td>\n",
              "      <td>...</td>\n",
              "      <td>...</td>\n",
              "      <td>...</td>\n",
              "      <td>...</td>\n",
              "      <td>...</td>\n",
              "      <td>...</td>\n",
              "      <td>...</td>\n",
              "      <td>...</td>\n",
              "      <td>...</td>\n",
              "      <td>...</td>\n",
              "      <td>...</td>\n",
              "      <td>...</td>\n",
              "      <td>...</td>\n",
              "      <td>...</td>\n",
              "      <td>...</td>\n",
              "      <td>...</td>\n",
              "      <td>...</td>\n",
              "      <td>...</td>\n",
              "      <td>...</td>\n",
              "      <td>...</td>\n",
              "      <td>...</td>\n",
              "      <td>...</td>\n",
              "      <td>...</td>\n",
              "      <td>...</td>\n",
              "      <td>...</td>\n",
              "      <td>...</td>\n",
              "      <td>...</td>\n",
              "      <td>...</td>\n",
              "      <td>...</td>\n",
              "      <td>...</td>\n",
              "      <td>...</td>\n",
              "      <td>...</td>\n",
              "      <td>...</td>\n",
              "      <td>...</td>\n",
              "      <td>...</td>\n",
              "      <td>...</td>\n",
              "      <td>...</td>\n",
              "      <td>...</td>\n",
              "      <td>...</td>\n",
              "      <td>...</td>\n",
              "      <td>...</td>\n",
              "      <td>...</td>\n",
              "      <td>...</td>\n",
              "      <td>...</td>\n",
              "      <td>...</td>\n",
              "      <td>...</td>\n",
              "      <td>...</td>\n",
              "      <td>...</td>\n",
              "      <td>...</td>\n",
              "      <td>...</td>\n",
              "      <td>...</td>\n",
              "      <td>...</td>\n",
              "      <td>...</td>\n",
              "      <td>...</td>\n",
              "      <td>...</td>\n",
              "      <td>...</td>\n",
              "    </tr>\n",
              "    <tr>\n",
              "      <th>674339</th>\n",
              "      <td>701485</td>\n",
              "      <td>201.0</td>\n",
              "      <td>4</td>\n",
              "      <td>32.462265</td>\n",
              "      <td>-99.835823</td>\n",
              "      <td>0.87</td>\n",
              "      <td>32.0</td>\n",
              "      <td>4.430817</td>\n",
              "      <td>3.433665</td>\n",
              "      <td>2.397895</td>\n",
              "      <td>1.722767</td>\n",
              "      <td>29</td>\n",
              "      <td>10.0</td>\n",
              "      <td>3.124623</td>\n",
              "      <td>4.442056</td>\n",
              "      <td>2.511312</td>\n",
              "      <td>5.518673</td>\n",
              "      <td>0</td>\n",
              "      <td>0</td>\n",
              "      <td>0</td>\n",
              "      <td>0</td>\n",
              "      <td>0</td>\n",
              "      <td>1</td>\n",
              "      <td>0</td>\n",
              "      <td>0</td>\n",
              "      <td>0</td>\n",
              "      <td>0</td>\n",
              "      <td>0</td>\n",
              "      <td>0</td>\n",
              "      <td>0</td>\n",
              "      <td>0</td>\n",
              "      <td>0</td>\n",
              "      <td>0</td>\n",
              "      <td>0</td>\n",
              "      <td>0</td>\n",
              "      <td>0</td>\n",
              "      <td>0</td>\n",
              "      <td>0</td>\n",
              "      <td>0</td>\n",
              "      <td>0</td>\n",
              "      <td>...</td>\n",
              "      <td>0</td>\n",
              "      <td>0</td>\n",
              "      <td>0</td>\n",
              "      <td>0</td>\n",
              "      <td>0</td>\n",
              "      <td>0</td>\n",
              "      <td>0</td>\n",
              "      <td>0</td>\n",
              "      <td>0</td>\n",
              "      <td>0</td>\n",
              "      <td>0</td>\n",
              "      <td>0</td>\n",
              "      <td>0</td>\n",
              "      <td>0</td>\n",
              "      <td>0</td>\n",
              "      <td>0</td>\n",
              "      <td>0</td>\n",
              "      <td>0</td>\n",
              "      <td>1</td>\n",
              "      <td>0</td>\n",
              "      <td>0</td>\n",
              "      <td>0</td>\n",
              "      <td>0</td>\n",
              "      <td>0</td>\n",
              "      <td>0</td>\n",
              "      <td>0</td>\n",
              "      <td>0</td>\n",
              "      <td>0</td>\n",
              "      <td>0</td>\n",
              "      <td>0</td>\n",
              "      <td>0</td>\n",
              "      <td>0</td>\n",
              "      <td>0</td>\n",
              "      <td>0</td>\n",
              "      <td>0</td>\n",
              "      <td>0</td>\n",
              "      <td>0</td>\n",
              "      <td>0</td>\n",
              "      <td>0</td>\n",
              "      <td>1</td>\n",
              "    </tr>\n",
              "    <tr>\n",
              "      <th>783523</th>\n",
              "      <td>815256</td>\n",
              "      <td>201.0</td>\n",
              "      <td>4</td>\n",
              "      <td>25.931620</td>\n",
              "      <td>-80.204811</td>\n",
              "      <td>1.36</td>\n",
              "      <td>88.0</td>\n",
              "      <td>3.912023</td>\n",
              "      <td>3.439456</td>\n",
              "      <td>2.397895</td>\n",
              "      <td>2.322388</td>\n",
              "      <td>44</td>\n",
              "      <td>10.0</td>\n",
              "      <td>2.035041</td>\n",
              "      <td>4.387260</td>\n",
              "      <td>2.604411</td>\n",
              "      <td>1.725062</td>\n",
              "      <td>0</td>\n",
              "      <td>0</td>\n",
              "      <td>0</td>\n",
              "      <td>0</td>\n",
              "      <td>0</td>\n",
              "      <td>1</td>\n",
              "      <td>0</td>\n",
              "      <td>0</td>\n",
              "      <td>0</td>\n",
              "      <td>0</td>\n",
              "      <td>0</td>\n",
              "      <td>0</td>\n",
              "      <td>0</td>\n",
              "      <td>1</td>\n",
              "      <td>0</td>\n",
              "      <td>0</td>\n",
              "      <td>0</td>\n",
              "      <td>0</td>\n",
              "      <td>0</td>\n",
              "      <td>0</td>\n",
              "      <td>0</td>\n",
              "      <td>0</td>\n",
              "      <td>0</td>\n",
              "      <td>...</td>\n",
              "      <td>0</td>\n",
              "      <td>0</td>\n",
              "      <td>0</td>\n",
              "      <td>0</td>\n",
              "      <td>0</td>\n",
              "      <td>0</td>\n",
              "      <td>0</td>\n",
              "      <td>0</td>\n",
              "      <td>0</td>\n",
              "      <td>0</td>\n",
              "      <td>0</td>\n",
              "      <td>0</td>\n",
              "      <td>0</td>\n",
              "      <td>0</td>\n",
              "      <td>1</td>\n",
              "      <td>0</td>\n",
              "      <td>0</td>\n",
              "      <td>0</td>\n",
              "      <td>0</td>\n",
              "      <td>0</td>\n",
              "      <td>0</td>\n",
              "      <td>0</td>\n",
              "      <td>0</td>\n",
              "      <td>0</td>\n",
              "      <td>0</td>\n",
              "      <td>0</td>\n",
              "      <td>0</td>\n",
              "      <td>0</td>\n",
              "      <td>0</td>\n",
              "      <td>0</td>\n",
              "      <td>0</td>\n",
              "      <td>0</td>\n",
              "      <td>0</td>\n",
              "      <td>0</td>\n",
              "      <td>0</td>\n",
              "      <td>0</td>\n",
              "      <td>0</td>\n",
              "      <td>1</td>\n",
              "      <td>0</td>\n",
              "      <td>0</td>\n",
              "    </tr>\n",
              "    <tr>\n",
              "      <th>837917</th>\n",
              "      <td>871955</td>\n",
              "      <td>201.0</td>\n",
              "      <td>4</td>\n",
              "      <td>30.155022</td>\n",
              "      <td>-95.215393</td>\n",
              "      <td>3.19</td>\n",
              "      <td>93.0</td>\n",
              "      <td>4.043051</td>\n",
              "      <td>3.432696</td>\n",
              "      <td>2.397895</td>\n",
              "      <td>1.916923</td>\n",
              "      <td>59</td>\n",
              "      <td>10.0</td>\n",
              "      <td>2.665618</td>\n",
              "      <td>3.592677</td>\n",
              "      <td>1.777500</td>\n",
              "      <td>1.867105</td>\n",
              "      <td>0</td>\n",
              "      <td>0</td>\n",
              "      <td>0</td>\n",
              "      <td>0</td>\n",
              "      <td>0</td>\n",
              "      <td>1</td>\n",
              "      <td>0</td>\n",
              "      <td>0</td>\n",
              "      <td>0</td>\n",
              "      <td>0</td>\n",
              "      <td>0</td>\n",
              "      <td>0</td>\n",
              "      <td>0</td>\n",
              "      <td>0</td>\n",
              "      <td>0</td>\n",
              "      <td>0</td>\n",
              "      <td>0</td>\n",
              "      <td>0</td>\n",
              "      <td>0</td>\n",
              "      <td>0</td>\n",
              "      <td>0</td>\n",
              "      <td>0</td>\n",
              "      <td>0</td>\n",
              "      <td>...</td>\n",
              "      <td>0</td>\n",
              "      <td>0</td>\n",
              "      <td>0</td>\n",
              "      <td>0</td>\n",
              "      <td>0</td>\n",
              "      <td>0</td>\n",
              "      <td>0</td>\n",
              "      <td>0</td>\n",
              "      <td>0</td>\n",
              "      <td>0</td>\n",
              "      <td>0</td>\n",
              "      <td>0</td>\n",
              "      <td>0</td>\n",
              "      <td>0</td>\n",
              "      <td>0</td>\n",
              "      <td>0</td>\n",
              "      <td>0</td>\n",
              "      <td>0</td>\n",
              "      <td>0</td>\n",
              "      <td>0</td>\n",
              "      <td>0</td>\n",
              "      <td>0</td>\n",
              "      <td>0</td>\n",
              "      <td>0</td>\n",
              "      <td>0</td>\n",
              "      <td>1</td>\n",
              "      <td>0</td>\n",
              "      <td>0</td>\n",
              "      <td>0</td>\n",
              "      <td>0</td>\n",
              "      <td>0</td>\n",
              "      <td>0</td>\n",
              "      <td>0</td>\n",
              "      <td>0</td>\n",
              "      <td>0</td>\n",
              "      <td>1</td>\n",
              "      <td>0</td>\n",
              "      <td>0</td>\n",
              "      <td>0</td>\n",
              "      <td>0</td>\n",
              "    </tr>\n",
              "    <tr>\n",
              "      <th>1357803</th>\n",
              "      <td>1417714</td>\n",
              "      <td>406.0</td>\n",
              "      <td>4</td>\n",
              "      <td>25.780846</td>\n",
              "      <td>-80.199883</td>\n",
              "      <td>0.63</td>\n",
              "      <td>75.0</td>\n",
              "      <td>4.553877</td>\n",
              "      <td>3.437851</td>\n",
              "      <td>2.079442</td>\n",
              "      <td>1.722767</td>\n",
              "      <td>29</td>\n",
              "      <td>10.0</td>\n",
              "      <td>0.185089</td>\n",
              "      <td>0.140621</td>\n",
              "      <td>0.309572</td>\n",
              "      <td>0.948392</td>\n",
              "      <td>0</td>\n",
              "      <td>0</td>\n",
              "      <td>1</td>\n",
              "      <td>0</td>\n",
              "      <td>0</td>\n",
              "      <td>1</td>\n",
              "      <td>0</td>\n",
              "      <td>0</td>\n",
              "      <td>0</td>\n",
              "      <td>0</td>\n",
              "      <td>0</td>\n",
              "      <td>0</td>\n",
              "      <td>0</td>\n",
              "      <td>1</td>\n",
              "      <td>0</td>\n",
              "      <td>0</td>\n",
              "      <td>0</td>\n",
              "      <td>0</td>\n",
              "      <td>0</td>\n",
              "      <td>0</td>\n",
              "      <td>0</td>\n",
              "      <td>0</td>\n",
              "      <td>0</td>\n",
              "      <td>...</td>\n",
              "      <td>0</td>\n",
              "      <td>0</td>\n",
              "      <td>0</td>\n",
              "      <td>0</td>\n",
              "      <td>0</td>\n",
              "      <td>0</td>\n",
              "      <td>0</td>\n",
              "      <td>0</td>\n",
              "      <td>0</td>\n",
              "      <td>0</td>\n",
              "      <td>0</td>\n",
              "      <td>0</td>\n",
              "      <td>0</td>\n",
              "      <td>0</td>\n",
              "      <td>0</td>\n",
              "      <td>1</td>\n",
              "      <td>0</td>\n",
              "      <td>0</td>\n",
              "      <td>0</td>\n",
              "      <td>0</td>\n",
              "      <td>0</td>\n",
              "      <td>0</td>\n",
              "      <td>0</td>\n",
              "      <td>0</td>\n",
              "      <td>0</td>\n",
              "      <td>0</td>\n",
              "      <td>0</td>\n",
              "      <td>0</td>\n",
              "      <td>0</td>\n",
              "      <td>0</td>\n",
              "      <td>0</td>\n",
              "      <td>0</td>\n",
              "      <td>0</td>\n",
              "      <td>0</td>\n",
              "      <td>0</td>\n",
              "      <td>0</td>\n",
              "      <td>0</td>\n",
              "      <td>0</td>\n",
              "      <td>0</td>\n",
              "      <td>1</td>\n",
              "    </tr>\n",
              "    <tr>\n",
              "      <th>1057736</th>\n",
              "      <td>1102421</td>\n",
              "      <td>201.0</td>\n",
              "      <td>4</td>\n",
              "      <td>25.931620</td>\n",
              "      <td>-80.204338</td>\n",
              "      <td>1.87</td>\n",
              "      <td>84.0</td>\n",
              "      <td>4.110874</td>\n",
              "      <td>3.440739</td>\n",
              "      <td>2.397895</td>\n",
              "      <td>1.722767</td>\n",
              "      <td>27</td>\n",
              "      <td>10.0</td>\n",
              "      <td>3.686595</td>\n",
              "      <td>2.013901</td>\n",
              "      <td>1.505274</td>\n",
              "      <td>0.423426</td>\n",
              "      <td>0</td>\n",
              "      <td>0</td>\n",
              "      <td>0</td>\n",
              "      <td>0</td>\n",
              "      <td>0</td>\n",
              "      <td>1</td>\n",
              "      <td>0</td>\n",
              "      <td>0</td>\n",
              "      <td>0</td>\n",
              "      <td>0</td>\n",
              "      <td>0</td>\n",
              "      <td>0</td>\n",
              "      <td>0</td>\n",
              "      <td>1</td>\n",
              "      <td>0</td>\n",
              "      <td>0</td>\n",
              "      <td>0</td>\n",
              "      <td>0</td>\n",
              "      <td>0</td>\n",
              "      <td>0</td>\n",
              "      <td>0</td>\n",
              "      <td>0</td>\n",
              "      <td>0</td>\n",
              "      <td>...</td>\n",
              "      <td>0</td>\n",
              "      <td>0</td>\n",
              "      <td>0</td>\n",
              "      <td>0</td>\n",
              "      <td>0</td>\n",
              "      <td>0</td>\n",
              "      <td>0</td>\n",
              "      <td>0</td>\n",
              "      <td>0</td>\n",
              "      <td>0</td>\n",
              "      <td>0</td>\n",
              "      <td>0</td>\n",
              "      <td>0</td>\n",
              "      <td>0</td>\n",
              "      <td>0</td>\n",
              "      <td>0</td>\n",
              "      <td>0</td>\n",
              "      <td>0</td>\n",
              "      <td>0</td>\n",
              "      <td>0</td>\n",
              "      <td>0</td>\n",
              "      <td>0</td>\n",
              "      <td>0</td>\n",
              "      <td>0</td>\n",
              "      <td>0</td>\n",
              "      <td>0</td>\n",
              "      <td>1</td>\n",
              "      <td>0</td>\n",
              "      <td>0</td>\n",
              "      <td>0</td>\n",
              "      <td>0</td>\n",
              "      <td>0</td>\n",
              "      <td>0</td>\n",
              "      <td>1</td>\n",
              "      <td>0</td>\n",
              "      <td>0</td>\n",
              "      <td>0</td>\n",
              "      <td>0</td>\n",
              "      <td>0</td>\n",
              "      <td>0</td>\n",
              "    </tr>\n",
              "  </tbody>\n",
              "</table>\n",
              "<p>50000 rows × 166 columns</p>\n",
              "</div>"
            ],
            "text/plain": [
              "         Unnamed: 0    TMC  Severity  ...  month_10  month_11  month_12\n",
              "1053662     1098128  201.0         0  ...         0         0         0\n",
              "359731       373650  201.0         0  ...         0         0         0\n",
              "564714       587453  201.0         0  ...         0         0         0\n",
              "933813       972392  201.0         0  ...         0         0         0\n",
              "733141       762713  201.0         0  ...         0         1         0\n",
              "...             ...    ...       ...  ...       ...       ...       ...\n",
              "674339       701485  201.0         4  ...         0         0         1\n",
              "783523       815256  201.0         4  ...         1         0         0\n",
              "837917       871955  201.0         4  ...         0         0         0\n",
              "1357803     1417714  406.0         4  ...         0         0         1\n",
              "1057736     1102421  201.0         4  ...         0         0         0\n",
              "\n",
              "[50000 rows x 166 columns]"
            ]
          },
          "metadata": {
            "tags": []
          },
          "execution_count": 19
        }
      ]
    },
    {
      "cell_type": "code",
      "metadata": {
        "id": "s9OxfNSWPVSo",
        "colab_type": "code",
        "colab": {}
      },
      "source": [
        "# split X, y\n",
        "X = df_bl.drop('Severity', axis=1)\n",
        "y= df_bl['Severity']"
      ],
      "execution_count": 20,
      "outputs": []
    },
    {
      "cell_type": "code",
      "metadata": {
        "id": "4fNDhfQDPXKO",
        "colab_type": "code",
        "colab": {
          "base_uri": "https://localhost:8080/",
          "height": 34
        },
        "outputId": "75d1d667-ae6e-43d8-fb32-8d45be7899dd"
      },
      "source": [
        "X.isnull().values.any()"
      ],
      "execution_count": 21,
      "outputs": [
        {
          "output_type": "execute_result",
          "data": {
            "text/plain": [
              "True"
            ]
          },
          "metadata": {
            "tags": []
          },
          "execution_count": 21
        }
      ]
    },
    {
      "cell_type": "code",
      "metadata": {
        "id": "iKlgnjL-PYPv",
        "colab_type": "code",
        "colab": {
          "base_uri": "https://localhost:8080/",
          "height": 300
        },
        "outputId": "0303c4e5-daca-4fe6-b2bc-3be1e4c94076"
      },
      "source": [
        "# missing value percentage calculation\n",
        "missing = pd.DataFrame(df_bl.isnull().sum()).reset_index()\n",
        "missing.columns = ['Labels', 'Percentage']\n",
        "missing['Percentage'] = missing['Percentage'].apply(lambda x: (x/df_bl.shape[0])*100)\n",
        "missing.loc[missing['Percentage'] > 0, :].sort_values(by=['Percentage'], ascending=False)"
      ],
      "execution_count": 22,
      "outputs": [
        {
          "output_type": "execute_result",
          "data": {
            "text/html": [
              "<div>\n",
              "<style scoped>\n",
              "    .dataframe tbody tr th:only-of-type {\n",
              "        vertical-align: middle;\n",
              "    }\n",
              "\n",
              "    .dataframe tbody tr th {\n",
              "        vertical-align: top;\n",
              "    }\n",
              "\n",
              "    .dataframe thead th {\n",
              "        text-align: right;\n",
              "    }\n",
              "</style>\n",
              "<table border=\"1\" class=\"dataframe\">\n",
              "  <thead>\n",
              "    <tr style=\"text-align: right;\">\n",
              "      <th></th>\n",
              "      <th>Labels</th>\n",
              "      <th>Percentage</th>\n",
              "    </tr>\n",
              "  </thead>\n",
              "  <tbody>\n",
              "    <tr>\n",
              "      <th>7</th>\n",
              "      <td>Humidity(%)</td>\n",
              "      <td>3.502</td>\n",
              "    </tr>\n",
              "    <tr>\n",
              "      <th>8</th>\n",
              "      <td>Pressure(in)</td>\n",
              "      <td>3.502</td>\n",
              "    </tr>\n",
              "    <tr>\n",
              "      <th>9</th>\n",
              "      <td>Visibility(mi)</td>\n",
              "      <td>3.502</td>\n",
              "    </tr>\n",
              "    <tr>\n",
              "      <th>10</th>\n",
              "      <td>Wind_Speed(mph)</td>\n",
              "      <td>3.502</td>\n",
              "    </tr>\n",
              "    <tr>\n",
              "      <th>13</th>\n",
              "      <td>County_freq</td>\n",
              "      <td>3.502</td>\n",
              "    </tr>\n",
              "    <tr>\n",
              "      <th>14</th>\n",
              "      <td>Zipcode_freq</td>\n",
              "      <td>3.502</td>\n",
              "    </tr>\n",
              "    <tr>\n",
              "      <th>15</th>\n",
              "      <td>Airport_Code_freq</td>\n",
              "      <td>3.502</td>\n",
              "    </tr>\n",
              "    <tr>\n",
              "      <th>16</th>\n",
              "      <td>Street_freq</td>\n",
              "      <td>3.502</td>\n",
              "    </tr>\n",
              "  </tbody>\n",
              "</table>\n",
              "</div>"
            ],
            "text/plain": [
              "               Labels  Percentage\n",
              "7         Humidity(%)       3.502\n",
              "8        Pressure(in)       3.502\n",
              "9      Visibility(mi)       3.502\n",
              "10    Wind_Speed(mph)       3.502\n",
              "13        County_freq       3.502\n",
              "14       Zipcode_freq       3.502\n",
              "15  Airport_Code_freq       3.502\n",
              "16        Street_freq       3.502"
            ]
          },
          "metadata": {
            "tags": []
          },
          "execution_count": 22
        }
      ]
    },
    {
      "cell_type": "code",
      "metadata": {
        "id": "PuK-EKZPPZns",
        "colab_type": "code",
        "colab": {}
      },
      "source": [
        "df_bl = df_bl.dropna(subset=['Humidity(%)', 'Pressure(in)', 'Visibility(mi)', 'Wind_Speed(mph)', \n",
        "                                    'County_freq', 'Zipcode_freq', 'Airport_Code_freq', 'Street_freq'])"
      ],
      "execution_count": 23,
      "outputs": []
    },
    {
      "cell_type": "code",
      "metadata": {
        "id": "N2sj0LNwPbH4",
        "colab_type": "code",
        "colab": {}
      },
      "source": [
        "X = df_bl.drop('Severity', axis=1)"
      ],
      "execution_count": 24,
      "outputs": []
    },
    {
      "cell_type": "code",
      "metadata": {
        "id": "f7R58Cw9Pd7C",
        "colab_type": "code",
        "colab": {}
      },
      "source": [
        "y= df_bl['Severity']"
      ],
      "execution_count": 25,
      "outputs": []
    },
    {
      "cell_type": "code",
      "metadata": {
        "id": "chFXwaUZPgvQ",
        "colab_type": "code",
        "colab": {}
      },
      "source": [
        "# Standardizing the features based on unit variance\n",
        "from sklearn.preprocessing import StandardScaler\n",
        "X = StandardScaler().fit_transform(X)"
      ],
      "execution_count": 26,
      "outputs": []
    },
    {
      "cell_type": "code",
      "metadata": {
        "id": "T2XmHjQcPiYr",
        "colab_type": "code",
        "colab": {}
      },
      "source": [
        "# split train test\n",
        "from sklearn.model_selection import train_test_split\n",
        "X_train, X_test, y_train, y_test = train_test_split(X, y, test_size=0.30, random_state=42)"
      ],
      "execution_count": 27,
      "outputs": []
    },
    {
      "cell_type": "markdown",
      "metadata": {
        "id": "WzHA2RUe9Xqk",
        "colab_type": "text"
      },
      "source": [
        "# Logistic Regression"
      ]
    },
    {
      "cell_type": "code",
      "metadata": {
        "id": "DN-AncvJEEeQ",
        "colab_type": "code",
        "colab": {
          "base_uri": "https://localhost:8080/",
          "height": 1000
        },
        "outputId": "c8855ad3-50f0-44c3-d26c-9fcee8fca7d8"
      },
      "source": [
        "# Bayesian Optimization\n",
        "num_thread=50\n",
        "params = ['penalty', 'C', 'max_iter']\n",
        "\n",
        "#for model include item_Features\n",
        "def objective(params):\n",
        "    # unpack\n",
        "    penalty, C, max_iter = params\n",
        "    \n",
        "    model_iii = LogisticRegression(penalty, dual=False, C=C, random_state=60616, solver='sag', max_iter=max_iter)\n",
        "    model_iii.fit(X_train, y_train)\n",
        "    \n",
        "    y_pred = model_iii.predict(X_test)\n",
        "    fbeta = fbeta_score(y_test, y_pred, beta=0.5, average='weighted')\n",
        "\n",
        "    out = -fbeta\n",
        "    # Handle some numerical issue going on\n",
        "    if np.abs(out + 1) < 0.01 or out < -1.0:\n",
        "        return 0.0\n",
        "    else:\n",
        "        return out\n",
        "\n",
        "space = [('l2', 'none'),\n",
        "         (0.001, 0.009, 0.01, 0.09, 1, 5, 10, 25),\n",
        "         (1000, 10000, 100000),\n",
        "        ]\n",
        "\n",
        "try:\n",
        "    res_fm = forest_minimize(objective, space, n_calls=50,\n",
        "                     random_state=60616,base_estimator= 'RF',acq_func='PI',\n",
        "                     verbose=True, n_jobs=num_thread)\n",
        "except ValueError:\n",
        "    print('Forest diverged, random search intialized')\n",
        "    res_fm = dummy_minimize(objective, space, n_calls=30,\n",
        "         random_state=60616,\n",
        "         verbose=True)\n",
        "\n",
        "print('Maximimum F_Beta found: {:6.5f}'.format(-res_fm.fun))\n",
        "print('Optimal parameters:')\n",
        "\n",
        "for (p, x_) in zip(params, res_fm.x):\n",
        "    print('{}: {}'.format(p, x_))\n",
        "from skopt.plots import plot_convergence\n",
        "plot_convergence(res_fm);"
      ],
      "execution_count": null,
      "outputs": [
        {
          "output_type": "stream",
          "text": [
            "Iteration No: 1 started. Evaluating function at random point.\n",
            "Iteration No: 1 ended. Evaluation done at random point.\n",
            "Time taken: 449.8235\n",
            "Function value obtained: -0.6429\n",
            "Current minimum: -0.6429\n",
            "Iteration No: 2 started. Evaluating function at random point.\n",
            "Iteration No: 2 ended. Evaluation done at random point.\n",
            "Time taken: 193.7769\n",
            "Function value obtained: -0.6368\n",
            "Current minimum: -0.6429\n",
            "Iteration No: 3 started. Evaluating function at random point.\n"
          ],
          "name": "stdout"
        },
        {
          "output_type": "stream",
          "text": [
            "/usr/local/lib/python3.6/dist-packages/sklearn/linear_model/_sag.py:330: ConvergenceWarning: The max_iter was reached which means the coef_ did not converge\n",
            "  \"the coef_ did not converge\", ConvergenceWarning)\n",
            "/usr/local/lib/python3.6/dist-packages/sklearn/linear_model/_logistic.py:1505: UserWarning: Setting penalty='none' will ignore the C and l1_ratio parameters\n",
            "  \"Setting penalty='none' will ignore the C and l1_ratio \"\n"
          ],
          "name": "stderr"
        },
        {
          "output_type": "stream",
          "text": [
            "Iteration No: 3 ended. Evaluation done at random point.\n",
            "Time taken: 155.3954\n",
            "Function value obtained: -0.6413\n",
            "Current minimum: -0.6429\n",
            "Iteration No: 4 started. Evaluating function at random point.\n",
            "Iteration No: 4 ended. Evaluation done at random point.\n",
            "Time taken: 454.3594\n",
            "Function value obtained: -0.6429\n",
            "Current minimum: -0.6429\n",
            "Iteration No: 5 started. Evaluating function at random point.\n"
          ],
          "name": "stdout"
        },
        {
          "output_type": "stream",
          "text": [
            "/usr/local/lib/python3.6/dist-packages/sklearn/linear_model/_logistic.py:1505: UserWarning: Setting penalty='none' will ignore the C and l1_ratio parameters\n",
            "  \"Setting penalty='none' will ignore the C and l1_ratio \"\n",
            "/usr/local/lib/python3.6/dist-packages/sklearn/linear_model/_sag.py:330: ConvergenceWarning: The max_iter was reached which means the coef_ did not converge\n",
            "  \"the coef_ did not converge\", ConvergenceWarning)\n",
            "/usr/local/lib/python3.6/dist-packages/sklearn/linear_model/_logistic.py:1505: UserWarning: Setting penalty='none' will ignore the C and l1_ratio parameters\n",
            "  \"Setting penalty='none' will ignore the C and l1_ratio \"\n"
          ],
          "name": "stderr"
        },
        {
          "output_type": "stream",
          "text": [
            "Iteration No: 5 ended. Evaluation done at random point.\n",
            "Time taken: 155.1333\n",
            "Function value obtained: -0.6415\n",
            "Current minimum: -0.6429\n",
            "Iteration No: 6 started. Evaluating function at random point.\n"
          ],
          "name": "stdout"
        },
        {
          "output_type": "stream",
          "text": [
            "/usr/local/lib/python3.6/dist-packages/sklearn/linear_model/_sag.py:330: ConvergenceWarning: The max_iter was reached which means the coef_ did not converge\n",
            "  \"the coef_ did not converge\", ConvergenceWarning)\n"
          ],
          "name": "stderr"
        },
        {
          "output_type": "stream",
          "text": [
            "Iteration No: 6 ended. Evaluation done at random point.\n",
            "Time taken: 155.6279\n",
            "Function value obtained: -0.6415\n",
            "Current minimum: -0.6429\n",
            "Iteration No: 7 started. Evaluating function at random point.\n",
            "Iteration No: 7 ended. Evaluation done at random point.\n",
            "Time taken: 52.3490\n",
            "Function value obtained: -0.6257\n",
            "Current minimum: -0.6429\n",
            "Iteration No: 8 started. Evaluating function at random point.\n",
            "Iteration No: 8 ended. Evaluation done at random point.\n",
            "Time taken: 457.6202\n",
            "Function value obtained: -0.6429\n",
            "Current minimum: -0.6429\n",
            "Iteration No: 9 started. Evaluating function at random point.\n"
          ],
          "name": "stdout"
        },
        {
          "output_type": "stream",
          "text": [
            "/usr/local/lib/python3.6/dist-packages/sklearn/linear_model/_logistic.py:1505: UserWarning: Setting penalty='none' will ignore the C and l1_ratio parameters\n",
            "  \"Setting penalty='none' will ignore the C and l1_ratio \"\n"
          ],
          "name": "stderr"
        },
        {
          "output_type": "stream",
          "text": [
            "Iteration No: 9 ended. Evaluation done at random point.\n",
            "Time taken: 454.0960\n",
            "Function value obtained: -0.6429\n",
            "Current minimum: -0.6429\n",
            "Iteration No: 10 started. Evaluating function at random point.\n",
            "Iteration No: 10 ended. Evaluation done at random point.\n",
            "Time taken: 438.0567\n",
            "Function value obtained: -0.6425\n",
            "Current minimum: -0.6429\n",
            "Iteration No: 11 started. Searching for the next optimal point.\n",
            "Iteration No: 11 ended. Search finished for the next optimal point.\n",
            "Time taken: 439.4435\n",
            "Function value obtained: -0.6425\n",
            "Current minimum: -0.6429\n",
            "Iteration No: 12 started. Searching for the next optimal point.\n"
          ],
          "name": "stdout"
        },
        {
          "output_type": "stream",
          "text": [
            "/usr/local/lib/python3.6/dist-packages/skopt/optimizer/optimizer.py:409: UserWarning: The objective has been evaluated at this point before.\n",
            "  warnings.warn(\"The objective has been evaluated \"\n"
          ],
          "name": "stderr"
        },
        {
          "output_type": "stream",
          "text": [
            "Iteration No: 12 ended. Search finished for the next optimal point.\n",
            "Time taken: 454.0628\n",
            "Function value obtained: -0.6429\n",
            "Current minimum: -0.6429\n",
            "Iteration No: 13 started. Searching for the next optimal point.\n",
            "Iteration No: 13 ended. Search finished for the next optimal point.\n",
            "Time taken: 447.8783\n",
            "Function value obtained: -0.6425\n",
            "Current minimum: -0.6429\n",
            "Iteration No: 14 started. Searching for the next optimal point.\n",
            "Iteration No: 14 ended. Search finished for the next optimal point.\n",
            "Time taken: 9.8250\n",
            "Function value obtained: -0.6044\n",
            "Current minimum: -0.6429\n",
            "Iteration No: 15 started. Searching for the next optimal point.\n"
          ],
          "name": "stdout"
        },
        {
          "output_type": "stream",
          "text": [
            "/usr/local/lib/python3.6/dist-packages/sklearn/linear_model/_logistic.py:1505: UserWarning: Setting penalty='none' will ignore the C and l1_ratio parameters\n",
            "  \"Setting penalty='none' will ignore the C and l1_ratio \"\n"
          ],
          "name": "stderr"
        },
        {
          "output_type": "stream",
          "text": [
            "Iteration No: 15 ended. Search finished for the next optimal point.\n",
            "Time taken: 455.2426\n",
            "Function value obtained: -0.6429\n",
            "Current minimum: -0.6429\n",
            "Iteration No: 16 started. Searching for the next optimal point.\n"
          ],
          "name": "stdout"
        },
        {
          "output_type": "stream",
          "text": [
            "/usr/local/lib/python3.6/dist-packages/sklearn/linear_model/_logistic.py:1505: UserWarning: Setting penalty='none' will ignore the C and l1_ratio parameters\n",
            "  \"Setting penalty='none' will ignore the C and l1_ratio \"\n"
          ],
          "name": "stderr"
        },
        {
          "output_type": "stream",
          "text": [
            "Iteration No: 16 ended. Search finished for the next optimal point.\n",
            "Time taken: 454.7962\n",
            "Function value obtained: -0.6429\n",
            "Current minimum: -0.6429\n",
            "Iteration No: 17 started. Searching for the next optimal point.\n"
          ],
          "name": "stdout"
        },
        {
          "output_type": "stream",
          "text": [
            "/usr/local/lib/python3.6/dist-packages/skopt/optimizer/optimizer.py:409: UserWarning: The objective has been evaluated at this point before.\n",
            "  warnings.warn(\"The objective has been evaluated \"\n"
          ],
          "name": "stderr"
        },
        {
          "output_type": "stream",
          "text": [
            "Iteration No: 17 ended. Search finished for the next optimal point.\n",
            "Time taken: 449.1315\n",
            "Function value obtained: -0.6425\n",
            "Current minimum: -0.6429\n",
            "Iteration No: 18 started. Searching for the next optimal point.\n"
          ],
          "name": "stdout"
        },
        {
          "output_type": "stream",
          "text": [
            "/usr/local/lib/python3.6/dist-packages/skopt/optimizer/optimizer.py:409: UserWarning: The objective has been evaluated at this point before.\n",
            "  warnings.warn(\"The objective has been evaluated \"\n"
          ],
          "name": "stderr"
        },
        {
          "output_type": "stream",
          "text": [
            "Iteration No: 18 ended. Search finished for the next optimal point.\n",
            "Time taken: 443.1724\n",
            "Function value obtained: -0.6425\n",
            "Current minimum: -0.6429\n",
            "Iteration No: 19 started. Searching for the next optimal point.\n"
          ],
          "name": "stdout"
        },
        {
          "output_type": "stream",
          "text": [
            "/usr/local/lib/python3.6/dist-packages/skopt/optimizer/optimizer.py:409: UserWarning: The objective has been evaluated at this point before.\n",
            "  warnings.warn(\"The objective has been evaluated \"\n"
          ],
          "name": "stderr"
        },
        {
          "output_type": "stream",
          "text": [
            "Iteration No: 19 ended. Search finished for the next optimal point.\n",
            "Time taken: 450.7987\n",
            "Function value obtained: -0.6429\n",
            "Current minimum: -0.6429\n",
            "Iteration No: 20 started. Searching for the next optimal point.\n"
          ],
          "name": "stdout"
        },
        {
          "output_type": "stream",
          "text": [
            "/usr/local/lib/python3.6/dist-packages/skopt/optimizer/optimizer.py:409: UserWarning: The objective has been evaluated at this point before.\n",
            "  warnings.warn(\"The objective has been evaluated \"\n"
          ],
          "name": "stderr"
        },
        {
          "output_type": "stream",
          "text": [
            "Iteration No: 20 ended. Search finished for the next optimal point.\n",
            "Time taken: 450.5933\n",
            "Function value obtained: -0.6429\n",
            "Current minimum: -0.6429\n",
            "Iteration No: 21 started. Searching for the next optimal point.\n"
          ],
          "name": "stdout"
        },
        {
          "output_type": "stream",
          "text": [
            "/usr/local/lib/python3.6/dist-packages/skopt/optimizer/optimizer.py:409: UserWarning: The objective has been evaluated at this point before.\n",
            "  warnings.warn(\"The objective has been evaluated \"\n"
          ],
          "name": "stderr"
        },
        {
          "output_type": "stream",
          "text": [
            "Iteration No: 21 ended. Search finished for the next optimal point.\n",
            "Time taken: 453.5832\n",
            "Function value obtained: -0.6429\n",
            "Current minimum: -0.6429\n",
            "Iteration No: 22 started. Searching for the next optimal point.\n"
          ],
          "name": "stdout"
        },
        {
          "output_type": "stream",
          "text": [
            "/usr/local/lib/python3.6/dist-packages/skopt/optimizer/optimizer.py:409: UserWarning: The objective has been evaluated at this point before.\n",
            "  warnings.warn(\"The objective has been evaluated \"\n"
          ],
          "name": "stderr"
        },
        {
          "output_type": "stream",
          "text": [
            "Iteration No: 22 ended. Search finished for the next optimal point.\n",
            "Time taken: 445.4356\n",
            "Function value obtained: -0.6425\n",
            "Current minimum: -0.6429\n",
            "Iteration No: 23 started. Searching for the next optimal point.\n"
          ],
          "name": "stdout"
        },
        {
          "output_type": "stream",
          "text": [
            "/usr/local/lib/python3.6/dist-packages/skopt/optimizer/optimizer.py:409: UserWarning: The objective has been evaluated at this point before.\n",
            "  warnings.warn(\"The objective has been evaluated \"\n"
          ],
          "name": "stderr"
        },
        {
          "output_type": "stream",
          "text": [
            "Iteration No: 23 ended. Search finished for the next optimal point.\n",
            "Time taken: 444.0988\n",
            "Function value obtained: -0.6425\n",
            "Current minimum: -0.6429\n",
            "Iteration No: 24 started. Searching for the next optimal point.\n"
          ],
          "name": "stdout"
        },
        {
          "output_type": "stream",
          "text": [
            "/usr/local/lib/python3.6/dist-packages/skopt/optimizer/optimizer.py:409: UserWarning: The objective has been evaluated at this point before.\n",
            "  warnings.warn(\"The objective has been evaluated \"\n"
          ],
          "name": "stderr"
        },
        {
          "output_type": "stream",
          "text": [
            "Iteration No: 24 ended. Search finished for the next optimal point.\n",
            "Time taken: 442.7040\n",
            "Function value obtained: -0.6425\n",
            "Current minimum: -0.6429\n",
            "Iteration No: 25 started. Searching for the next optimal point.\n",
            "Iteration No: 25 ended. Search finished for the next optimal point.\n",
            "Time taken: 192.8063\n",
            "Function value obtained: -0.6368\n",
            "Current minimum: -0.6429\n",
            "Iteration No: 26 started. Searching for the next optimal point.\n"
          ],
          "name": "stdout"
        },
        {
          "output_type": "stream",
          "text": [
            "/usr/local/lib/python3.6/dist-packages/skopt/optimizer/optimizer.py:409: UserWarning: The objective has been evaluated at this point before.\n",
            "  warnings.warn(\"The objective has been evaluated \"\n"
          ],
          "name": "stderr"
        },
        {
          "output_type": "stream",
          "text": [
            "Iteration No: 26 ended. Search finished for the next optimal point.\n",
            "Time taken: 448.6865\n",
            "Function value obtained: -0.6429\n",
            "Current minimum: -0.6429\n",
            "Iteration No: 27 started. Searching for the next optimal point.\n"
          ],
          "name": "stdout"
        },
        {
          "output_type": "stream",
          "text": [
            "/usr/local/lib/python3.6/dist-packages/skopt/optimizer/optimizer.py:409: UserWarning: The objective has been evaluated at this point before.\n",
            "  warnings.warn(\"The objective has been evaluated \"\n"
          ],
          "name": "stderr"
        },
        {
          "output_type": "stream",
          "text": [
            "Iteration No: 27 ended. Search finished for the next optimal point.\n",
            "Time taken: 443.7824\n",
            "Function value obtained: -0.6425\n",
            "Current minimum: -0.6429\n",
            "Iteration No: 28 started. Searching for the next optimal point.\n"
          ],
          "name": "stdout"
        },
        {
          "output_type": "stream",
          "text": [
            "/usr/local/lib/python3.6/dist-packages/skopt/optimizer/optimizer.py:409: UserWarning: The objective has been evaluated at this point before.\n",
            "  warnings.warn(\"The objective has been evaluated \"\n"
          ],
          "name": "stderr"
        },
        {
          "output_type": "stream",
          "text": [
            "Iteration No: 28 ended. Search finished for the next optimal point.\n",
            "Time taken: 451.8799\n",
            "Function value obtained: -0.6429\n",
            "Current minimum: -0.6429\n",
            "Iteration No: 29 started. Searching for the next optimal point.\n",
            "Iteration No: 29 ended. Search finished for the next optimal point.\n",
            "Time taken: 389.8590\n",
            "Function value obtained: -0.6431\n",
            "Current minimum: -0.6431\n",
            "Iteration No: 30 started. Searching for the next optimal point.\n"
          ],
          "name": "stdout"
        },
        {
          "output_type": "stream",
          "text": [
            "/usr/local/lib/python3.6/dist-packages/skopt/optimizer/optimizer.py:409: UserWarning: The objective has been evaluated at this point before.\n",
            "  warnings.warn(\"The objective has been evaluated \"\n"
          ],
          "name": "stderr"
        },
        {
          "output_type": "stream",
          "text": [
            "Iteration No: 30 ended. Search finished for the next optimal point.\n",
            "Time taken: 389.6936\n",
            "Function value obtained: -0.6431\n",
            "Current minimum: -0.6431\n",
            "Iteration No: 31 started. Searching for the next optimal point.\n"
          ],
          "name": "stdout"
        },
        {
          "output_type": "stream",
          "text": [
            "/usr/local/lib/python3.6/dist-packages/skopt/optimizer/optimizer.py:409: UserWarning: The objective has been evaluated at this point before.\n",
            "  warnings.warn(\"The objective has been evaluated \"\n"
          ],
          "name": "stderr"
        },
        {
          "output_type": "stream",
          "text": [
            "Iteration No: 31 ended. Search finished for the next optimal point.\n",
            "Time taken: 389.3623\n",
            "Function value obtained: -0.6431\n",
            "Current minimum: -0.6431\n",
            "Iteration No: 32 started. Searching for the next optimal point.\n"
          ],
          "name": "stdout"
        },
        {
          "output_type": "stream",
          "text": [
            "/usr/local/lib/python3.6/dist-packages/skopt/optimizer/optimizer.py:409: UserWarning: The objective has been evaluated at this point before.\n",
            "  warnings.warn(\"The objective has been evaluated \"\n"
          ],
          "name": "stderr"
        },
        {
          "output_type": "stream",
          "text": [
            "Iteration No: 32 ended. Search finished for the next optimal point.\n",
            "Time taken: 388.5694\n",
            "Function value obtained: -0.6431\n",
            "Current minimum: -0.6431\n",
            "Iteration No: 33 started. Searching for the next optimal point.\n"
          ],
          "name": "stdout"
        },
        {
          "output_type": "stream",
          "text": [
            "/usr/local/lib/python3.6/dist-packages/sklearn/linear_model/_logistic.py:1505: UserWarning: Setting penalty='none' will ignore the C and l1_ratio parameters\n",
            "  \"Setting penalty='none' will ignore the C and l1_ratio \"\n"
          ],
          "name": "stderr"
        },
        {
          "output_type": "stream",
          "text": [
            "Iteration No: 33 ended. Search finished for the next optimal point.\n",
            "Time taken: 451.8684\n",
            "Function value obtained: -0.6429\n",
            "Current minimum: -0.6431\n",
            "Iteration No: 34 started. Searching for the next optimal point.\n",
            "Iteration No: 34 ended. Search finished for the next optimal point.\n",
            "Time taken: 48.7274\n",
            "Function value obtained: -0.6246\n",
            "Current minimum: -0.6431\n",
            "Iteration No: 35 started. Searching for the next optimal point.\n"
          ],
          "name": "stdout"
        },
        {
          "output_type": "stream",
          "text": [
            "/usr/local/lib/python3.6/dist-packages/sklearn/linear_model/_logistic.py:1505: UserWarning: Setting penalty='none' will ignore the C and l1_ratio parameters\n",
            "  \"Setting penalty='none' will ignore the C and l1_ratio \"\n"
          ],
          "name": "stderr"
        },
        {
          "output_type": "stream",
          "text": [
            "Iteration No: 35 ended. Search finished for the next optimal point.\n",
            "Time taken: 450.3183\n",
            "Function value obtained: -0.6429\n",
            "Current minimum: -0.6431\n",
            "Iteration No: 36 started. Searching for the next optimal point.\n",
            "Iteration No: 36 ended. Search finished for the next optimal point.\n",
            "Time taken: 9.8672\n",
            "Function value obtained: -0.6044\n",
            "Current minimum: -0.6431\n",
            "Iteration No: 37 started. Searching for the next optimal point.\n"
          ],
          "name": "stdout"
        },
        {
          "output_type": "stream",
          "text": [
            "/usr/local/lib/python3.6/dist-packages/sklearn/linear_model/_logistic.py:1505: UserWarning: Setting penalty='none' will ignore the C and l1_ratio parameters\n",
            "  \"Setting penalty='none' will ignore the C and l1_ratio \"\n"
          ],
          "name": "stderr"
        },
        {
          "output_type": "stream",
          "text": [
            "Iteration No: 37 ended. Search finished for the next optimal point.\n",
            "Time taken: 450.6667\n",
            "Function value obtained: -0.6429\n",
            "Current minimum: -0.6431\n",
            "Iteration No: 38 started. Searching for the next optimal point.\n"
          ],
          "name": "stdout"
        },
        {
          "output_type": "stream",
          "text": [
            "/usr/local/lib/python3.6/dist-packages/skopt/optimizer/optimizer.py:409: UserWarning: The objective has been evaluated at this point before.\n",
            "  warnings.warn(\"The objective has been evaluated \"\n",
            "/usr/local/lib/python3.6/dist-packages/sklearn/linear_model/_logistic.py:1505: UserWarning: Setting penalty='none' will ignore the C and l1_ratio parameters\n",
            "  \"Setting penalty='none' will ignore the C and l1_ratio \"\n"
          ],
          "name": "stderr"
        },
        {
          "output_type": "stream",
          "text": [
            "Iteration No: 38 ended. Search finished for the next optimal point.\n",
            "Time taken: 450.1599\n",
            "Function value obtained: -0.6429\n",
            "Current minimum: -0.6431\n",
            "Iteration No: 39 started. Searching for the next optimal point.\n"
          ],
          "name": "stdout"
        },
        {
          "output_type": "stream",
          "text": [
            "/usr/local/lib/python3.6/dist-packages/skopt/optimizer/optimizer.py:409: UserWarning: The objective has been evaluated at this point before.\n",
            "  warnings.warn(\"The objective has been evaluated \"\n",
            "/usr/local/lib/python3.6/dist-packages/sklearn/linear_model/_logistic.py:1505: UserWarning: Setting penalty='none' will ignore the C and l1_ratio parameters\n",
            "  \"Setting penalty='none' will ignore the C and l1_ratio \"\n"
          ],
          "name": "stderr"
        },
        {
          "output_type": "stream",
          "text": [
            "Iteration No: 39 ended. Search finished for the next optimal point.\n",
            "Time taken: 451.4625\n",
            "Function value obtained: -0.6429\n",
            "Current minimum: -0.6431\n",
            "Iteration No: 40 started. Searching for the next optimal point.\n"
          ],
          "name": "stdout"
        },
        {
          "output_type": "stream",
          "text": [
            "/usr/local/lib/python3.6/dist-packages/skopt/optimizer/optimizer.py:409: UserWarning: The objective has been evaluated at this point before.\n",
            "  warnings.warn(\"The objective has been evaluated \"\n",
            "/usr/local/lib/python3.6/dist-packages/sklearn/linear_model/_logistic.py:1505: UserWarning: Setting penalty='none' will ignore the C and l1_ratio parameters\n",
            "  \"Setting penalty='none' will ignore the C and l1_ratio \"\n"
          ],
          "name": "stderr"
        },
        {
          "output_type": "stream",
          "text": [
            "Iteration No: 40 ended. Search finished for the next optimal point.\n",
            "Time taken: 450.6840\n",
            "Function value obtained: -0.6429\n",
            "Current minimum: -0.6431\n",
            "Iteration No: 41 started. Searching for the next optimal point.\n"
          ],
          "name": "stdout"
        },
        {
          "output_type": "stream",
          "text": [
            "/usr/local/lib/python3.6/dist-packages/skopt/optimizer/optimizer.py:409: UserWarning: The objective has been evaluated at this point before.\n",
            "  warnings.warn(\"The objective has been evaluated \"\n",
            "/usr/local/lib/python3.6/dist-packages/sklearn/linear_model/_logistic.py:1505: UserWarning: Setting penalty='none' will ignore the C and l1_ratio parameters\n",
            "  \"Setting penalty='none' will ignore the C and l1_ratio \"\n"
          ],
          "name": "stderr"
        },
        {
          "output_type": "stream",
          "text": [
            "Iteration No: 41 ended. Search finished for the next optimal point.\n",
            "Time taken: 449.9749\n",
            "Function value obtained: -0.6429\n",
            "Current minimum: -0.6431\n",
            "Iteration No: 42 started. Searching for the next optimal point.\n"
          ],
          "name": "stdout"
        },
        {
          "output_type": "stream",
          "text": [
            "/usr/local/lib/python3.6/dist-packages/skopt/optimizer/optimizer.py:409: UserWarning: The objective has been evaluated at this point before.\n",
            "  warnings.warn(\"The objective has been evaluated \"\n",
            "/usr/local/lib/python3.6/dist-packages/sklearn/linear_model/_logistic.py:1505: UserWarning: Setting penalty='none' will ignore the C and l1_ratio parameters\n",
            "  \"Setting penalty='none' will ignore the C and l1_ratio \"\n"
          ],
          "name": "stderr"
        },
        {
          "output_type": "stream",
          "text": [
            "Iteration No: 42 ended. Search finished for the next optimal point.\n",
            "Time taken: 452.5717\n",
            "Function value obtained: -0.6429\n",
            "Current minimum: -0.6431\n",
            "Iteration No: 43 started. Searching for the next optimal point.\n"
          ],
          "name": "stdout"
        },
        {
          "output_type": "stream",
          "text": [
            "/usr/local/lib/python3.6/dist-packages/skopt/optimizer/optimizer.py:409: UserWarning: The objective has been evaluated at this point before.\n",
            "  warnings.warn(\"The objective has been evaluated \"\n",
            "/usr/local/lib/python3.6/dist-packages/sklearn/linear_model/_logistic.py:1505: UserWarning: Setting penalty='none' will ignore the C and l1_ratio parameters\n",
            "  \"Setting penalty='none' will ignore the C and l1_ratio \"\n"
          ],
          "name": "stderr"
        },
        {
          "output_type": "stream",
          "text": [
            "Iteration No: 43 ended. Search finished for the next optimal point.\n",
            "Time taken: 449.8342\n",
            "Function value obtained: -0.6429\n",
            "Current minimum: -0.6431\n",
            "Iteration No: 44 started. Searching for the next optimal point.\n"
          ],
          "name": "stdout"
        },
        {
          "output_type": "stream",
          "text": [
            "/usr/local/lib/python3.6/dist-packages/skopt/optimizer/optimizer.py:409: UserWarning: The objective has been evaluated at this point before.\n",
            "  warnings.warn(\"The objective has been evaluated \"\n",
            "/usr/local/lib/python3.6/dist-packages/sklearn/linear_model/_logistic.py:1505: UserWarning: Setting penalty='none' will ignore the C and l1_ratio parameters\n",
            "  \"Setting penalty='none' will ignore the C and l1_ratio \"\n",
            "/usr/local/lib/python3.6/dist-packages/sklearn/linear_model/_sag.py:330: ConvergenceWarning: The max_iter was reached which means the coef_ did not converge\n",
            "  \"the coef_ did not converge\", ConvergenceWarning)\n"
          ],
          "name": "stderr"
        },
        {
          "output_type": "stream",
          "text": [
            "Iteration No: 44 ended. Search finished for the next optimal point.\n",
            "Time taken: 154.2178\n",
            "Function value obtained: -0.6415\n",
            "Current minimum: -0.6431\n",
            "Iteration No: 45 started. Searching for the next optimal point.\n"
          ],
          "name": "stdout"
        },
        {
          "output_type": "stream",
          "text": [
            "/usr/local/lib/python3.6/dist-packages/skopt/optimizer/optimizer.py:409: UserWarning: The objective has been evaluated at this point before.\n",
            "  warnings.warn(\"The objective has been evaluated \"\n",
            "/usr/local/lib/python3.6/dist-packages/sklearn/linear_model/_logistic.py:1505: UserWarning: Setting penalty='none' will ignore the C and l1_ratio parameters\n",
            "  \"Setting penalty='none' will ignore the C and l1_ratio \"\n",
            "/usr/local/lib/python3.6/dist-packages/sklearn/linear_model/_sag.py:330: ConvergenceWarning: The max_iter was reached which means the coef_ did not converge\n",
            "  \"the coef_ did not converge\", ConvergenceWarning)\n"
          ],
          "name": "stderr"
        },
        {
          "output_type": "stream",
          "text": [
            "Iteration No: 45 ended. Search finished for the next optimal point.\n",
            "Time taken: 154.8902\n",
            "Function value obtained: -0.6415\n",
            "Current minimum: -0.6431\n",
            "Iteration No: 46 started. Searching for the next optimal point.\n"
          ],
          "name": "stdout"
        },
        {
          "output_type": "stream",
          "text": [
            "/usr/local/lib/python3.6/dist-packages/skopt/optimizer/optimizer.py:409: UserWarning: The objective has been evaluated at this point before.\n",
            "  warnings.warn(\"The objective has been evaluated \"\n",
            "/usr/local/lib/python3.6/dist-packages/sklearn/linear_model/_logistic.py:1505: UserWarning: Setting penalty='none' will ignore the C and l1_ratio parameters\n",
            "  \"Setting penalty='none' will ignore the C and l1_ratio \"\n",
            "/usr/local/lib/python3.6/dist-packages/sklearn/linear_model/_sag.py:330: ConvergenceWarning: The max_iter was reached which means the coef_ did not converge\n",
            "  \"the coef_ did not converge\", ConvergenceWarning)\n"
          ],
          "name": "stderr"
        },
        {
          "output_type": "stream",
          "text": [
            "Iteration No: 46 ended. Search finished for the next optimal point.\n",
            "Time taken: 154.0823\n",
            "Function value obtained: -0.6415\n",
            "Current minimum: -0.6431\n",
            "Iteration No: 47 started. Searching for the next optimal point.\n"
          ],
          "name": "stdout"
        },
        {
          "output_type": "stream",
          "text": [
            "/usr/local/lib/python3.6/dist-packages/sklearn/linear_model/_sag.py:330: ConvergenceWarning: The max_iter was reached which means the coef_ did not converge\n",
            "  \"the coef_ did not converge\", ConvergenceWarning)\n"
          ],
          "name": "stderr"
        },
        {
          "output_type": "stream",
          "text": [
            "Iteration No: 47 ended. Search finished for the next optimal point.\n",
            "Time taken: 154.1293\n",
            "Function value obtained: -0.6414\n",
            "Current minimum: -0.6431\n",
            "Iteration No: 48 started. Searching for the next optimal point.\n"
          ],
          "name": "stdout"
        },
        {
          "output_type": "stream",
          "text": [
            "/usr/local/lib/python3.6/dist-packages/skopt/optimizer/optimizer.py:409: UserWarning: The objective has been evaluated at this point before.\n",
            "  warnings.warn(\"The objective has been evaluated \"\n",
            "/usr/local/lib/python3.6/dist-packages/sklearn/linear_model/_sag.py:330: ConvergenceWarning: The max_iter was reached which means the coef_ did not converge\n",
            "  \"the coef_ did not converge\", ConvergenceWarning)\n"
          ],
          "name": "stderr"
        },
        {
          "output_type": "stream",
          "text": [
            "Iteration No: 48 ended. Search finished for the next optimal point.\n",
            "Time taken: 153.8648\n",
            "Function value obtained: -0.6414\n",
            "Current minimum: -0.6431\n",
            "Iteration No: 49 started. Searching for the next optimal point.\n"
          ],
          "name": "stdout"
        },
        {
          "output_type": "stream",
          "text": [
            "/usr/local/lib/python3.6/dist-packages/skopt/optimizer/optimizer.py:409: UserWarning: The objective has been evaluated at this point before.\n",
            "  warnings.warn(\"The objective has been evaluated \"\n",
            "/usr/local/lib/python3.6/dist-packages/sklearn/linear_model/_logistic.py:1505: UserWarning: Setting penalty='none' will ignore the C and l1_ratio parameters\n",
            "  \"Setting penalty='none' will ignore the C and l1_ratio \"\n"
          ],
          "name": "stderr"
        },
        {
          "output_type": "stream",
          "text": [
            "Iteration No: 49 ended. Search finished for the next optimal point.\n",
            "Time taken: 450.0385\n",
            "Function value obtained: -0.6429\n",
            "Current minimum: -0.6431\n",
            "Iteration No: 50 started. Searching for the next optimal point.\n"
          ],
          "name": "stdout"
        },
        {
          "output_type": "stream",
          "text": [
            "/usr/local/lib/python3.6/dist-packages/sklearn/linear_model/_sag.py:330: ConvergenceWarning: The max_iter was reached which means the coef_ did not converge\n",
            "  \"the coef_ did not converge\", ConvergenceWarning)\n"
          ],
          "name": "stderr"
        },
        {
          "output_type": "stream",
          "text": [
            "Iteration No: 50 ended. Search finished for the next optimal point.\n",
            "Time taken: 154.1238\n",
            "Function value obtained: -0.6407\n",
            "Current minimum: -0.6431\n",
            "Maximimum recall found: 0.64311\n",
            "Optimal parameters:\n",
            "penalty: l2\n",
            "C: 1\n",
            "max_iter: 10000\n"
          ],
          "name": "stdout"
        },
        {
          "output_type": "display_data",
          "data": {
            "image/png": "[encoded data removed]",
            "text/plain": [
              "<Figure size 432x288 with 1 Axes>"
            ]
          },
          "metadata": {
            "tags": [],
            "needs_background": "light"
          }
        }
      ]
    },
    {
      "cell_type": "markdown",
      "metadata": {
        "id": "sVv1UYHs9b9T",
        "colab_type": "text"
      },
      "source": [
        "# Decision Tree"
      ]
    },
    {
      "cell_type": "code",
      "metadata": {
        "id": "UWTG0Yxt9dRj",
        "colab_type": "code",
        "colab": {
          "base_uri": "https://localhost:8080/",
          "height": 1000
        },
        "outputId": "778cfa8a-f0c5-4cc9-bf31-e6cc7e581966"
      },
      "source": [
        "# Bayesian Optimization\n",
        "num_thread=50\n",
        "params = ['min_samples_split', 'min_samples_leaf', 'max_features']\n",
        "\n",
        "#for model include item_Features\n",
        "def objective(params):\n",
        "    # unpack\n",
        "    min_samples_split, min_samples_leaf, max_features = params\n",
        "    \n",
        "    model_iii = DecisionTreeClassifier(min_samples_split=min_samples_split, min_samples_leaf=min_samples_leaf, max_features=max_features, random_state=60616)\n",
        "    model_iii.fit(X_train, y_train)\n",
        "    \n",
        "    y_pred = model_iii.predict(X_test)\n",
        "    fbeta = fbeta_score(y_test, y_pred, beta=0.5, average='weighted')\n",
        "\n",
        "    out = -fbeta\n",
        "    # Handle some numerical issue going on\n",
        "    if np.abs(out + 1) < 0.01 or out < -1.0:\n",
        "        return 0.0\n",
        "    else:\n",
        "        return out\n",
        "\n",
        "space = [(5, 10, 15, 20, 25, 30, 35),\n",
        "         (2, 6, 10, 14, 18, 22, 26, 30),\n",
        "         ('auto', 'sqrt', 'log2'),\n",
        "        ]\n",
        "\n",
        "try:\n",
        "    res_fm = forest_minimize(objective, space, n_calls=50,\n",
        "                     random_state=60616,base_estimator= 'RF',acq_func='PI',\n",
        "                     verbose=True, n_jobs=num_thread)\n",
        "except ValueError:\n",
        "    print('Forest diverged, random search intialized')\n",
        "    res_fm = dummy_minimize(objective, space, n_calls=30,\n",
        "         random_state=60616,\n",
        "         verbose=True)\n",
        "\n",
        "print('Maximimum F_Beta found: {:6.5f}'.format(-res_fm.fun))\n",
        "print('Optimal parameters:')\n",
        "\n",
        "for (p, x_) in zip(params, res_fm.x):\n",
        "    print('{}: {}'.format(p, x_))\n",
        "from skopt.plots import plot_convergence\n",
        "plot_convergence(res_fm);"
      ],
      "execution_count": null,
      "outputs": [
        {
          "output_type": "stream",
          "text": [
            "Iteration No: 1 started. Evaluating function at random point.\n",
            "Iteration No: 1 ended. Evaluation done at random point.\n",
            "Time taken: 0.1186\n",
            "Function value obtained: -0.6516\n",
            "Current minimum: -0.6516\n",
            "Iteration No: 2 started. Evaluating function at random point.\n",
            "Iteration No: 2 ended. Evaluation done at random point.\n",
            "Time taken: 0.0970\n",
            "Function value obtained: -0.6390\n",
            "Current minimum: -0.6516\n",
            "Iteration No: 3 started. Evaluating function at random point.\n",
            "Iteration No: 3 ended. Evaluation done at random point.\n",
            "Time taken: 0.1192\n",
            "Function value obtained: -0.6351\n",
            "Current minimum: -0.6516\n",
            "Iteration No: 4 started. Evaluating function at random point.\n",
            "Iteration No: 4 ended. Evaluation done at random point.\n",
            "Time taken: 0.0924\n",
            "Function value obtained: -0.6375\n",
            "Current minimum: -0.6516\n",
            "Iteration No: 5 started. Evaluating function at random point.\n",
            "Iteration No: 5 ended. Evaluation done at random point.\n",
            "Time taken: 0.1473\n",
            "Function value obtained: -0.7459\n",
            "Current minimum: -0.7459\n",
            "Iteration No: 6 started. Evaluating function at random point.\n",
            "Iteration No: 6 ended. Evaluation done at random point.\n",
            "Time taken: 0.1117\n",
            "Function value obtained: -0.6516\n",
            "Current minimum: -0.7459\n",
            "Iteration No: 7 started. Evaluating function at random point.\n",
            "Iteration No: 7 ended. Evaluation done at random point.\n",
            "Time taken: 0.1338\n",
            "Function value obtained: -0.7137\n",
            "Current minimum: -0.7459\n",
            "Iteration No: 8 started. Evaluating function at random point.\n",
            "Iteration No: 8 ended. Evaluation done at random point.\n",
            "Time taken: 0.1216\n",
            "Function value obtained: -0.6861\n",
            "Current minimum: -0.7459\n",
            "Iteration No: 9 started. Evaluating function at random point.\n",
            "Iteration No: 9 ended. Evaluation done at random point.\n",
            "Time taken: 0.0906\n",
            "Function value obtained: -0.6221\n",
            "Current minimum: -0.7459\n",
            "Iteration No: 10 started. Evaluating function at random point.\n",
            "Iteration No: 10 ended. Evaluation done at random point.\n",
            "Time taken: 0.3858\n",
            "Function value obtained: -0.5958\n",
            "Current minimum: -0.7459\n",
            "Iteration No: 11 started. Searching for the next optimal point.\n",
            "Iteration No: 11 ended. Search finished for the next optimal point.\n",
            "Time taken: 0.4987\n",
            "Function value obtained: -0.6861\n",
            "Current minimum: -0.7459\n",
            "Iteration No: 12 started. Searching for the next optimal point.\n"
          ],
          "name": "stdout"
        },
        {
          "output_type": "stream",
          "text": [
            "/usr/local/lib/python3.6/dist-packages/skopt/optimizer/optimizer.py:409: UserWarning: The objective has been evaluated at this point before.\n",
            "  warnings.warn(\"The objective has been evaluated \"\n"
          ],
          "name": "stderr"
        },
        {
          "output_type": "stream",
          "text": [
            "Iteration No: 12 ended. Search finished for the next optimal point.\n",
            "Time taken: 0.4150\n",
            "Function value obtained: -0.6861\n",
            "Current minimum: -0.7459\n",
            "Iteration No: 13 started. Searching for the next optimal point.\n",
            "Iteration No: 13 ended. Search finished for the next optimal point.\n",
            "Time taken: 0.4269\n",
            "Function value obtained: -0.7121\n",
            "Current minimum: -0.7459\n",
            "Iteration No: 14 started. Searching for the next optimal point.\n"
          ],
          "name": "stdout"
        },
        {
          "output_type": "stream",
          "text": [
            "/usr/local/lib/python3.6/dist-packages/skopt/optimizer/optimizer.py:409: UserWarning: The objective has been evaluated at this point before.\n",
            "  warnings.warn(\"The objective has been evaluated \"\n"
          ],
          "name": "stderr"
        },
        {
          "output_type": "stream",
          "text": [
            "Iteration No: 14 ended. Search finished for the next optimal point.\n",
            "Time taken: 0.4335\n",
            "Function value obtained: -0.7121\n",
            "Current minimum: -0.7459\n",
            "Iteration No: 15 started. Searching for the next optimal point.\n",
            "Iteration No: 15 ended. Search finished for the next optimal point.\n",
            "Time taken: 0.4191\n",
            "Function value obtained: -0.6516\n",
            "Current minimum: -0.7459\n",
            "Iteration No: 16 started. Searching for the next optimal point.\n"
          ],
          "name": "stdout"
        },
        {
          "output_type": "stream",
          "text": [
            "/usr/local/lib/python3.6/dist-packages/skopt/optimizer/optimizer.py:409: UserWarning: The objective has been evaluated at this point before.\n",
            "  warnings.warn(\"The objective has been evaluated \"\n"
          ],
          "name": "stderr"
        },
        {
          "output_type": "stream",
          "text": [
            "Iteration No: 16 ended. Search finished for the next optimal point.\n",
            "Time taken: 0.4318\n",
            "Function value obtained: -0.7121\n",
            "Current minimum: -0.7459\n",
            "Iteration No: 17 started. Searching for the next optimal point.\n",
            "Iteration No: 17 ended. Search finished for the next optimal point.\n",
            "Time taken: 0.4331\n",
            "Function value obtained: -0.7121\n",
            "Current minimum: -0.7459\n",
            "Iteration No: 18 started. Searching for the next optimal point.\n"
          ],
          "name": "stdout"
        },
        {
          "output_type": "stream",
          "text": [
            "/usr/local/lib/python3.6/dist-packages/skopt/optimizer/optimizer.py:409: UserWarning: The objective has been evaluated at this point before.\n",
            "  warnings.warn(\"The objective has been evaluated \"\n"
          ],
          "name": "stderr"
        },
        {
          "output_type": "stream",
          "text": [
            "Iteration No: 18 ended. Search finished for the next optimal point.\n",
            "Time taken: 0.4345\n",
            "Function value obtained: -0.7121\n",
            "Current minimum: -0.7459\n",
            "Iteration No: 19 started. Searching for the next optimal point.\n",
            "Iteration No: 19 ended. Search finished for the next optimal point.\n",
            "Time taken: 0.4366\n",
            "Function value obtained: -0.6351\n",
            "Current minimum: -0.7459\n",
            "Iteration No: 20 started. Searching for the next optimal point.\n"
          ],
          "name": "stdout"
        },
        {
          "output_type": "stream",
          "text": [
            "/usr/local/lib/python3.6/dist-packages/skopt/optimizer/optimizer.py:409: UserWarning: The objective has been evaluated at this point before.\n",
            "  warnings.warn(\"The objective has been evaluated \"\n"
          ],
          "name": "stderr"
        },
        {
          "output_type": "stream",
          "text": [
            "Iteration No: 20 ended. Search finished for the next optimal point.\n",
            "Time taken: 0.4037\n",
            "Function value obtained: -0.6375\n",
            "Current minimum: -0.7459\n",
            "Iteration No: 21 started. Searching for the next optimal point.\n",
            "Iteration No: 21 ended. Search finished for the next optimal point.\n",
            "Time taken: 0.5235\n",
            "Function value obtained: -0.6866\n",
            "Current minimum: -0.7459\n",
            "Iteration No: 22 started. Searching for the next optimal point.\n",
            "Iteration No: 22 ended. Search finished for the next optimal point.\n",
            "Time taken: 0.4305\n",
            "Function value obtained: -0.7300\n",
            "Current minimum: -0.7459\n",
            "Iteration No: 23 started. Searching for the next optimal point.\n"
          ],
          "name": "stdout"
        },
        {
          "output_type": "stream",
          "text": [
            "/usr/local/lib/python3.6/dist-packages/skopt/optimizer/optimizer.py:409: UserWarning: The objective has been evaluated at this point before.\n",
            "  warnings.warn(\"The objective has been evaluated \"\n"
          ],
          "name": "stderr"
        },
        {
          "output_type": "stream",
          "text": [
            "Iteration No: 23 ended. Search finished for the next optimal point.\n",
            "Time taken: 0.4626\n",
            "Function value obtained: -0.7300\n",
            "Current minimum: -0.7459\n",
            "Iteration No: 24 started. Searching for the next optimal point.\n"
          ],
          "name": "stdout"
        },
        {
          "output_type": "stream",
          "text": [
            "/usr/local/lib/python3.6/dist-packages/skopt/optimizer/optimizer.py:409: UserWarning: The objective has been evaluated at this point before.\n",
            "  warnings.warn(\"The objective has been evaluated \"\n"
          ],
          "name": "stderr"
        },
        {
          "output_type": "stream",
          "text": [
            "Iteration No: 24 ended. Search finished for the next optimal point.\n",
            "Time taken: 0.4384\n",
            "Function value obtained: -0.6866\n",
            "Current minimum: -0.7459\n",
            "Iteration No: 25 started. Searching for the next optimal point.\n"
          ],
          "name": "stdout"
        },
        {
          "output_type": "stream",
          "text": [
            "/usr/local/lib/python3.6/dist-packages/skopt/optimizer/optimizer.py:409: UserWarning: The objective has been evaluated at this point before.\n",
            "  warnings.warn(\"The objective has been evaluated \"\n"
          ],
          "name": "stderr"
        },
        {
          "output_type": "stream",
          "text": [
            "Iteration No: 25 ended. Search finished for the next optimal point.\n",
            "Time taken: 0.4443\n",
            "Function value obtained: -0.6351\n",
            "Current minimum: -0.7459\n",
            "Iteration No: 26 started. Searching for the next optimal point.\n"
          ],
          "name": "stdout"
        },
        {
          "output_type": "stream",
          "text": [
            "/usr/local/lib/python3.6/dist-packages/skopt/optimizer/optimizer.py:409: UserWarning: The objective has been evaluated at this point before.\n",
            "  warnings.warn(\"The objective has been evaluated \"\n"
          ],
          "name": "stderr"
        },
        {
          "output_type": "stream",
          "text": [
            "Iteration No: 26 ended. Search finished for the next optimal point.\n",
            "Time taken: 0.4599\n",
            "Function value obtained: -0.7459\n",
            "Current minimum: -0.7459\n",
            "Iteration No: 27 started. Searching for the next optimal point.\n"
          ],
          "name": "stdout"
        },
        {
          "output_type": "stream",
          "text": [
            "/usr/local/lib/python3.6/dist-packages/skopt/optimizer/optimizer.py:409: UserWarning: The objective has been evaluated at this point before.\n",
            "  warnings.warn(\"The objective has been evaluated \"\n"
          ],
          "name": "stderr"
        },
        {
          "output_type": "stream",
          "text": [
            "Iteration No: 27 ended. Search finished for the next optimal point.\n",
            "Time taken: 0.4611\n",
            "Function value obtained: -0.7459\n",
            "Current minimum: -0.7459\n",
            "Iteration No: 28 started. Searching for the next optimal point.\n"
          ],
          "name": "stdout"
        },
        {
          "output_type": "stream",
          "text": [
            "/usr/local/lib/python3.6/dist-packages/skopt/optimizer/optimizer.py:409: UserWarning: The objective has been evaluated at this point before.\n",
            "  warnings.warn(\"The objective has been evaluated \"\n"
          ],
          "name": "stderr"
        },
        {
          "output_type": "stream",
          "text": [
            "Iteration No: 28 ended. Search finished for the next optimal point.\n",
            "Time taken: 0.4770\n",
            "Function value obtained: -0.7459\n",
            "Current minimum: -0.7459\n",
            "Iteration No: 29 started. Searching for the next optimal point.\n"
          ],
          "name": "stdout"
        },
        {
          "output_type": "stream",
          "text": [
            "/usr/local/lib/python3.6/dist-packages/skopt/optimizer/optimizer.py:409: UserWarning: The objective has been evaluated at this point before.\n",
            "  warnings.warn(\"The objective has been evaluated \"\n"
          ],
          "name": "stderr"
        },
        {
          "output_type": "stream",
          "text": [
            "Iteration No: 29 ended. Search finished for the next optimal point.\n",
            "Time taken: 0.4598\n",
            "Function value obtained: -0.7459\n",
            "Current minimum: -0.7459\n",
            "Iteration No: 30 started. Searching for the next optimal point.\n",
            "Iteration No: 30 ended. Search finished for the next optimal point.\n",
            "Time taken: 0.4669\n",
            "Function value obtained: -0.7459\n",
            "Current minimum: -0.7459\n",
            "Iteration No: 31 started. Searching for the next optimal point.\n",
            "Iteration No: 31 ended. Search finished for the next optimal point.\n",
            "Time taken: 0.5157\n",
            "Function value obtained: -0.7354\n",
            "Current minimum: -0.7459\n",
            "Iteration No: 32 started. Searching for the next optimal point.\n",
            "Iteration No: 32 ended. Search finished for the next optimal point.\n",
            "Time taken: 0.4231\n",
            "Function value obtained: -0.7003\n",
            "Current minimum: -0.7459\n",
            "Iteration No: 33 started. Searching for the next optimal point.\n",
            "Iteration No: 33 ended. Search finished for the next optimal point.\n",
            "Time taken: 0.4674\n",
            "Function value obtained: -0.7875\n",
            "Current minimum: -0.7875\n",
            "Iteration No: 34 started. Searching for the next optimal point.\n",
            "Iteration No: 34 ended. Search finished for the next optimal point.\n",
            "Time taken: 0.4311\n",
            "Function value obtained: -0.7456\n",
            "Current minimum: -0.7875\n",
            "Iteration No: 35 started. Searching for the next optimal point.\n",
            "Iteration No: 35 ended. Search finished for the next optimal point.\n",
            "Time taken: 0.4291\n",
            "Function value obtained: -0.7480\n",
            "Current minimum: -0.7875\n",
            "Iteration No: 36 started. Searching for the next optimal point.\n"
          ],
          "name": "stdout"
        },
        {
          "output_type": "stream",
          "text": [
            "/usr/local/lib/python3.6/dist-packages/skopt/optimizer/optimizer.py:409: UserWarning: The objective has been evaluated at this point before.\n",
            "  warnings.warn(\"The objective has been evaluated \"\n"
          ],
          "name": "stderr"
        },
        {
          "output_type": "stream",
          "text": [
            "Iteration No: 36 ended. Search finished for the next optimal point.\n",
            "Time taken: 0.4257\n",
            "Function value obtained: -0.7003\n",
            "Current minimum: -0.7875\n",
            "Iteration No: 37 started. Searching for the next optimal point.\n",
            "Iteration No: 37 ended. Search finished for the next optimal point.\n",
            "Time taken: 0.4653\n",
            "Function value obtained: -0.7354\n",
            "Current minimum: -0.7875\n",
            "Iteration No: 38 started. Searching for the next optimal point.\n",
            "Iteration No: 38 ended. Search finished for the next optimal point.\n",
            "Time taken: 0.4219\n",
            "Function value obtained: -0.7209\n",
            "Current minimum: -0.7875\n",
            "Iteration No: 39 started. Searching for the next optimal point.\n"
          ],
          "name": "stdout"
        },
        {
          "output_type": "stream",
          "text": [
            "/usr/local/lib/python3.6/dist-packages/skopt/optimizer/optimizer.py:409: UserWarning: The objective has been evaluated at this point before.\n",
            "  warnings.warn(\"The objective has been evaluated \"\n"
          ],
          "name": "stderr"
        },
        {
          "output_type": "stream",
          "text": [
            "Iteration No: 39 ended. Search finished for the next optimal point.\n",
            "Time taken: 0.4578\n",
            "Function value obtained: -0.7354\n",
            "Current minimum: -0.7875\n",
            "Iteration No: 40 started. Searching for the next optimal point.\n"
          ],
          "name": "stdout"
        },
        {
          "output_type": "stream",
          "text": [
            "/usr/local/lib/python3.6/dist-packages/skopt/optimizer/optimizer.py:409: UserWarning: The objective has been evaluated at this point before.\n",
            "  warnings.warn(\"The objective has been evaluated \"\n"
          ],
          "name": "stderr"
        },
        {
          "output_type": "stream",
          "text": [
            "Iteration No: 40 ended. Search finished for the next optimal point.\n",
            "Time taken: 0.5242\n",
            "Function value obtained: -0.7875\n",
            "Current minimum: -0.7875\n",
            "Iteration No: 41 started. Searching for the next optimal point.\n"
          ],
          "name": "stdout"
        },
        {
          "output_type": "stream",
          "text": [
            "/usr/local/lib/python3.6/dist-packages/skopt/optimizer/optimizer.py:409: UserWarning: The objective has been evaluated at this point before.\n",
            "  warnings.warn(\"The objective has been evaluated \"\n"
          ],
          "name": "stderr"
        },
        {
          "output_type": "stream",
          "text": [
            "Iteration No: 41 ended. Search finished for the next optimal point.\n",
            "Time taken: 0.4826\n",
            "Function value obtained: -0.7875\n",
            "Current minimum: -0.7875\n",
            "Iteration No: 42 started. Searching for the next optimal point.\n"
          ],
          "name": "stdout"
        },
        {
          "output_type": "stream",
          "text": [
            "/usr/local/lib/python3.6/dist-packages/skopt/optimizer/optimizer.py:409: UserWarning: The objective has been evaluated at this point before.\n",
            "  warnings.warn(\"The objective has been evaluated \"\n"
          ],
          "name": "stderr"
        },
        {
          "output_type": "stream",
          "text": [
            "Iteration No: 42 ended. Search finished for the next optimal point.\n",
            "Time taken: 0.4247\n",
            "Function value obtained: -0.7480\n",
            "Current minimum: -0.7875\n",
            "Iteration No: 43 started. Searching for the next optimal point.\n"
          ],
          "name": "stdout"
        },
        {
          "output_type": "stream",
          "text": [
            "/usr/local/lib/python3.6/dist-packages/skopt/optimizer/optimizer.py:409: UserWarning: The objective has been evaluated at this point before.\n",
            "  warnings.warn(\"The objective has been evaluated \"\n"
          ],
          "name": "stderr"
        },
        {
          "output_type": "stream",
          "text": [
            "Iteration No: 43 ended. Search finished for the next optimal point.\n",
            "Time taken: 0.4293\n",
            "Function value obtained: -0.7480\n",
            "Current minimum: -0.7875\n",
            "Iteration No: 44 started. Searching for the next optimal point.\n"
          ],
          "name": "stdout"
        },
        {
          "output_type": "stream",
          "text": [
            "/usr/local/lib/python3.6/dist-packages/skopt/optimizer/optimizer.py:409: UserWarning: The objective has been evaluated at this point before.\n",
            "  warnings.warn(\"The objective has been evaluated \"\n"
          ],
          "name": "stderr"
        },
        {
          "output_type": "stream",
          "text": [
            "Iteration No: 44 ended. Search finished for the next optimal point.\n",
            "Time taken: 0.4608\n",
            "Function value obtained: -0.7875\n",
            "Current minimum: -0.7875\n",
            "Iteration No: 45 started. Searching for the next optimal point.\n"
          ],
          "name": "stdout"
        },
        {
          "output_type": "stream",
          "text": [
            "/usr/local/lib/python3.6/dist-packages/skopt/optimizer/optimizer.py:409: UserWarning: The objective has been evaluated at this point before.\n",
            "  warnings.warn(\"The objective has been evaluated \"\n"
          ],
          "name": "stderr"
        },
        {
          "output_type": "stream",
          "text": [
            "Iteration No: 45 ended. Search finished for the next optimal point.\n",
            "Time taken: 0.4669\n",
            "Function value obtained: -0.7875\n",
            "Current minimum: -0.7875\n",
            "Iteration No: 46 started. Searching for the next optimal point.\n"
          ],
          "name": "stdout"
        },
        {
          "output_type": "stream",
          "text": [
            "/usr/local/lib/python3.6/dist-packages/skopt/optimizer/optimizer.py:409: UserWarning: The objective has been evaluated at this point before.\n",
            "  warnings.warn(\"The objective has been evaluated \"\n"
          ],
          "name": "stderr"
        },
        {
          "output_type": "stream",
          "text": [
            "Iteration No: 46 ended. Search finished for the next optimal point.\n",
            "Time taken: 0.4950\n",
            "Function value obtained: -0.7875\n",
            "Current minimum: -0.7875\n",
            "Iteration No: 47 started. Searching for the next optimal point.\n"
          ],
          "name": "stdout"
        },
        {
          "output_type": "stream",
          "text": [
            "/usr/local/lib/python3.6/dist-packages/skopt/optimizer/optimizer.py:409: UserWarning: The objective has been evaluated at this point before.\n",
            "  warnings.warn(\"The objective has been evaluated \"\n"
          ],
          "name": "stderr"
        },
        {
          "output_type": "stream",
          "text": [
            "Iteration No: 47 ended. Search finished for the next optimal point.\n",
            "Time taken: 0.4688\n",
            "Function value obtained: -0.7875\n",
            "Current minimum: -0.7875\n",
            "Iteration No: 48 started. Searching for the next optimal point.\n"
          ],
          "name": "stdout"
        },
        {
          "output_type": "stream",
          "text": [
            "/usr/local/lib/python3.6/dist-packages/skopt/optimizer/optimizer.py:409: UserWarning: The objective has been evaluated at this point before.\n",
            "  warnings.warn(\"The objective has been evaluated \"\n"
          ],
          "name": "stderr"
        },
        {
          "output_type": "stream",
          "text": [
            "Iteration No: 48 ended. Search finished for the next optimal point.\n",
            "Time taken: 0.4701\n",
            "Function value obtained: -0.7875\n",
            "Current minimum: -0.7875\n",
            "Iteration No: 49 started. Searching for the next optimal point.\n"
          ],
          "name": "stdout"
        },
        {
          "output_type": "stream",
          "text": [
            "/usr/local/lib/python3.6/dist-packages/skopt/optimizer/optimizer.py:409: UserWarning: The objective has been evaluated at this point before.\n",
            "  warnings.warn(\"The objective has been evaluated \"\n"
          ],
          "name": "stderr"
        },
        {
          "output_type": "stream",
          "text": [
            "Iteration No: 49 ended. Search finished for the next optimal point.\n",
            "Time taken: 0.4678\n",
            "Function value obtained: -0.7875\n",
            "Current minimum: -0.7875\n",
            "Iteration No: 50 started. Searching for the next optimal point.\n"
          ],
          "name": "stdout"
        },
        {
          "output_type": "stream",
          "text": [
            "/usr/local/lib/python3.6/dist-packages/skopt/optimizer/optimizer.py:409: UserWarning: The objective has been evaluated at this point before.\n",
            "  warnings.warn(\"The objective has been evaluated \"\n"
          ],
          "name": "stderr"
        },
        {
          "output_type": "stream",
          "text": [
            "Iteration No: 50 ended. Search finished for the next optimal point.\n",
            "Time taken: 0.5525\n",
            "Function value obtained: -0.7875\n",
            "Current minimum: -0.7875\n",
            "Maximimum recall found: 0.78754\n",
            "Optimal parameters:\n",
            "min_samples_split: 10\n",
            "min_samples_leaf: 2\n",
            "max_features: auto\n"
          ],
          "name": "stdout"
        },
        {
          "output_type": "display_data",
          "data": {
            "image/png": "[encoded data removed]",
            "text/plain": [
              "<Figure size 432x288 with 1 Axes>"
            ]
          },
          "metadata": {
            "tags": [],
            "needs_background": "light"
          }
        }
      ]
    },
    {
      "cell_type": "markdown",
      "metadata": {
        "id": "7hqG4_SDDaHR",
        "colab_type": "text"
      },
      "source": [
        "# Random Forest Classifier"
      ]
    },
    {
      "cell_type": "code",
      "metadata": {
        "id": "FC95UcRGB2qp",
        "colab_type": "code",
        "colab": {
          "base_uri": "https://localhost:8080/",
          "height": 1000
        },
        "outputId": "91706963-54b3-46cf-f3d0-e05865b992a2"
      },
      "source": [
        "# Bayesian Optimization\n",
        "num_thread=50\n",
        "params = ['n_estimators', 'min_samples_split', 'min_samples_leaf', 'max_features']\n",
        "\n",
        "#for model include item_Features\n",
        "def objective(params):\n",
        "    # unpack\n",
        "    n_estimators, min_samples_split, min_samples_leaf, max_features = params\n",
        "    \n",
        "    model_iii = RandomForestClassifier(n_estimators=n_estimators, min_samples_split=min_samples_split, min_samples_leaf=min_samples_leaf, max_features=max_features, random_state=60616)\n",
        "    model_iii.fit(X_train, y_train)\n",
        "    \n",
        "    y_pred = model_iii.predict(X_test)\n",
        "    fbeta = fbeta_score(y_test, y_pred, beta=0.5, average='weighted')\n",
        "\n",
        "    out = -fbeta\n",
        "    # Handle some numerical issue going on\n",
        "    if np.abs(out + 1) < 0.01 or out < -1.0:\n",
        "        return 0.0\n",
        "    else:\n",
        "        return out\n",
        "\n",
        "space = [(20, 40, 60, 80 , 100, 120, 140, 160),\n",
        "         (5, 10, 15, 20, 25, 30, 35),\n",
        "         (2, 6, 10, 14, 18, 22, 26, 30),\n",
        "         ('auto', 'sqrt', 'log2'),\n",
        "        ]\n",
        "\n",
        "try:\n",
        "    res_fm = forest_minimize(objective, space, n_calls=50,\n",
        "                     random_state=60616,base_estimator= 'RF',acq_func='PI',\n",
        "                     verbose=True, n_jobs=num_thread)\n",
        "except ValueError:\n",
        "    print('Forest diverged, random search intialized')\n",
        "    res_fm = dummy_minimize(objective, space, n_calls=30,\n",
        "         random_state=60616,\n",
        "         verbose=True)\n",
        "\n",
        "print('Maximimum F_Beta found: {:6.5f}'.format(-res_fm.fun))\n",
        "print('Optimal parameters:')\n",
        "\n",
        "for (p, x_) in zip(params, res_fm.x):\n",
        "    print('{}: {}'.format(p, x_))\n",
        "from skopt.plots import plot_convergence\n",
        "plot_convergence(res_fm);"
      ],
      "execution_count": null,
      "outputs": [
        {
          "output_type": "stream",
          "text": [
            "Iteration No: 1 started. Evaluating function at random point.\n",
            "Iteration No: 1 ended. Evaluation done at random point.\n",
            "Time taken: 2.6275\n",
            "Function value obtained: -0.8391\n",
            "Current minimum: -0.8391\n",
            "Iteration No: 2 started. Evaluating function at random point.\n",
            "Iteration No: 2 ended. Evaluation done at random point.\n",
            "Time taken: 5.3421\n",
            "Function value obtained: -0.8605\n",
            "Current minimum: -0.8605\n",
            "Iteration No: 3 started. Evaluating function at random point.\n",
            "Iteration No: 3 ended. Evaluation done at random point.\n",
            "Time taken: 0.9126\n",
            "Function value obtained: -0.8048\n",
            "Current minimum: -0.8605\n",
            "Iteration No: 4 started. Evaluating function at random point.\n",
            "Iteration No: 4 ended. Evaluation done at random point.\n",
            "Time taken: 6.7397\n",
            "Function value obtained: -0.8574\n",
            "Current minimum: -0.8605\n",
            "Iteration No: 5 started. Evaluating function at random point.\n",
            "Iteration No: 5 ended. Evaluation done at random point.\n",
            "Time taken: 11.9579\n",
            "Function value obtained: -0.8878\n",
            "Current minimum: -0.8878\n",
            "Iteration No: 6 started. Evaluating function at random point.\n",
            "Iteration No: 6 ended. Evaluation done at random point.\n",
            "Time taken: 5.0072\n",
            "Function value obtained: -0.8198\n",
            "Current minimum: -0.8878\n",
            "Iteration No: 7 started. Evaluating function at random point.\n",
            "Iteration No: 7 ended. Evaluation done at random point.\n",
            "Time taken: 8.0955\n",
            "Function value obtained: -0.7900\n",
            "Current minimum: -0.8878\n",
            "Iteration No: 8 started. Evaluating function at random point.\n",
            "Iteration No: 8 ended. Evaluation done at random point.\n",
            "Time taken: 7.9422\n",
            "Function value obtained: -0.8589\n",
            "Current minimum: -0.8878\n",
            "Iteration No: 9 started. Evaluating function at random point.\n",
            "Iteration No: 9 ended. Evaluation done at random point.\n",
            "Time taken: 1.7165\n",
            "Function value obtained: -0.7878\n",
            "Current minimum: -0.8878\n",
            "Iteration No: 10 started. Evaluating function at random point.\n",
            "Iteration No: 10 ended. Evaluation done at random point.\n",
            "Time taken: 4.3550\n",
            "Function value obtained: -0.8634\n",
            "Current minimum: -0.8878\n",
            "Iteration No: 11 started. Searching for the next optimal point.\n",
            "Iteration No: 11 ended. Search finished for the next optimal point.\n",
            "Time taken: 4.4557\n",
            "Function value obtained: -0.8702\n",
            "Current minimum: -0.8878\n",
            "Iteration No: 12 started. Searching for the next optimal point.\n",
            "Iteration No: 12 ended. Search finished for the next optimal point.\n",
            "Time taken: 8.5362\n",
            "Function value obtained: -0.8714\n",
            "Current minimum: -0.8878\n",
            "Iteration No: 13 started. Searching for the next optimal point.\n",
            "Iteration No: 13 ended. Search finished for the next optimal point.\n",
            "Time taken: 5.2070\n",
            "Function value obtained: -0.8093\n",
            "Current minimum: -0.8878\n",
            "Iteration No: 14 started. Searching for the next optimal point.\n",
            "Iteration No: 14 ended. Search finished for the next optimal point.\n",
            "Time taken: 10.9693\n",
            "Function value obtained: -0.8619\n",
            "Current minimum: -0.8878\n",
            "Iteration No: 15 started. Searching for the next optimal point.\n",
            "Iteration No: 15 ended. Search finished for the next optimal point.\n",
            "Time taken: 6.9495\n",
            "Function value obtained: -0.8623\n",
            "Current minimum: -0.8878\n",
            "Iteration No: 16 started. Searching for the next optimal point.\n",
            "Iteration No: 16 ended. Search finished for the next optimal point.\n",
            "Time taken: 2.9433\n",
            "Function value obtained: -0.8391\n",
            "Current minimum: -0.8878\n",
            "Iteration No: 17 started. Searching for the next optimal point.\n",
            "Iteration No: 17 ended. Search finished for the next optimal point.\n",
            "Time taken: 4.0301\n",
            "Function value obtained: -0.7996\n",
            "Current minimum: -0.8878\n",
            "Iteration No: 18 started. Searching for the next optimal point.\n",
            "Iteration No: 18 ended. Search finished for the next optimal point.\n",
            "Time taken: 8.9264\n",
            "Function value obtained: -0.8781\n",
            "Current minimum: -0.8878\n",
            "Iteration No: 19 started. Searching for the next optimal point.\n"
          ],
          "name": "stdout"
        },
        {
          "output_type": "stream",
          "text": [
            "/usr/local/lib/python3.6/dist-packages/skopt/optimizer/optimizer.py:409: UserWarning: The objective has been evaluated at this point before.\n",
            "  warnings.warn(\"The objective has been evaluated \"\n"
          ],
          "name": "stderr"
        },
        {
          "output_type": "stream",
          "text": [
            "Iteration No: 19 ended. Search finished for the next optimal point.\n",
            "Time taken: 8.8564\n",
            "Function value obtained: -0.8781\n",
            "Current minimum: -0.8878\n",
            "Iteration No: 20 started. Searching for the next optimal point.\n",
            "Iteration No: 20 ended. Search finished for the next optimal point.\n",
            "Time taken: 9.1603\n",
            "Function value obtained: -0.8824\n",
            "Current minimum: -0.8878\n",
            "Iteration No: 21 started. Searching for the next optimal point.\n",
            "Iteration No: 21 ended. Search finished for the next optimal point.\n",
            "Time taken: 8.8624\n",
            "Function value obtained: -0.8753\n",
            "Current minimum: -0.8878\n",
            "Iteration No: 22 started. Searching for the next optimal point.\n",
            "Iteration No: 22 ended. Search finished for the next optimal point.\n",
            "Time taken: 10.2061\n",
            "Function value obtained: -0.8753\n",
            "Current minimum: -0.8878\n",
            "Iteration No: 23 started. Searching for the next optimal point.\n",
            "Iteration No: 23 ended. Search finished for the next optimal point.\n",
            "Time taken: 1.7469\n",
            "Function value obtained: -0.8656\n",
            "Current minimum: -0.8878\n",
            "Iteration No: 24 started. Searching for the next optimal point.\n",
            "Iteration No: 24 ended. Search finished for the next optimal point.\n",
            "Time taken: 5.4173\n",
            "Function value obtained: -0.8703\n",
            "Current minimum: -0.8878\n",
            "Iteration No: 25 started. Searching for the next optimal point.\n",
            "Iteration No: 25 ended. Search finished for the next optimal point.\n",
            "Time taken: 2.8765\n",
            "Function value obtained: -0.8768\n",
            "Current minimum: -0.8878\n",
            "Iteration No: 26 started. Searching for the next optimal point.\n",
            "Iteration No: 26 ended. Search finished for the next optimal point.\n",
            "Time taken: 2.7641\n",
            "Function value obtained: -0.8684\n",
            "Current minimum: -0.8878\n",
            "Iteration No: 27 started. Searching for the next optimal point.\n",
            "Iteration No: 27 ended. Search finished for the next optimal point.\n",
            "Time taken: 3.2279\n",
            "Function value obtained: -0.8752\n",
            "Current minimum: -0.8878\n",
            "Iteration No: 28 started. Searching for the next optimal point.\n"
          ],
          "name": "stdout"
        },
        {
          "output_type": "stream",
          "text": [
            "/usr/local/lib/python3.6/dist-packages/skopt/optimizer/optimizer.py:409: UserWarning: The objective has been evaluated at this point before.\n",
            "  warnings.warn(\"The objective has been evaluated \"\n"
          ],
          "name": "stderr"
        },
        {
          "output_type": "stream",
          "text": [
            "Iteration No: 28 ended. Search finished for the next optimal point.\n",
            "Time taken: 3.2307\n",
            "Function value obtained: -0.8752\n",
            "Current minimum: -0.8878\n",
            "Iteration No: 29 started. Searching for the next optimal point.\n",
            "Iteration No: 29 ended. Search finished for the next optimal point.\n",
            "Time taken: 6.3476\n",
            "Function value obtained: -0.8646\n",
            "Current minimum: -0.8878\n",
            "Iteration No: 30 started. Searching for the next optimal point.\n",
            "Iteration No: 30 ended. Search finished for the next optimal point.\n",
            "Time taken: 6.0100\n",
            "Function value obtained: -0.8778\n",
            "Current minimum: -0.8878\n",
            "Iteration No: 31 started. Searching for the next optimal point.\n",
            "Iteration No: 31 ended. Search finished for the next optimal point.\n",
            "Time taken: 3.0555\n",
            "Function value obtained: -0.8676\n",
            "Current minimum: -0.8878\n",
            "Iteration No: 32 started. Searching for the next optimal point.\n",
            "Iteration No: 32 ended. Search finished for the next optimal point.\n",
            "Time taken: 4.9844\n",
            "Function value obtained: -0.8482\n",
            "Current minimum: -0.8878\n",
            "Iteration No: 33 started. Searching for the next optimal point.\n",
            "Iteration No: 33 ended. Search finished for the next optimal point.\n",
            "Time taken: 10.3193\n",
            "Function value obtained: -0.8831\n",
            "Current minimum: -0.8878\n",
            "Iteration No: 34 started. Searching for the next optimal point.\n",
            "Iteration No: 34 ended. Search finished for the next optimal point.\n",
            "Time taken: 1.7568\n",
            "Function value obtained: -0.8651\n",
            "Current minimum: -0.8878\n",
            "Iteration No: 35 started. Searching for the next optimal point.\n",
            "Iteration No: 35 ended. Search finished for the next optimal point.\n",
            "Time taken: 11.9010\n",
            "Function value obtained: -0.8840\n",
            "Current minimum: -0.8878\n",
            "Iteration No: 36 started. Searching for the next optimal point.\n"
          ],
          "name": "stdout"
        },
        {
          "output_type": "stream",
          "text": [
            "/usr/local/lib/python3.6/dist-packages/skopt/optimizer/optimizer.py:409: UserWarning: The objective has been evaluated at this point before.\n",
            "  warnings.warn(\"The objective has been evaluated \"\n"
          ],
          "name": "stderr"
        },
        {
          "output_type": "stream",
          "text": [
            "Iteration No: 36 ended. Search finished for the next optimal point.\n",
            "Time taken: 12.0875\n",
            "Function value obtained: -0.8840\n",
            "Current minimum: -0.8878\n",
            "Iteration No: 37 started. Searching for the next optimal point.\n",
            "Iteration No: 37 ended. Search finished for the next optimal point.\n",
            "Time taken: 6.2514\n",
            "Function value obtained: -0.8824\n",
            "Current minimum: -0.8878\n",
            "Iteration No: 38 started. Searching for the next optimal point.\n",
            "Iteration No: 38 ended. Search finished for the next optimal point.\n",
            "Time taken: 8.7988\n",
            "Function value obtained: -0.8796\n",
            "Current minimum: -0.8878\n",
            "Iteration No: 39 started. Searching for the next optimal point.\n",
            "Iteration No: 39 ended. Search finished for the next optimal point.\n",
            "Time taken: 11.5164\n",
            "Function value obtained: -0.8730\n",
            "Current minimum: -0.8878\n",
            "Iteration No: 40 started. Searching for the next optimal point.\n",
            "Iteration No: 40 ended. Search finished for the next optimal point.\n",
            "Time taken: 3.6511\n",
            "Function value obtained: -0.8760\n",
            "Current minimum: -0.8878\n",
            "Iteration No: 41 started. Searching for the next optimal point.\n",
            "Iteration No: 41 ended. Search finished for the next optimal point.\n",
            "Time taken: 11.6996\n",
            "Function value obtained: -0.8730\n",
            "Current minimum: -0.8878\n",
            "Iteration No: 42 started. Searching for the next optimal point.\n",
            "Iteration No: 42 ended. Search finished for the next optimal point.\n",
            "Time taken: 12.8477\n",
            "Function value obtained: -0.8893\n",
            "Current minimum: -0.8893\n",
            "Iteration No: 43 started. Searching for the next optimal point.\n"
          ],
          "name": "stdout"
        },
        {
          "output_type": "stream",
          "text": [
            "/usr/local/lib/python3.6/dist-packages/skopt/optimizer/optimizer.py:409: UserWarning: The objective has been evaluated at this point before.\n",
            "  warnings.warn(\"The objective has been evaluated \"\n"
          ],
          "name": "stderr"
        },
        {
          "output_type": "stream",
          "text": [
            "Iteration No: 43 ended. Search finished for the next optimal point.\n",
            "Time taken: 12.5660\n",
            "Function value obtained: -0.8878\n",
            "Current minimum: -0.8893\n",
            "Iteration No: 44 started. Searching for the next optimal point.\n"
          ],
          "name": "stdout"
        },
        {
          "output_type": "stream",
          "text": [
            "/usr/local/lib/python3.6/dist-packages/skopt/optimizer/optimizer.py:409: UserWarning: The objective has been evaluated at this point before.\n",
            "  warnings.warn(\"The objective has been evaluated \"\n"
          ],
          "name": "stderr"
        },
        {
          "output_type": "stream",
          "text": [
            "Iteration No: 44 ended. Search finished for the next optimal point.\n",
            "Time taken: 11.7104\n",
            "Function value obtained: -0.8730\n",
            "Current minimum: -0.8893\n",
            "Iteration No: 45 started. Searching for the next optimal point.\n",
            "Iteration No: 45 ended. Search finished for the next optimal point.\n",
            "Time taken: 11.7094\n",
            "Function value obtained: -0.8744\n",
            "Current minimum: -0.8893\n",
            "Iteration No: 46 started. Searching for the next optimal point.\n",
            "Iteration No: 46 ended. Search finished for the next optimal point.\n",
            "Time taken: 8.8617\n",
            "Function value obtained: -0.8841\n",
            "Current minimum: -0.8893\n",
            "Iteration No: 47 started. Searching for the next optimal point.\n"
          ],
          "name": "stdout"
        },
        {
          "output_type": "stream",
          "text": [
            "/usr/local/lib/python3.6/dist-packages/skopt/optimizer/optimizer.py:409: UserWarning: The objective has been evaluated at this point before.\n",
            "  warnings.warn(\"The objective has been evaluated \"\n"
          ],
          "name": "stderr"
        },
        {
          "output_type": "stream",
          "text": [
            "Iteration No: 47 ended. Search finished for the next optimal point.\n",
            "Time taken: 8.8985\n",
            "Function value obtained: -0.8841\n",
            "Current minimum: -0.8893\n",
            "Iteration No: 48 started. Searching for the next optimal point.\n",
            "Iteration No: 48 ended. Search finished for the next optimal point.\n",
            "Time taken: 11.8487\n",
            "Function value obtained: -0.8796\n",
            "Current minimum: -0.8893\n",
            "Iteration No: 49 started. Searching for the next optimal point.\n"
          ],
          "name": "stdout"
        },
        {
          "output_type": "stream",
          "text": [
            "/usr/local/lib/python3.6/dist-packages/skopt/optimizer/optimizer.py:409: UserWarning: The objective has been evaluated at this point before.\n",
            "  warnings.warn(\"The objective has been evaluated \"\n"
          ],
          "name": "stderr"
        },
        {
          "output_type": "stream",
          "text": [
            "Iteration No: 49 ended. Search finished for the next optimal point.\n",
            "Time taken: 11.8654\n",
            "Function value obtained: -0.8796\n",
            "Current minimum: -0.8893\n",
            "Iteration No: 50 started. Searching for the next optimal point.\n",
            "Iteration No: 50 ended. Search finished for the next optimal point.\n",
            "Time taken: 9.1920\n",
            "Function value obtained: -0.8870\n",
            "Current minimum: -0.8893\n",
            "Maximimum recall found: 0.88928\n",
            "Optimal parameters:\n",
            "n_estimators: 160\n",
            "min_samples_split: 5\n",
            "min_samples_leaf: 2\n",
            "max_features: auto\n"
          ],
          "name": "stdout"
        },
        {
          "output_type": "display_data",
          "data": {
            "image/png": "[encoded data removed]",
            "text/plain": [
              "<Figure size 432x288 with 1 Axes>"
            ]
          },
          "metadata": {
            "tags": [],
            "needs_background": "light"
          }
        }
      ]
    },
    {
      "cell_type": "markdown",
      "metadata": {
        "id": "Vn2orBSMh7IW",
        "colab_type": "text"
      },
      "source": [
        "# AdaBoostClassifier"
      ]
    },
    {
      "cell_type": "code",
      "metadata": {
        "id": "KXjFKU83WaqW",
        "colab_type": "code",
        "colab": {
          "base_uri": "https://localhost:8080/",
          "height": 1000
        },
        "outputId": "b599660f-eb8e-4a35-e185-edaab4b6c259"
      },
      "source": [
        "# Bayesian Optimization\n",
        "num_thread=50\n",
        "params = ['n_estimators', 'algorithm']\n",
        "\n",
        "#for model include item_Features\n",
        "def objective(params):\n",
        "    # unpack\n",
        "    n_estimators, algorithm = params\n",
        "    \n",
        "    model_iii = AdaBoostClassifier(n_estimators=n_estimators, algorithm=algorithm, random_state=60616)\n",
        "    model_iii.fit(X_train, y_train)\n",
        "    \n",
        "    y_pred = model_iii.predict(X_test)\n",
        "    fbeta = fbeta_score(y_test, y_pred, beta=0.5, average='weighted')\n",
        "\n",
        "    out = -fbeta\n",
        "    # Handle some numerical issue going on\n",
        "    if np.abs(out + 1) < 0.01 or out < -1.0:\n",
        "        return 0.0\n",
        "    else:\n",
        "        return out\n",
        "\n",
        "space = [(20, 40, 60, 80 , 100, 120, 140, 160),\n",
        "         ('SAMME', 'SAMME.R'),\n",
        "        ]\n",
        "\n",
        "try:\n",
        "    res_fm = forest_minimize(objective, space, n_calls=50,\n",
        "                     random_state=60616,base_estimator= 'RF',acq_func='PI',\n",
        "                     verbose=True, n_jobs=num_thread)\n",
        "except ValueError:\n",
        "    print('Forest diverged, random search intialized')\n",
        "    res_fm = dummy_minimize(objective, space, n_calls=30,\n",
        "         random_state=60616,\n",
        "         verbose=True)\n",
        "\n",
        "print('Maximimum F_Beta found: {:6.5f}'.format(-res_fm.fun))\n",
        "print('Optimal parameters:')\n",
        "\n",
        "for (p, x_) in zip(params, res_fm.x):\n",
        "    print('{}: {}'.format(p, x_))\n",
        "from skopt.plots import plot_convergence\n",
        "plot_convergence(res_fm);"
      ],
      "execution_count": null,
      "outputs": [
        {
          "output_type": "stream",
          "text": [
            "Iteration No: 1 started. Evaluating function at random point.\n",
            "Iteration No: 1 ended. Evaluation done at random point.\n",
            "Time taken: 6.3761\n",
            "Function value obtained: -0.5990\n",
            "Current minimum: -0.5990\n",
            "Iteration No: 2 started. Evaluating function at random point.\n",
            "Iteration No: 2 ended. Evaluation done at random point.\n",
            "Time taken: 9.0770\n",
            "Function value obtained: -0.5554\n",
            "Current minimum: -0.5990\n",
            "Iteration No: 3 started. Evaluating function at random point.\n",
            "Iteration No: 3 ended. Evaluation done at random point.\n",
            "Time taken: 12.8327\n",
            "Function value obtained: -0.6394\n",
            "Current minimum: -0.6394\n",
            "Iteration No: 4 started. Evaluating function at random point.\n",
            "Iteration No: 4 ended. Evaluation done at random point.\n",
            "Time taken: 6.3816\n",
            "Function value obtained: -0.5990\n",
            "Current minimum: -0.6394\n",
            "Iteration No: 5 started. Evaluating function at random point.\n",
            "Iteration No: 5 ended. Evaluation done at random point.\n",
            "Time taken: 3.1865\n",
            "Function value obtained: -0.5356\n",
            "Current minimum: -0.6394\n",
            "Iteration No: 6 started. Evaluating function at random point.\n",
            "Iteration No: 6 ended. Evaluation done at random point.\n",
            "Time taken: 9.5838\n",
            "Function value obtained: -0.6167\n",
            "Current minimum: -0.6394\n",
            "Iteration No: 7 started. Evaluating function at random point.\n",
            "Iteration No: 7 ended. Evaluation done at random point.\n",
            "Time taken: 20.7859\n",
            "Function value obtained: -0.5711\n",
            "Current minimum: -0.6394\n",
            "Iteration No: 8 started. Evaluating function at random point.\n",
            "Iteration No: 8 ended. Evaluation done at random point.\n",
            "Time taken: 6.3899\n",
            "Function value obtained: -0.5990\n",
            "Current minimum: -0.6394\n",
            "Iteration No: 9 started. Evaluating function at random point.\n",
            "Iteration No: 9 ended. Evaluation done at random point.\n",
            "Time taken: 23.7218\n",
            "Function value obtained: -0.5994\n",
            "Current minimum: -0.6394\n",
            "Iteration No: 10 started. Evaluating function at random point.\n",
            "Iteration No: 10 ended. Evaluation done at random point.\n",
            "Time taken: 3.2112\n",
            "Function value obtained: -0.4994\n",
            "Current minimum: -0.6394\n",
            "Iteration No: 11 started. Searching for the next optimal point.\n",
            "Iteration No: 11 ended. Search finished for the next optimal point.\n",
            "Time taken: 22.4240\n",
            "Function value obtained: -0.6165\n",
            "Current minimum: -0.6394\n",
            "Iteration No: 12 started. Searching for the next optimal point.\n"
          ],
          "name": "stdout"
        },
        {
          "output_type": "stream",
          "text": [
            "/usr/local/lib/python3.6/dist-packages/skopt/optimizer/optimizer.py:409: UserWarning: The objective has been evaluated at this point before.\n",
            "  warnings.warn(\"The objective has been evaluated \"\n"
          ],
          "name": "stderr"
        },
        {
          "output_type": "stream",
          "text": [
            "Iteration No: 12 ended. Search finished for the next optimal point.\n",
            "Time taken: 9.7687\n",
            "Function value obtained: -0.6167\n",
            "Current minimum: -0.6394\n",
            "Iteration No: 13 started. Searching for the next optimal point.\n"
          ],
          "name": "stdout"
        },
        {
          "output_type": "stream",
          "text": [
            "/usr/local/lib/python3.6/dist-packages/skopt/optimizer/optimizer.py:409: UserWarning: The objective has been evaluated at this point before.\n",
            "  warnings.warn(\"The objective has been evaluated \"\n"
          ],
          "name": "stderr"
        },
        {
          "output_type": "stream",
          "text": [
            "Iteration No: 13 ended. Search finished for the next optimal point.\n",
            "Time taken: 12.9289\n",
            "Function value obtained: -0.6394\n",
            "Current minimum: -0.6394\n",
            "Iteration No: 14 started. Searching for the next optimal point.\n",
            "Iteration No: 14 ended. Search finished for the next optimal point.\n",
            "Time taken: 25.4457\n",
            "Function value obtained: -0.6136\n",
            "Current minimum: -0.6394\n",
            "Iteration No: 15 started. Searching for the next optimal point.\n",
            "Iteration No: 15 ended. Search finished for the next optimal point.\n",
            "Time taken: 19.2619\n",
            "Function value obtained: -0.6284\n",
            "Current minimum: -0.6394\n",
            "Iteration No: 16 started. Searching for the next optimal point.\n"
          ],
          "name": "stdout"
        },
        {
          "output_type": "stream",
          "text": [
            "/usr/local/lib/python3.6/dist-packages/skopt/optimizer/optimizer.py:409: UserWarning: The objective has been evaluated at this point before.\n",
            "  warnings.warn(\"The objective has been evaluated \"\n"
          ],
          "name": "stderr"
        },
        {
          "output_type": "stream",
          "text": [
            "Iteration No: 16 ended. Search finished for the next optimal point.\n",
            "Time taken: 13.1170\n",
            "Function value obtained: -0.6394\n",
            "Current minimum: -0.6394\n",
            "Iteration No: 17 started. Searching for the next optimal point.\n"
          ],
          "name": "stdout"
        },
        {
          "output_type": "stream",
          "text": [
            "/usr/local/lib/python3.6/dist-packages/skopt/optimizer/optimizer.py:409: UserWarning: The objective has been evaluated at this point before.\n",
            "  warnings.warn(\"The objective has been evaluated \"\n"
          ],
          "name": "stderr"
        },
        {
          "output_type": "stream",
          "text": [
            "Iteration No: 17 ended. Search finished for the next optimal point.\n",
            "Time taken: 13.2188\n",
            "Function value obtained: -0.6394\n",
            "Current minimum: -0.6394\n",
            "Iteration No: 18 started. Searching for the next optimal point.\n"
          ],
          "name": "stdout"
        },
        {
          "output_type": "stream",
          "text": [
            "/usr/local/lib/python3.6/dist-packages/skopt/optimizer/optimizer.py:409: UserWarning: The objective has been evaluated at this point before.\n",
            "  warnings.warn(\"The objective has been evaluated \"\n"
          ],
          "name": "stderr"
        },
        {
          "output_type": "stream",
          "text": [
            "Iteration No: 18 ended. Search finished for the next optimal point.\n",
            "Time taken: 13.1679\n",
            "Function value obtained: -0.6394\n",
            "Current minimum: -0.6394\n",
            "Iteration No: 19 started. Searching for the next optimal point.\n"
          ],
          "name": "stdout"
        },
        {
          "output_type": "stream",
          "text": [
            "/usr/local/lib/python3.6/dist-packages/skopt/optimizer/optimizer.py:409: UserWarning: The objective has been evaluated at this point before.\n",
            "  warnings.warn(\"The objective has been evaluated \"\n"
          ],
          "name": "stderr"
        },
        {
          "output_type": "stream",
          "text": [
            "Iteration No: 19 ended. Search finished for the next optimal point.\n",
            "Time taken: 13.0554\n",
            "Function value obtained: -0.6394\n",
            "Current minimum: -0.6394\n",
            "Iteration No: 20 started. Searching for the next optimal point.\n",
            "Iteration No: 20 ended. Search finished for the next optimal point.\n",
            "Time taken: 12.2751\n",
            "Function value obtained: -0.5877\n",
            "Current minimum: -0.6394\n",
            "Iteration No: 21 started. Searching for the next optimal point.\n"
          ],
          "name": "stdout"
        },
        {
          "output_type": "stream",
          "text": [
            "/usr/local/lib/python3.6/dist-packages/skopt/optimizer/optimizer.py:409: UserWarning: The objective has been evaluated at this point before.\n",
            "  warnings.warn(\"The objective has been evaluated \"\n"
          ],
          "name": "stderr"
        },
        {
          "output_type": "stream",
          "text": [
            "Iteration No: 21 ended. Search finished for the next optimal point.\n",
            "Time taken: 12.4554\n",
            "Function value obtained: -0.6394\n",
            "Current minimum: -0.6394\n",
            "Iteration No: 22 started. Searching for the next optimal point.\n"
          ],
          "name": "stdout"
        },
        {
          "output_type": "stream",
          "text": [
            "/usr/local/lib/python3.6/dist-packages/skopt/optimizer/optimizer.py:409: UserWarning: The objective has been evaluated at this point before.\n",
            "  warnings.warn(\"The objective has been evaluated \"\n"
          ],
          "name": "stderr"
        },
        {
          "output_type": "stream",
          "text": [
            "Iteration No: 22 ended. Search finished for the next optimal point.\n",
            "Time taken: 12.5743\n",
            "Function value obtained: -0.6394\n",
            "Current minimum: -0.6394\n",
            "Iteration No: 23 started. Searching for the next optimal point.\n"
          ],
          "name": "stdout"
        },
        {
          "output_type": "stream",
          "text": [
            "/usr/local/lib/python3.6/dist-packages/skopt/optimizer/optimizer.py:409: UserWarning: The objective has been evaluated at this point before.\n",
            "  warnings.warn(\"The objective has been evaluated \"\n"
          ],
          "name": "stderr"
        },
        {
          "output_type": "stream",
          "text": [
            "Iteration No: 23 ended. Search finished for the next optimal point.\n",
            "Time taken: 11.9325\n",
            "Function value obtained: -0.5877\n",
            "Current minimum: -0.6394\n",
            "Iteration No: 24 started. Searching for the next optimal point.\n"
          ],
          "name": "stdout"
        },
        {
          "output_type": "stream",
          "text": [
            "/usr/local/lib/python3.6/dist-packages/skopt/optimizer/optimizer.py:409: UserWarning: The objective has been evaluated at this point before.\n",
            "  warnings.warn(\"The objective has been evaluated \"\n"
          ],
          "name": "stderr"
        },
        {
          "output_type": "stream",
          "text": [
            "Iteration No: 24 ended. Search finished for the next optimal point.\n",
            "Time taken: 12.7928\n",
            "Function value obtained: -0.6394\n",
            "Current minimum: -0.6394\n",
            "Iteration No: 25 started. Searching for the next optimal point.\n"
          ],
          "name": "stdout"
        },
        {
          "output_type": "stream",
          "text": [
            "/usr/local/lib/python3.6/dist-packages/skopt/optimizer/optimizer.py:409: UserWarning: The objective has been evaluated at this point before.\n",
            "  warnings.warn(\"The objective has been evaluated \"\n"
          ],
          "name": "stderr"
        },
        {
          "output_type": "stream",
          "text": [
            "Iteration No: 25 ended. Search finished for the next optimal point.\n",
            "Time taken: 12.8088\n",
            "Function value obtained: -0.6394\n",
            "Current minimum: -0.6394\n",
            "Iteration No: 26 started. Searching for the next optimal point.\n"
          ],
          "name": "stdout"
        },
        {
          "output_type": "stream",
          "text": [
            "/usr/local/lib/python3.6/dist-packages/skopt/optimizer/optimizer.py:409: UserWarning: The objective has been evaluated at this point before.\n",
            "  warnings.warn(\"The objective has been evaluated \"\n"
          ],
          "name": "stderr"
        },
        {
          "output_type": "stream",
          "text": [
            "Iteration No: 26 ended. Search finished for the next optimal point.\n",
            "Time taken: 12.5992\n",
            "Function value obtained: -0.6394\n",
            "Current minimum: -0.6394\n",
            "Iteration No: 27 started. Searching for the next optimal point.\n"
          ],
          "name": "stdout"
        },
        {
          "output_type": "stream",
          "text": [
            "/usr/local/lib/python3.6/dist-packages/skopt/optimizer/optimizer.py:409: UserWarning: The objective has been evaluated at this point before.\n",
            "  warnings.warn(\"The objective has been evaluated \"\n"
          ],
          "name": "stderr"
        },
        {
          "output_type": "stream",
          "text": [
            "Iteration No: 27 ended. Search finished for the next optimal point.\n",
            "Time taken: 12.6361\n",
            "Function value obtained: -0.6394\n",
            "Current minimum: -0.6394\n",
            "Iteration No: 28 started. Searching for the next optimal point.\n"
          ],
          "name": "stdout"
        },
        {
          "output_type": "stream",
          "text": [
            "/usr/local/lib/python3.6/dist-packages/skopt/optimizer/optimizer.py:409: UserWarning: The objective has been evaluated at this point before.\n",
            "  warnings.warn(\"The objective has been evaluated \"\n"
          ],
          "name": "stderr"
        },
        {
          "output_type": "stream",
          "text": [
            "Iteration No: 28 ended. Search finished for the next optimal point.\n",
            "Time taken: 12.7841\n",
            "Function value obtained: -0.6394\n",
            "Current minimum: -0.6394\n",
            "Iteration No: 29 started. Searching for the next optimal point.\n"
          ],
          "name": "stdout"
        },
        {
          "output_type": "stream",
          "text": [
            "/usr/local/lib/python3.6/dist-packages/skopt/optimizer/optimizer.py:409: UserWarning: The objective has been evaluated at this point before.\n",
            "  warnings.warn(\"The objective has been evaluated \"\n"
          ],
          "name": "stderr"
        },
        {
          "output_type": "stream",
          "text": [
            "Iteration No: 29 ended. Search finished for the next optimal point.\n",
            "Time taken: 13.1806\n",
            "Function value obtained: -0.6394\n",
            "Current minimum: -0.6394\n",
            "Iteration No: 30 started. Searching for the next optimal point.\n"
          ],
          "name": "stdout"
        },
        {
          "output_type": "stream",
          "text": [
            "/usr/local/lib/python3.6/dist-packages/skopt/optimizer/optimizer.py:409: UserWarning: The objective has been evaluated at this point before.\n",
            "  warnings.warn(\"The objective has been evaluated \"\n"
          ],
          "name": "stderr"
        },
        {
          "output_type": "stream",
          "text": [
            "Iteration No: 30 ended. Search finished for the next optimal point.\n",
            "Time taken: 13.0780\n",
            "Function value obtained: -0.6394\n",
            "Current minimum: -0.6394\n",
            "Iteration No: 31 started. Searching for the next optimal point.\n"
          ],
          "name": "stdout"
        },
        {
          "output_type": "stream",
          "text": [
            "/usr/local/lib/python3.6/dist-packages/skopt/optimizer/optimizer.py:409: UserWarning: The objective has been evaluated at this point before.\n",
            "  warnings.warn(\"The objective has been evaluated \"\n"
          ],
          "name": "stderr"
        },
        {
          "output_type": "stream",
          "text": [
            "Iteration No: 31 ended. Search finished for the next optimal point.\n",
            "Time taken: 12.9066\n",
            "Function value obtained: -0.6394\n",
            "Current minimum: -0.6394\n",
            "Iteration No: 32 started. Searching for the next optimal point.\n"
          ],
          "name": "stdout"
        },
        {
          "output_type": "stream",
          "text": [
            "/usr/local/lib/python3.6/dist-packages/skopt/optimizer/optimizer.py:409: UserWarning: The objective has been evaluated at this point before.\n",
            "  warnings.warn(\"The objective has been evaluated \"\n"
          ],
          "name": "stderr"
        },
        {
          "output_type": "stream",
          "text": [
            "Iteration No: 32 ended. Search finished for the next optimal point.\n",
            "Time taken: 12.1024\n",
            "Function value obtained: -0.5877\n",
            "Current minimum: -0.6394\n",
            "Iteration No: 33 started. Searching for the next optimal point.\n"
          ],
          "name": "stdout"
        },
        {
          "output_type": "stream",
          "text": [
            "/usr/local/lib/python3.6/dist-packages/skopt/optimizer/optimizer.py:409: UserWarning: The objective has been evaluated at this point before.\n",
            "  warnings.warn(\"The objective has been evaluated \"\n"
          ],
          "name": "stderr"
        },
        {
          "output_type": "stream",
          "text": [
            "Iteration No: 33 ended. Search finished for the next optimal point.\n",
            "Time taken: 14.7328\n",
            "Function value obtained: -0.6394\n",
            "Current minimum: -0.6394\n",
            "Iteration No: 34 started. Searching for the next optimal point.\n"
          ],
          "name": "stdout"
        },
        {
          "output_type": "stream",
          "text": [
            "/usr/local/lib/python3.6/dist-packages/skopt/optimizer/optimizer.py:409: UserWarning: The objective has been evaluated at this point before.\n",
            "  warnings.warn(\"The objective has been evaluated \"\n"
          ],
          "name": "stderr"
        },
        {
          "output_type": "stream",
          "text": [
            "Iteration No: 34 ended. Search finished for the next optimal point.\n",
            "Time taken: 12.8429\n",
            "Function value obtained: -0.6394\n",
            "Current minimum: -0.6394\n",
            "Iteration No: 35 started. Searching for the next optimal point.\n"
          ],
          "name": "stdout"
        },
        {
          "output_type": "stream",
          "text": [
            "/usr/local/lib/python3.6/dist-packages/skopt/optimizer/optimizer.py:409: UserWarning: The objective has been evaluated at this point before.\n",
            "  warnings.warn(\"The objective has been evaluated \"\n"
          ],
          "name": "stderr"
        },
        {
          "output_type": "stream",
          "text": [
            "Iteration No: 35 ended. Search finished for the next optimal point.\n",
            "Time taken: 12.8536\n",
            "Function value obtained: -0.6394\n",
            "Current minimum: -0.6394\n",
            "Iteration No: 36 started. Searching for the next optimal point.\n"
          ],
          "name": "stdout"
        },
        {
          "output_type": "stream",
          "text": [
            "/usr/local/lib/python3.6/dist-packages/skopt/optimizer/optimizer.py:409: UserWarning: The objective has been evaluated at this point before.\n",
            "  warnings.warn(\"The objective has been evaluated \"\n"
          ],
          "name": "stderr"
        },
        {
          "output_type": "stream",
          "text": [
            "Iteration No: 36 ended. Search finished for the next optimal point.\n",
            "Time taken: 12.8580\n",
            "Function value obtained: -0.6394\n",
            "Current minimum: -0.6394\n",
            "Iteration No: 37 started. Searching for the next optimal point.\n"
          ],
          "name": "stdout"
        },
        {
          "output_type": "stream",
          "text": [
            "/usr/local/lib/python3.6/dist-packages/skopt/optimizer/optimizer.py:409: UserWarning: The objective has been evaluated at this point before.\n",
            "  warnings.warn(\"The objective has been evaluated \"\n"
          ],
          "name": "stderr"
        },
        {
          "output_type": "stream",
          "text": [
            "Iteration No: 37 ended. Search finished for the next optimal point.\n",
            "Time taken: 12.9133\n",
            "Function value obtained: -0.6394\n",
            "Current minimum: -0.6394\n",
            "Iteration No: 38 started. Searching for the next optimal point.\n"
          ],
          "name": "stdout"
        },
        {
          "output_type": "stream",
          "text": [
            "/usr/local/lib/python3.6/dist-packages/skopt/optimizer/optimizer.py:409: UserWarning: The objective has been evaluated at this point before.\n",
            "  warnings.warn(\"The objective has been evaluated \"\n"
          ],
          "name": "stderr"
        },
        {
          "output_type": "stream",
          "text": [
            "Iteration No: 38 ended. Search finished for the next optimal point.\n",
            "Time taken: 12.7330\n",
            "Function value obtained: -0.6394\n",
            "Current minimum: -0.6394\n",
            "Iteration No: 39 started. Searching for the next optimal point.\n"
          ],
          "name": "stdout"
        },
        {
          "output_type": "stream",
          "text": [
            "/usr/local/lib/python3.6/dist-packages/skopt/optimizer/optimizer.py:409: UserWarning: The objective has been evaluated at this point before.\n",
            "  warnings.warn(\"The objective has been evaluated \"\n"
          ],
          "name": "stderr"
        },
        {
          "output_type": "stream",
          "text": [
            "Iteration No: 39 ended. Search finished for the next optimal point.\n",
            "Time taken: 12.8462\n",
            "Function value obtained: -0.6394\n",
            "Current minimum: -0.6394\n",
            "Iteration No: 40 started. Searching for the next optimal point.\n"
          ],
          "name": "stdout"
        },
        {
          "output_type": "stream",
          "text": [
            "/usr/local/lib/python3.6/dist-packages/skopt/optimizer/optimizer.py:409: UserWarning: The objective has been evaluated at this point before.\n",
            "  warnings.warn(\"The objective has been evaluated \"\n"
          ],
          "name": "stderr"
        },
        {
          "output_type": "stream",
          "text": [
            "Iteration No: 40 ended. Search finished for the next optimal point.\n",
            "Time taken: 12.7257\n",
            "Function value obtained: -0.6394\n",
            "Current minimum: -0.6394\n",
            "Iteration No: 41 started. Searching for the next optimal point.\n"
          ],
          "name": "stdout"
        },
        {
          "output_type": "stream",
          "text": [
            "/usr/local/lib/python3.6/dist-packages/skopt/optimizer/optimizer.py:409: UserWarning: The objective has been evaluated at this point before.\n",
            "  warnings.warn(\"The objective has been evaluated \"\n"
          ],
          "name": "stderr"
        },
        {
          "output_type": "stream",
          "text": [
            "Iteration No: 41 ended. Search finished for the next optimal point.\n",
            "Time taken: 12.8043\n",
            "Function value obtained: -0.6394\n",
            "Current minimum: -0.6394\n",
            "Iteration No: 42 started. Searching for the next optimal point.\n"
          ],
          "name": "stdout"
        },
        {
          "output_type": "stream",
          "text": [
            "/usr/local/lib/python3.6/dist-packages/skopt/optimizer/optimizer.py:409: UserWarning: The objective has been evaluated at this point before.\n",
            "  warnings.warn(\"The objective has been evaluated \"\n"
          ],
          "name": "stderr"
        },
        {
          "output_type": "stream",
          "text": [
            "Iteration No: 42 ended. Search finished for the next optimal point.\n",
            "Time taken: 11.5292\n",
            "Function value obtained: -0.5877\n",
            "Current minimum: -0.6394\n",
            "Iteration No: 43 started. Searching for the next optimal point.\n"
          ],
          "name": "stdout"
        },
        {
          "output_type": "stream",
          "text": [
            "/usr/local/lib/python3.6/dist-packages/skopt/optimizer/optimizer.py:409: UserWarning: The objective has been evaluated at this point before.\n",
            "  warnings.warn(\"The objective has been evaluated \"\n"
          ],
          "name": "stderr"
        },
        {
          "output_type": "stream",
          "text": [
            "Iteration No: 43 ended. Search finished for the next optimal point.\n",
            "Time taken: 24.7965\n",
            "Function value obtained: -0.6136\n",
            "Current minimum: -0.6394\n",
            "Iteration No: 44 started. Searching for the next optimal point.\n"
          ],
          "name": "stdout"
        },
        {
          "output_type": "stream",
          "text": [
            "/usr/local/lib/python3.6/dist-packages/skopt/optimizer/optimizer.py:409: UserWarning: The objective has been evaluated at this point before.\n",
            "  warnings.warn(\"The objective has been evaluated \"\n"
          ],
          "name": "stderr"
        },
        {
          "output_type": "stream",
          "text": [
            "Iteration No: 44 ended. Search finished for the next optimal point.\n",
            "Time taken: 21.5834\n",
            "Function value obtained: -0.6165\n",
            "Current minimum: -0.6394\n",
            "Iteration No: 45 started. Searching for the next optimal point.\n",
            "Iteration No: 45 ended. Search finished for the next optimal point.\n",
            "Time taken: 15.7432\n",
            "Function value obtained: -0.6197\n",
            "Current minimum: -0.6394\n",
            "Iteration No: 46 started. Searching for the next optimal point.\n"
          ],
          "name": "stdout"
        },
        {
          "output_type": "stream",
          "text": [
            "/usr/local/lib/python3.6/dist-packages/skopt/optimizer/optimizer.py:409: UserWarning: The objective has been evaluated at this point before.\n",
            "  warnings.warn(\"The objective has been evaluated \"\n"
          ],
          "name": "stderr"
        },
        {
          "output_type": "stream",
          "text": [
            "Iteration No: 46 ended. Search finished for the next optimal point.\n",
            "Time taken: 18.8645\n",
            "Function value obtained: -0.6284\n",
            "Current minimum: -0.6394\n",
            "Iteration No: 47 started. Searching for the next optimal point.\n"
          ],
          "name": "stdout"
        },
        {
          "output_type": "stream",
          "text": [
            "/usr/local/lib/python3.6/dist-packages/skopt/optimizer/optimizer.py:409: UserWarning: The objective has been evaluated at this point before.\n",
            "  warnings.warn(\"The objective has been evaluated \"\n"
          ],
          "name": "stderr"
        },
        {
          "output_type": "stream",
          "text": [
            "Iteration No: 47 ended. Search finished for the next optimal point.\n",
            "Time taken: 15.5468\n",
            "Function value obtained: -0.6197\n",
            "Current minimum: -0.6394\n",
            "Iteration No: 48 started. Searching for the next optimal point.\n"
          ],
          "name": "stdout"
        },
        {
          "output_type": "stream",
          "text": [
            "/usr/local/lib/python3.6/dist-packages/skopt/optimizer/optimizer.py:409: UserWarning: The objective has been evaluated at this point before.\n",
            "  warnings.warn(\"The objective has been evaluated \"\n"
          ],
          "name": "stderr"
        },
        {
          "output_type": "stream",
          "text": [
            "Iteration No: 48 ended. Search finished for the next optimal point.\n",
            "Time taken: 3.3131\n",
            "Function value obtained: -0.5356\n",
            "Current minimum: -0.6394\n",
            "Iteration No: 49 started. Searching for the next optimal point.\n"
          ],
          "name": "stdout"
        },
        {
          "output_type": "stream",
          "text": [
            "/usr/local/lib/python3.6/dist-packages/skopt/optimizer/optimizer.py:409: UserWarning: The objective has been evaluated at this point before.\n",
            "  warnings.warn(\"The objective has been evaluated \"\n"
          ],
          "name": "stderr"
        },
        {
          "output_type": "stream",
          "text": [
            "Iteration No: 49 ended. Search finished for the next optimal point.\n",
            "Time taken: 3.3541\n",
            "Function value obtained: -0.5356\n",
            "Current minimum: -0.6394\n",
            "Iteration No: 50 started. Searching for the next optimal point.\n"
          ],
          "name": "stdout"
        },
        {
          "output_type": "stream",
          "text": [
            "/usr/local/lib/python3.6/dist-packages/skopt/optimizer/optimizer.py:409: UserWarning: The objective has been evaluated at this point before.\n",
            "  warnings.warn(\"The objective has been evaluated \"\n"
          ],
          "name": "stderr"
        },
        {
          "output_type": "stream",
          "text": [
            "Iteration No: 50 ended. Search finished for the next optimal point.\n",
            "Time taken: 18.6900\n",
            "Function value obtained: -0.6284\n",
            "Current minimum: -0.6394\n",
            "Maximimum recall found: 0.63936\n",
            "Optimal parameters:\n",
            "n_estimators: 80\n",
            "algorithm: SAMME.R\n"
          ],
          "name": "stdout"
        },
        {
          "output_type": "display_data",
          "data": {
            "image/png": "[encoded data removed]",
            "text/plain": [
              "<Figure size 432x288 with 1 Axes>"
            ]
          },
          "metadata": {
            "tags": [],
            "needs_background": "light"
          }
        }
      ]
    },
    {
      "cell_type": "markdown",
      "metadata": {
        "id": "sRJglIGmzcOP",
        "colab_type": "text"
      },
      "source": [
        "# GradientBoostingClassifier"
      ]
    },
    {
      "cell_type": "code",
      "metadata": {
        "id": "Ygl-GPRazc7u",
        "colab_type": "code",
        "colab": {
          "base_uri": "https://localhost:8080/",
          "height": 1000
        },
        "outputId": "28565b1a-e837-4f42-cf9c-3b9549eb2e33"
      },
      "source": [
        "# Bayesian Optimization\n",
        "num_thread=50\n",
        "params = ['n_estimators', 'min_samples_split', 'min_samples_leaf', 'max_features']\n",
        "\n",
        "#for model include item_Features\n",
        "def objective(params):\n",
        "    # unpack\n",
        "    n_estimators, min_samples_split, min_samples_leaf, max_features = params\n",
        "    \n",
        "    model_iii = GradientBoostingClassifier(n_estimators=n_estimators, min_samples_split=min_samples_split, min_samples_leaf=min_samples_leaf, max_features=max_features, random_state=60616)\n",
        "    model_iii.fit(X_train, y_train)\n",
        "    \n",
        "    y_pred = model_iii.predict(X_test)\n",
        "    fbeta = fbeta_score(y_test, y_pred, beta=0.5, average='weighted')\n",
        "\n",
        "    out = -fbeta\n",
        "    # Handle some numerical issue going on\n",
        "    if np.abs(out + 1) < 0.01 or out < -1.0:\n",
        "        return 0.0\n",
        "    else:\n",
        "        return out\n",
        "\n",
        "space = [(20, 40, 60, 80 , 100, 120, 140, 160),\n",
        "         (5, 10, 15, 20, 25, 30, 35),\n",
        "         (2, 6, 10, 14, 18, 22, 26, 30),\n",
        "         ('auto', 'sqrt', 'log2'),\n",
        "        ]\n",
        "\n",
        "try:\n",
        "    res_fm = forest_minimize(objective, space, n_calls=50,\n",
        "                     random_state=60616,base_estimator= 'RF',acq_func='PI',\n",
        "                     verbose=True, n_jobs=num_thread)\n",
        "except ValueError:\n",
        "    print('Forest diverged, random search intialized')\n",
        "    res_fm = dummy_minimize(objective, space, n_calls=30,\n",
        "         random_state=60616,\n",
        "         verbose=True)\n",
        "\n",
        "print('Maximimum F_Beta found: {:6.5f}'.format(-res_fm.fun))\n",
        "print('Optimal parameters:')\n",
        "\n",
        "for (p, x_) in zip(params, res_fm.x):\n",
        "    print('{}: {}'.format(p, x_))\n",
        "from skopt.plots import plot_convergence\n",
        "plot_convergence(res_fm);"
      ],
      "execution_count": null,
      "outputs": [
        {
          "output_type": "stream",
          "text": [
            "Iteration No: 1 started. Evaluating function at random point.\n",
            "Iteration No: 1 ended. Evaluation done at random point.\n",
            "Time taken: 8.4061\n",
            "Function value obtained: -0.6915\n",
            "Current minimum: -0.6915\n",
            "Iteration No: 2 started. Evaluating function at random point.\n",
            "Iteration No: 2 ended. Evaluation done at random point.\n",
            "Time taken: 16.6592\n",
            "Function value obtained: -0.7182\n",
            "Current minimum: -0.7182\n",
            "Iteration No: 3 started. Evaluating function at random point.\n",
            "Iteration No: 3 ended. Evaluation done at random point.\n",
            "Time taken: 3.2367\n",
            "Function value obtained: -0.6262\n",
            "Current minimum: -0.7182\n",
            "Iteration No: 4 started. Evaluating function at random point.\n",
            "Iteration No: 4 ended. Evaluation done at random point.\n",
            "Time taken: 22.3998\n",
            "Function value obtained: -0.7234\n",
            "Current minimum: -0.7234\n",
            "Iteration No: 5 started. Evaluating function at random point.\n",
            "Iteration No: 5 ended. Evaluation done at random point.\n",
            "Time taken: 253.1156\n",
            "Function value obtained: -0.7711\n",
            "Current minimum: -0.7711\n",
            "Iteration No: 6 started. Evaluating function at random point.\n",
            "Iteration No: 6 ended. Evaluation done at random point.\n",
            "Time taken: 16.9515\n",
            "Function value obtained: -0.7162\n",
            "Current minimum: -0.7711\n",
            "Iteration No: 7 started. Evaluating function at random point.\n",
            "Iteration No: 7 ended. Evaluation done at random point.\n",
            "Time taken: 222.4246\n",
            "Function value obtained: -0.7618\n",
            "Current minimum: -0.7711\n",
            "Iteration No: 8 started. Evaluating function at random point.\n",
            "Iteration No: 8 ended. Evaluation done at random point.\n",
            "Time taken: 187.8845\n",
            "Function value obtained: -0.7562\n",
            "Current minimum: -0.7711\n",
            "Iteration No: 9 started. Evaluating function at random point.\n",
            "Iteration No: 9 ended. Evaluation done at random point.\n",
            "Time taken: 6.4756\n",
            "Function value obtained: -0.6812\n",
            "Current minimum: -0.7711\n",
            "Iteration No: 10 started. Evaluating function at random point.\n",
            "Iteration No: 10 ended. Evaluation done at random point.\n",
            "Time taken: 13.1270\n",
            "Function value obtained: -0.7053\n",
            "Current minimum: -0.7711\n",
            "Iteration No: 11 started. Searching for the next optimal point.\n",
            "Iteration No: 11 ended. Search finished for the next optimal point.\n",
            "Time taken: 186.7831\n",
            "Function value obtained: -0.7556\n",
            "Current minimum: -0.7711\n",
            "Iteration No: 12 started. Searching for the next optimal point.\n",
            "Iteration No: 12 ended. Search finished for the next optimal point.\n",
            "Time taken: 159.5184\n",
            "Function value obtained: -0.7490\n",
            "Current minimum: -0.7711\n",
            "Iteration No: 13 started. Searching for the next optimal point.\n",
            "Iteration No: 13 ended. Search finished for the next optimal point.\n",
            "Time taken: 191.6914\n",
            "Function value obtained: -0.7568\n",
            "Current minimum: -0.7711\n",
            "Iteration No: 14 started. Searching for the next optimal point.\n",
            "Iteration No: 14 ended. Search finished for the next optimal point.\n",
            "Time taken: 30.8546\n",
            "Function value obtained: -0.6785\n",
            "Current minimum: -0.7711\n",
            "Iteration No: 15 started. Searching for the next optimal point.\n"
          ],
          "name": "stdout"
        },
        {
          "output_type": "stream",
          "text": [
            "/usr/local/lib/python3.6/dist-packages/skopt/optimizer/optimizer.py:409: UserWarning: The objective has been evaluated at this point before.\n",
            "  warnings.warn(\"The objective has been evaluated \"\n"
          ],
          "name": "stderr"
        },
        {
          "output_type": "stream",
          "text": [
            "Iteration No: 15 ended. Search finished for the next optimal point.\n",
            "Time taken: 188.9226\n",
            "Function value obtained: -0.7568\n",
            "Current minimum: -0.7711\n",
            "Iteration No: 16 started. Searching for the next optimal point.\n"
          ],
          "name": "stdout"
        },
        {
          "output_type": "stream",
          "text": [
            "/usr/local/lib/python3.6/dist-packages/skopt/optimizer/optimizer.py:409: UserWarning: The objective has been evaluated at this point before.\n",
            "  warnings.warn(\"The objective has been evaluated \"\n"
          ],
          "name": "stderr"
        },
        {
          "output_type": "stream",
          "text": [
            "Iteration No: 16 ended. Search finished for the next optimal point.\n",
            "Time taken: 185.9745\n",
            "Function value obtained: -0.7568\n",
            "Current minimum: -0.7711\n",
            "Iteration No: 17 started. Searching for the next optimal point.\n",
            "Iteration No: 17 ended. Search finished for the next optimal point.\n",
            "Time taken: 31.1864\n",
            "Function value obtained: -0.6785\n",
            "Current minimum: -0.7711\n",
            "Iteration No: 18 started. Searching for the next optimal point.\n"
          ],
          "name": "stdout"
        },
        {
          "output_type": "stream",
          "text": [
            "/usr/local/lib/python3.6/dist-packages/skopt/optimizer/optimizer.py:409: UserWarning: The objective has been evaluated at this point before.\n",
            "  warnings.warn(\"The objective has been evaluated \"\n"
          ],
          "name": "stderr"
        },
        {
          "output_type": "stream",
          "text": [
            "Iteration No: 18 ended. Search finished for the next optimal point.\n",
            "Time taken: 188.9441\n",
            "Function value obtained: -0.7568\n",
            "Current minimum: -0.7711\n",
            "Iteration No: 19 started. Searching for the next optimal point.\n",
            "Iteration No: 19 ended. Search finished for the next optimal point.\n",
            "Time taken: 31.6738\n",
            "Function value obtained: -0.6833\n",
            "Current minimum: -0.7711\n",
            "Iteration No: 20 started. Searching for the next optimal point.\n",
            "Iteration No: 20 ended. Search finished for the next optimal point.\n",
            "Time taken: 156.4798\n",
            "Function value obtained: -0.7473\n",
            "Current minimum: -0.7711\n",
            "Iteration No: 21 started. Searching for the next optimal point.\n",
            "Iteration No: 21 ended. Search finished for the next optimal point.\n",
            "Time taken: 214.6874\n",
            "Function value obtained: -0.7635\n",
            "Current minimum: -0.7711\n",
            "Iteration No: 22 started. Searching for the next optimal point.\n",
            "Iteration No: 22 ended. Search finished for the next optimal point.\n",
            "Time taken: 159.7329\n",
            "Function value obtained: -0.7497\n",
            "Current minimum: -0.7711\n",
            "Iteration No: 23 started. Searching for the next optimal point.\n",
            "Iteration No: 23 ended. Search finished for the next optimal point.\n",
            "Time taken: 62.9291\n",
            "Function value obtained: -0.7108\n",
            "Current minimum: -0.7711\n",
            "Iteration No: 24 started. Searching for the next optimal point.\n",
            "Iteration No: 24 ended. Search finished for the next optimal point.\n",
            "Time taken: 258.0494\n",
            "Function value obtained: -0.7691\n",
            "Current minimum: -0.7711\n",
            "Iteration No: 25 started. Searching for the next optimal point.\n",
            "Iteration No: 25 ended. Search finished for the next optimal point.\n",
            "Time taken: 93.5023\n",
            "Function value obtained: -0.7266\n",
            "Current minimum: -0.7711\n",
            "Iteration No: 26 started. Searching for the next optimal point.\n"
          ],
          "name": "stdout"
        },
        {
          "output_type": "stream",
          "text": [
            "/usr/local/lib/python3.6/dist-packages/skopt/optimizer/optimizer.py:409: UserWarning: The objective has been evaluated at this point before.\n",
            "  warnings.warn(\"The objective has been evaluated \"\n"
          ],
          "name": "stderr"
        },
        {
          "output_type": "stream",
          "text": [
            "Iteration No: 26 ended. Search finished for the next optimal point.\n",
            "Time taken: 95.8708\n",
            "Function value obtained: -0.7266\n",
            "Current minimum: -0.7711\n",
            "Iteration No: 27 started. Searching for the next optimal point.\n",
            "Iteration No: 27 ended. Search finished for the next optimal point.\n",
            "Time taken: 219.6145\n",
            "Function value obtained: -0.7645\n",
            "Current minimum: -0.7711\n",
            "Iteration No: 28 started. Searching for the next optimal point.\n",
            "Iteration No: 28 ended. Search finished for the next optimal point.\n",
            "Time taken: 221.8988\n",
            "Function value obtained: -0.7651\n",
            "Current minimum: -0.7711\n",
            "Iteration No: 29 started. Searching for the next optimal point.\n",
            "Iteration No: 29 ended. Search finished for the next optimal point.\n",
            "Time taken: 225.4746\n",
            "Function value obtained: -0.7628\n",
            "Current minimum: -0.7711\n",
            "Iteration No: 30 started. Searching for the next optimal point.\n"
          ],
          "name": "stdout"
        },
        {
          "output_type": "stream",
          "text": [
            "/usr/local/lib/python3.6/dist-packages/skopt/optimizer/optimizer.py:409: UserWarning: The objective has been evaluated at this point before.\n",
            "  warnings.warn(\"The objective has been evaluated \"\n"
          ],
          "name": "stderr"
        },
        {
          "output_type": "stream",
          "text": [
            "Iteration No: 30 ended. Search finished for the next optimal point.\n",
            "Time taken: 227.2244\n",
            "Function value obtained: -0.7628\n",
            "Current minimum: -0.7711\n",
            "Iteration No: 31 started. Searching for the next optimal point.\n"
          ],
          "name": "stdout"
        },
        {
          "output_type": "stream",
          "text": [
            "/usr/local/lib/python3.6/dist-packages/skopt/optimizer/optimizer.py:409: UserWarning: The objective has been evaluated at this point before.\n",
            "  warnings.warn(\"The objective has been evaluated \"\n"
          ],
          "name": "stderr"
        },
        {
          "output_type": "stream",
          "text": [
            "Iteration No: 31 ended. Search finished for the next optimal point.\n",
            "Time taken: 225.0948\n",
            "Function value obtained: -0.7628\n",
            "Current minimum: -0.7711\n",
            "Iteration No: 32 started. Searching for the next optimal point.\n",
            "Iteration No: 32 ended. Search finished for the next optimal point.\n",
            "Time taken: 224.6456\n",
            "Function value obtained: -0.7621\n",
            "Current minimum: -0.7711\n",
            "Iteration No: 33 started. Searching for the next optimal point.\n",
            "Iteration No: 33 ended. Search finished for the next optimal point.\n",
            "Time taken: 225.5421\n",
            "Function value obtained: -0.7641\n",
            "Current minimum: -0.7711\n",
            "Iteration No: 34 started. Searching for the next optimal point.\n",
            "Iteration No: 34 ended. Search finished for the next optimal point.\n",
            "Time taken: 224.8200\n",
            "Function value obtained: -0.7635\n",
            "Current minimum: -0.7711\n",
            "Iteration No: 35 started. Searching for the next optimal point.\n",
            "Iteration No: 35 ended. Search finished for the next optimal point.\n",
            "Time taken: 94.3079\n",
            "Function value obtained: -0.7268\n",
            "Current minimum: -0.7711\n",
            "Iteration No: 36 started. Searching for the next optimal point.\n",
            "Iteration No: 36 ended. Search finished for the next optimal point.\n",
            "Time taken: 192.6054\n",
            "Function value obtained: -0.7584\n",
            "Current minimum: -0.7711\n",
            "Iteration No: 37 started. Searching for the next optimal point.\n",
            "Iteration No: 37 ended. Search finished for the next optimal point.\n",
            "Time taken: 62.1730\n",
            "Function value obtained: -0.7123\n",
            "Current minimum: -0.7711\n",
            "Iteration No: 38 started. Searching for the next optimal point.\n"
          ],
          "name": "stdout"
        },
        {
          "output_type": "stream",
          "text": [
            "/usr/local/lib/python3.6/dist-packages/skopt/optimizer/optimizer.py:409: UserWarning: The objective has been evaluated at this point before.\n",
            "  warnings.warn(\"The objective has been evaluated \"\n"
          ],
          "name": "stderr"
        },
        {
          "output_type": "stream",
          "text": [
            "Iteration No: 38 ended. Search finished for the next optimal point.\n",
            "Time taken: 248.9644\n",
            "Function value obtained: -0.7711\n",
            "Current minimum: -0.7711\n",
            "Iteration No: 39 started. Searching for the next optimal point.\n",
            "Iteration No: 39 ended. Search finished for the next optimal point.\n",
            "Time taken: 254.4722\n",
            "Function value obtained: -0.7710\n",
            "Current minimum: -0.7711\n",
            "Iteration No: 40 started. Searching for the next optimal point.\n",
            "Iteration No: 40 ended. Search finished for the next optimal point.\n",
            "Time taken: 254.2512\n",
            "Function value obtained: -0.7675\n",
            "Current minimum: -0.7711\n",
            "Iteration No: 41 started. Searching for the next optimal point.\n",
            "Iteration No: 41 ended. Search finished for the next optimal point.\n",
            "Time taken: 248.5646\n",
            "Function value obtained: -0.7706\n",
            "Current minimum: -0.7711\n",
            "Iteration No: 42 started. Searching for the next optimal point.\n"
          ],
          "name": "stdout"
        },
        {
          "output_type": "stream",
          "text": [
            "/usr/local/lib/python3.6/dist-packages/skopt/optimizer/optimizer.py:409: UserWarning: The objective has been evaluated at this point before.\n",
            "  warnings.warn(\"The objective has been evaluated \"\n"
          ],
          "name": "stderr"
        },
        {
          "output_type": "stream",
          "text": [
            "Iteration No: 42 ended. Search finished for the next optimal point.\n",
            "Time taken: 246.4564\n",
            "Function value obtained: -0.7691\n",
            "Current minimum: -0.7711\n",
            "Iteration No: 43 started. Searching for the next optimal point.\n"
          ],
          "name": "stdout"
        },
        {
          "output_type": "stream",
          "text": [
            "/usr/local/lib/python3.6/dist-packages/skopt/optimizer/optimizer.py:409: UserWarning: The objective has been evaluated at this point before.\n",
            "  warnings.warn(\"The objective has been evaluated \"\n"
          ],
          "name": "stderr"
        },
        {
          "output_type": "stream",
          "text": [
            "Iteration No: 43 ended. Search finished for the next optimal point.\n",
            "Time taken: 251.3743\n",
            "Function value obtained: -0.7691\n",
            "Current minimum: -0.7711\n",
            "Iteration No: 44 started. Searching for the next optimal point.\n",
            "Iteration No: 44 ended. Search finished for the next optimal point.\n",
            "Time taken: 250.4409\n",
            "Function value obtained: -0.7707\n",
            "Current minimum: -0.7711\n",
            "Iteration No: 45 started. Searching for the next optimal point.\n"
          ],
          "name": "stdout"
        },
        {
          "output_type": "stream",
          "text": [
            "/usr/local/lib/python3.6/dist-packages/skopt/optimizer/optimizer.py:409: UserWarning: The objective has been evaluated at this point before.\n",
            "  warnings.warn(\"The objective has been evaluated \"\n"
          ],
          "name": "stderr"
        },
        {
          "output_type": "stream",
          "text": [
            "Iteration No: 45 ended. Search finished for the next optimal point.\n",
            "Time taken: 240.9894\n",
            "Function value obtained: -0.7707\n",
            "Current minimum: -0.7711\n",
            "Iteration No: 46 started. Searching for the next optimal point.\n",
            "Iteration No: 46 ended. Search finished for the next optimal point.\n",
            "Time taken: 233.5687\n",
            "Function value obtained: -0.7675\n",
            "Current minimum: -0.7711\n",
            "Iteration No: 47 started. Searching for the next optimal point.\n",
            "Iteration No: 47 ended. Search finished for the next optimal point.\n",
            "Time taken: 242.8765\n",
            "Function value obtained: -0.7683\n",
            "Current minimum: -0.7711\n",
            "Iteration No: 48 started. Searching for the next optimal point.\n",
            "Iteration No: 48 ended. Search finished for the next optimal point.\n",
            "Time taken: 33.3045\n",
            "Function value obtained: -0.7429\n",
            "Current minimum: -0.7711\n",
            "Iteration No: 49 started. Searching for the next optimal point.\n",
            "Iteration No: 49 ended. Search finished for the next optimal point.\n",
            "Time taken: 33.0778\n",
            "Function value obtained: -0.7392\n",
            "Current minimum: -0.7711\n",
            "Iteration No: 50 started. Searching for the next optimal point.\n",
            "Iteration No: 50 ended. Search finished for the next optimal point.\n",
            "Time taken: 25.0034\n",
            "Function value obtained: -0.7270\n",
            "Current minimum: -0.7711\n",
            "Maximimum F_Beta found: 0.77105\n",
            "Optimal parameters:\n",
            "n_estimators: 160\n",
            "min_samples_split: 10\n",
            "min_samples_leaf: 2\n",
            "max_features: auto\n"
          ],
          "name": "stdout"
        },
        {
          "output_type": "display_data",
          "data": {
            "image/png": "[encoded data removed]",
            "text/plain": [
              "<Figure size 432x288 with 1 Axes>"
            ]
          },
          "metadata": {
            "tags": [],
            "needs_background": "light"
          }
        }
      ]
    },
    {
      "cell_type": "markdown",
      "metadata": {
        "id": "Cv_ijtgR-2kU",
        "colab_type": "text"
      },
      "source": [
        "# XG Boost"
      ]
    },
    {
      "cell_type": "code",
      "metadata": {
        "id": "DX5Fhr0ZkS5f",
        "colab_type": "code",
        "colab": {
          "base_uri": "https://localhost:8080/",
          "height": 1000
        },
        "outputId": "d2f5ec23-9d69-4c90-de8b-5d89cfebda0a"
      },
      "source": [
        "# Bayesian Optimization\n",
        "num_thread=50\n",
        "params = ['learning_rate', 'gamma', 'max_depth', 'min_child_weight', 'reg_lambda', 'reg_alpha']\n",
        "\n",
        "#for model include item_Features\n",
        "def objective(params):\n",
        "    # unpack\n",
        "    learning_rate, gamma, max_depth, min_child_weight, reg_lambda, reg_alpha = params\n",
        "    \n",
        "    model_iii = XGBClassifier(learning_rate=learning_rate, gamma=gamma, max_depth=max_depth, min_child_weight=min_child_weight, reg_lambda=reg_lambda, reg_alpha=reg_alpha)\n",
        "    model_iii.fit(X_train, y_train)\n",
        "    \n",
        "    y_pred = model_iii.predict(X_test)\n",
        "    fbeta = fbeta_score(y_test, y_pred, beta=0.5, average='weighted')\n",
        "\n",
        "    out = -fbeta\n",
        "    # Handle some numerical issue going on\n",
        "    if np.abs(out + 1) < 0.01 or out < -1.0:\n",
        "        return 0.0\n",
        "    else:\n",
        "        return out\n",
        "\n",
        "space = [(0.0001, 0.0009, 0.001, 0.009, 0.1, 0.9),\n",
        "         (0.25, 0.5, 0.75, 1, 1.25, 1.5, 2),\n",
        "         (2, 4, 6, 8, 10),\n",
        "         (1,3,5,7,9),\n",
        "         (0.25, 0.5, 0.75, 1, 1.25, 1.5, 2),\n",
        "         (0.25, 0.5, 0.75, 1, 1.25, 1.5, 2),\n",
        "        ]\n",
        "\n",
        "try:\n",
        "    res_fm = forest_minimize(objective, space, n_calls=50,\n",
        "                     random_state=60616,base_estimator= 'RF',acq_func='PI',\n",
        "                     verbose=True, n_jobs=num_thread)\n",
        "except ValueError:\n",
        "    print('Forest diverged, random search intialized')\n",
        "    res_fm = dummy_minimize(objective, space, n_calls=30,\n",
        "         random_state=60616,\n",
        "         verbose=True)\n",
        "\n",
        "print('Maximimum F_Beta found: {:6.5f}'.format(-res_fm.fun))\n",
        "print('Optimal parameters:')\n",
        "\n",
        "for (p, x_) in zip(params, res_fm.x):\n",
        "    print('{}: {}'.format(p, x_))\n",
        "from skopt.plots import plot_convergence\n",
        "plot_convergence(res_fm);"
      ],
      "execution_count": 28,
      "outputs": [
        {
          "output_type": "stream",
          "text": [
            "Iteration No: 1 started. Evaluating function at random point.\n",
            "Iteration No: 1 ended. Evaluation done at random point.\n",
            "Time taken: 71.2182\n",
            "Function value obtained: -0.6114\n",
            "Current minimum: -0.6114\n",
            "Iteration No: 2 started. Evaluating function at random point.\n",
            "Iteration No: 2 ended. Evaluation done at random point.\n",
            "Time taken: 42.5485\n",
            "Function value obtained: -0.5038\n",
            "Current minimum: -0.6114\n",
            "Iteration No: 3 started. Evaluating function at random point.\n",
            "Iteration No: 3 ended. Evaluation done at random point.\n",
            "Time taken: 71.4665\n",
            "Function value obtained: -0.8643\n",
            "Current minimum: -0.8643\n",
            "Iteration No: 4 started. Evaluating function at random point.\n",
            "Iteration No: 4 ended. Evaluation done at random point.\n",
            "Time taken: 103.9020\n",
            "Function value obtained: -0.6474\n",
            "Current minimum: -0.8643\n",
            "Iteration No: 5 started. Evaluating function at random point.\n",
            "Iteration No: 5 ended. Evaluation done at random point.\n",
            "Time taken: 177.2520\n",
            "Function value obtained: -0.8720\n",
            "Current minimum: -0.8720\n",
            "Iteration No: 6 started. Evaluating function at random point.\n",
            "Iteration No: 6 ended. Evaluation done at random point.\n",
            "Time taken: 70.7491\n",
            "Function value obtained: -0.6114\n",
            "Current minimum: -0.8720\n",
            "Iteration No: 7 started. Evaluating function at random point.\n",
            "Iteration No: 7 ended. Evaluation done at random point.\n",
            "Time taken: 41.3227\n",
            "Function value obtained: -0.5038\n",
            "Current minimum: -0.8720\n",
            "Iteration No: 8 started. Evaluating function at random point.\n",
            "Iteration No: 8 ended. Evaluation done at random point.\n",
            "Time taken: 104.4824\n",
            "Function value obtained: -0.6477\n",
            "Current minimum: -0.8720\n",
            "Iteration No: 9 started. Evaluating function at random point.\n",
            "Iteration No: 9 ended. Evaluation done at random point.\n",
            "Time taken: 41.4828\n",
            "Function value obtained: -0.5038\n",
            "Current minimum: -0.8720\n",
            "Iteration No: 10 started. Evaluating function at random point.\n",
            "Iteration No: 10 ended. Evaluation done at random point.\n",
            "Time taken: 106.7596\n",
            "Function value obtained: -0.8042\n",
            "Current minimum: -0.8720\n",
            "Iteration No: 11 started. Searching for the next optimal point.\n",
            "Iteration No: 11 ended. Search finished for the next optimal point.\n",
            "Time taken: 181.6041\n",
            "Function value obtained: -0.7186\n",
            "Current minimum: -0.8720\n",
            "Iteration No: 12 started. Searching for the next optimal point.\n",
            "Iteration No: 12 ended. Search finished for the next optimal point.\n",
            "Time taken: 130.6818\n",
            "Function value obtained: -0.8865\n",
            "Current minimum: -0.8865\n",
            "Iteration No: 13 started. Searching for the next optimal point.\n",
            "Iteration No: 13 ended. Search finished for the next optimal point.\n",
            "Time taken: 143.8194\n",
            "Function value obtained: -0.6830\n",
            "Current minimum: -0.8865\n",
            "Iteration No: 14 started. Searching for the next optimal point.\n",
            "Iteration No: 14 ended. Search finished for the next optimal point.\n",
            "Time taken: 143.1165\n",
            "Function value obtained: -0.8409\n",
            "Current minimum: -0.8865\n",
            "Iteration No: 15 started. Searching for the next optimal point.\n",
            "Iteration No: 15 ended. Search finished for the next optimal point.\n",
            "Time taken: 177.1534\n",
            "Function value obtained: -0.8720\n",
            "Current minimum: -0.8865\n",
            "Iteration No: 16 started. Searching for the next optimal point.\n",
            "Iteration No: 16 ended. Search finished for the next optimal point.\n",
            "Time taken: 41.9718\n",
            "Function value obtained: -0.6680\n",
            "Current minimum: -0.8865\n",
            "Iteration No: 17 started. Searching for the next optimal point.\n",
            "Iteration No: 17 ended. Search finished for the next optimal point.\n",
            "Time taken: 142.2854\n",
            "Function value obtained: -0.8389\n",
            "Current minimum: -0.8865\n",
            "Iteration No: 18 started. Searching for the next optimal point.\n",
            "Iteration No: 18 ended. Search finished for the next optimal point.\n",
            "Time taken: 143.6419\n",
            "Function value obtained: -0.8414\n",
            "Current minimum: -0.8865\n",
            "Iteration No: 19 started. Searching for the next optimal point.\n",
            "Iteration No: 19 ended. Search finished for the next optimal point.\n",
            "Time taken: 141.7166\n",
            "Function value obtained: -0.8431\n",
            "Current minimum: -0.8865\n",
            "Iteration No: 20 started. Searching for the next optimal point.\n",
            "Iteration No: 20 ended. Search finished for the next optimal point.\n",
            "Time taken: 141.6722\n",
            "Function value obtained: -0.8416\n",
            "Current minimum: -0.8865\n",
            "Iteration No: 21 started. Searching for the next optimal point.\n",
            "Iteration No: 21 ended. Search finished for the next optimal point.\n",
            "Time taken: 177.8979\n",
            "Function value obtained: -0.8716\n",
            "Current minimum: -0.8865\n",
            "Iteration No: 22 started. Searching for the next optimal point.\n",
            "Iteration No: 22 ended. Search finished for the next optimal point.\n",
            "Time taken: 176.9302\n",
            "Function value obtained: -0.8686\n",
            "Current minimum: -0.8865\n",
            "Iteration No: 23 started. Searching for the next optimal point.\n",
            "Iteration No: 23 ended. Search finished for the next optimal point.\n",
            "Time taken: 176.2718\n",
            "Function value obtained: -0.8692\n",
            "Current minimum: -0.8865\n",
            "Iteration No: 24 started. Searching for the next optimal point.\n",
            "Iteration No: 24 ended. Search finished for the next optimal point.\n",
            "Time taken: 176.1766\n",
            "Function value obtained: -0.8686\n",
            "Current minimum: -0.8865\n",
            "Iteration No: 25 started. Searching for the next optimal point.\n",
            "Iteration No: 25 ended. Search finished for the next optimal point.\n",
            "Time taken: 177.3518\n",
            "Function value obtained: -0.8706\n",
            "Current minimum: -0.8865\n",
            "Iteration No: 26 started. Searching for the next optimal point.\n",
            "Iteration No: 26 ended. Search finished for the next optimal point.\n",
            "Time taken: 176.9155\n",
            "Function value obtained: -0.8754\n",
            "Current minimum: -0.8865\n",
            "Iteration No: 27 started. Searching for the next optimal point.\n",
            "Iteration No: 27 ended. Search finished for the next optimal point.\n",
            "Time taken: 177.5677\n",
            "Function value obtained: -0.8712\n",
            "Current minimum: -0.8865\n",
            "Iteration No: 28 started. Searching for the next optimal point.\n",
            "Iteration No: 28 ended. Search finished for the next optimal point.\n",
            "Time taken: 177.3130\n",
            "Function value obtained: -0.8777\n",
            "Current minimum: -0.8865\n",
            "Iteration No: 29 started. Searching for the next optimal point.\n",
            "Iteration No: 29 ended. Search finished for the next optimal point.\n",
            "Time taken: 177.3862\n",
            "Function value obtained: -0.8763\n",
            "Current minimum: -0.8865\n",
            "Iteration No: 30 started. Searching for the next optimal point.\n",
            "Iteration No: 30 ended. Search finished for the next optimal point.\n",
            "Time taken: 176.7151\n",
            "Function value obtained: -0.8741\n",
            "Current minimum: -0.8865\n",
            "Iteration No: 31 started. Searching for the next optimal point.\n",
            "Iteration No: 31 ended. Search finished for the next optimal point.\n",
            "Time taken: 176.1421\n",
            "Function value obtained: -0.8739\n",
            "Current minimum: -0.8865\n",
            "Iteration No: 32 started. Searching for the next optimal point.\n",
            "Iteration No: 32 ended. Search finished for the next optimal point.\n",
            "Time taken: 176.3504\n",
            "Function value obtained: -0.8742\n",
            "Current minimum: -0.8865\n",
            "Iteration No: 33 started. Searching for the next optimal point.\n",
            "Iteration No: 33 ended. Search finished for the next optimal point.\n",
            "Time taken: 176.9279\n",
            "Function value obtained: -0.8745\n",
            "Current minimum: -0.8865\n",
            "Iteration No: 34 started. Searching for the next optimal point.\n",
            "Iteration No: 34 ended. Search finished for the next optimal point.\n",
            "Time taken: 176.2096\n",
            "Function value obtained: -0.8765\n",
            "Current minimum: -0.8865\n",
            "Iteration No: 35 started. Searching for the next optimal point.\n",
            "Iteration No: 35 ended. Search finished for the next optimal point.\n",
            "Time taken: 176.5879\n",
            "Function value obtained: -0.8757\n",
            "Current minimum: -0.8865\n",
            "Iteration No: 36 started. Searching for the next optimal point.\n",
            "Iteration No: 36 ended. Search finished for the next optimal point.\n",
            "Time taken: 41.9809\n",
            "Function value obtained: -0.6707\n",
            "Current minimum: -0.8865\n",
            "Iteration No: 37 started. Searching for the next optimal point.\n",
            "Iteration No: 37 ended. Search finished for the next optimal point.\n",
            "Time taken: 176.7652\n",
            "Function value obtained: -0.8726\n",
            "Current minimum: -0.8865\n",
            "Iteration No: 38 started. Searching for the next optimal point.\n",
            "Iteration No: 38 ended. Search finished for the next optimal point.\n",
            "Time taken: 175.6502\n",
            "Function value obtained: -0.8741\n",
            "Current minimum: -0.8865\n",
            "Iteration No: 39 started. Searching for the next optimal point.\n",
            "Iteration No: 39 ended. Search finished for the next optimal point.\n",
            "Time taken: 176.6827\n",
            "Function value obtained: -0.8753\n",
            "Current minimum: -0.8865\n",
            "Iteration No: 40 started. Searching for the next optimal point.\n",
            "Iteration No: 40 ended. Search finished for the next optimal point.\n",
            "Time taken: 106.1921\n",
            "Function value obtained: -0.7966\n",
            "Current minimum: -0.8865\n",
            "Iteration No: 41 started. Searching for the next optimal point.\n",
            "Iteration No: 41 ended. Search finished for the next optimal point.\n",
            "Time taken: 162.6314\n",
            "Function value obtained: -0.8829\n",
            "Current minimum: -0.8865\n",
            "Iteration No: 42 started. Searching for the next optimal point.\n",
            "Iteration No: 42 ended. Search finished for the next optimal point.\n",
            "Time taken: 158.8894\n",
            "Function value obtained: -0.8867\n",
            "Current minimum: -0.8867\n",
            "Iteration No: 43 started. Searching for the next optimal point.\n",
            "Iteration No: 43 ended. Search finished for the next optimal point.\n",
            "Time taken: 158.5163\n",
            "Function value obtained: -0.8851\n",
            "Current minimum: -0.8867\n",
            "Iteration No: 44 started. Searching for the next optimal point.\n",
            "Iteration No: 44 ended. Search finished for the next optimal point.\n",
            "Time taken: 162.4929\n",
            "Function value obtained: -0.8762\n",
            "Current minimum: -0.8867\n",
            "Iteration No: 45 started. Searching for the next optimal point.\n",
            "Iteration No: 45 ended. Search finished for the next optimal point.\n",
            "Time taken: 164.3960\n",
            "Function value obtained: -0.8780\n",
            "Current minimum: -0.8867\n",
            "Iteration No: 46 started. Searching for the next optimal point.\n",
            "Iteration No: 46 ended. Search finished for the next optimal point.\n",
            "Time taken: 166.9494\n",
            "Function value obtained: -0.8803\n",
            "Current minimum: -0.8867\n",
            "Iteration No: 47 started. Searching for the next optimal point.\n",
            "Iteration No: 47 ended. Search finished for the next optimal point.\n",
            "Time taken: 162.2950\n",
            "Function value obtained: -0.8880\n",
            "Current minimum: -0.8880\n",
            "Iteration No: 48 started. Searching for the next optimal point.\n"
          ],
          "name": "stdout"
        },
        {
          "output_type": "stream",
          "text": [
            "/usr/local/lib/python3.6/dist-packages/skopt/optimizer/optimizer.py:409: UserWarning: The objective has been evaluated at this point before.\n",
            "  warnings.warn(\"The objective has been evaluated \"\n"
          ],
          "name": "stderr"
        },
        {
          "output_type": "stream",
          "text": [
            "Iteration No: 48 ended. Search finished for the next optimal point.\n",
            "Time taken: 167.2040\n",
            "Function value obtained: -0.8803\n",
            "Current minimum: -0.8880\n",
            "Iteration No: 49 started. Searching for the next optimal point.\n",
            "Iteration No: 49 ended. Search finished for the next optimal point.\n",
            "Time taken: 178.2730\n",
            "Function value obtained: -0.7409\n",
            "Current minimum: -0.8880\n",
            "Iteration No: 50 started. Searching for the next optimal point.\n",
            "Iteration No: 50 ended. Search finished for the next optimal point.\n",
            "Time taken: 179.5508\n",
            "Function value obtained: -0.7457\n",
            "Current minimum: -0.8880\n",
            "Maximimum F_Beta found: 0.88800\n",
            "Optimal parameters:\n",
            "learning_rate: 0.9\n",
            "gamma: 0.25\n",
            "max_depth: 10\n",
            "min_child_weight: 5\n",
            "reg_lambda: 1\n",
            "reg_alpha: 0.75\n"
          ],
          "name": "stdout"
        },
        {
          "output_type": "display_data",
          "data": {
            "image/png": "[encoded data removed]",
            "text/plain": [
              "<Figure size 432x288 with 1 Axes>"
            ]
          },
          "metadata": {
            "tags": [],
            "needs_background": "light"
          }
        }
      ]
    },
    {
      "cell_type": "code",
      "metadata": {
        "id": "w0YYijCd5WLv",
        "colab_type": "code",
        "colab": {}
      },
      "source": [
        ""
      ],
      "execution_count": null,
      "outputs": []
    }
  ]
}