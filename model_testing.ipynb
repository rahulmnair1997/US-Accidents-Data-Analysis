{
  "nbformat": 4,
  "nbformat_minor": 0,
  "metadata": {
    "colab": {
      "name": "model_testing.ipynb",
      "provenance": [],
      "collapsed_sections": [],
      "mount_file_id": "1X2eMnfAUtJKLhJE7CqyZQRhAXjj0rnjs",
      "authorship_tag": "ABX9TyOhTujmpnSJlangKQJw2YW9"
    },
    "kernelspec": {
      "name": "python3",
      "display_name": "Python 3"
    }
  },
  "cells": [
    {
      "cell_type": "code",
      "metadata": {
        "id": "YRtRnTT26_JR",
        "colab_type": "code",
        "colab": {}
      },
      "source": [
        "# load libraries\n",
        "import pandas as pd\n",
        "from sklearn.linear_model import LogisticRegression\n",
        "from sklearn.metrics import fbeta_score\n",
        "from sklearn.metrics import multilabel_confusion_matrix\n",
        "from sklearn.tree import DecisionTreeClassifier\n",
        "from sklearn.ensemble import RandomForestClassifier, AdaBoostClassifier, GradientBoostingClassifier\n",
        "from xgboost import XGBClassifier\n",
        "import matplotlib.pyplot as plt"
      ],
      "execution_count": 12,
      "outputs": []
    },
    {
      "cell_type": "code",
      "metadata": {
        "id": "Oq7Pz0-WHlFK",
        "colab_type": "code",
        "colab": {}
      },
      "source": [
        "# load data\n",
        "map_quest = pd.read_csv(\"/content/drive/My Drive/map_quest.csv\")"
      ],
      "execution_count": 2,
      "outputs": []
    },
    {
      "cell_type": "code",
      "metadata": {
        "id": "FZJVVyimH3gK",
        "colab_type": "code",
        "colab": {}
      },
      "source": [
        "# split X, y\n",
        "X = map_quest.drop('Severity', axis=1)\n",
        "y= map_quest['Severity']"
      ],
      "execution_count": 3,
      "outputs": []
    },
    {
      "cell_type": "code",
      "metadata": {
        "id": "ZBqRZ7wmH7m9",
        "colab_type": "code",
        "colab": {
          "base_uri": "https://localhost:8080/",
          "height": 34
        },
        "outputId": "ff11ee5b-3ea3-4307-8933-f1a08638b0ac"
      },
      "source": [
        "X.isnull().values.any()"
      ],
      "execution_count": 4,
      "outputs": [
        {
          "output_type": "execute_result",
          "data": {
            "text/plain": [
              "True"
            ]
          },
          "metadata": {
            "tags": []
          },
          "execution_count": 4
        }
      ]
    },
    {
      "cell_type": "code",
      "metadata": {
        "id": "sPlLIl7AH9h6",
        "colab_type": "code",
        "colab": {
          "base_uri": "https://localhost:8080/",
          "height": 297
        },
        "outputId": "b3025f3b-425d-48da-c60d-8a1dece204d3"
      },
      "source": [
        "# missing value percentage calculation\n",
        "missing = pd.DataFrame(map_quest.isnull().sum()).reset_index()\n",
        "missing.columns = ['Labels', 'Percentage']\n",
        "missing['Percentage'] = missing['Percentage'].apply(lambda x: (x/map_quest.shape[0])*100)\n",
        "missing.loc[missing['Percentage'] > 0, :].sort_values(by=['Percentage'], ascending=False)"
      ],
      "execution_count": 5,
      "outputs": [
        {
          "output_type": "execute_result",
          "data": {
            "text/html": [
              "<div>\n",
              "<style scoped>\n",
              "    .dataframe tbody tr th:only-of-type {\n",
              "        vertical-align: middle;\n",
              "    }\n",
              "\n",
              "    .dataframe tbody tr th {\n",
              "        vertical-align: top;\n",
              "    }\n",
              "\n",
              "    .dataframe thead th {\n",
              "        text-align: right;\n",
              "    }\n",
              "</style>\n",
              "<table border=\"1\" class=\"dataframe\">\n",
              "  <thead>\n",
              "    <tr style=\"text-align: right;\">\n",
              "      <th></th>\n",
              "      <th>Labels</th>\n",
              "      <th>Percentage</th>\n",
              "    </tr>\n",
              "  </thead>\n",
              "  <tbody>\n",
              "    <tr>\n",
              "      <th>7</th>\n",
              "      <td>Humidity(%)</td>\n",
              "      <td>4.303546</td>\n",
              "    </tr>\n",
              "    <tr>\n",
              "      <th>8</th>\n",
              "      <td>Pressure(in)</td>\n",
              "      <td>4.303546</td>\n",
              "    </tr>\n",
              "    <tr>\n",
              "      <th>9</th>\n",
              "      <td>Visibility(mi)</td>\n",
              "      <td>4.303546</td>\n",
              "    </tr>\n",
              "    <tr>\n",
              "      <th>10</th>\n",
              "      <td>Wind_Speed(mph)</td>\n",
              "      <td>4.303546</td>\n",
              "    </tr>\n",
              "    <tr>\n",
              "      <th>13</th>\n",
              "      <td>County_freq</td>\n",
              "      <td>4.303546</td>\n",
              "    </tr>\n",
              "    <tr>\n",
              "      <th>14</th>\n",
              "      <td>Zipcode_freq</td>\n",
              "      <td>4.303546</td>\n",
              "    </tr>\n",
              "    <tr>\n",
              "      <th>15</th>\n",
              "      <td>Airport_Code_freq</td>\n",
              "      <td>4.303546</td>\n",
              "    </tr>\n",
              "    <tr>\n",
              "      <th>16</th>\n",
              "      <td>Street_freq</td>\n",
              "      <td>4.303546</td>\n",
              "    </tr>\n",
              "  </tbody>\n",
              "</table>\n",
              "</div>"
            ],
            "text/plain": [
              "               Labels  Percentage\n",
              "7         Humidity(%)    4.303546\n",
              "8        Pressure(in)    4.303546\n",
              "9      Visibility(mi)    4.303546\n",
              "10    Wind_Speed(mph)    4.303546\n",
              "13        County_freq    4.303546\n",
              "14       Zipcode_freq    4.303546\n",
              "15  Airport_Code_freq    4.303546\n",
              "16        Street_freq    4.303546"
            ]
          },
          "metadata": {
            "tags": []
          },
          "execution_count": 5
        }
      ]
    },
    {
      "cell_type": "code",
      "metadata": {
        "id": "JHM1ECQ3H_hi",
        "colab_type": "code",
        "colab": {}
      },
      "source": [
        "map_quest = map_quest.dropna(subset=['Humidity(%)', 'Pressure(in)', 'Visibility(mi)', 'Wind_Speed(mph)', \n",
        "                                    'County_freq', 'Zipcode_freq', 'Airport_Code_freq', 'Street_freq'])"
      ],
      "execution_count": 6,
      "outputs": []
    },
    {
      "cell_type": "code",
      "metadata": {
        "id": "NZFG61gDICFK",
        "colab_type": "code",
        "colab": {}
      },
      "source": [
        "X = map_quest.drop('Severity', axis=1)"
      ],
      "execution_count": 7,
      "outputs": []
    },
    {
      "cell_type": "code",
      "metadata": {
        "id": "xuUB8jttIDoL",
        "colab_type": "code",
        "colab": {}
      },
      "source": [
        "y= map_quest['Severity']"
      ],
      "execution_count": 8,
      "outputs": []
    },
    {
      "cell_type": "code",
      "metadata": {
        "id": "dtneEzJAIFhr",
        "colab_type": "code",
        "colab": {}
      },
      "source": [
        "# Standardizing the features based on unit variance\n",
        "from sklearn.preprocessing import StandardScaler\n",
        "X = StandardScaler().fit_transform(X)"
      ],
      "execution_count": 9,
      "outputs": []
    },
    {
      "cell_type": "code",
      "metadata": {
        "id": "xGH5BA8eIG4e",
        "colab_type": "code",
        "colab": {}
      },
      "source": [
        "# split train test\n",
        "from sklearn.model_selection import train_test_split\n",
        "X_train, X_test, y_train, y_test = train_test_split(X, y, test_size=0.30, random_state=60616) "
      ],
      "execution_count": 10,
      "outputs": []
    },
    {
      "cell_type": "markdown",
      "metadata": {
        "id": "6BO03lzw7PEN",
        "colab_type": "text"
      },
      "source": [
        "# Logistic Regression"
      ]
    },
    {
      "cell_type": "markdown",
      "metadata": {
        "id": "A9fpDJR68sTZ",
        "colab_type": "text"
      },
      "source": [
        "From hyperparameter tuning file, we see that we get the best result when we take the hyperparamters penalty='l2', C=1 and max_iter=10000."
      ]
    },
    {
      "cell_type": "code",
      "metadata": {
        "id": "m9JUBziK68jy",
        "colab_type": "code",
        "colab": {
          "base_uri": "https://localhost:8080/",
          "height": 51
        },
        "outputId": "064294ae-06a2-498c-8c44-02368b6cb56d"
      },
      "source": [
        "clf = LogisticRegression(penalty='l2', C=1, max_iter=10000,random_state=60616)\n",
        "clf.fit(X_train, y_train)\n",
        "y_pred_train = clf.predict(X_train)\n",
        "fbeta_train = fbeta_score(y_train, y_pred_train, beta=0.5, average='weighted')\n",
        "print(\"Train F_Beta: \", (fbeta_train))\n",
        "y_pred_test = clf.predict(X_test)\n",
        "fbeta_test = fbeta_score(y_test, y_pred_test, beta=0.5, average='weighted')\n",
        "print(\"Test F_Beta: \", (fbeta_test))"
      ],
      "execution_count": null,
      "outputs": [
        {
          "output_type": "stream",
          "text": [
            "Train F_Beta:  0.72607408417468\n",
            "Test F_Beta:  0.7257922068517338\n"
          ],
          "name": "stdout"
        }
      ]
    },
    {
      "cell_type": "markdown",
      "metadata": {
        "id": "RvajVM0GElIl",
        "colab_type": "text"
      },
      "source": [
        "We see that the Logistic Regression model yeild low recall value but there is not much overfitting , which is a good sign but we will have to look for other models as well."
      ]
    },
    {
      "cell_type": "code",
      "metadata": {
        "id": "fphDSvXlDgt5",
        "colab_type": "code",
        "colab": {
          "base_uri": "https://localhost:8080/"
        },
        "outputId": "77dcbc8a-5c39-4bed-ccd7-58512567a9a7"
      },
      "source": [
        "confmat = confusion_matrix(y_true=y_test, y_pred=y_pred_test)\n",
        "\n",
        "conf_matrix = pd.DataFrame(data=confmat,\n",
        "                           columns=['Predicted:0','Predicted:1', 'Predicted:2', 'Predicted:3', 'Predicted:4'],\n",
        "                           index=['Actual:0','Actual:1', 'Actual:2', 'Actual:3', 'Actual:4'])\n",
        "plt.figure(figsize = (8,5))\n",
        "sns.heatmap(conf_matrix, annot=True,fmt='d',cmap=\"YlGnBu\").set_title(\n",
        "    \"Confusion Matrix for Logistic Regression\", fontsize=16)\n",
        "plt.show()"
      ],
      "execution_count": null,
      "outputs": [
        {
          "output_type": "error",
          "ename": "NameError",
          "evalue": "ignored",
          "traceback": [
            "\u001b[0;31m---------------------------------------------------------------------------\u001b[0m",
            "\u001b[0;31mNameError\u001b[0m                                 Traceback (most recent call last)",
            "\u001b[0;32m<ipython-input-16-fce097a3aeb1>\u001b[0m in \u001b[0;36m<module>\u001b[0;34m()\u001b[0m\n\u001b[1;32m      4\u001b[0m                            \u001b[0mcolumns\u001b[0m\u001b[0;34m=\u001b[0m\u001b[0;34m[\u001b[0m\u001b[0;34m'Predicted:0'\u001b[0m\u001b[0;34m,\u001b[0m\u001b[0;34m'Predicted:1'\u001b[0m\u001b[0;34m,\u001b[0m \u001b[0;34m'Predicted:2'\u001b[0m\u001b[0;34m,\u001b[0m \u001b[0;34m'Predicted:3'\u001b[0m\u001b[0;34m,\u001b[0m \u001b[0;34m'Predicted:4'\u001b[0m\u001b[0;34m]\u001b[0m\u001b[0;34m,\u001b[0m\u001b[0;34m\u001b[0m\u001b[0;34m\u001b[0m\u001b[0m\n\u001b[1;32m      5\u001b[0m                            index=['Actual:0','Actual:1', 'Actual:2', 'Actual:3', 'Actual:4'])\n\u001b[0;32m----> 6\u001b[0;31m \u001b[0mplt\u001b[0m\u001b[0;34m.\u001b[0m\u001b[0mfigure\u001b[0m\u001b[0;34m(\u001b[0m\u001b[0mfigsize\u001b[0m \u001b[0;34m=\u001b[0m \u001b[0;34m(\u001b[0m\u001b[0;36m8\u001b[0m\u001b[0;34m,\u001b[0m\u001b[0;36m5\u001b[0m\u001b[0;34m)\u001b[0m\u001b[0;34m)\u001b[0m\u001b[0;34m\u001b[0m\u001b[0;34m\u001b[0m\u001b[0m\n\u001b[0m\u001b[1;32m      7\u001b[0m sns.heatmap(conf_matrix, annot=True,fmt='d',cmap=\"YlGnBu\").set_title(\n\u001b[1;32m      8\u001b[0m     \"Confusion Matrix for Logistic Regression\", fontsize=16)\n",
            "\u001b[0;31mNameError\u001b[0m: name 'plt' is not defined"
          ]
        }
      ]
    },
    {
      "cell_type": "markdown",
      "metadata": {
        "id": "DIMQjfpdC6FR",
        "colab_type": "text"
      },
      "source": [
        "# Decision Tree"
      ]
    },
    {
      "cell_type": "markdown",
      "metadata": {
        "id": "hPTyX-jqC9F1",
        "colab_type": "text"
      },
      "source": [
        "### From hyperparameter tuning file, we see that we get the best result when we take the hyperparamters min_samples_split=10, min_samples_leaf=2 and max_features='auto'."
      ]
    },
    {
      "cell_type": "code",
      "metadata": {
        "id": "sSJM6IGz9HWI",
        "colab_type": "code",
        "colab": {
          "base_uri": "https://localhost:8080/",
          "height": 51
        },
        "outputId": "bb065487-4576-4755-d69c-b70f0de0d52d"
      },
      "source": [
        "clf = DecisionTreeClassifier(min_samples_split=10, min_samples_leaf=2, max_features='auto',random_state=60616)\n",
        "clf.fit(X_train, y_train)\n",
        "y_pred_train = clf.predict(X_train)\n",
        "fbeta_train = fbeta_score(y_train, y_pred_train, beta=0.5, average='weighted')\n",
        "print(\"Train F_Beta: \", (fbeta_train))\n",
        "y_pred_test = clf.predict(X_test)\n",
        "fbeta_test = fbeta_score(y_test, y_pred_test, beta=0.5, average='weighted')\n",
        "print(\"Test F_Beta: \", (fbeta_test))"
      ],
      "execution_count": null,
      "outputs": [
        {
          "output_type": "stream",
          "text": [
            "Train F_Beta:  0.8679385743824823\n",
            "Test F_Beta:  0.7408860688831596\n"
          ],
          "name": "stdout"
        }
      ]
    },
    {
      "cell_type": "markdown",
      "metadata": {
        "id": "LrsJzIYRFy5k",
        "colab_type": "text"
      },
      "source": [
        "Although this model has good recall value on training data, we see that there is a clear sign of overfitting, therefore this model is not usable."
      ]
    },
    {
      "cell_type": "markdown",
      "metadata": {
        "id": "1LJGEv9bfQ_o",
        "colab_type": "text"
      },
      "source": [
        "# Random Forest Classifier"
      ]
    },
    {
      "cell_type": "markdown",
      "metadata": {
        "id": "UNQPhj1KfUdn",
        "colab_type": "text"
      },
      "source": [
        "### From hyperparameter tuning file, we see that we get the best result when we take the hyperparamters n_estimators=160, min_samples_split=5, min_samples_leaf=2 and max_features='auto'."
      ]
    },
    {
      "cell_type": "code",
      "metadata": {
        "id": "ZTr2POuwecn9",
        "colab_type": "code",
        "colab": {
          "base_uri": "https://localhost:8080/",
          "height": 51
        },
        "outputId": "938c8455-8b1a-4bea-9a12-1144d4b5388c"
      },
      "source": [
        "clf = RandomForestClassifier(n_estimators=160, min_samples_split=5, min_samples_leaf=2, max_features='auto',random_state=60616)\n",
        "clf.fit(X_train, y_train)\n",
        "y_pred_train = clf.predict(X_train)\n",
        "fbeta_train = fbeta_score(y_train, y_pred_train, beta=0.5, average='weighted')\n",
        "print(\"Train F_Beta: \", (fbeta_train))\n",
        "y_pred_test = clf.predict(X_test)\n",
        "fbeta_test = fbeta_score(y_test, y_pred_test, beta=0.5, average='weighted')\n",
        "print(\"Test F_Beta: \", (fbeta_test))"
      ],
      "execution_count": null,
      "outputs": [
        {
          "output_type": "stream",
          "text": [
            "Train F_Beta:  0.9639100286543165\n",
            "Test F_Beta:  0.8244100138342509\n"
          ],
          "name": "stdout"
        }
      ]
    },
    {
      "cell_type": "markdown",
      "metadata": {
        "id": "xlEeNuuB8ZKU",
        "colab_type": "text"
      },
      "source": [
        "This model again has an overfitting problem. Therefore, we won't move forward with this model."
      ]
    },
    {
      "cell_type": "markdown",
      "metadata": {
        "id": "63blHhOa8Vuf",
        "colab_type": "text"
      },
      "source": [
        "# AdaBoost Classifier"
      ]
    },
    {
      "cell_type": "markdown",
      "metadata": {
        "id": "f4J2bNvN8bSD",
        "colab_type": "text"
      },
      "source": [
        "### From hyperparameter tuning file, we see that we get the best result when we take the hyperparamters n_estimators=80, algorithm='SAMME.R'."
      ]
    },
    {
      "cell_type": "code",
      "metadata": {
        "id": "wzkQdMOKFvv-",
        "colab_type": "code",
        "colab": {
          "base_uri": "https://localhost:8080/",
          "height": 51
        },
        "outputId": "6d4c9575-f60d-4d9e-bd59-fa02f8dc93ad"
      },
      "source": [
        "clf = AdaBoostClassifier(n_estimators=80, algorithm='SAMME.R',random_state=60616)\n",
        "clf.fit(X_train, y_train)\n",
        "y_pred_train = clf.predict(X_train)\n",
        "fbeta_train = fbeta_score(y_train, y_pred_train, beta=0.5, average='weighted')\n",
        "print(\"Train F_Beta: \", (fbeta_train))\n",
        "y_pred_test = clf.predict(X_test)\n",
        "fbeta_test = fbeta_score(y_test, y_pred_test, beta=0.5, average='weighted')\n",
        "print(\"Test F_Beta: \", (fbeta_test))"
      ],
      "execution_count": null,
      "outputs": [
        {
          "output_type": "stream",
          "text": [
            "Train F_Beta:  0.681549970431043\n",
            "Test F_Beta:  0.6806269256659433\n"
          ],
          "name": "stdout"
        }
      ]
    },
    {
      "cell_type": "markdown",
      "metadata": {
        "id": "hP1z7qFwjWh6",
        "colab_type": "text"
      },
      "source": [
        "This model doesn't have much overfitting but the recall value is even lesser than Logistic Regrssion. So, we will let go of this model."
      ]
    },
    {
      "cell_type": "markdown",
      "metadata": {
        "id": "dWYYoW4c9Cgj",
        "colab_type": "text"
      },
      "source": [
        "# Gradient Boosting Classifier"
      ]
    },
    {
      "cell_type": "markdown",
      "metadata": {
        "id": "FBWhiSqlpNIP",
        "colab_type": "text"
      },
      "source": [
        "From hyperparameter tuning file, we see that we get the best result when we take the hyperparamters n_estimators=80, min_samples_split=10, min_samples_leaf=2, max_features='auto'."
      ]
    },
    {
      "cell_type": "code",
      "metadata": {
        "id": "9nrfLWvW9BpJ",
        "colab_type": "code",
        "colab": {
          "base_uri": "https://localhost:8080/",
          "height": 51
        },
        "outputId": "c1bc169e-4dc4-4dfc-da46-671b690af44c"
      },
      "source": [
        "clf = GradientBoostingClassifier(n_estimators=80, min_samples_split=10, min_samples_leaf=2, max_features='auto', random_state=60616)\n",
        "clf.fit(X_train, y_train)\n",
        "y_pred_train = clf.predict(X_train)\n",
        "fbeta_train = fbeta_score(y_train, y_pred_train, beta=0.5, average='weighted')\n",
        "print(\"Train F_Beta: \", (fbeta_train))\n",
        "y_pred_test = clf.predict(X_test)\n",
        "fbeta_test = fbeta_score(y_test, y_pred_test, beta=0.5, average='weighted')\n",
        "print(\"Test F_Beta: \", (fbeta_test))"
      ],
      "execution_count": null,
      "outputs": [
        {
          "output_type": "stream",
          "text": [
            "Train F_Beta:  0.7634182882030935\n",
            "Test F_Beta:  0.7627053536640327\n"
          ],
          "name": "stdout"
        }
      ]
    },
    {
      "cell_type": "markdown",
      "metadata": {
        "id": "e9Aw4_rKl2Mv",
        "colab_type": "text"
      },
      "source": [
        "This has by far the best recall value, not a great one, but better than most of all since it has the maximum value along with very less overfitting."
      ]
    },
    {
      "cell_type": "markdown",
      "metadata": {
        "id": "XYyVlnEnn87l",
        "colab_type": "text"
      },
      "source": [
        "# XG Boost Classifier"
      ]
    },
    {
      "cell_type": "markdown",
      "metadata": {
        "id": "upiWmIy6o6y5",
        "colab_type": "text"
      },
      "source": [
        "From hyperparameter tuning file, we see that we get the best result when we take the hyperparamters learning_rate=0.9, gamma=0.25, max_depth=10, min_child_weight=5, reg_lambda=1, reg_alpha=0.75."
      ]
    },
    {
      "cell_type": "code",
      "metadata": {
        "id": "ncXVOM9dPO3r",
        "colab_type": "code",
        "colab": {
          "base_uri": "https://localhost:8080/",
          "height": 51
        },
        "outputId": "57d8f2a3-f094-4f3b-98fb-b823b0f4f7c0"
      },
      "source": [
        "clf = XGBClassifier(learning_rate=0.9, gamma=0.25, max_depth=10, min_child_weight=5,\n",
        "                    reg_lambda=1, reg_alpha=0.75)\n",
        "clf.fit(X_train, y_train)\n",
        "y_pred_train = clf.predict(X_train)\n",
        "fbeta_train = fbeta_score(y_train, y_pred_train, beta=0.5, average='weighted')\n",
        "print(\"Train F_Beta: \", (fbeta_train))\n",
        "y_pred_test = clf.predict(X_test)\n",
        "fbeta_test = fbeta_score(y_test, y_pred_test, beta=0.5, average='weighted')\n",
        "print(\"Test F_Beta: \", (fbeta_test))"
      ],
      "execution_count": 13,
      "outputs": [
        {
          "output_type": "stream",
          "text": [
            "Train F_Beta:  0.9448127528045372\n",
            "Test F_Beta:  0.9155091950826506\n"
          ],
          "name": "stdout"
        }
      ]
    },
    {
      "cell_type": "markdown",
      "metadata": {
        "id": "LNzFxeScBzMC",
        "colab_type": "text"
      },
      "source": [
        "This is the best model I have got and this is usable since rthe overfitting is not too much. This is the model which will be deployed."
      ]
    }
  ]
}