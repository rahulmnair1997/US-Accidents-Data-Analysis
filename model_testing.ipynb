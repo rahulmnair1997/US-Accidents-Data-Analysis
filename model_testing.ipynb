{
 "cells": [
  {
   "cell_type": "code",
   "execution_count": 1,
   "metadata": {
    "colab": {
     "base_uri": "https://localhost:8080/",
     "height": 71
    },
    "colab_type": "code",
    "id": "YRtRnTT26_JR",
    "outputId": "129f911d-aeff-4525-8a16-076901e969be"
   },
   "outputs": [],
   "source": [
    "# load libraries\n",
    "import pandas as pd\n",
    "from sklearn.linear_model import LogisticRegression\n",
    "from sklearn.metrics import fbeta_score\n",
    "from sklearn.metrics import multilabel_confusion_matrix\n",
    "from sklearn.tree import DecisionTreeClassifier\n",
    "from sklearn.ensemble import RandomForestClassifier, AdaBoostClassifier, GradientBoostingClassifier\n",
    "from sklearn.preprocessing import StandardScaler\n",
    "from xgboost import XGBClassifier\n",
    "import matplotlib.pyplot as plt\n",
    "import pickle\n",
    "from sklearn.pipeline import Pipeline\n",
    "import seaborn as sns"
   ]
  },
  {
   "cell_type": "code",
   "execution_count": 2,
   "metadata": {
    "colab": {},
    "colab_type": "code",
    "id": "Oq7Pz0-WHlFK"
   },
   "outputs": [],
   "source": [
    "# load data\n",
    "map_quest = pd.read_csv(\"new_map_quest.csv\")"
   ]
  },
  {
   "cell_type": "code",
   "execution_count": 3,
   "metadata": {
    "colab": {
     "base_uri": "https://localhost:8080/",
     "height": 136
    },
    "colab_type": "code",
    "id": "G0b8PQZZ-5AT",
    "outputId": "4816e7bc-27e7-4e34-848b-d20994878da3"
   },
   "outputs": [
    {
     "data": {
      "text/plain": [
       "Index(['Unnamed: 0', 'Severity', 'Start_Lat', 'Start_Lng', 'Distance(mi)',\n",
       "       'Temperature(F)', 'Humidity(%)', 'Pressure(in)', 'Visibility(mi)',\n",
       "       'Wind_Speed(mph)',\n",
       "       ...\n",
       "       'month3', 'month4', 'month5', 'month6', 'month7', 'month8', 'month9',\n",
       "       'month10', 'month11', 'month12'],\n",
       "      dtype='object', length=180)"
      ]
     },
     "execution_count": 3,
     "metadata": {},
     "output_type": "execute_result"
    }
   ],
   "source": [
    "map_quest.columns"
   ]
  },
  {
   "cell_type": "code",
   "execution_count": 4,
   "metadata": {
    "colab": {},
    "colab_type": "code",
    "id": "OCtVSBMZ-7zW"
   },
   "outputs": [],
   "source": [
    "map_quest = map_quest.drop(['Unnamed: 0', 'Start_Lat', 'Start_Lng'], axis=1)"
   ]
  },
  {
   "cell_type": "code",
   "execution_count": 5,
   "metadata": {
    "colab": {},
    "colab_type": "code",
    "id": "FZJVVyimH3gK"
   },
   "outputs": [],
   "source": [
    "# split X, y\n",
    "X = map_quest.drop('Severity', axis=1)\n",
    "y= map_quest['Severity']"
   ]
  },
  {
   "cell_type": "code",
   "execution_count": 6,
   "metadata": {
    "colab": {},
    "colab_type": "code",
    "id": "dtneEzJAIFhr"
   },
   "outputs": [],
   "source": [
    "# Standardizing the features based on unit variance\n",
    "scaler = StandardScaler()\n",
    "X = scaler.fit_transform(X)"
   ]
  },
  {
   "cell_type": "code",
   "execution_count": 7,
   "metadata": {
    "colab": {},
    "colab_type": "code",
    "id": "xGH5BA8eIG4e"
   },
   "outputs": [],
   "source": [
    "# split train test\n",
    "from sklearn.model_selection import train_test_split\n",
    "X_train, X_test, y_train, y_test = train_test_split(X, y, test_size=0.30, random_state=60616) "
   ]
  },
  {
   "cell_type": "markdown",
   "metadata": {
    "colab_type": "text",
    "id": "6BO03lzw7PEN"
   },
   "source": [
    "# Logistic Regression"
   ]
  },
  {
   "cell_type": "markdown",
   "metadata": {
    "colab_type": "text",
    "id": "A9fpDJR68sTZ"
   },
   "source": [
    "From hyperparameter tuning file, we see that we get the best result when we take the hyperparamters penalty='l2', C=1 and max_iter=10000."
   ]
  },
  {
   "cell_type": "code",
   "execution_count": null,
   "metadata": {
    "colab": {
     "base_uri": "https://localhost:8080/",
     "height": 51
    },
    "colab_type": "code",
    "id": "m9JUBziK68jy",
    "outputId": "38f4f1f6-68e6-473b-e090-2a6309e679cd"
   },
   "outputs": [
    {
     "name": "stdout",
     "output_type": "stream",
     "text": [
      "Train F_Beta:  0.7717564796006475\n",
      "Test F_Beta:  0.7717287008866017\n"
     ]
    }
   ],
   "source": [
    "clf = LogisticRegression(penalty='l2', C=1, max_iter=10000,random_state=60616)\n",
    "clf.fit(X_train, y_train)\n",
    "y_pred_train = clf.predict(X_train)\n",
    "fbeta_train = fbeta_score(y_train, y_pred_train, beta=0.5, average='weighted')\n",
    "print(\"Train F_Beta: \", (fbeta_train))\n",
    "y_pred_test = clf.predict(X_test)\n",
    "fbeta_test = fbeta_score(y_test, y_pred_test, beta=0.5, average='weighted')\n",
    "print(\"Test F_Beta: \", (fbeta_test))"
   ]
  },
  {
   "cell_type": "markdown",
   "metadata": {
    "colab_type": "text",
    "id": "RvajVM0GElIl"
   },
   "source": [
    "We see that the Logistic Regression model yeild low recall value but there is not much overfitting , which is a good sign but we will have to look for other models as well."
   ]
  },
  {
   "cell_type": "markdown",
   "metadata": {
    "colab_type": "text",
    "id": "2eXz1nT8oQbi"
   },
   "source": [
    "### Confusion Matrix"
   ]
  },
  {
   "cell_type": "code",
   "execution_count": null,
   "metadata": {
    "colab": {
     "base_uri": "https://localhost:8080/",
     "height": 352
    },
    "colab_type": "code",
    "id": "4cc0nRhhmRcU",
    "outputId": "40e0ee72-d5ef-4b60-a2b5-e6d4ed880fb2"
   },
   "outputs": [
    {
     "data": {
      "image/png": "[encoded data removed]",
      "text/plain": [
       "<Figure size 576x360 with 2 Axes>"
      ]
     },
     "metadata": {
      "needs_background": "light",
      "tags": []
     },
     "output_type": "display_data"
    }
   ],
   "source": [
    "y_actual = pd.Series(y_test, name='Actual')\n",
    "y_predicted = pd.Series(y_pred_test, name='Predicted')\n",
    "confusion_matrix = pd.crosstab(y_actual, y_predicted, rownames=['Actual'], colnames=['Predicted'])\n",
    "plt.figure(figsize = (8,5))\n",
    "sns.heatmap(confusion_matrix, annot=True,fmt='d',cmap=\"YlGnBu\").set_title(\n",
    "    \"Confusion Matrix for Logistic Regression\", fontsize=16)\n",
    "plt.show()"
   ]
  },
  {
   "cell_type": "markdown",
   "metadata": {
    "colab_type": "text",
    "id": "DIMQjfpdC6FR"
   },
   "source": [
    "# Decision Tree"
   ]
  },
  {
   "cell_type": "markdown",
   "metadata": {
    "colab_type": "text",
    "id": "hPTyX-jqC9F1"
   },
   "source": [
    "### From hyperparameter tuning file, we see that we get the best result when we take the hyperparamters min_samples_split=10, min_samples_leaf=2 and max_features='auto'."
   ]
  },
  {
   "cell_type": "code",
   "execution_count": null,
   "metadata": {
    "colab": {
     "base_uri": "https://localhost:8080/",
     "height": 51
    },
    "colab_type": "code",
    "id": "sSJM6IGz9HWI",
    "outputId": "1047ebf6-20bf-43cd-bfbd-11bed4680dd9"
   },
   "outputs": [
    {
     "name": "stdout",
     "output_type": "stream",
     "text": [
      "Train F_Beta:  0.9131430781807506\n",
      "Test F_Beta:  0.8430557691747362\n"
     ]
    }
   ],
   "source": [
    "clf = DecisionTreeClassifier(min_samples_split=10, min_samples_leaf=2, max_features='auto',random_state=60616)\n",
    "clf.fit(X_train, y_train)\n",
    "y_pred_train = clf.predict(X_train)\n",
    "fbeta_train = fbeta_score(y_train, y_pred_train, beta=0.5, average='weighted')\n",
    "print(\"Train F_Beta: \", (fbeta_train))\n",
    "y_pred_test = clf.predict(X_test)\n",
    "fbeta_test = fbeta_score(y_test, y_pred_test, beta=0.5, average='weighted')\n",
    "print(\"Test F_Beta: \", (fbeta_test))"
   ]
  },
  {
   "cell_type": "markdown",
   "metadata": {
    "colab_type": "text",
    "id": "LrsJzIYRFy5k"
   },
   "source": [
    "Although this model has good recall value on training data, we see that there is a clear sign of overfitting, therefore this model is not usable."
   ]
  },
  {
   "cell_type": "markdown",
   "metadata": {
    "colab_type": "text",
    "id": "0WCZcKTToGFB"
   },
   "source": [
    "### Confusion Matrix"
   ]
  },
  {
   "cell_type": "code",
   "execution_count": null,
   "metadata": {
    "colab": {
     "base_uri": "https://localhost:8080/",
     "height": 352
    },
    "colab_type": "code",
    "id": "2FttTABenz-O",
    "outputId": "651613b5-30f9-4e4c-e091-2752c93a167d"
   },
   "outputs": [
    {
     "data": {
      "image/png": "[encoded data removed]",
      "text/plain": [
       "<Figure size 576x360 with 2 Axes>"
      ]
     },
     "metadata": {
      "needs_background": "light",
      "tags": []
     },
     "output_type": "display_data"
    }
   ],
   "source": [
    "y_actual = pd.Series(y_test, name='Actual')\n",
    "y_predicted = pd.Series(y_pred_test, name='Predicted')\n",
    "confusion_matrix = pd.crosstab(y_actual, y_predicted, rownames=['Actual'], colnames=['Predicted'])\n",
    "plt.figure(figsize = (8,5))\n",
    "sns.heatmap(confusion_matrix, annot=True,fmt='d',cmap=\"YlGnBu\").set_title(\n",
    "    \"Confusion Matrix for Decision Tree\", fontsize=16)\n",
    "plt.show()"
   ]
  },
  {
   "cell_type": "markdown",
   "metadata": {
    "colab_type": "text",
    "id": "1LJGEv9bfQ_o"
   },
   "source": [
    "# Random Forest Classifier"
   ]
  },
  {
   "cell_type": "markdown",
   "metadata": {
    "colab_type": "text",
    "id": "UNQPhj1KfUdn"
   },
   "source": [
    "### From hyperparameter tuning file, we see that we get the best result when we take the hyperparamters n_estimators=160, min_samples_split=5, min_samples_leaf=2 and max_features='auto'."
   ]
  },
  {
   "cell_type": "code",
   "execution_count": null,
   "metadata": {
    "colab": {
     "base_uri": "https://localhost:8080/",
     "height": 51
    },
    "colab_type": "code",
    "id": "ZTr2POuwecn9",
    "outputId": "cf30cce6-4ba1-4f84-9971-e5e491b7da7d"
   },
   "outputs": [
    {
     "name": "stdout",
     "output_type": "stream",
     "text": [
      "Train F_Beta:  0.9662261469343517\n",
      "Test F_Beta:  0.91685012951854\n"
     ]
    }
   ],
   "source": [
    "clf = RandomForestClassifier(n_estimators=160, min_samples_split=5, min_samples_leaf=2, max_features='auto',random_state=60616)\n",
    "clf.fit(X_train, y_train)\n",
    "y_pred_train = clf.predict(X_train)\n",
    "fbeta_train = fbeta_score(y_train, y_pred_train, beta=0.5, average='weighted')\n",
    "print(\"Train F_Beta: \", (fbeta_train))\n",
    "y_pred_test = clf.predict(X_test)\n",
    "fbeta_test = fbeta_score(y_test, y_pred_test, beta=0.5, average='weighted')\n",
    "print(\"Test F_Beta: \", (fbeta_test))"
   ]
  },
  {
   "cell_type": "markdown",
   "metadata": {
    "colab_type": "text",
    "id": "xlEeNuuB8ZKU"
   },
   "source": [
    "This model again has an overfitting problem. Therefore, we won't move forward with this model."
   ]
  },
  {
   "cell_type": "markdown",
   "metadata": {
    "colab_type": "text",
    "id": "4fniUX6eoUYu"
   },
   "source": [
    "### Confusion Matrix"
   ]
  },
  {
   "cell_type": "code",
   "execution_count": null,
   "metadata": {
    "colab": {
     "base_uri": "https://localhost:8080/",
     "height": 352
    },
    "colab_type": "code",
    "id": "vfH-9agwn7Km",
    "outputId": "51e27018-c420-4798-f3c1-4b698cc66544"
   },
   "outputs": [
    {
     "data": {
      "image/png": "[encoded data removed]",
      "text/plain": [
       "<Figure size 576x360 with 2 Axes>"
      ]
     },
     "metadata": {
      "needs_background": "light",
      "tags": []
     },
     "output_type": "display_data"
    }
   ],
   "source": [
    "y_actual = pd.Series(y_test, name='Actual')\n",
    "y_predicted = pd.Series(y_pred_test, name='Predicted')\n",
    "confusion_matrix = pd.crosstab(y_actual, y_predicted, rownames=['Actual'], colnames=['Predicted'])\n",
    "plt.figure(figsize = (8,5))\n",
    "sns.heatmap(confusion_matrix, annot=True,fmt='d',cmap=\"YlGnBu\").set_title(\n",
    "    \"Confusion Matrix for Random Forest\", fontsize=16)\n",
    "plt.show()"
   ]
  },
  {
   "cell_type": "markdown",
   "metadata": {
    "colab_type": "text",
    "id": "63blHhOa8Vuf"
   },
   "source": [
    "# AdaBoost Classifier"
   ]
  },
  {
   "cell_type": "markdown",
   "metadata": {
    "colab_type": "text",
    "id": "f4J2bNvN8bSD"
   },
   "source": [
    "### From hyperparameter tuning file, we see that we get the best result when we take the hyperparamters n_estimators=80, algorithm='SAMME.R'."
   ]
  },
  {
   "cell_type": "code",
   "execution_count": null,
   "metadata": {
    "colab": {
     "base_uri": "https://localhost:8080/",
     "height": 51
    },
    "colab_type": "code",
    "id": "wzkQdMOKFvv-",
    "outputId": "cea70b29-fed7-4782-bae0-1907bff01c3f"
   },
   "outputs": [
    {
     "name": "stdout",
     "output_type": "stream",
     "text": [
      "Train F_Beta:  0.7662335097794623\n",
      "Test F_Beta:  0.7672426789556336\n"
     ]
    }
   ],
   "source": [
    "clf = AdaBoostClassifier(n_estimators=80, algorithm='SAMME.R',random_state=60616)\n",
    "clf.fit(X_train, y_train)\n",
    "y_pred_train = clf.predict(X_train)\n",
    "fbeta_train = fbeta_score(y_train, y_pred_train, beta=0.5, average='weighted')\n",
    "print(\"Train F_Beta: \", (fbeta_train))\n",
    "y_pred_test = clf.predict(X_test)\n",
    "fbeta_test = fbeta_score(y_test, y_pred_test, beta=0.5, average='weighted')\n",
    "print(\"Test F_Beta: \", (fbeta_test))"
   ]
  },
  {
   "cell_type": "markdown",
   "metadata": {
    "colab_type": "text",
    "id": "hP1z7qFwjWh6"
   },
   "source": [
    "This model doesn't have much overfitting but the recall value is even lesser than Logistic Regrssion. So, we will let go of this model."
   ]
  },
  {
   "cell_type": "markdown",
   "metadata": {
    "colab_type": "text",
    "id": "i-lyVytjoZ3Y"
   },
   "source": [
    "### Confusion Matrix"
   ]
  },
  {
   "cell_type": "code",
   "execution_count": null,
   "metadata": {
    "colab": {
     "base_uri": "https://localhost:8080/",
     "height": 352
    },
    "colab_type": "code",
    "id": "mGXqQnHhoah2",
    "outputId": "d7f942f5-766e-4e2c-f31d-1f0ca42ffa49"
   },
   "outputs": [
    {
     "data": {
      "image/png": "[encoded data removed]",
      "text/plain": [
       "<Figure size 576x360 with 2 Axes>"
      ]
     },
     "metadata": {
      "needs_background": "light",
      "tags": []
     },
     "output_type": "display_data"
    }
   ],
   "source": [
    "y_actual = pd.Series(y_test, name='Actual')\n",
    "y_predicted = pd.Series(y_pred_test, name='Predicted')\n",
    "confusion_matrix = pd.crosstab(y_actual, y_predicted, rownames=['Actual'], colnames=['Predicted'])\n",
    "plt.figure(figsize = (8,5))\n",
    "sns.heatmap(confusion_matrix, annot=True,fmt='d',cmap=\"YlGnBu\").set_title(\n",
    "    \"Confusion Matrix for AdaBoost\", fontsize=16)\n",
    "plt.show()"
   ]
  },
  {
   "cell_type": "markdown",
   "metadata": {
    "colab_type": "text",
    "id": "dWYYoW4c9Cgj"
   },
   "source": [
    "# Gradient Boosting Classifier"
   ]
  },
  {
   "cell_type": "markdown",
   "metadata": {
    "colab_type": "text",
    "id": "FBWhiSqlpNIP"
   },
   "source": [
    "From hyperparameter tuning file, we see that we get the best result when we take the hyperparamters n_estimators=80, min_samples_split=10, min_samples_leaf=2, max_features='auto'."
   ]
  },
  {
   "cell_type": "code",
   "execution_count": null,
   "metadata": {
    "colab": {
     "base_uri": "https://localhost:8080/",
     "height": 51
    },
    "colab_type": "code",
    "id": "9nrfLWvW9BpJ",
    "outputId": "14a0a0f7-659e-4590-e842-16471c607967"
   },
   "outputs": [
    {
     "name": "stdout",
     "output_type": "stream",
     "text": [
      "Train F_Beta:  0.7634182882030935\n",
      "Test F_Beta:  0.7627053536640327\n"
     ]
    }
   ],
   "source": [
    "clf = GradientBoostingClassifier(n_estimators=80, min_samples_split=10, min_samples_leaf=2, max_features='auto', random_state=60616)\n",
    "clf.fit(X_train, y_train)\n",
    "y_pred_train = clf.predict(X_train)\n",
    "fbeta_train = fbeta_score(y_train, y_pred_train, beta=0.5, average='weighted')\n",
    "print(\"Train F_Beta: \", (fbeta_train))\n",
    "y_pred_test = clf.predict(X_test)\n",
    "fbeta_test = fbeta_score(y_test, y_pred_test, beta=0.5, average='weighted')\n",
    "print(\"Test F_Beta: \", (fbeta_test))"
   ]
  },
  {
   "cell_type": "markdown",
   "metadata": {
    "colab_type": "text",
    "id": "e9Aw4_rKl2Mv"
   },
   "source": [
    "This has by far the best recall value, not a great one, but better than most of all since it has the maximum value along with very less overfitting."
   ]
  },
  {
   "cell_type": "markdown",
   "metadata": {
    "colab_type": "text",
    "id": "hLHPQ9WXoeZ9"
   },
   "source": [
    "### Confusion Matrix"
   ]
  },
  {
   "cell_type": "code",
   "execution_count": null,
   "metadata": {
    "colab": {
     "base_uri": "https://localhost:8080/",
     "height": 352
    },
    "colab_type": "code",
    "id": "occlLIWMogoI",
    "outputId": "bc711778-978c-433b-f9b4-e7a17bb3217f"
   },
   "outputs": [
    {
     "data": {
      "image/png": "[encoded data removed]",
      "text/plain": [
       "<Figure size 576x360 with 2 Axes>"
      ]
     },
     "metadata": {
      "needs_background": "light",
      "tags": []
     },
     "output_type": "display_data"
    }
   ],
   "source": [
    "y_actual = pd.Series(y_test, name='Actual')\n",
    "y_predicted = pd.Series(y_pred_test, name='Predicted')\n",
    "confusion_matrix = pd.crosstab(y_actual, y_predicted, rownames=['Actual'], colnames=['Predicted'])\n",
    "plt.figure(figsize = (8,5))\n",
    "sns.heatmap(confusion_matrix, annot=True,fmt='d',cmap=\"YlGnBu\").set_title(\n",
    "    \"Confusion Matrix for Gradient Boost\", fontsize=16)\n",
    "plt.show()"
   ]
  },
  {
   "cell_type": "markdown",
   "metadata": {
    "colab_type": "text",
    "id": "XYyVlnEnn87l"
   },
   "source": [
    "# XG Boost Classifier"
   ]
  },
  {
   "cell_type": "markdown",
   "metadata": {
    "colab_type": "text",
    "id": "upiWmIy6o6y5"
   },
   "source": [
    "From hyperparameter tuning file, we see that we get the best result when we take the hyperparamters learning_rate=0.9, gamma=0.25, max_depth=10, min_child_weight=5, reg_lambda=1, reg_alpha=0.75."
   ]
  },
  {
   "cell_type": "code",
   "execution_count": 8,
   "metadata": {
    "colab": {},
    "colab_type": "code",
    "id": "ncXVOM9dPO3r"
   },
   "outputs": [
    {
     "name": "stderr",
     "output_type": "stream",
     "text": [
      "C:\\Users\\georg\\Anaconda3\\lib\\site-packages\\sklearn\\metrics\\classification.py:1437: UndefinedMetricWarning: F-score is ill-defined and being set to 0.0 in labels with no predicted samples.\n",
      "  'precision', 'predicted', average, warn_for)\n"
     ]
    },
    {
     "name": "stdout",
     "output_type": "stream",
     "text": [
      "Train F_Beta:  0.8969815256626402\n",
      "Test F_Beta:  0.8925464011997144\n"
     ]
    }
   ],
   "source": [
    "clf = XGBClassifier(learning_rate=0.1, gamma=0.25, max_depth=10, min_child_weight=9,\n",
    "                    reg_lambda=0.25, reg_alpha=1)\n",
    "clf.fit(X_train, y_train)\n",
    "y_pred_train = clf.predict(X_train)\n",
    "fbeta_train = fbeta_score(y_train, y_pred_train, beta=0.5, average='weighted')\n",
    "print(\"Train F_Beta: \", (fbeta_train))\n",
    "y_pred_test = clf.predict(X_test)\n",
    "fbeta_test = fbeta_score(y_test, y_pred_test, beta=0.5, average='weighted')\n",
    "print(\"Test F_Beta: \", (fbeta_test))"
   ]
  },
  {
   "cell_type": "markdown",
   "metadata": {
    "colab_type": "text",
    "id": "LNzFxeScBzMC"
   },
   "source": [
    "This is the best model I have got and this is usable since the overfitting is not too much. This is the model which will be deployed."
   ]
  },
  {
   "cell_type": "markdown",
   "metadata": {
    "colab_type": "text",
    "id": "Gn5MiO_XoiSm"
   },
   "source": [
    "### Confusion Matrix"
   ]
  },
  {
   "cell_type": "code",
   "execution_count": 9,
   "metadata": {
    "colab": {},
    "colab_type": "code",
    "id": "bxO4rvznok3t"
   },
   "outputs": [
    {
     "data": {
      "image/png": "[encoded data removed]",
      "text/plain": [
       "<Figure size 576x360 with 2 Axes>"
      ]
     },
     "metadata": {
      "needs_background": "light"
     },
     "output_type": "display_data"
    }
   ],
   "source": [
    "y_actual = pd.Series(y_test, name='Actual')\n",
    "y_predicted = pd.Series(y_pred_test, name='Predicted')\n",
    "confusion_matrix = pd.crosstab(y_actual, y_predicted, rownames=['Actual'], colnames=['Predicted'])\n",
    "plt.figure(figsize = (8,5))\n",
    "sns.heatmap(confusion_matrix, annot=True,fmt='d',cmap=\"YlGnBu\").set_title(\n",
    "    \"Confusion Matrix for XGBoost\", fontsize=16)\n",
    "plt.show()"
   ]
  },
  {
   "cell_type": "markdown",
   "metadata": {
    "colab_type": "text",
    "id": "3uTizav2pJyv"
   },
   "source": [
    "# Save Model"
   ]
  },
  {
   "cell_type": "code",
   "execution_count": 10,
   "metadata": {
    "colab": {},
    "colab_type": "code",
    "id": "1ITwpJMupLXS"
   },
   "outputs": [],
   "source": [
    "model = pickle.dump(clf, open('model_xgb.pkl','wb'))"
   ]
  },
  {
   "cell_type": "code",
   "execution_count": 11,
   "metadata": {},
   "outputs": [],
   "source": [
    "scaler = pickle.dump(scaler, open('scaler.pkl', 'wb'))"
   ]
  },
  {
   "cell_type": "code",
   "execution_count": null,
   "metadata": {
    "colab": {},
    "colab_type": "code",
    "id": "s9Sqbbn1-sP4"
   },
   "outputs": [],
   "source": [
    "Q = pickle.load(open('/content/drive/My Drive/Zipcode.pkl', 'rb'))"
   ]
  },
  {
   "cell_type": "code",
   "execution_count": null,
   "metadata": {
    "colab": {
     "base_uri": "https://localhost:8080/",
     "height": 419
    },
    "colab_type": "code",
    "id": "c3JVMYRF_BJa",
    "outputId": "d4f441c7-6465-4a98-b4d4-275e79a6899e"
   },
   "outputs": [
    {
     "data": {
      "text/html": [
       "<div>\n",
       "<style scoped>\n",
       "    .dataframe tbody tr th:only-of-type {\n",
       "        vertical-align: middle;\n",
       "    }\n",
       "\n",
       "    .dataframe tbody tr th {\n",
       "        vertical-align: top;\n",
       "    }\n",
       "\n",
       "    .dataframe thead th {\n",
       "        text-align: right;\n",
       "    }\n",
       "</style>\n",
       "<table border=\"1\" class=\"dataframe\">\n",
       "  <thead>\n",
       "    <tr style=\"text-align: right;\">\n",
       "      <th></th>\n",
       "      <th>Zipcode</th>\n",
       "      <th>Zipcode_freq</th>\n",
       "    </tr>\n",
       "  </thead>\n",
       "  <tbody>\n",
       "    <tr>\n",
       "      <th>0</th>\n",
       "      <td>01001</td>\n",
       "      <td>0.070380</td>\n",
       "    </tr>\n",
       "    <tr>\n",
       "      <th>1</th>\n",
       "      <td>01002</td>\n",
       "      <td>0.211141</td>\n",
       "    </tr>\n",
       "    <tr>\n",
       "      <th>2</th>\n",
       "      <td>01003</td>\n",
       "      <td>0.010054</td>\n",
       "    </tr>\n",
       "    <tr>\n",
       "      <th>3</th>\n",
       "      <td>01005</td>\n",
       "      <td>0.170924</td>\n",
       "    </tr>\n",
       "    <tr>\n",
       "      <th>4</th>\n",
       "      <td>01007</td>\n",
       "      <td>0.160869</td>\n",
       "    </tr>\n",
       "    <tr>\n",
       "      <th>...</th>\n",
       "      <td>...</td>\n",
       "      <td>...</td>\n",
       "    </tr>\n",
       "    <tr>\n",
       "      <th>16610</th>\n",
       "      <td>99352</td>\n",
       "      <td>0.030163</td>\n",
       "    </tr>\n",
       "    <tr>\n",
       "      <th>16611</th>\n",
       "      <td>99353</td>\n",
       "      <td>0.010054</td>\n",
       "    </tr>\n",
       "    <tr>\n",
       "      <th>16612</th>\n",
       "      <td>99356</td>\n",
       "      <td>0.030163</td>\n",
       "    </tr>\n",
       "    <tr>\n",
       "      <th>16613</th>\n",
       "      <td>99362</td>\n",
       "      <td>0.030163</td>\n",
       "    </tr>\n",
       "    <tr>\n",
       "      <th>16614</th>\n",
       "      <td>99371</td>\n",
       "      <td>0.010054</td>\n",
       "    </tr>\n",
       "  </tbody>\n",
       "</table>\n",
       "<p>16615 rows × 2 columns</p>\n",
       "</div>"
      ],
      "text/plain": [
       "      Zipcode  Zipcode_freq\n",
       "0       01001      0.070380\n",
       "1       01002      0.211141\n",
       "2       01003      0.010054\n",
       "3       01005      0.170924\n",
       "4       01007      0.160869\n",
       "...       ...           ...\n",
       "16610   99352      0.030163\n",
       "16611   99353      0.010054\n",
       "16612   99356      0.030163\n",
       "16613   99362      0.030163\n",
       "16614   99371      0.010054\n",
       "\n",
       "[16615 rows x 2 columns]"
      ]
     },
     "execution_count": 7,
     "metadata": {
      "tags": []
     },
     "output_type": "execute_result"
    }
   ],
   "source": [
    "Q"
   ]
  },
  {
   "cell_type": "code",
   "execution_count": null,
   "metadata": {
    "colab": {},
    "colab_type": "code",
    "id": "JQzTwpIV_HM0"
   },
   "outputs": [],
   "source": [
    "zip = '60616'"
   ]
  },
  {
   "cell_type": "code",
   "execution_count": null,
   "metadata": {
    "colab": {},
    "colab_type": "code",
    "id": "9K6xCIzJ_N7a"
   },
   "outputs": [],
   "source": [
    "zip_freq = Q[Q['Zipcode'] == zip]['Zipcode_freq'].values[0]"
   ]
  },
  {
   "cell_type": "code",
   "execution_count": null,
   "metadata": {
    "colab": {
     "base_uri": "https://localhost:8080/",
     "height": 34
    },
    "colab_type": "code",
    "id": "9qTbogJm_YI2",
    "outputId": "cfe010ef-9222-4816-df6a-320070b5e07c"
   },
   "outputs": [
    {
     "data": {
      "text/plain": [
       "2.99619187895345"
      ]
     },
     "execution_count": 27,
     "metadata": {
      "tags": []
     },
     "output_type": "execute_result"
    }
   ],
   "source": [
    "zip_freq"
   ]
  },
  {
   "cell_type": "code",
   "execution_count": null,
   "metadata": {
    "colab": {},
    "colab_type": "code",
    "id": "4MTWQxifBjxb"
   },
   "outputs": [],
   "source": [
    "test_df = pd.DataFrame([])"
   ]
  }
 ],
 "metadata": {
  "colab": {
   "collapsed_sections": [],
   "name": "model_testing.ipynb",
   "provenance": []
  },
  "kernelspec": {
   "display_name": "Python 3",
   "language": "python",
   "name": "python3"
  },
  "language_info": {
   "codemirror_mode": {
    "name": "ipython",
    "version": 3
   },
   "file_extension": ".py",
   "mimetype": "text/x-python",
   "name": "python",
   "nbconvert_exporter": "python",
   "pygments_lexer": "ipython3",
   "version": "3.7.4"
  }
 },
 "nbformat": 4,
 "nbformat_minor": 1
}
