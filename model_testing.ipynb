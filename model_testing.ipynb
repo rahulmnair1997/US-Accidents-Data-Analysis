{
  "nbformat": 4,
  "nbformat_minor": 0,
  "metadata": {
    "colab": {
      "name": "model_testing.ipynb",
      "provenance": [],
      "collapsed_sections": [],
      "toc_visible": true,
      "mount_file_id": "1X2eMnfAUtJKLhJE7CqyZQRhAXjj0rnjs",
      "authorship_tag": "ABX9TyP9mWZAwRIgEzUGHeYWXsqY"
    },
    "kernelspec": {
      "name": "python3",
      "display_name": "Python 3"
    }
  },
  "cells": [
    {
      "cell_type": "code",
      "metadata": {
        "id": "YRtRnTT26_JR",
        "colab_type": "code",
        "colab": {
          "base_uri": "https://localhost:8080/",
          "height": 71
        },
        "outputId": "1ccadb3a-22c5-483e-f8cf-70981a9ab420"
      },
      "source": [
        "# load libraries\n",
        "import pandas as pd\n",
        "from sklearn.linear_model import LogisticRegression\n",
        "from sklearn.metrics import fbeta_score\n",
        "from sklearn.metrics import multilabel_confusion_matrix\n",
        "from sklearn.tree import DecisionTreeClassifier\n",
        "from sklearn.ensemble import RandomForestClassifier, AdaBoostClassifier, GradientBoostingClassifier\n",
        "from xgboost import XGBClassifier\n",
        "import matplotlib.pyplot as plt\n",
        "import pickle\n",
        "import seaborn as sns"
      ],
      "execution_count": 1,
      "outputs": [
        {
          "output_type": "stream",
          "text": [
            "/usr/local/lib/python3.6/dist-packages/statsmodels/tools/_testing.py:19: FutureWarning: pandas.util.testing is deprecated. Use the functions in the public API at pandas.testing instead.\n",
            "  import pandas.util.testing as tm\n"
          ],
          "name": "stderr"
        }
      ]
    },
    {
      "cell_type": "code",
      "metadata": {
        "id": "Oq7Pz0-WHlFK",
        "colab_type": "code",
        "colab": {}
      },
      "source": [
        "# load data\n",
        "map_quest = pd.read_csv(\"/content/drive/My Drive/map_quest.csv\")"
      ],
      "execution_count": 2,
      "outputs": []
    },
    {
      "cell_type": "code",
      "metadata": {
        "id": "FZJVVyimH3gK",
        "colab_type": "code",
        "colab": {}
      },
      "source": [
        "# split X, y\n",
        "X = map_quest.drop('Severity', axis=1)\n",
        "y= map_quest['Severity']"
      ],
      "execution_count": 3,
      "outputs": []
    },
    {
      "cell_type": "code",
      "metadata": {
        "id": "ZBqRZ7wmH7m9",
        "colab_type": "code",
        "colab": {
          "base_uri": "https://localhost:8080/",
          "height": 34
        },
        "outputId": "748bcce6-60da-4bf8-b318-cce35ad64e67"
      },
      "source": [
        "X.isnull().values.any()"
      ],
      "execution_count": 4,
      "outputs": [
        {
          "output_type": "execute_result",
          "data": {
            "text/plain": [
              "True"
            ]
          },
          "metadata": {
            "tags": []
          },
          "execution_count": 4
        }
      ]
    },
    {
      "cell_type": "code",
      "metadata": {
        "id": "sPlLIl7AH9h6",
        "colab_type": "code",
        "colab": {
          "base_uri": "https://localhost:8080/",
          "height": 297
        },
        "outputId": "aedd7011-25d0-4754-896f-b81cac2082fb"
      },
      "source": [
        "# missing value percentage calculation\n",
        "missing = pd.DataFrame(map_quest.isnull().sum()).reset_index()\n",
        "missing.columns = ['Labels', 'Percentage']\n",
        "missing['Percentage'] = missing['Percentage'].apply(lambda x: (x/map_quest.shape[0])*100)\n",
        "missing.loc[missing['Percentage'] > 0, :].sort_values(by=['Percentage'], ascending=False)"
      ],
      "execution_count": 5,
      "outputs": [
        {
          "output_type": "execute_result",
          "data": {
            "text/html": [
              "<div>\n",
              "<style scoped>\n",
              "    .dataframe tbody tr th:only-of-type {\n",
              "        vertical-align: middle;\n",
              "    }\n",
              "\n",
              "    .dataframe tbody tr th {\n",
              "        vertical-align: top;\n",
              "    }\n",
              "\n",
              "    .dataframe thead th {\n",
              "        text-align: right;\n",
              "    }\n",
              "</style>\n",
              "<table border=\"1\" class=\"dataframe\">\n",
              "  <thead>\n",
              "    <tr style=\"text-align: right;\">\n",
              "      <th></th>\n",
              "      <th>Labels</th>\n",
              "      <th>Percentage</th>\n",
              "    </tr>\n",
              "  </thead>\n",
              "  <tbody>\n",
              "    <tr>\n",
              "      <th>7</th>\n",
              "      <td>Humidity(%)</td>\n",
              "      <td>4.303546</td>\n",
              "    </tr>\n",
              "    <tr>\n",
              "      <th>8</th>\n",
              "      <td>Pressure(in)</td>\n",
              "      <td>4.303546</td>\n",
              "    </tr>\n",
              "    <tr>\n",
              "      <th>9</th>\n",
              "      <td>Visibility(mi)</td>\n",
              "      <td>4.303546</td>\n",
              "    </tr>\n",
              "    <tr>\n",
              "      <th>10</th>\n",
              "      <td>Wind_Speed(mph)</td>\n",
              "      <td>4.303546</td>\n",
              "    </tr>\n",
              "    <tr>\n",
              "      <th>13</th>\n",
              "      <td>County_freq</td>\n",
              "      <td>4.303546</td>\n",
              "    </tr>\n",
              "    <tr>\n",
              "      <th>14</th>\n",
              "      <td>Zipcode_freq</td>\n",
              "      <td>4.303546</td>\n",
              "    </tr>\n",
              "    <tr>\n",
              "      <th>15</th>\n",
              "      <td>Airport_Code_freq</td>\n",
              "      <td>4.303546</td>\n",
              "    </tr>\n",
              "    <tr>\n",
              "      <th>16</th>\n",
              "      <td>Street_freq</td>\n",
              "      <td>4.303546</td>\n",
              "    </tr>\n",
              "  </tbody>\n",
              "</table>\n",
              "</div>"
            ],
            "text/plain": [
              "               Labels  Percentage\n",
              "7         Humidity(%)    4.303546\n",
              "8        Pressure(in)    4.303546\n",
              "9      Visibility(mi)    4.303546\n",
              "10    Wind_Speed(mph)    4.303546\n",
              "13        County_freq    4.303546\n",
              "14       Zipcode_freq    4.303546\n",
              "15  Airport_Code_freq    4.303546\n",
              "16        Street_freq    4.303546"
            ]
          },
          "metadata": {
            "tags": []
          },
          "execution_count": 5
        }
      ]
    },
    {
      "cell_type": "code",
      "metadata": {
        "id": "JHM1ECQ3H_hi",
        "colab_type": "code",
        "colab": {}
      },
      "source": [
        "map_quest = map_quest.dropna(subset=['Humidity(%)', 'Pressure(in)', 'Visibility(mi)', 'Wind_Speed(mph)', \n",
        "                                    'County_freq', 'Zipcode_freq', 'Airport_Code_freq', 'Street_freq'])"
      ],
      "execution_count": 6,
      "outputs": []
    },
    {
      "cell_type": "code",
      "metadata": {
        "id": "NZFG61gDICFK",
        "colab_type": "code",
        "colab": {}
      },
      "source": [
        "X = map_quest.drop('Severity', axis=1)"
      ],
      "execution_count": 7,
      "outputs": []
    },
    {
      "cell_type": "code",
      "metadata": {
        "id": "xuUB8jttIDoL",
        "colab_type": "code",
        "colab": {}
      },
      "source": [
        "y= map_quest['Severity']"
      ],
      "execution_count": 8,
      "outputs": []
    },
    {
      "cell_type": "code",
      "metadata": {
        "id": "dtneEzJAIFhr",
        "colab_type": "code",
        "colab": {}
      },
      "source": [
        "# Standardizing the features based on unit variance\n",
        "from sklearn.preprocessing import StandardScaler\n",
        "X = StandardScaler().fit_transform(X)"
      ],
      "execution_count": 9,
      "outputs": []
    },
    {
      "cell_type": "code",
      "metadata": {
        "id": "xGH5BA8eIG4e",
        "colab_type": "code",
        "colab": {}
      },
      "source": [
        "# split train test\n",
        "from sklearn.model_selection import train_test_split\n",
        "X_train, X_test, y_train, y_test = train_test_split(X, y, test_size=0.30, random_state=60616) "
      ],
      "execution_count": 10,
      "outputs": []
    },
    {
      "cell_type": "markdown",
      "metadata": {
        "id": "6BO03lzw7PEN",
        "colab_type": "text"
      },
      "source": [
        "# Logistic Regression"
      ]
    },
    {
      "cell_type": "markdown",
      "metadata": {
        "id": "A9fpDJR68sTZ",
        "colab_type": "text"
      },
      "source": [
        "From hyperparameter tuning file, we see that we get the best result when we take the hyperparamters penalty='l2', C=1 and max_iter=10000."
      ]
    },
    {
      "cell_type": "code",
      "metadata": {
        "id": "m9JUBziK68jy",
        "colab_type": "code",
        "colab": {
          "base_uri": "https://localhost:8080/",
          "height": 51
        },
        "outputId": "321aa72f-4e5d-495f-b25b-fa3f7df98445"
      },
      "source": [
        "clf = LogisticRegression(penalty='l2', C=1, max_iter=10000,random_state=60616)\n",
        "clf.fit(X_train, y_train)\n",
        "y_pred_train = clf.predict(X_train)\n",
        "fbeta_train = fbeta_score(y_train, y_pred_train, beta=0.5, average='weighted')\n",
        "print(\"Train F_Beta: \", (fbeta_train))\n",
        "y_pred_test = clf.predict(X_test)\n",
        "fbeta_test = fbeta_score(y_test, y_pred_test, beta=0.5, average='weighted')\n",
        "print(\"Test F_Beta: \", (fbeta_test))"
      ],
      "execution_count": null,
      "outputs": [
        {
          "output_type": "stream",
          "text": [
            "Train F_Beta:  0.72607408417468\n",
            "Test F_Beta:  0.7257922068517338\n"
          ],
          "name": "stdout"
        }
      ]
    },
    {
      "cell_type": "markdown",
      "metadata": {
        "id": "RvajVM0GElIl",
        "colab_type": "text"
      },
      "source": [
        "We see that the Logistic Regression model yeild low recall value but there is not much overfitting , which is a good sign but we will have to look for other models as well."
      ]
    },
    {
      "cell_type": "markdown",
      "metadata": {
        "id": "2eXz1nT8oQbi",
        "colab_type": "text"
      },
      "source": [
        "### Confusion Matrix"
      ]
    },
    {
      "cell_type": "code",
      "metadata": {
        "id": "4cc0nRhhmRcU",
        "colab_type": "code",
        "colab": {
          "base_uri": "https://localhost:8080/",
          "height": 352
        },
        "outputId": "d0cfc845-2cc5-4483-e3bd-40c00cf38138"
      },
      "source": [
        "y_actual = pd.Series(y_test, name='Actual')\n",
        "y_predicted = pd.Series(y_pred_test, name='Predicted')\n",
        "confusion_matrix = pd.crosstab(y_actual, y_predicted, rownames=['Actual'], colnames=['Predicted'])\n",
        "plt.figure(figsize = (8,5))\n",
        "sns.heatmap(confusion_matrix, annot=True,fmt='d',cmap=\"YlGnBu\").set_title(\n",
        "    \"Confusion Matrix for Logistic Regression\", fontsize=16)\n",
        "plt.show()"
      ],
      "execution_count": null,
      "outputs": [
        {
          "output_type": "display_data",
          "data": {
            "image/png": "[encoded data removed]",
            "text/plain": [
              "<Figure size 576x360 with 2 Axes>"
            ]
          },
          "metadata": {
            "tags": [],
            "needs_background": "light"
          }
        }
      ]
    },
    {
      "cell_type": "markdown",
      "metadata": {
        "id": "DIMQjfpdC6FR",
        "colab_type": "text"
      },
      "source": [
        "# Decision Tree"
      ]
    },
    {
      "cell_type": "markdown",
      "metadata": {
        "id": "hPTyX-jqC9F1",
        "colab_type": "text"
      },
      "source": [
        "### From hyperparameter tuning file, we see that we get the best result when we take the hyperparamters min_samples_split=10, min_samples_leaf=2 and max_features='auto'."
      ]
    },
    {
      "cell_type": "code",
      "metadata": {
        "id": "sSJM6IGz9HWI",
        "colab_type": "code",
        "colab": {
          "base_uri": "https://localhost:8080/",
          "height": 51
        },
        "outputId": "5d2f0251-1603-4d85-e8a0-de42260ac25a"
      },
      "source": [
        "clf = DecisionTreeClassifier(min_samples_split=10, min_samples_leaf=2, max_features='auto',random_state=60616)\n",
        "clf.fit(X_train, y_train)\n",
        "y_pred_train = clf.predict(X_train)\n",
        "fbeta_train = fbeta_score(y_train, y_pred_train, beta=0.5, average='weighted')\n",
        "print(\"Train F_Beta: \", (fbeta_train))\n",
        "y_pred_test = clf.predict(X_test)\n",
        "fbeta_test = fbeta_score(y_test, y_pred_test, beta=0.5, average='weighted')\n",
        "print(\"Test F_Beta: \", (fbeta_test))"
      ],
      "execution_count": null,
      "outputs": [
        {
          "output_type": "stream",
          "text": [
            "Train F_Beta:  0.8679385743824823\n",
            "Test F_Beta:  0.7408860688831596\n"
          ],
          "name": "stdout"
        }
      ]
    },
    {
      "cell_type": "markdown",
      "metadata": {
        "id": "LrsJzIYRFy5k",
        "colab_type": "text"
      },
      "source": [
        "Although this model has good recall value on training data, we see that there is a clear sign of overfitting, therefore this model is not usable."
      ]
    },
    {
      "cell_type": "markdown",
      "metadata": {
        "id": "0WCZcKTToGFB",
        "colab_type": "text"
      },
      "source": [
        "### Confusion Matrix"
      ]
    },
    {
      "cell_type": "code",
      "metadata": {
        "id": "2FttTABenz-O",
        "colab_type": "code",
        "colab": {
          "base_uri": "https://localhost:8080/",
          "height": 352
        },
        "outputId": "27ea975d-7124-4bf5-df65-d656ff765fe9"
      },
      "source": [
        "y_actual = pd.Series(y_test, name='Actual')\n",
        "y_predicted = pd.Series(y_pred_test, name='Predicted')\n",
        "confusion_matrix = pd.crosstab(y_actual, y_predicted, rownames=['Actual'], colnames=['Predicted'])\n",
        "plt.figure(figsize = (8,5))\n",
        "sns.heatmap(confusion_matrix, annot=True,fmt='d',cmap=\"YlGnBu\").set_title(\n",
        "    \"Confusion Matrix for Decision Tree\", fontsize=16)\n",
        "plt.show()"
      ],
      "execution_count": null,
      "outputs": [
        {
          "output_type": "display_data",
          "data": {
            "image/png": "[encoded data removed]",
            "text/plain": [
              "<Figure size 576x360 with 2 Axes>"
            ]
          },
          "metadata": {
            "tags": [],
            "needs_background": "light"
          }
        }
      ]
    },
    {
      "cell_type": "markdown",
      "metadata": {
        "id": "1LJGEv9bfQ_o",
        "colab_type": "text"
      },
      "source": [
        "# Random Forest Classifier"
      ]
    },
    {
      "cell_type": "markdown",
      "metadata": {
        "id": "UNQPhj1KfUdn",
        "colab_type": "text"
      },
      "source": [
        "### From hyperparameter tuning file, we see that we get the best result when we take the hyperparamters n_estimators=160, min_samples_split=5, min_samples_leaf=2 and max_features='auto'."
      ]
    },
    {
      "cell_type": "code",
      "metadata": {
        "id": "ZTr2POuwecn9",
        "colab_type": "code",
        "colab": {
          "base_uri": "https://localhost:8080/",
          "height": 51
        },
        "outputId": "b4be06b9-71c4-49fe-b602-0d7ac1f1486b"
      },
      "source": [
        "clf = RandomForestClassifier(n_estimators=160, min_samples_split=5, min_samples_leaf=2, max_features='auto',random_state=60616)\n",
        "clf.fit(X_train, y_train)\n",
        "y_pred_train = clf.predict(X_train)\n",
        "fbeta_train = fbeta_score(y_train, y_pred_train, beta=0.5, average='weighted')\n",
        "print(\"Train F_Beta: \", (fbeta_train))\n",
        "y_pred_test = clf.predict(X_test)\n",
        "fbeta_test = fbeta_score(y_test, y_pred_test, beta=0.5, average='weighted')\n",
        "print(\"Test F_Beta: \", (fbeta_test))"
      ],
      "execution_count": null,
      "outputs": [
        {
          "output_type": "stream",
          "text": [
            "Train F_Beta:  0.9639100286543165\n",
            "Test F_Beta:  0.8244100138342509\n"
          ],
          "name": "stdout"
        }
      ]
    },
    {
      "cell_type": "markdown",
      "metadata": {
        "id": "xlEeNuuB8ZKU",
        "colab_type": "text"
      },
      "source": [
        "This model again has an overfitting problem. Therefore, we won't move forward with this model."
      ]
    },
    {
      "cell_type": "markdown",
      "metadata": {
        "id": "4fniUX6eoUYu",
        "colab_type": "text"
      },
      "source": [
        "### Confusion Matrix"
      ]
    },
    {
      "cell_type": "code",
      "metadata": {
        "id": "vfH-9agwn7Km",
        "colab_type": "code",
        "colab": {
          "base_uri": "https://localhost:8080/",
          "height": 352
        },
        "outputId": "283ed5df-57cd-4772-c648-0d1bcdbd53c4"
      },
      "source": [
        "y_actual = pd.Series(y_test, name='Actual')\n",
        "y_predicted = pd.Series(y_pred_test, name='Predicted')\n",
        "confusion_matrix = pd.crosstab(y_actual, y_predicted, rownames=['Actual'], colnames=['Predicted'])\n",
        "plt.figure(figsize = (8,5))\n",
        "sns.heatmap(confusion_matrix, annot=True,fmt='d',cmap=\"YlGnBu\").set_title(\n",
        "    \"Confusion Matrix for Random Forest\", fontsize=16)\n",
        "plt.show()"
      ],
      "execution_count": null,
      "outputs": [
        {
          "output_type": "display_data",
          "data": {
            "image/png": "[encoded data removed]",
            "text/plain": [
              "<Figure size 576x360 with 2 Axes>"
            ]
          },
          "metadata": {
            "tags": [],
            "needs_background": "light"
          }
        }
      ]
    },
    {
      "cell_type": "markdown",
      "metadata": {
        "id": "63blHhOa8Vuf",
        "colab_type": "text"
      },
      "source": [
        "# AdaBoost Classifier"
      ]
    },
    {
      "cell_type": "markdown",
      "metadata": {
        "id": "f4J2bNvN8bSD",
        "colab_type": "text"
      },
      "source": [
        "### From hyperparameter tuning file, we see that we get the best result when we take the hyperparamters n_estimators=80, algorithm='SAMME.R'."
      ]
    },
    {
      "cell_type": "code",
      "metadata": {
        "id": "wzkQdMOKFvv-",
        "colab_type": "code",
        "colab": {
          "base_uri": "https://localhost:8080/",
          "height": 51
        },
        "outputId": "68b63618-3057-4ceb-be7b-4002e7e123e1"
      },
      "source": [
        "clf = AdaBoostClassifier(n_estimators=80, algorithm='SAMME.R',random_state=60616)\n",
        "clf.fit(X_train, y_train)\n",
        "y_pred_train = clf.predict(X_train)\n",
        "fbeta_train = fbeta_score(y_train, y_pred_train, beta=0.5, average='weighted')\n",
        "print(\"Train F_Beta: \", (fbeta_train))\n",
        "y_pred_test = clf.predict(X_test)\n",
        "fbeta_test = fbeta_score(y_test, y_pred_test, beta=0.5, average='weighted')\n",
        "print(\"Test F_Beta: \", (fbeta_test))"
      ],
      "execution_count": null,
      "outputs": [
        {
          "output_type": "stream",
          "text": [
            "Train F_Beta:  0.681549970431043\n",
            "Test F_Beta:  0.6806269256659433\n"
          ],
          "name": "stdout"
        }
      ]
    },
    {
      "cell_type": "markdown",
      "metadata": {
        "id": "hP1z7qFwjWh6",
        "colab_type": "text"
      },
      "source": [
        "This model doesn't have much overfitting but the recall value is even lesser than Logistic Regrssion. So, we will let go of this model."
      ]
    },
    {
      "cell_type": "markdown",
      "metadata": {
        "id": "i-lyVytjoZ3Y",
        "colab_type": "text"
      },
      "source": [
        "### Confusion Matrix"
      ]
    },
    {
      "cell_type": "code",
      "metadata": {
        "id": "mGXqQnHhoah2",
        "colab_type": "code",
        "colab": {
          "base_uri": "https://localhost:8080/"
        },
        "outputId": "2ff4e929-1d20-4717-ed35-1cb4657688c4"
      },
      "source": [
        "y_actual = pd.Series(y_test, name='Actual')\n",
        "y_predicted = pd.Series(y_pred_test, name='Predicted')\n",
        "confusion_matrix = pd.crosstab(y_actual, y_predicted, rownames=['Actual'], colnames=['Predicted'])\n",
        "plt.figure(figsize = (8,5))\n",
        "sns.heatmap(confusion_matrix, annot=True,fmt='d',cmap=\"YlGnBu\").set_title(\n",
        "    \"Confusion Matrix for AdaBoost\", fontsize=16)\n",
        "plt.show()"
      ],
      "execution_count": null,
      "outputs": [
        {
          "output_type": "display_data",
          "data": {
            "image/png": "[encoded data removed]",
            "text/plain": [
              "<Figure size 576x360 with 2 Axes>"
            ]
          },
          "metadata": {
            "tags": [],
            "needs_background": "light"
          }
        }
      ]
    },
    {
      "cell_type": "markdown",
      "metadata": {
        "id": "dWYYoW4c9Cgj",
        "colab_type": "text"
      },
      "source": [
        "# Gradient Boosting Classifier"
      ]
    },
    {
      "cell_type": "markdown",
      "metadata": {
        "id": "FBWhiSqlpNIP",
        "colab_type": "text"
      },
      "source": [
        "From hyperparameter tuning file, we see that we get the best result when we take the hyperparamters n_estimators=80, min_samples_split=10, min_samples_leaf=2, max_features='auto'."
      ]
    },
    {
      "cell_type": "code",
      "metadata": {
        "id": "9nrfLWvW9BpJ",
        "colab_type": "code",
        "colab": {
          "base_uri": "https://localhost:8080/",
          "height": 51
        },
        "outputId": "14a0a0f7-659e-4590-e842-16471c607967"
      },
      "source": [
        "clf = GradientBoostingClassifier(n_estimators=80, min_samples_split=10, min_samples_leaf=2, max_features='auto', random_state=60616)\n",
        "clf.fit(X_train, y_train)\n",
        "y_pred_train = clf.predict(X_train)\n",
        "fbeta_train = fbeta_score(y_train, y_pred_train, beta=0.5, average='weighted')\n",
        "print(\"Train F_Beta: \", (fbeta_train))\n",
        "y_pred_test = clf.predict(X_test)\n",
        "fbeta_test = fbeta_score(y_test, y_pred_test, beta=0.5, average='weighted')\n",
        "print(\"Test F_Beta: \", (fbeta_test))"
      ],
      "execution_count": null,
      "outputs": [
        {
          "output_type": "stream",
          "text": [
            "Train F_Beta:  0.7634182882030935\n",
            "Test F_Beta:  0.7627053536640327\n"
          ],
          "name": "stdout"
        }
      ]
    },
    {
      "cell_type": "markdown",
      "metadata": {
        "id": "e9Aw4_rKl2Mv",
        "colab_type": "text"
      },
      "source": [
        "This has by far the best recall value, not a great one, but better than most of all since it has the maximum value along with very less overfitting."
      ]
    },
    {
      "cell_type": "markdown",
      "metadata": {
        "id": "hLHPQ9WXoeZ9",
        "colab_type": "text"
      },
      "source": [
        "### Confusion Matrix"
      ]
    },
    {
      "cell_type": "code",
      "metadata": {
        "id": "occlLIWMogoI",
        "colab_type": "code",
        "colab": {
          "base_uri": "https://localhost:8080/",
          "height": 352
        },
        "outputId": "bc711778-978c-433b-f9b4-e7a17bb3217f"
      },
      "source": [
        "y_actual = pd.Series(y_test, name='Actual')\n",
        "y_predicted = pd.Series(y_pred_test, name='Predicted')\n",
        "confusion_matrix = pd.crosstab(y_actual, y_predicted, rownames=['Actual'], colnames=['Predicted'])\n",
        "plt.figure(figsize = (8,5))\n",
        "sns.heatmap(confusion_matrix, annot=True,fmt='d',cmap=\"YlGnBu\").set_title(\n",
        "    \"Confusion Matrix for Gradient Boost\", fontsize=16)\n",
        "plt.show()"
      ],
      "execution_count": null,
      "outputs": [
        {
          "output_type": "display_data",
          "data": {
            "image/png": "[encoded data removed]",
            "text/plain": [
              "<Figure size 576x360 with 2 Axes>"
            ]
          },
          "metadata": {
            "tags": [],
            "needs_background": "light"
          }
        }
      ]
    },
    {
      "cell_type": "markdown",
      "metadata": {
        "id": "XYyVlnEnn87l",
        "colab_type": "text"
      },
      "source": [
        "# XG Boost Classifier"
      ]
    },
    {
      "cell_type": "markdown",
      "metadata": {
        "id": "upiWmIy6o6y5",
        "colab_type": "text"
      },
      "source": [
        "From hyperparameter tuning file, we see that we get the best result when we take the hyperparamters learning_rate=0.9, gamma=0.25, max_depth=10, min_child_weight=5, reg_lambda=1, reg_alpha=0.75."
      ]
    },
    {
      "cell_type": "code",
      "metadata": {
        "id": "ncXVOM9dPO3r",
        "colab_type": "code",
        "colab": {
          "base_uri": "https://localhost:8080/",
          "height": 51
        },
        "outputId": "a24d94e2-6f9a-4ee2-8988-206d59ba7f4f"
      },
      "source": [
        "clf = XGBClassifier(learning_rate=0.9, gamma=0.25, max_depth=10, min_child_weight=5,\n",
        "                    reg_lambda=1, reg_alpha=0.75)\n",
        "clf.fit(X_train, y_train)\n",
        "y_pred_train = clf.predict(X_train)\n",
        "fbeta_train = fbeta_score(y_train, y_pred_train, beta=0.5, average='weighted')\n",
        "print(\"Train F_Beta: \", (fbeta_train))\n",
        "y_pred_test = clf.predict(X_test)\n",
        "fbeta_test = fbeta_score(y_test, y_pred_test, beta=0.5, average='weighted')\n",
        "print(\"Test F_Beta: \", (fbeta_test))"
      ],
      "execution_count": 11,
      "outputs": [
        {
          "output_type": "stream",
          "text": [
            "Train F_Beta:  0.9448127528045372\n",
            "Test F_Beta:  0.9155091950826506\n"
          ],
          "name": "stdout"
        }
      ]
    },
    {
      "cell_type": "markdown",
      "metadata": {
        "id": "LNzFxeScBzMC",
        "colab_type": "text"
      },
      "source": [
        "This is the best model I have got and this is usable since the overfitting is not too much. This is the model which will be deployed."
      ]
    },
    {
      "cell_type": "markdown",
      "metadata": {
        "id": "Gn5MiO_XoiSm",
        "colab_type": "text"
      },
      "source": [
        "### Confusion Matrix"
      ]
    },
    {
      "cell_type": "code",
      "metadata": {
        "id": "bxO4rvznok3t",
        "colab_type": "code",
        "colab": {
          "base_uri": "https://localhost:8080/",
          "height": 352
        },
        "outputId": "3fb1c727-99cb-419f-865b-e0af972e4af9"
      },
      "source": [
        "y_actual = pd.Series(y_test, name='Actual')\n",
        "y_predicted = pd.Series(y_pred_test, name='Predicted')\n",
        "confusion_matrix = pd.crosstab(y_actual, y_predicted, rownames=['Actual'], colnames=['Predicted'])\n",
        "plt.figure(figsize = (8,5))\n",
        "sns.heatmap(confusion_matrix, annot=True,fmt='d',cmap=\"YlGnBu\").set_title(\n",
        "    \"Confusion Matrix for XGBoost\", fontsize=16)\n",
        "plt.show()"
      ],
      "execution_count": 12,
      "outputs": [
        {
          "output_type": "display_data",
          "data": {
            "image/png": "[encoded data removed]",
            "text/plain": [
              "<Figure size 576x360 with 2 Axes>"
            ]
          },
          "metadata": {
            "tags": [],
            "needs_background": "light"
          }
        }
      ]
    },
    {
      "cell_type": "markdown",
      "metadata": {
        "id": "3uTizav2pJyv",
        "colab_type": "text"
      },
      "source": [
        "# Save Model"
      ]
    },
    {
      "cell_type": "code",
      "metadata": {
        "id": "1ITwpJMupLXS",
        "colab_type": "code",
        "colab": {}
      },
      "source": [
        "model = pickle.dump(clf, open('model.pkl','wb'))"
      ],
      "execution_count": 13,
      "outputs": []
    },
    {
      "cell_type": "code",
      "metadata": {
        "id": "iq0nr9LMbW0B",
        "colab_type": "code",
        "colab": {}
      },
      "source": [
        ""
      ],
      "execution_count": null,
      "outputs": []
    }
  ]
}