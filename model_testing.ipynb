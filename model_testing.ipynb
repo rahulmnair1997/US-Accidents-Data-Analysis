{
  "nbformat": 4,
  "nbformat_minor": 0,
  "metadata": {
    "colab": {
      "name": "model_testing.ipynb",
      "provenance": [],
      "collapsed_sections": [],
      "mount_file_id": "1X2eMnfAUtJKLhJE7CqyZQRhAXjj0rnjs",
      "authorship_tag": "ABX9TyNmH5I8i/0ye8ioONLTGW4K"
    },
    "kernelspec": {
      "name": "python3",
      "display_name": "Python 3"
    }
  },
  "cells": [
    {
      "cell_type": "code",
      "metadata": {
        "id": "YRtRnTT26_JR",
        "colab_type": "code",
        "colab": {}
      },
      "source": [
        "# load libraries\n",
        "import pandas as pd\n",
        "from sklearn.linear_model import LogisticRegression\n",
        "from sklearn.metrics import fbeta_score\n",
        "from sklearn.metrics import multilabel_confusion_matrix\n",
        "from sklearn.tree import DecisionTreeClassifier\n",
        "from sklearn.ensemble import RandomForestClassifier, AdaBoostClassifier, GradientBoostingClassifier\n",
        "from sklearn.preprocessing import StandardScaler\n",
        "from xgboost import XGBClassifier\n",
        "import matplotlib.pyplot as plt\n",
        "import pickle\n",
        "from sklearn.pipeline import Pipeline\n",
        "import seaborn as sns"
      ],
      "execution_count": null,
      "outputs": []
    },
    {
      "cell_type": "code",
      "metadata": {
        "id": "Oq7Pz0-WHlFK",
        "colab_type": "code",
        "colab": {}
      },
      "source": [
        "# load data\n",
        "map_quest = pd.read_csv(\"/content/drive/My Drive/map_quest.csv\")"
      ],
      "execution_count": null,
      "outputs": []
    },
    {
      "cell_type": "code",
      "metadata": {
        "id": "OCtVSBMZ-7zW",
        "colab_type": "code",
        "colab": {}
      },
      "source": [
        "map_quest = map_quest.drop(['Unnamed: 0'], axis=1)"
      ],
      "execution_count": null,
      "outputs": []
    },
    {
      "cell_type": "code",
      "metadata": {
        "id": "FZJVVyimH3gK",
        "colab_type": "code",
        "colab": {}
      },
      "source": [
        "# split X, y\n",
        "X = map_quest.drop('Severity', axis=1)\n",
        "y= map_quest['Severity']"
      ],
      "execution_count": null,
      "outputs": []
    },
    {
      "cell_type": "code",
      "metadata": {
        "id": "dtneEzJAIFhr",
        "colab_type": "code",
        "colab": {}
      },
      "source": [
        "# Standardizing the features based on unit variance\n",
        "scaler = StandardScaler()\n",
        "X = scaler.fit_transform(X)"
      ],
      "execution_count": null,
      "outputs": []
    },
    {
      "cell_type": "code",
      "metadata": {
        "id": "xGH5BA8eIG4e",
        "colab_type": "code",
        "colab": {}
      },
      "source": [
        "# split train test\n",
        "from sklearn.model_selection import train_test_split\n",
        "X_train, X_test, y_train, y_test = train_test_split(X, y, test_size=0.30, random_state=60616) "
      ],
      "execution_count": null,
      "outputs": []
    },
    {
      "cell_type": "markdown",
      "metadata": {
        "id": "6BO03lzw7PEN",
        "colab_type": "text"
      },
      "source": [
        "# Logistic Regression"
      ]
    },
    {
      "cell_type": "markdown",
      "metadata": {
        "id": "A9fpDJR68sTZ",
        "colab_type": "text"
      },
      "source": [
        "From hyperparameter tuning file, we see that we get the best result when we take the hyperparamters penalty='none', C=0.01 and max_iter=100000."
      ]
    },
    {
      "cell_type": "code",
      "metadata": {
        "id": "m9JUBziK68jy",
        "colab_type": "code",
        "colab": {
          "base_uri": "https://localhost:8080/",
          "height": 85
        },
        "outputId": "4caa98f8-0a9c-41d1-98ff-c0b905683079"
      },
      "source": [
        "clf = LogisticRegression(penalty='none', C=0.01, max_iter=100000,random_state=60616)\n",
        "clf.fit(X_train, y_train)\n",
        "y_pred_train = clf.predict(X_train)\n",
        "fbeta_train = fbeta_score(y_train, y_pred_train, beta=0.5, average='weighted')\n",
        "print(\"Train F_Beta: \", (fbeta_train))\n",
        "y_pred_test = clf.predict(X_test)\n",
        "fbeta_test = fbeta_score(y_test, y_pred_test, beta=0.5, average='weighted')\n",
        "print(\"Test F_Beta: \", (fbeta_test))"
      ],
      "execution_count": null,
      "outputs": [
        {
          "output_type": "stream",
          "text": [
            "/usr/local/lib/python3.6/dist-packages/sklearn/linear_model/_logistic.py:1505: UserWarning: Setting penalty='none' will ignore the C and l1_ratio parameters\n",
            "  \"Setting penalty='none' will ignore the C and l1_ratio \"\n"
          ],
          "name": "stderr"
        },
        {
          "output_type": "stream",
          "text": [
            "Train F_Beta:  0.7710808440246995\n",
            "Test F_Beta:  0.7710776235543404\n"
          ],
          "name": "stdout"
        }
      ]
    },
    {
      "cell_type": "markdown",
      "metadata": {
        "id": "RvajVM0GElIl",
        "colab_type": "text"
      },
      "source": [
        "We see that the Logistic Regression model yeild low recall value but there is not much overfitting , which is a good sign but we will have to look for other models as well."
      ]
    },
    {
      "cell_type": "markdown",
      "metadata": {
        "id": "2eXz1nT8oQbi",
        "colab_type": "text"
      },
      "source": [
        "### Confusion Matrix"
      ]
    },
    {
      "cell_type": "code",
      "metadata": {
        "id": "4cc0nRhhmRcU",
        "colab_type": "code",
        "colab": {
          "base_uri": "https://localhost:8080/",
          "height": 352
        },
        "outputId": "b9351dc2-27cb-49dc-dc0f-1693280a3bc6"
      },
      "source": [
        "y_actual = pd.Series(y_test, name='Actual')\n",
        "y_predicted = pd.Series(y_pred_test, name='Predicted')\n",
        "confusion_matrix = pd.crosstab(y_actual, y_predicted, rownames=['Actual'], colnames=['Predicted'])\n",
        "plt.figure(figsize = (8,5))\n",
        "sns.heatmap(confusion_matrix, annot=True,fmt='d',cmap=\"YlGnBu\").set_title(\n",
        "    \"Confusion Matrix for Logistic Regression\", fontsize=16)\n",
        "plt.show()"
      ],
      "execution_count": null,
      "outputs": [
        {
          "output_type": "display_data",
          "data": {
            "image/png": "[encoded data removed]",
            "text/plain": [
              "<Figure size 576x360 with 2 Axes>"
            ]
          },
          "metadata": {
            "tags": [],
            "needs_background": "light"
          }
        }
      ]
    },
    {
      "cell_type": "markdown",
      "metadata": {
        "id": "DIMQjfpdC6FR",
        "colab_type": "text"
      },
      "source": [
        "# Decision Tree"
      ]
    },
    {
      "cell_type": "markdown",
      "metadata": {
        "id": "hPTyX-jqC9F1",
        "colab_type": "text"
      },
      "source": [
        "From hyperparameter tuning file, we see that we get the best result when we take the hyperparamters min_samples_split=5, min_samples_leaf=2 and max_features='sqrt'."
      ]
    },
    {
      "cell_type": "code",
      "metadata": {
        "id": "sSJM6IGz9HWI",
        "colab_type": "code",
        "colab": {
          "base_uri": "https://localhost:8080/",
          "height": 51
        },
        "outputId": "f7cf21ed-97f7-47d6-e8ae-ff3c0d82c5bc"
      },
      "source": [
        "clf = DecisionTreeClassifier(min_samples_split=5, min_samples_leaf=2, max_features='sqrt',random_state=60616)\n",
        "clf.fit(X_train, y_train)\n",
        "y_pred_train = clf.predict(X_train)\n",
        "fbeta_train = fbeta_score(y_train, y_pred_train, beta=0.5, average='weighted')\n",
        "print(\"Train F_Beta: \", (fbeta_train))\n",
        "y_pred_test = clf.predict(X_test)\n",
        "fbeta_test = fbeta_score(y_test, y_pred_test, beta=0.5, average='weighted')\n",
        "print(\"Test F_Beta: \", (fbeta_test))"
      ],
      "execution_count": null,
      "outputs": [
        {
          "output_type": "stream",
          "text": [
            "Train F_Beta:  0.9122161244727621\n",
            "Test F_Beta:  0.829474800557826\n"
          ],
          "name": "stdout"
        }
      ]
    },
    {
      "cell_type": "markdown",
      "metadata": {
        "id": "LrsJzIYRFy5k",
        "colab_type": "text"
      },
      "source": [
        "Although this model has good recall value on training data, we see that there is a clear sign of overfitting, therefore this model is not usable."
      ]
    },
    {
      "cell_type": "markdown",
      "metadata": {
        "id": "0WCZcKTToGFB",
        "colab_type": "text"
      },
      "source": [
        "### Confusion Matrix"
      ]
    },
    {
      "cell_type": "code",
      "metadata": {
        "id": "2FttTABenz-O",
        "colab_type": "code",
        "colab": {
          "base_uri": "https://localhost:8080/",
          "height": 352
        },
        "outputId": "6341dc59-029b-4d79-e98d-5ef5f323b08c"
      },
      "source": [
        "y_actual = pd.Series(y_test, name='Actual')\n",
        "y_predicted = pd.Series(y_pred_test, name='Predicted')\n",
        "confusion_matrix = pd.crosstab(y_actual, y_predicted, rownames=['Actual'], colnames=['Predicted'])\n",
        "plt.figure(figsize = (8,5))\n",
        "sns.heatmap(confusion_matrix, annot=True,fmt='d',cmap=\"YlGnBu\").set_title(\n",
        "    \"Confusion Matrix for Decision Tree\", fontsize=16)\n",
        "plt.show()"
      ],
      "execution_count": null,
      "outputs": [
        {
          "output_type": "display_data",
          "data": {
            "image/png": "[encoded data removed]",
            "text/plain": [
              "<Figure size 576x360 with 2 Axes>"
            ]
          },
          "metadata": {
            "tags": [],
            "needs_background": "light"
          }
        }
      ]
    },
    {
      "cell_type": "markdown",
      "metadata": {
        "id": "1LJGEv9bfQ_o",
        "colab_type": "text"
      },
      "source": [
        "# Random Forest Classifier"
      ]
    },
    {
      "cell_type": "markdown",
      "metadata": {
        "id": "UNQPhj1KfUdn",
        "colab_type": "text"
      },
      "source": [
        "### From hyperparameter tuning file, we see that we get the best result when we take the hyperparamters n_estimators=160, min_samples_split=5, min_samples_leaf=2 and max_features='auto'."
      ]
    },
    {
      "cell_type": "code",
      "metadata": {
        "id": "ZTr2POuwecn9",
        "colab_type": "code",
        "colab": {
          "base_uri": "https://localhost:8080/",
          "height": 51
        },
        "outputId": "b9825e11-0007-4121-8969-aaefdc5b8262"
      },
      "source": [
        "clf = RandomForestClassifier(n_estimators=160, min_samples_split=5, min_samples_leaf=2, max_features='auto',random_state=60616)\n",
        "clf.fit(X_train, y_train)\n",
        "y_pred_train = clf.predict(X_train)\n",
        "fbeta_train = fbeta_score(y_train, y_pred_train, beta=0.5, average='weighted')\n",
        "print(\"Train F_Beta: \", (fbeta_train))\n",
        "y_pred_test = clf.predict(X_test)\n",
        "fbeta_test = fbeta_score(y_test, y_pred_test, beta=0.5, average='weighted')\n",
        "print(\"Test F_Beta: \", (fbeta_test))"
      ],
      "execution_count": null,
      "outputs": [
        {
          "output_type": "stream",
          "text": [
            "Train F_Beta:  0.9548015095260168\n",
            "Test F_Beta:  0.8996928254088721\n"
          ],
          "name": "stdout"
        }
      ]
    },
    {
      "cell_type": "markdown",
      "metadata": {
        "id": "xlEeNuuB8ZKU",
        "colab_type": "text"
      },
      "source": [
        "This model again has an overfitting problem. Therefore, we won't move forward with this model."
      ]
    },
    {
      "cell_type": "markdown",
      "metadata": {
        "id": "4fniUX6eoUYu",
        "colab_type": "text"
      },
      "source": [
        "### Confusion Matrix"
      ]
    },
    {
      "cell_type": "code",
      "metadata": {
        "id": "vfH-9agwn7Km",
        "colab_type": "code",
        "colab": {
          "base_uri": "https://localhost:8080/",
          "height": 352
        },
        "outputId": "7fac9759-5333-4fa4-f0b7-ddc4bd22e5ab"
      },
      "source": [
        "y_actual = pd.Series(y_test, name='Actual')\n",
        "y_predicted = pd.Series(y_pred_test, name='Predicted')\n",
        "confusion_matrix = pd.crosstab(y_actual, y_predicted, rownames=['Actual'], colnames=['Predicted'])\n",
        "plt.figure(figsize = (8,5))\n",
        "sns.heatmap(confusion_matrix, annot=True,fmt='d',cmap=\"YlGnBu\").set_title(\n",
        "    \"Confusion Matrix for Random Forest\", fontsize=16)\n",
        "plt.show()"
      ],
      "execution_count": null,
      "outputs": [
        {
          "output_type": "display_data",
          "data": {
            "image/png": "[encoded data removed]",
            "text/plain": [
              "<Figure size 576x360 with 2 Axes>"
            ]
          },
          "metadata": {
            "tags": [],
            "needs_background": "light"
          }
        }
      ]
    },
    {
      "cell_type": "markdown",
      "metadata": {
        "id": "63blHhOa8Vuf",
        "colab_type": "text"
      },
      "source": [
        "# AdaBoost Classifier"
      ]
    },
    {
      "cell_type": "markdown",
      "metadata": {
        "id": "f4J2bNvN8bSD",
        "colab_type": "text"
      },
      "source": [
        "From hyperparameter tuning file, we see that we get the best result when we take the hyperparamters n_estimators=60, algorithm='SAMME.R'."
      ]
    },
    {
      "cell_type": "code",
      "metadata": {
        "id": "wzkQdMOKFvv-",
        "colab_type": "code",
        "colab": {
          "base_uri": "https://localhost:8080/"
        },
        "outputId": "71547eca-d924-4882-a6a3-d353de4cc286"
      },
      "source": [
        "clf = AdaBoostClassifier(n_estimators=60, algorithm='SAMME.R',random_state=60616)\n",
        "clf.fit(X_train, y_train)\n",
        "y_pred_train = clf.predict(X_train)\n",
        "fbeta_train = fbeta_score(y_train, y_pred_train, beta=0.5, average='weighted')\n",
        "print(\"Train F_Beta: \", (fbeta_train))\n",
        "y_pred_test = clf.predict(X_test)\n",
        "fbeta_test = fbeta_score(y_test, y_pred_test, beta=0.5, average='weighted')\n",
        "print(\"Test F_Beta: \", (fbeta_test))"
      ],
      "execution_count": null,
      "outputs": [
        {
          "output_type": "stream",
          "text": [
            "Train F_Beta:  0.7651459231771055\n",
            "Test F_Beta:  0.7641014089115455\n"
          ],
          "name": "stdout"
        }
      ]
    },
    {
      "cell_type": "markdown",
      "metadata": {
        "id": "hP1z7qFwjWh6",
        "colab_type": "text"
      },
      "source": [
        "This model doesn't have much overfitting but the recall value is even lesser than Logistic Regrssion. So, we will let go of this model."
      ]
    },
    {
      "cell_type": "markdown",
      "metadata": {
        "id": "i-lyVytjoZ3Y",
        "colab_type": "text"
      },
      "source": [
        "### Confusion Matrix"
      ]
    },
    {
      "cell_type": "code",
      "metadata": {
        "id": "mGXqQnHhoah2",
        "colab_type": "code",
        "colab": {
          "base_uri": "https://localhost:8080/",
          "height": 352
        },
        "outputId": "060332f6-83c5-47e5-bb39-0d1d38c398ae"
      },
      "source": [
        "y_actual = pd.Series(y_test, name='Actual')\n",
        "y_predicted = pd.Series(y_pred_test, name='Predicted')\n",
        "confusion_matrix = pd.crosstab(y_actual, y_predicted, rownames=['Actual'], colnames=['Predicted'])\n",
        "plt.figure(figsize = (8,5))\n",
        "sns.heatmap(confusion_matrix, annot=True,fmt='d',cmap=\"YlGnBu\").set_title(\n",
        "    \"Confusion Matrix for AdaBoost\", fontsize=16)\n",
        "plt.show()"
      ],
      "execution_count": null,
      "outputs": [
        {
          "output_type": "display_data",
          "data": {
            "image/png": "[encoded data removed]",
            "text/plain": [
              "<Figure size 576x360 with 2 Axes>"
            ]
          },
          "metadata": {
            "tags": [],
            "needs_background": "light"
          }
        }
      ]
    },
    {
      "cell_type": "markdown",
      "metadata": {
        "id": "dWYYoW4c9Cgj",
        "colab_type": "text"
      },
      "source": [
        "# Gradient Boosting Classifier"
      ]
    },
    {
      "cell_type": "markdown",
      "metadata": {
        "id": "FBWhiSqlpNIP",
        "colab_type": "text"
      },
      "source": [
        "From hyperparameter tuning file, we see that we get the best result when we take the hyperparamters n_estimators=80, min_samples_split=10, min_samples_leaf=2, max_features='auto'."
      ]
    },
    {
      "cell_type": "code",
      "metadata": {
        "id": "9nrfLWvW9BpJ",
        "colab_type": "code",
        "colab": {
          "base_uri": "https://localhost:8080/",
          "height": 51
        },
        "outputId": "14a0a0f7-659e-4590-e842-16471c607967"
      },
      "source": [
        "clf = GradientBoostingClassifier(n_estimators=160, min_samples_split=5, min_samples_leaf=10, max_features='auto', random_state=60616)\n",
        "clf.fit(X_train, y_train)\n",
        "y_pred_train = clf.predict(X_train)\n",
        "fbeta_train = fbeta_score(y_train, y_pred_train, beta=0.5, average='weighted')\n",
        "print(\"Train F_Beta: \", (fbeta_train))\n",
        "y_pred_test = clf.predict(X_test)\n",
        "fbeta_test = fbeta_score(y_test, y_pred_test, beta=0.5, average='weighted')\n",
        "print(\"Test F_Beta: \", (fbeta_test))"
      ],
      "execution_count": null,
      "outputs": [
        {
          "output_type": "stream",
          "text": [
            "Train F_Beta:  0.7634182882030935\n",
            "Test F_Beta:  0.7627053536640327\n"
          ],
          "name": "stdout"
        }
      ]
    },
    {
      "cell_type": "markdown",
      "metadata": {
        "id": "e9Aw4_rKl2Mv",
        "colab_type": "text"
      },
      "source": [
        "This has by far the best recall value, not a great one, but better than most of all since it has the maximum value along with very less overfitting."
      ]
    },
    {
      "cell_type": "markdown",
      "metadata": {
        "id": "hLHPQ9WXoeZ9",
        "colab_type": "text"
      },
      "source": [
        "### Confusion Matrix"
      ]
    },
    {
      "cell_type": "code",
      "metadata": {
        "id": "occlLIWMogoI",
        "colab_type": "code",
        "colab": {
          "base_uri": "https://localhost:8080/",
          "height": 352
        },
        "outputId": "bc711778-978c-433b-f9b4-e7a17bb3217f"
      },
      "source": [
        "y_actual = pd.Series(y_test, name='Actual')\n",
        "y_predicted = pd.Series(y_pred_test, name='Predicted')\n",
        "confusion_matrix = pd.crosstab(y_actual, y_predicted, rownames=['Actual'], colnames=['Predicted'])\n",
        "plt.figure(figsize = (8,5))\n",
        "sns.heatmap(confusion_matrix, annot=True,fmt='d',cmap=\"YlGnBu\").set_title(\n",
        "    \"Confusion Matrix for Gradient Boost\", fontsize=16)\n",
        "plt.show()"
      ],
      "execution_count": null,
      "outputs": [
        {
          "output_type": "display_data",
          "data": {
            "image/png": "[encoded data removed]",
            "text/plain": [
              "<Figure size 576x360 with 2 Axes>"
            ]
          },
          "metadata": {
            "tags": [],
            "needs_background": "light"
          }
        }
      ]
    },
    {
      "cell_type": "markdown",
      "metadata": {
        "id": "XYyVlnEnn87l",
        "colab_type": "text"
      },
      "source": [
        "# XG Boost Classifier"
      ]
    },
    {
      "cell_type": "markdown",
      "metadata": {
        "id": "upiWmIy6o6y5",
        "colab_type": "text"
      },
      "source": [
        "From hyperparameter tuning file, we see that we get the best result when we take the hyperparamters learning_rate=0.9, gamma=0.25, max_depth=10, min_child_weight=5, reg_lambda=1, reg_alpha=0.75."
      ]
    },
    {
      "cell_type": "code",
      "metadata": {
        "id": "ncXVOM9dPO3r",
        "colab_type": "code",
        "colab": {}
      },
      "source": [
        "clf = XGBClassifier(learning_rate=0.1, gamma=0.25, max_depth=10, min_child_weight=9,\n",
        "                    reg_lambda=0.25, reg_alpha=1)\n",
        "clf.fit(X_train, y_train)\n",
        "y_pred_train = clf.predict(X_train)\n",
        "fbeta_train = fbeta_score(y_train, y_pred_train, beta=0.5, average='weighted')\n",
        "print(\"Train F_Beta: \", (fbeta_train))\n",
        "y_pred_test = clf.predict(X_test)\n",
        "fbeta_test = fbeta_score(y_test, y_pred_test, beta=0.5, average='weighted')\n",
        "print(\"Test F_Beta: \", (fbeta_test))"
      ],
      "execution_count": null,
      "outputs": []
    },
    {
      "cell_type": "markdown",
      "metadata": {
        "id": "LNzFxeScBzMC",
        "colab_type": "text"
      },
      "source": [
        "This is the best model I have got and this is usable since the overfitting is not too much. This is the model which will be deployed."
      ]
    },
    {
      "cell_type": "markdown",
      "metadata": {
        "id": "Gn5MiO_XoiSm",
        "colab_type": "text"
      },
      "source": [
        "### Confusion Matrix"
      ]
    },
    {
      "cell_type": "code",
      "metadata": {
        "id": "bxO4rvznok3t",
        "colab_type": "code",
        "colab": {}
      },
      "source": [
        "y_actual = pd.Series(y_test, name='Actual')\n",
        "y_predicted = pd.Series(y_pred_test, name='Predicted')\n",
        "confusion_matrix = pd.crosstab(y_actual, y_predicted, rownames=['Actual'], colnames=['Predicted'])\n",
        "plt.figure(figsize = (8,5))\n",
        "sns.heatmap(confusion_matrix, annot=True,fmt='d',cmap=\"YlGnBu\").set_title(\n",
        "    \"Confusion Matrix for XGBoost\", fontsize=16)\n",
        "plt.show()"
      ],
      "execution_count": null,
      "outputs": []
    },
    {
      "cell_type": "markdown",
      "metadata": {
        "id": "3uTizav2pJyv",
        "colab_type": "text"
      },
      "source": [
        "# Save Model"
      ]
    },
    {
      "cell_type": "code",
      "metadata": {
        "id": "1ITwpJMupLXS",
        "colab_type": "code",
        "colab": {}
      },
      "source": [
        "model = pickle.dump(clf, open('model_xgb.pkl','wb'))"
      ],
      "execution_count": null,
      "outputs": []
    },
    {
      "cell_type": "code",
      "metadata": {
        "id": "iq0nr9LMbW0B",
        "colab_type": "code",
        "colab": {}
      },
      "source": [
        "scaler = pickle.dump(scaler, open('scaler.pkl', 'wb'))"
      ],
      "execution_count": null,
      "outputs": []
    }
  ]
}